{
 "cells": [
  {
   "cell_type": "markdown",
   "id": "f61a5442",
   "metadata": {},
   "source": [
    "Solutions for Python Basic Assignment - 4\n",
    "****************************************"
   ]
  },
  {
   "cell_type": "code",
   "execution_count": null,
   "id": "3c81e2f4",
   "metadata": {},
   "outputs": [],
   "source": [
    "1. [] are the opening and closing brackets for list data type."
   ]
  },
  {
   "cell_type": "code",
   "execution_count": null,
   "id": "6c340aa1",
   "metadata": {},
   "outputs": [],
   "source": [
    "2. spam[2] = 'hello'"
   ]
  },
  {
   "cell_type": "code",
   "execution_count": null,
   "id": "d2fe5f53",
   "metadata": {},
   "outputs": [],
   "source": [
    "3. spam = ['a','b','c','d']\n",
    "   spam[int(int('3' * 2) / 11)]\n",
    "   \n",
    "\toutput: 'd'"
   ]
  },
  {
   "cell_type": "code",
   "execution_count": null,
   "id": "b111f159",
   "metadata": {},
   "outputs": [],
   "source": [
    "4. spam[-1]\n",
    "\n",
    "\toutput: 'd'"
   ]
  },
  {
   "cell_type": "code",
   "execution_count": null,
   "id": "1e72f216",
   "metadata": {},
   "outputs": [],
   "source": [
    "5. spam[:2]\n",
    "\n",
    "\toutput: ['a', 'b']"
   ]
  },
  {
   "cell_type": "code",
   "execution_count": null,
   "id": "709461a5",
   "metadata": {},
   "outputs": [],
   "source": [
    "6. bacon = [3.14, 'cat', 11, 'cat', True]\n",
    "   bacon.index('cat')\n",
    "\n",
    "\toutput: 1"
   ]
  },
  {
   "cell_type": "code",
   "execution_count": null,
   "id": "de809869",
   "metadata": {},
   "outputs": [],
   "source": [
    "7. bacon.append(99)\n",
    "\n",
    "\toutput: [3.14, 'cat', 11, 'cat', True, 99]"
   ]
  },
  {
   "cell_type": "code",
   "execution_count": null,
   "id": "0ad7e55f",
   "metadata": {},
   "outputs": [],
   "source": [
    "8. bacon.remove('cat')\n",
    "\n",
    "\toutput: [3.14, 11, 'cat', True, 99]"
   ]
  },
  {
   "cell_type": "code",
   "execution_count": null,
   "id": "f00091b6",
   "metadata": {},
   "outputs": [],
   "source": [
    "9. list concatenation operator is '+' and list replication operator is '*'."
   ]
  },
  {
   "cell_type": "code",
   "execution_count": null,
   "id": "6b31942e",
   "metadata": {},
   "outputs": [],
   "source": [
    "10. append[] is used to add an element in the highest index available of list.\n",
    "    insert[] is used to insert an elemnet in the list according to the required index of list."
   ]
  },
  {
   "cell_type": "code",
   "execution_count": null,
   "id": "8663c276",
   "metadata": {},
   "outputs": [],
   "source": [
    "11. clear() - to delete all elements in the list.\n",
    "    pop() - to delete a specific element by index.\n",
    "    remove() -  to delete a specific element by element."
   ]
  },
  {
   "cell_type": "code",
   "execution_count": null,
   "id": "64da396a",
   "metadata": {},
   "outputs": [],
   "source": [
    "12. list values and string values are identical because both are comes under sequence category. which means both are iterable because we can loop over them."
   ]
  },
  {
   "cell_type": "code",
   "execution_count": null,
   "id": "cc2cd466",
   "metadata": {},
   "outputs": [],
   "source": [
    "13. Tuples are immutable but Lists are mutable"
   ]
  },
  {
   "cell_type": "code",
   "execution_count": null,
   "id": "a3871190",
   "metadata": {},
   "outputs": [],
   "source": [
    "14. tuplevalue = (42)"
   ]
  },
  {
   "cell_type": "code",
   "execution_count": null,
   "id": "f4e4642d",
   "metadata": {},
   "outputs": [],
   "source": [
    "15. To get List value's tuple form we use typecasting - tuple(list_name)\n",
    "    To get Tuple  value's list form we use typecasting - list(tuple_name)"
   ]
  },
  {
   "cell_type": "code",
   "execution_count": null,
   "id": "c816812f",
   "metadata": {},
   "outputs": [],
   "source": [
    "16. Variables that \"contain\" list values are not necessarily lists themselves. Instead they may also contain other lists."
   ]
  },
  {
   "cell_type": "code",
   "execution_count": null,
   "id": "137ca952",
   "metadata": {},
   "outputs": [],
   "source": [
    "17. copy.copy() - used for copying the list into another variable with different memory location to support \n",
    "                    integrity of list items.\n",
    "    copy.deepcopy() - used for copying the mulit-dimensional(nested) list into another variable with different memory location to support integrity of list items of nested list."
   ]
  }
 ],
 "metadata": {
  "kernelspec": {
   "display_name": "Python 3",
   "language": "python",
   "name": "python3"
  },
  "language_info": {
   "codemirror_mode": {
    "name": "ipython",
    "version": 3
   },
   "file_extension": ".py",
   "mimetype": "text/x-python",
   "name": "python",
   "nbconvert_exporter": "python",
   "pygments_lexer": "ipython3",
   "version": "3.8.8"
  }
 },
 "nbformat": 4,
 "nbformat_minor": 5
}
