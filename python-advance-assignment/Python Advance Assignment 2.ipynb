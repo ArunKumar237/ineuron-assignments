{
 "cells": [
  {
   "cell_type": "markdown",
   "id": "8f9a5772",
   "metadata": {},
   "source": [
    "Python Advance Assignment - 2\n",
    "*****************************"
   ]
  },
  {
   "cell_type": "markdown",
   "id": "9fc456ac",
   "metadata": {},
   "source": [
    "    Q1. What is the relationship between classes and modules?"
   ]
  },
  {
   "cell_type": "markdown",
   "id": "0e5ad0d0",
   "metadata": {},
   "source": [
    "    The difference between a class and a module in python is that a class is used to define a blueprint for a given object, \n",
    "    whereas a module is used to reuse a given piece of code inside another program.\n",
    "\n",
    "    A class can have its own instance, but a module cannot be instantiated. We use the ‘class’ keyword to define a class, \n",
    "    whereas to use modules, we use the ‘import’ keyword. We can inherit a particular class and modify it using inheritance. \n",
    "    But while using modules, it is simply a code containing variables, functions, and classes.\n",
    "\n",
    "    Modules are files present inside a package, whereas a class is used to encapsulate data and functions together inside \n",
    "    the same unit."
   ]
  },
  {
   "cell_type": "markdown",
   "id": "9144457c",
   "metadata": {},
   "source": [
    "****"
   ]
  },
  {
   "cell_type": "markdown",
   "id": "5b543a75",
   "metadata": {},
   "source": [
    "    Q2. How do you make instances and classes?"
   ]
  },
  {
   "cell_type": "markdown",
   "id": "4f516164",
   "metadata": {},
   "source": [
    ">Call ClassName() to create a new instance of the class ClassName."
   ]
  },
  {
   "cell_type": "code",
   "execution_count": 6,
   "id": "da5bd719",
   "metadata": {},
   "outputs": [
    {
     "name": "stdout",
     "output_type": "stream",
     "text": [
      "<__main__.C object at 0x0000023D19974D60>\n"
     ]
    }
   ],
   "source": [
    "class C:\n",
    "    pass\n",
    "\n",
    "an_instance = C()\n",
    "print(an_instance)"
   ]
  },
  {
   "cell_type": "markdown",
   "id": "f76b06a8",
   "metadata": {},
   "source": [
    ">To pass parameters to the class instance, the class must have an __init__() method. Pass the parameters in the \n",
    "    constructor of the class."
   ]
  },
  {
   "cell_type": "code",
   "execution_count": 7,
   "id": "8a261d63",
   "metadata": {},
   "outputs": [
    {
     "name": "stdout",
     "output_type": "stream",
     "text": [
      "abc\n"
     ]
    }
   ],
   "source": [
    "class C:\n",
    "    def __init__(self, data):\n",
    "        self.data = data\n",
    "\n",
    "an_instance = C(\"abc\")\n",
    "print(an_instance.data)"
   ]
  },
  {
   "cell_type": "markdown",
   "id": "7cd8c9b7",
   "metadata": {},
   "source": [
    "****"
   ]
  },
  {
   "cell_type": "markdown",
   "id": "d575164e",
   "metadata": {},
   "source": [
    "    Q3. Where and how should be class attributes created?"
   ]
  },
  {
   "cell_type": "markdown",
   "id": "d8779157",
   "metadata": {},
   "source": [
    "    Class attributes are attributes which are owned by the class itself. They will be shared by all the instances of \n",
    "    the class. Therefore they have the same value for every instance. We define class attributes outside all the methods, \n",
    "    usually they are placed at the top, right below the class header."
   ]
  },
  {
   "cell_type": "code",
   "execution_count": 5,
   "id": "dfb1a3dc",
   "metadata": {},
   "outputs": [
    {
     "data": {
      "text/plain": [
       "'I am a class attribute!'"
      ]
     },
     "execution_count": 5,
     "metadata": {},
     "output_type": "execute_result"
    }
   ],
   "source": [
    "class A:\n",
    "    a = \"I am a class attribute!\"\n",
    "x = A()\n",
    "y = A()\n",
    "x.a"
   ]
  },
  {
   "cell_type": "markdown",
   "id": "7a54158c",
   "metadata": {},
   "source": [
    "****"
   ]
  },
  {
   "cell_type": "markdown",
   "id": "4931cc8f",
   "metadata": {},
   "source": [
    "    Q4. Where and how are instance attributes created?"
   ]
  },
  {
   "cell_type": "markdown",
   "id": "493ce94f",
   "metadata": {},
   "source": [
    ">Instance attributes are owned by the specific instances of a class. That is, for two different instances, \n",
    "    the instance attributes are usually different."
   ]
  },
  {
   "cell_type": "code",
   "execution_count": 11,
   "id": "892271a1",
   "metadata": {},
   "outputs": [
    {
     "data": {
      "text/plain": [
       "'I am a class attribute!'"
      ]
     },
     "execution_count": 11,
     "metadata": {},
     "output_type": "execute_result"
    }
   ],
   "source": [
    "class A:\n",
    "    a = \"I am a class attribute!\"\n",
    "x = A()\n",
    "y = A()\n",
    "x.a"
   ]
  },
  {
   "cell_type": "code",
   "execution_count": 10,
   "id": "3576778a",
   "metadata": {},
   "outputs": [
    {
     "data": {
      "text/plain": [
       "'This creates a new instance attribute for x!'"
      ]
     },
     "execution_count": 10,
     "metadata": {},
     "output_type": "execute_result"
    }
   ],
   "source": [
    "x.a = \"This creates a new instance attribute for x!\"\n",
    "x.a"
   ]
  },
  {
   "cell_type": "markdown",
   "id": "e9ddc3ac",
   "metadata": {},
   "source": [
    "****"
   ]
  },
  {
   "cell_type": "markdown",
   "id": "dc696371",
   "metadata": {},
   "source": [
    "    Q5. What does the term \"self\" in a Python class mean?"
   ]
  },
  {
   "cell_type": "markdown",
   "id": "ed785b42",
   "metadata": {},
   "source": [
    "    self represents the instance of the class. By using the “self” keyword we can access the attributes and methods of \n",
    "    the class in python. It binds the attributes with the given arguments."
   ]
  },
  {
   "cell_type": "markdown",
   "id": "3dbc016e",
   "metadata": {},
   "source": [
    "****"
   ]
  },
  {
   "cell_type": "markdown",
   "id": "8be9c2f3",
   "metadata": {},
   "source": [
    "    Q6. How does a Python class handle operator overloading?"
   ]
  },
  {
   "cell_type": "markdown",
   "id": "431ead07",
   "metadata": {},
   "source": [
    "    Operator Overloading means giving extended meaning beyond their predefined operational meaning. For example \n",
    "    operator '+' is used to add two integers as well as join two strings and merge two lists. It is achievable \n",
    "    because ‘+’ operator is overloaded by int class and str class. You might have noticed that the same built-in \n",
    "    operator or function shows different behavior for objects of different classes, this is called Operator Overloading. "
   ]
  },
  {
   "cell_type": "markdown",
   "id": "374d5ea6",
   "metadata": {},
   "source": [
    "****"
   ]
  },
  {
   "cell_type": "markdown",
   "id": "15bf151c",
   "metadata": {},
   "source": [
    "    Q7. When do you consider allowing operator overloading of your classes?"
   ]
  },
  {
   "cell_type": "markdown",
   "id": "b94f5a44",
   "metadata": {},
   "source": [
    "    To use already predefined operators for other data types eg. using '+' operator for adding two object data types \n",
    "    which is only supported for int, str and float data types. By using magic methods we will do operator overloading."
   ]
  },
  {
   "cell_type": "markdown",
   "id": "08d991ab",
   "metadata": {},
   "source": [
    "****"
   ]
  },
  {
   "cell_type": "markdown",
   "id": "938c6096",
   "metadata": {},
   "source": [
    "    Q8. What is the most popular form of operator overloading?"
   ]
  },
  {
   "cell_type": "markdown",
   "id": "8d6794ee",
   "metadata": {},
   "source": [
    "    '+' is the most popular form of operator overloading."
   ]
  },
  {
   "cell_type": "markdown",
   "id": "dc7160cb",
   "metadata": {},
   "source": [
    "****"
   ]
  },
  {
   "cell_type": "markdown",
   "id": "dfd1c3ad",
   "metadata": {},
   "source": [
    "    Q9. What are the two most important concepts to grasp in order to comprehend Python OOP code?"
   ]
  },
  {
   "cell_type": "markdown",
   "id": "14293d04",
   "metadata": {},
   "source": [
    "    Both inheritance and polymorphism are key important concepts for designing robust, flexible, and \n",
    "    easy-to-maintain software."
   ]
  }
 ],
 "metadata": {
  "kernelspec": {
   "display_name": "Python 3",
   "language": "python",
   "name": "python3"
  },
  "language_info": {
   "codemirror_mode": {
    "name": "ipython",
    "version": 3
   },
   "file_extension": ".py",
   "mimetype": "text/x-python",
   "name": "python",
   "nbconvert_exporter": "python",
   "pygments_lexer": "ipython3",
   "version": "3.8.8"
  }
 },
 "nbformat": 4,
 "nbformat_minor": 5
}
