{
 "cells": [
  {
   "cell_type": "markdown",
   "id": "9f0a5a41",
   "metadata": {},
   "source": [
    "Python Advance Assignment - 1\n",
    "*****************************"
   ]
  },
  {
   "cell_type": "markdown",
   "id": "86018a90",
   "metadata": {},
   "source": [
    "    Q1. What is the purpose of Python's OOP?"
   ]
  },
  {
   "cell_type": "markdown",
   "id": "3ff8a10e",
   "metadata": {},
   "source": [
    "OOP is about code reuse — you factor code to minimize redundancy and program by customizing what already exists instead of changing code in place or starting from scratch."
   ]
  },
  {
   "cell_type": "markdown",
   "id": "5918f33c",
   "metadata": {},
   "source": [
    "****"
   ]
  },
  {
   "cell_type": "markdown",
   "id": "621c1ed6",
   "metadata": {},
   "source": [
    "    Q2. Where does an inheritance search look for an attribute?"
   ]
  },
  {
   "cell_type": "markdown",
   "id": "1f734e99",
   "metadata": {},
   "source": [
    "An inheritance search looks for an attribute first in the instance object, then in the class the instance was created from, then in all higher superclasses, progressing from left to right (by default). The search stops at the first place the attribute is found."
   ]
  },
  {
   "cell_type": "markdown",
   "id": "b53074fe",
   "metadata": {},
   "source": [
    "****"
   ]
  },
  {
   "cell_type": "markdown",
   "id": "f16100a1",
   "metadata": {},
   "source": [
    "    Q3. How do you distinguish between a class object and an instance object?"
   ]
  },
  {
   "cell_type": "markdown",
   "id": "752ad3fd",
   "metadata": {},
   "source": [
    "Classes are a kind of factory for creating multiple instances. Classes also support operator overloading methods, which instances inherit, and treat any functions nested in the class as methods for processing instances."
   ]
  },
  {
   "cell_type": "markdown",
   "id": "403a745d",
   "metadata": {},
   "source": [
    "****"
   ]
  },
  {
   "cell_type": "markdown",
   "id": "3a1403d7",
   "metadata": {},
   "source": [
    "    Q4. What makes the first argument in a class’s method function special?"
   ]
  },
  {
   "cell_type": "markdown",
   "id": "22c70556",
   "metadata": {},
   "source": [
    "It always receives the instance object that is the implied subject of the method call. It’s usually called 'self' by convention."
   ]
  },
  {
   "cell_type": "markdown",
   "id": "f665ab4d",
   "metadata": {},
   "source": [
    "****"
   ]
  },
  {
   "cell_type": "markdown",
   "id": "18282523",
   "metadata": {},
   "source": [
    "    Q5. What is the purpose of the __init__ method?"
   ]
  },
  {
   "cell_type": "markdown",
   "id": "8a526e5f",
   "metadata": {},
   "source": [
    "    If the __init__ method is coded or inherited in a class, Python calls it automatically each time an instance of that \n",
    "    class is created.\n",
    "    \n",
    "    class New():\n",
    "    def __init__(self, arg1, arg2):\n",
    "    self.first_var = arg1\n",
    "    self.second_var = arg2"
   ]
  },
  {
   "cell_type": "markdown",
   "id": "fb84431c",
   "metadata": {},
   "source": [
    "****"
   ]
  },
  {
   "cell_type": "markdown",
   "id": "70079cf2",
   "metadata": {},
   "source": [
    "    Q6. What is the process for creating a class instance?"
   ]
  },
  {
   "cell_type": "markdown",
   "id": "d19b00fe",
   "metadata": {},
   "source": [
    "    You create a class instance by calling the class name as though it were a function; any arguments passed into the class name show up as arguments two and beyond in the __init__ constructor method.\n",
    "\n",
    "    x = ClassName()\n",
    "    y = AnotherClass(arg1, arg2)"
   ]
  },
  {
   "cell_type": "markdown",
   "id": "bf83c7bd",
   "metadata": {},
   "source": [
    "****"
   ]
  },
  {
   "cell_type": "markdown",
   "id": "64330f62",
   "metadata": {},
   "source": [
    "    Q7. What is the process for creating a class?"
   ]
  },
  {
   "cell_type": "markdown",
   "id": "1cc62c2b",
   "metadata": {},
   "source": [
    "class ClassName():\n",
    "    #some code here"
   ]
  },
  {
   "cell_type": "markdown",
   "id": "b0ebfc1a",
   "metadata": {},
   "source": [
    "****"
   ]
  },
  {
   "cell_type": "markdown",
   "id": "d5bd4aca",
   "metadata": {},
   "source": [
    "    Q8. How would you define the superclasses of a class?"
   ]
  },
  {
   "cell_type": "markdown",
   "id": "72656100",
   "metadata": {},
   "source": [
    "They are classes which are used to inherit from.\n",
    "\n",
    "class Son(Father, Mother): ...\n",
    "\n",
    "In this case Father and Mother are superclasses for Son subclass."
   ]
  }
 ],
 "metadata": {
  "kernelspec": {
   "display_name": "Python 3",
   "language": "python",
   "name": "python3"
  },
  "language_info": {
   "codemirror_mode": {
    "name": "ipython",
    "version": 3
   },
   "file_extension": ".py",
   "mimetype": "text/x-python",
   "name": "python",
   "nbconvert_exporter": "python",
   "pygments_lexer": "ipython3",
   "version": "3.8.8"
  }
 },
 "nbformat": 4,
 "nbformat_minor": 5
}
