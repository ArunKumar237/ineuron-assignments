{
 "cells": [
  {
   "cell_type": "markdown",
   "id": "870304cd",
   "metadata": {},
   "source": [
    "Python Advance Assignment - 1\n",
    "*****************************"
   ]
  },
  {
   "cell_type": "markdown",
   "id": "e72f0947",
   "metadata": {},
   "source": [
    "    Q1. What is the purpose of Python's OOP?"
   ]
  },
  {
   "cell_type": "raw",
   "id": "20ff3b2c",
   "metadata": {},
   "source": [
    "OOP is about code reuse — you factor code to minimize redundancy and program by customizing what already exists instead of changing code in place or starting from scratch."
   ]
  },
  {
   "cell_type": "markdown",
   "id": "a4f79cf6",
   "metadata": {},
   "source": [
    "****"
   ]
  },
  {
   "cell_type": "markdown",
   "id": "bdd7178d",
   "metadata": {},
   "source": [
    "    Q2. Where does an inheritance search look for an attribute?"
   ]
  },
  {
   "cell_type": "raw",
   "id": "dab35479",
   "metadata": {},
   "source": [
    "An inheritance search looks for an attribute first in the instance object, then in the class the instance was created from, then in all higher superclasses, progressing from left to right (by default). The search stops at the first place the attribute is found."
   ]
  },
  {
   "cell_type": "markdown",
   "id": "9e975b51",
   "metadata": {},
   "source": [
    "****"
   ]
  },
  {
   "cell_type": "markdown",
   "id": "ffd16b42",
   "metadata": {},
   "source": [
    "    Q3. How do you distinguish between a class object and an instance object?"
   ]
  },
  {
   "cell_type": "raw",
   "id": "d8f28a07",
   "metadata": {},
   "source": [
    "Classes are a kind of factory for creating multiple instances. Classes also support operator overloading methods, which instances inherit, and treat any functions nested in the class as methods for processing instances."
   ]
  },
  {
   "cell_type": "markdown",
   "id": "a1716204",
   "metadata": {},
   "source": [
    "****"
   ]
  },
  {
   "cell_type": "markdown",
   "id": "b7d7044c",
   "metadata": {},
   "source": [
    "    Q4. What makes the first argument in a class’s method function special?"
   ]
  },
  {
   "cell_type": "raw",
   "id": "c6424dbf",
   "metadata": {},
   "source": [
    "It always receives the instance object that is the implied subject of the method call. It’s usually called 'self' by convention."
   ]
  },
  {
   "cell_type": "markdown",
   "id": "080b77ac",
   "metadata": {},
   "source": [
    "****"
   ]
  },
  {
   "cell_type": "markdown",
   "id": "3cd12635",
   "metadata": {},
   "source": [
    "    Q5. What is the purpose of the __init__ method?"
   ]
  },
  {
   "cell_type": "raw",
   "id": "54abf930",
   "metadata": {},
   "source": [
    "If the __init__ method is coded or inherited in a class, Python calls it automatically each time an instance of that class is created.\n",
    "class New():\n",
    "def __init__(self, arg1, arg2):\n",
    "self.first_var = arg1\n",
    "self.second_var = arg2"
   ]
  },
  {
   "cell_type": "markdown",
   "id": "47fd8192",
   "metadata": {},
   "source": [
    "****"
   ]
  },
  {
   "cell_type": "markdown",
   "id": "ba4987f1",
   "metadata": {},
   "source": [
    "    Q6. What is the process for creating a class instance?"
   ]
  },
  {
   "cell_type": "raw",
   "id": "816f4828",
   "metadata": {},
   "source": [
    "You create a class instance by calling the class name as though it were a function; any arguments passed into the class name show up as arguments two and beyond in the __init__ constructor method.\n",
    "\n",
    "x = ClassName()\n",
    "y = AnotherClass(arg1, arg2)"
   ]
  },
  {
   "cell_type": "markdown",
   "id": "39088a57",
   "metadata": {},
   "source": [
    "****"
   ]
  },
  {
   "cell_type": "markdown",
   "id": "1bc8f777",
   "metadata": {},
   "source": [
    "    Q7. What is the process for creating a class?"
   ]
  },
  {
   "cell_type": "code",
   "execution_count": null,
   "id": "9df5113b",
   "metadata": {},
   "outputs": [],
   "source": [
    "class ClassName():\n",
    "    #some code here"
   ]
  },
  {
   "cell_type": "markdown",
   "id": "132177a2",
   "metadata": {},
   "source": [
    "****"
   ]
  },
  {
   "cell_type": "markdown",
   "id": "dce0bb7b",
   "metadata": {},
   "source": [
    "    Q8. How would you define the superclasses of a class?"
   ]
  },
  {
   "cell_type": "raw",
   "id": "aee9c3e6",
   "metadata": {},
   "source": [
    "They are classes which are used to inherit from.\n",
    "\n",
    "class Son(Father, Mother): ...\n",
    "\n",
    "In this case Father and Mother are superclasses for Son subclass."
   ]
  }
 ],
 "metadata": {
  "kernelspec": {
   "display_name": "Python 3",
   "language": "python",
   "name": "python3"
  },
  "language_info": {
   "codemirror_mode": {
    "name": "ipython",
    "version": 3
   },
   "file_extension": ".py",
   "mimetype": "text/x-python",
   "name": "python",
   "nbconvert_exporter": "python",
   "pygments_lexer": "ipython3",
   "version": "3.8.8"
  }
 },
 "nbformat": 4,
 "nbformat_minor": 5
}
