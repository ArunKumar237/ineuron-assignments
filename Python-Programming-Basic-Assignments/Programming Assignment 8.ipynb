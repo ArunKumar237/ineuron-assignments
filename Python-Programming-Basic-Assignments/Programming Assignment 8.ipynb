{
 "cells": [
  {
   "cell_type": "markdown",
   "id": "0018df9d",
   "metadata": {},
   "source": [
    "Programming Assignment 8\n",
    "*************************************"
   ]
  },
  {
   "cell_type": "markdown",
   "id": "9419dd9a",
   "metadata": {},
   "source": [
    "1.Write a Python Program to Add Two Matrices?"
   ]
  },
  {
   "cell_type": "code",
   "execution_count": 67,
   "id": "d9b2e60b",
   "metadata": {},
   "outputs": [
    {
     "name": "stdout",
     "output_type": "stream",
     "text": [
      "[2, 4, 6]\n",
      "[8, 10, 12]\n",
      "[14, 16, 18]\n"
     ]
    }
   ],
   "source": [
    "Matrix_A = [[1,2,3],\n",
    "            [4,5,6],\n",
    "            [7,8,9]]\n",
    "\n",
    "Matrix_B = [[1,2,3],\n",
    "            [4,5,6],\n",
    "            [7,8,9]]\n",
    "c = [[0,0,0],\n",
    "     [0,0,0],\n",
    "     [0,0,0]]\n",
    "\n",
    "for i in range(3):\n",
    "    for j in range(3):\n",
    "        c[i][j] = Matrix_A[i][j] + Matrix_B[i][j]\n",
    "         \n",
    "        \n",
    "for k in c:\n",
    "    print(k)\n",
    "\n",
    "\n",
    "    "
   ]
  },
  {
   "cell_type": "markdown",
   "id": "987b33ea",
   "metadata": {},
   "source": [
    "****"
   ]
  },
  {
   "cell_type": "markdown",
   "id": "84eab51a",
   "metadata": {},
   "source": [
    "2.Write a Python Program to Multiply Two Matrices?"
   ]
  },
  {
   "cell_type": "code",
   "execution_count": 68,
   "id": "954ca3e1",
   "metadata": {},
   "outputs": [
    {
     "name": "stdout",
     "output_type": "stream",
     "text": [
      "[1, 4, 9]\n",
      "[16, 25, 36]\n",
      "[49, 64, 81]\n"
     ]
    }
   ],
   "source": [
    "Matrix_A = [[1,2,3],\n",
    "            [4,5,6],\n",
    "            [7,8,9]]\n",
    "\n",
    "Matrix_B = [[1,2,3],\n",
    "            [4,5,6],\n",
    "            [7,8,9]]\n",
    "c = [[0,0,0],\n",
    "     [0,0,0],\n",
    "     [0,0,0]]\n",
    "\n",
    "for i in range(3):\n",
    "    for j in range(3):\n",
    "        c[i][j] = Matrix_A[i][j] * Matrix_B[i][j]\n",
    "         \n",
    "        \n",
    "for k in c:\n",
    "    print(k)"
   ]
  },
  {
   "cell_type": "markdown",
   "id": "03a6ca77",
   "metadata": {},
   "source": [
    "****"
   ]
  },
  {
   "cell_type": "markdown",
   "id": "f33557b2",
   "metadata": {},
   "source": [
    "3.Write a Python Program to Transpose a Matrix?"
   ]
  },
  {
   "cell_type": "code",
   "execution_count": 76,
   "id": "b852179c",
   "metadata": {},
   "outputs": [
    {
     "name": "stdout",
     "output_type": "stream",
     "text": [
      "Transpose: \n",
      "[1, 4, 7]\n",
      "[2, 5, 8]\n",
      "[3, 6, 9]\n"
     ]
    }
   ],
   "source": [
    "A = [[1,2,3],\n",
    "     [4,5,6],\n",
    "     [7,8,9]]\n",
    "\n",
    "for i in range(3):\n",
    "    for j in range(3):\n",
    "        c[j][i] = A[i][j]\n",
    "\n",
    "print('Transpose: ')\n",
    "for k in c:\n",
    "    print(k)"
   ]
  },
  {
   "cell_type": "markdown",
   "id": "d53b2874",
   "metadata": {},
   "source": [
    "****"
   ]
  },
  {
   "cell_type": "markdown",
   "id": "e2e47141",
   "metadata": {},
   "source": [
    "4.Write a Python Program to Sort Words in Alphabetic Order?"
   ]
  },
  {
   "cell_type": "code",
   "execution_count": 113,
   "id": "de3c5fbc",
   "metadata": {
    "scrolled": true
   },
   "outputs": [
    {
     "name": "stdout",
     "output_type": "stream",
     "text": [
      "boat,dress,address,car\n",
      "['address', 'boat', 'car', 'dress']\n"
     ]
    }
   ],
   "source": [
    "lis = input().split(\",\")\n",
    "print(sorted(lis))"
   ]
  },
  {
   "cell_type": "markdown",
   "id": "a6ab46c3",
   "metadata": {},
   "source": [
    "****"
   ]
  },
  {
   "cell_type": "markdown",
   "id": "96ec2062",
   "metadata": {},
   "source": [
    "5.Write a Python Program to Remove Punctuation From a String?"
   ]
  },
  {
   "cell_type": "code",
   "execution_count": 151,
   "id": "ce71f794",
   "metadata": {},
   "outputs": [
    {
     "name": "stdout",
     "output_type": "stream",
     "text": [
      "\"Hey, Geeks !, How are you?\"\n",
      "\n",
      "Punctuation list:  !\"#$%&'()*+,-./:;<=>?@[\\]^_`{|}~ \n",
      "\n",
      "Hey Geeks  How are you\n"
     ]
    }
   ],
   "source": [
    "import string\n",
    "s = list(input())\n",
    "p = string.punctuation\n",
    "for i in p:\n",
    "    for j in s:\n",
    "        if i == j: s.remove(j) \n",
    "\n",
    "print('\\nPunctuation list: ',p,end=\" \")\n",
    "print('\\n')\n",
    "# for k in s:\n",
    "#     print(k,end=\" \")\n",
    "print(\"\".join(s))"
   ]
  }
 ],
 "metadata": {
  "kernelspec": {
   "display_name": "Python 3",
   "language": "python",
   "name": "python3"
  },
  "language_info": {
   "codemirror_mode": {
    "name": "ipython",
    "version": 3
   },
   "file_extension": ".py",
   "mimetype": "text/x-python",
   "name": "python",
   "nbconvert_exporter": "python",
   "pygments_lexer": "ipython3",
   "version": "3.8.8"
  }
 },
 "nbformat": 4,
 "nbformat_minor": 5
}
