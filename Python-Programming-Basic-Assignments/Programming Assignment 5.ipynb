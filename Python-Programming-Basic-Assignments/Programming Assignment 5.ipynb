{
 "cells": [
  {
   "cell_type": "markdown",
   "id": "fe42bd05",
   "metadata": {},
   "source": [
    "Programming Assignment 5\n",
    "*************************************"
   ]
  },
  {
   "cell_type": "markdown",
   "id": "c334f9d4",
   "metadata": {},
   "source": [
    "1.Write a Python Program to Find LCM?"
   ]
  },
  {
   "cell_type": "code",
   "execution_count": 157,
   "id": "a4d5a4d5",
   "metadata": {},
   "outputs": [
    {
     "name": "stdout",
     "output_type": "stream",
     "text": [
      "LCM of 15 and 20 is 60\n"
     ]
    }
   ],
   "source": [
    "# Python program to find LCM of two numbers\n",
    "\n",
    "# Recursive function to return gcd of a and b\n",
    "def gcd(a,b):\n",
    "\tif a == 0:\n",
    "\t\treturn b\n",
    "\treturn gcd(b % a, a)\n",
    "\n",
    "# Function to return LCM of two numbers\n",
    "def lcm(a,b):\n",
    "\treturn (a // gcd(a,b))* b\n",
    "\n",
    "# Driver program to test above function\n",
    "a = 15\n",
    "b = 20\n",
    "print('LCM of', a, 'and', b, 'is', lcm(a, b))\n"
   ]
  },
  {
   "cell_type": "markdown",
   "id": "d07fe460",
   "metadata": {},
   "source": [
    "****"
   ]
  },
  {
   "cell_type": "markdown",
   "id": "df6b5c61",
   "metadata": {},
   "source": [
    "2.Write a Python Program to Find HCF?"
   ]
  },
  {
   "cell_type": "code",
   "execution_count": 158,
   "id": "c6d1f0ff",
   "metadata": {},
   "outputs": [
    {
     "data": {
      "text/plain": [
       "2"
      ]
     },
     "execution_count": 158,
     "metadata": {},
     "output_type": "execute_result"
    }
   ],
   "source": [
    "def gcd(a,b):\n",
    "\tif a == 0:\n",
    "\t\treturn b\n",
    "\treturn gcd(b % a, a)\n",
    "\n",
    "gcd(12,14)"
   ]
  },
  {
   "cell_type": "markdown",
   "id": "db96031b",
   "metadata": {},
   "source": [
    "****"
   ]
  },
  {
   "cell_type": "markdown",
   "id": "d2fa6f88",
   "metadata": {},
   "source": [
    "3.Write a Python Program to Convert Decimal to Binary, Octal and Hexadecimal?"
   ]
  },
  {
   "cell_type": "code",
   "execution_count": 204,
   "id": "21e3d5c0",
   "metadata": {},
   "outputs": [
    {
     "name": "stdout",
     "output_type": "stream",
     "text": [
      "Choose number:\n",
      "1 - Decimal to Binary\n",
      "2 - Decimal to Octal\n",
      "3 - Decimal to Hexadecimal\n",
      "\n",
      "3\n",
      "Enter a number to convert: 317547\n",
      "\n",
      "Decimal number: 317547 \n",
      "converted to Hexadecimal number as: 4D86B\n"
     ]
    }
   ],
   "source": [
    "b = input('Choose number:\\n1 - Decimal to Binary\\n2 - Decimal to Octal\\n3 - Decimal to Hexadecimal\\n\\n')\n",
    "a = int(input('Enter a number to convert: '))\n",
    "n = a\n",
    "\n",
    "if b == '1':\n",
    "    # Decimal to Binary\n",
    "    bList = []\n",
    "    q = n//2\n",
    "    while(q>=1):\n",
    "        q = n//2\n",
    "        r = n%2\n",
    "        bList.append(r)\n",
    "        n = q\n",
    "    bNum = int(''.join(map(str,bList[::-1])))\n",
    "    print(f'\\nDecimal number: {a} \\nconverted to Binary number as: {bNum}')\n",
    "\n",
    "elif b == '2':\n",
    "    #Decimal to Octal\n",
    "    OList = []\n",
    "    q = n//8\n",
    "    while(q>=1):\n",
    "        q = n//8\n",
    "        r = n%8\n",
    "        OList.append(r)\n",
    "        n = q\n",
    "    ONum = int(''.join(map(str,OList[::-1])))\n",
    "    print(f'\\nDecimal number: {a} \\nconverted to Octal number as: {ONum}')\n",
    "\n",
    "elif b == '3':\n",
    "    #Decimal to Hexadecimal\n",
    "    HList = []\n",
    "    q = n//16\n",
    "    while(q>=1):\n",
    "        q = n//16\n",
    "        r = n%16\n",
    "        if r == 10:\n",
    "            HList.append('A')\n",
    "        elif r == 11:\n",
    "            HList.append('B')\n",
    "        elif r == 12:\n",
    "            HList.append('C')\n",
    "        elif r == 13:\n",
    "            HList.append('D')\n",
    "        elif r == 14:\n",
    "            HList.append('E')\n",
    "        elif r == 15:\n",
    "            HList.append('F')\n",
    "        else:\n",
    "            HList.append(r)\n",
    "        n = q\n",
    "    HNum = ''.join(map(str,HList[::-1]))\n",
    "    print(f'\\nDecimal number: {a} \\nconverted to Hexadecimal number as: {HNum}')"
   ]
  },
  {
   "cell_type": "markdown",
   "id": "fec697e9",
   "metadata": {},
   "source": [
    "****"
   ]
  },
  {
   "cell_type": "markdown",
   "id": "93f6d34b",
   "metadata": {},
   "source": [
    "4.Write a Python Program To Find ASCII value of a character?"
   ]
  },
  {
   "cell_type": "code",
   "execution_count": 210,
   "id": "b07ab371",
   "metadata": {
    "scrolled": true
   },
   "outputs": [
    {
     "name": "stdout",
     "output_type": "stream",
     "text": [
      "A\n",
      "Ascii value of a A is 65\n"
     ]
    }
   ],
   "source": [
    "n = input()\n",
    "print(f'Ascii value of a {n} is {ord(n)}')"
   ]
  },
  {
   "cell_type": "markdown",
   "id": "135c2142",
   "metadata": {},
   "source": [
    "****"
   ]
  },
  {
   "cell_type": "markdown",
   "id": "6d27ceec",
   "metadata": {},
   "source": [
    "5.Write a Python Program to Make a Simple Calculator with 4 basic mathematical operations?"
   ]
  },
  {
   "cell_type": "code",
   "execution_count": 217,
   "id": "c5329594",
   "metadata": {},
   "outputs": [
    {
     "name": "stdout",
     "output_type": "stream",
     "text": [
      "operand 1: 4\n",
      "operand 2: 5\n",
      "operation you want to perform?\n",
      "\"+\" for addition\n",
      "\"-\" for subtraction\n",
      "\"*\" for multiplication\n",
      "\"/\" for division\n",
      "*\n",
      "20\n"
     ]
    }
   ],
   "source": [
    "op1 = int(input('operand 1: '))\n",
    "op2 = int(input('operand 2: '))\n",
    "i = input('operation you want to perform?\\n\"+\" for addition\\n\"-\" for subtraction\\n\"*\" for multiplication\\n\"/\" for division\\n')\n",
    "\n",
    "\n",
    "if i == '+':\n",
    "    print(op1 + op2)  \n",
    "elif i == '*':\n",
    "    print(op1 * op2)\n",
    "elif i == '-':\n",
    "    print(op1 - op2)\n",
    "elif i == '/':\n",
    "    print(op1 / op2)"
   ]
  }
 ],
 "metadata": {
  "kernelspec": {
   "display_name": "Python 3",
   "language": "python",
   "name": "python3"
  },
  "language_info": {
   "codemirror_mode": {
    "name": "ipython",
    "version": 3
   },
   "file_extension": ".py",
   "mimetype": "text/x-python",
   "name": "python",
   "nbconvert_exporter": "python",
   "pygments_lexer": "ipython3",
   "version": "3.8.8"
  }
 },
 "nbformat": 4,
 "nbformat_minor": 5
}
