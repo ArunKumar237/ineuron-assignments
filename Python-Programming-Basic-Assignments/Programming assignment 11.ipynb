{
 "cells": [
  {
   "cell_type": "markdown",
   "id": "a099fdbf",
   "metadata": {},
   "source": [
    "Programming Assingment 11\n",
    "*************************"
   ]
  },
  {
   "cell_type": "markdown",
   "id": "853a0473",
   "metadata": {},
   "source": [
    "1.Write a Python program to find words which are greater than given length k?"
   ]
  },
  {
   "cell_type": "code",
   "execution_count": 18,
   "id": "3f492551",
   "metadata": {},
   "outputs": [
    {
     "name": "stdout",
     "output_type": "stream",
     "text": [
      "sandhya yashwanth nikitej anand raghavendra\n"
     ]
    },
    {
     "data": {
      "text/plain": [
       "'raghavendra'"
      ]
     },
     "execution_count": 18,
     "metadata": {},
     "output_type": "execute_result"
    }
   ],
   "source": [
    "wordlist = input().split()\n",
    "for i in wordlist:\n",
    "    for j in wordlist:\n",
    "        if len(i) >= len(j):\n",
    "            greater = i\n",
    "greater"
   ]
  },
  {
   "cell_type": "markdown",
   "id": "9d05165e",
   "metadata": {},
   "source": [
    "****"
   ]
  },
  {
   "cell_type": "markdown",
   "id": "a6157377",
   "metadata": {},
   "source": [
    "2.Write a Python program for removing i-th character from a string?"
   ]
  },
  {
   "cell_type": "code",
   "execution_count": 34,
   "id": "50283ebf",
   "metadata": {},
   "outputs": [
    {
     "name": "stdout",
     "output_type": "stream",
     "text": [
      "YASHWANTH\n",
      "Enter the index of an element you want of remove from string: 9\n"
     ]
    },
    {
     "data": {
      "text/plain": [
       "'YASHWANT'"
      ]
     },
     "execution_count": 34,
     "metadata": {},
     "output_type": "execute_result"
    }
   ],
   "source": [
    "name = input()\n",
    "ele = int(input('Enter the index of an element you want of remove from string: '))\n",
    "out = ''\n",
    "for i in range (len(name)):\n",
    "    if i != ele-1: out += name[i]\n",
    "out"
   ]
  },
  {
   "cell_type": "markdown",
   "id": "1b8245c2",
   "metadata": {},
   "source": [
    "****"
   ]
  },
  {
   "cell_type": "markdown",
   "id": "9b7b3e45",
   "metadata": {},
   "source": [
    "3.Write a Python program to split and join a string?"
   ]
  },
  {
   "cell_type": "code",
   "execution_count": 43,
   "id": "7c3bbdc1",
   "metadata": {},
   "outputs": [
    {
     "name": "stdout",
     "output_type": "stream",
     "text": [
      "Before split:  YASHWANTH \n",
      "After split:  ['Y', 'A', 'S', 'H', 'W', 'A', 'N', 'T', 'H']\n",
      "\n",
      "Before join:  ['Y', 'A', 'S', 'H', 'W', 'A', 'N', 'T', 'H'] \n",
      "After join:  YASHWANTH\n"
     ]
    }
   ],
   "source": [
    "print('Before split: ',name,'\\nAfter split: ',list(map(str,name)))\n",
    "print('\\nBefore join: ',list(map(str,name)),'\\nAfter join: ',''.join(name))"
   ]
  },
  {
   "cell_type": "markdown",
   "id": "ac2c5618",
   "metadata": {},
   "source": [
    "****"
   ]
  },
  {
   "cell_type": "markdown",
   "id": "5b1ca58a",
   "metadata": {},
   "source": [
    "4.Write a Python to check if a given string is binary string or not?"
   ]
  },
  {
   "cell_type": "code",
   "execution_count": 77,
   "id": "cfc53020",
   "metadata": {},
   "outputs": [
    {
     "name": "stdout",
     "output_type": "stream",
     "text": [
      "01yash\n",
      "'01yash' is *not* a Binary string\n"
     ]
    }
   ],
   "source": [
    "s = input()\n",
    "binary = None\n",
    "for i in s:\n",
    "    if i == '1' or i == '0': binary = True\n",
    "    else:\n",
    "        binary = False\n",
    "        break\n",
    "if binary == True: print(\"'\"+s+\"'\",'is a Binary string')\n",
    "else: print(\"'\"+s+\"'\",'is *not* a Binary string')"
   ]
  },
  {
   "cell_type": "markdown",
   "id": "1ad9363e",
   "metadata": {},
   "source": [
    "****"
   ]
  },
  {
   "cell_type": "markdown",
   "id": "805c6ab5",
   "metadata": {},
   "source": [
    "5.Write a Python program to find uncommon words from two Strings?"
   ]
  },
  {
   "cell_type": "code",
   "execution_count": 100,
   "id": "ed9c1073",
   "metadata": {},
   "outputs": [
    {
     "name": "stdout",
     "output_type": "stream",
     "text": [
      " apple fruits\n"
     ]
    }
   ],
   "source": [
    "def uncommon(a,b):\n",
    "    list_a = a.split()\n",
    "    list_b = b.split()\n",
    "    uc = ''\n",
    "    for i in list_a:\n",
    "        if i not in list_b:\n",
    "            uc = uc+\" \"+i\n",
    "    for j in list_b:\n",
    "        if j not in list_a:\n",
    "            uc = uc+\" \"+j\n",
    "\n",
    "    return uc\n",
    "\n",
    "\n",
    "a = \"apple banana mango\"\n",
    "b = \"banana fruits mango\"\n",
    "print(uncommon(a,b))\n"
   ]
  },
  {
   "cell_type": "markdown",
   "id": "6ba2dd48",
   "metadata": {},
   "source": [
    "****"
   ]
  },
  {
   "cell_type": "markdown",
   "id": "cec7985c",
   "metadata": {},
   "source": [
    "6.Write a Python to find all duplicate characters in string?"
   ]
  },
  {
   "cell_type": "code",
   "execution_count": 102,
   "id": "b0bae18c",
   "metadata": {},
   "outputs": [
    {
     "name": "stdout",
     "output_type": "stream",
     "text": [
      " banana mango\n"
     ]
    }
   ],
   "source": [
    "def common(a,b):\n",
    "    list_a = a.split()\n",
    "    list_b = b.split()\n",
    "    uc = ''\n",
    "    for i in list_a:\n",
    "        if i in list_b:\n",
    "            uc = uc+\" \"+i\n",
    "    \n",
    "    return uc\n",
    "\n",
    "\n",
    "a = \"apple banana mango\"\n",
    "b = \"banana fruits mango\"\n",
    "print(common(a,b))"
   ]
  },
  {
   "cell_type": "markdown",
   "id": "e1a235f8",
   "metadata": {},
   "source": [
    "****"
   ]
  },
  {
   "cell_type": "markdown",
   "id": "565d3cdf",
   "metadata": {},
   "source": [
    "7.Write a Python Program to check if a string contains any special character?"
   ]
  },
  {
   "cell_type": "code",
   "execution_count": 109,
   "id": "7e3bba79",
   "metadata": {},
   "outputs": [
    {
     "name": "stdout",
     "output_type": "stream",
     "text": [
      "These are the special characters the string contains:  '    $ % : ; < ? @ } ~ '\n"
     ]
    }
   ],
   "source": [
    "str4 = ' !\"#$%&*+,-./:;<=>?@[\\]^_`{|}~'\n",
    "password = 'John}~ny :;<John$%ny Yes Pa?@pa'\n",
    "fc = ''\n",
    "for i in str4:\n",
    "    if i in password:\n",
    "        fc = fc+\" \"+i\n",
    "print('These are the special characters the string contains: ',end=\" \")\n",
    "print(\"'\",fc,\"'\")\n",
    "\n"
   ]
  }
 ],
 "metadata": {
  "kernelspec": {
   "display_name": "Python 3 (ipykernel)",
   "language": "python",
   "name": "python3"
  },
  "language_info": {
   "codemirror_mode": {
    "name": "ipython",
    "version": 3
   },
   "file_extension": ".py",
   "mimetype": "text/x-python",
   "name": "python",
   "nbconvert_exporter": "python",
   "pygments_lexer": "ipython3",
   "version": "3.8.12"
  }
 },
 "nbformat": 4,
 "nbformat_minor": 5
}
