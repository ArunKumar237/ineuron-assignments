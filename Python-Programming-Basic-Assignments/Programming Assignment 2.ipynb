{
 "cells": [
  {
   "cell_type": "markdown",
   "id": "372ec768",
   "metadata": {},
   "source": [
    "Programming Assignment 2\n",
    "*************************************"
   ]
  },
  {
   "cell_type": "markdown",
   "id": "e5e5cfc7",
   "metadata": {},
   "source": [
    "1.Write a Python program to convert kilometers to miles?"
   ]
  },
  {
   "cell_type": "code",
   "execution_count": 22,
   "id": "ce11607a",
   "metadata": {},
   "outputs": [
    {
     "name": "stdout",
     "output_type": "stream",
     "text": [
      "1.5\n",
      "1.5 km equals 0.9320565000000001 miles "
     ]
    }
   ],
   "source": [
    "# 1km = 0.621371mile\n",
    "n = float(input())\n",
    "print(f'{n} km equals {n*0.621371} miles',end=\" \")"
   ]
  },
  {
   "cell_type": "markdown",
   "id": "7e2edf16",
   "metadata": {},
   "source": [
    "****"
   ]
  },
  {
   "cell_type": "markdown",
   "id": "e55461b3",
   "metadata": {},
   "source": [
    "2.Write a Python program to convert Celsius to Fahrenheit?"
   ]
  },
  {
   "cell_type": "code",
   "execution_count": 25,
   "id": "fe07cdd9",
   "metadata": {},
   "outputs": [
    {
     "name": "stdout",
     "output_type": "stream",
     "text": [
      "1.5\n",
      "1.5 celsius equals 34.7 Fahrenheit "
     ]
    }
   ],
   "source": [
    "# Formula\t(1°C × 9/5) + 32 = 33.8°F\n",
    "n = float(input())\n",
    "print(f'{n} celsius equals {(n*9/5)+32} Fahrenheit',end=\" \")"
   ]
  },
  {
   "cell_type": "markdown",
   "id": "52cc63ee",
   "metadata": {},
   "source": [
    "****"
   ]
  },
  {
   "cell_type": "markdown",
   "id": "3c9c3b1d",
   "metadata": {},
   "source": [
    "3.Write a Python program to display calendar?"
   ]
  },
  {
   "cell_type": "code",
   "execution_count": 37,
   "id": "9718627a",
   "metadata": {},
   "outputs": [
    {
     "name": "stdout",
     "output_type": "stream",
     "text": [
      "Enter year in YYYY format: 2022\n",
      "                                  2022\n",
      "\n",
      "      January                   February                   March\n",
      "Mo Tu We Th Fr Sa Su      Mo Tu We Th Fr Sa Su      Mo Tu We Th Fr Sa Su\n",
      "                1  2          1  2  3  4  5  6          1  2  3  4  5  6\n",
      " 3  4  5  6  7  8  9       7  8  9 10 11 12 13       7  8  9 10 11 12 13\n",
      "10 11 12 13 14 15 16      14 15 16 17 18 19 20      14 15 16 17 18 19 20\n",
      "17 18 19 20 21 22 23      21 22 23 24 25 26 27      21 22 23 24 25 26 27\n",
      "24 25 26 27 28 29 30      28                        28 29 30 31\n",
      "31\n",
      "\n",
      "       April                      May                       June\n",
      "Mo Tu We Th Fr Sa Su      Mo Tu We Th Fr Sa Su      Mo Tu We Th Fr Sa Su\n",
      "             1  2  3                         1             1  2  3  4  5\n",
      " 4  5  6  7  8  9 10       2  3  4  5  6  7  8       6  7  8  9 10 11 12\n",
      "11 12 13 14 15 16 17       9 10 11 12 13 14 15      13 14 15 16 17 18 19\n",
      "18 19 20 21 22 23 24      16 17 18 19 20 21 22      20 21 22 23 24 25 26\n",
      "25 26 27 28 29 30         23 24 25 26 27 28 29      27 28 29 30\n",
      "                          30 31\n",
      "\n",
      "        July                     August                  September\n",
      "Mo Tu We Th Fr Sa Su      Mo Tu We Th Fr Sa Su      Mo Tu We Th Fr Sa Su\n",
      "             1  2  3       1  2  3  4  5  6  7                1  2  3  4\n",
      " 4  5  6  7  8  9 10       8  9 10 11 12 13 14       5  6  7  8  9 10 11\n",
      "11 12 13 14 15 16 17      15 16 17 18 19 20 21      12 13 14 15 16 17 18\n",
      "18 19 20 21 22 23 24      22 23 24 25 26 27 28      19 20 21 22 23 24 25\n",
      "25 26 27 28 29 30 31      29 30 31                  26 27 28 29 30\n",
      "\n",
      "      October                   November                  December\n",
      "Mo Tu We Th Fr Sa Su      Mo Tu We Th Fr Sa Su      Mo Tu We Th Fr Sa Su\n",
      "                1  2          1  2  3  4  5  6                1  2  3  4\n",
      " 3  4  5  6  7  8  9       7  8  9 10 11 12 13       5  6  7  8  9 10 11\n",
      "10 11 12 13 14 15 16      14 15 16 17 18 19 20      12 13 14 15 16 17 18\n",
      "17 18 19 20 21 22 23      21 22 23 24 25 26 27      19 20 21 22 23 24 25\n",
      "24 25 26 27 28 29 30      28 29 30                  26 27 28 29 30 31\n",
      "31\n",
      "\n"
     ]
    }
   ],
   "source": [
    "import calendar\n",
    "print(calendar.calendar(int(input('Enter year in YYYY format: '))))"
   ]
  },
  {
   "cell_type": "markdown",
   "id": "b7538bed",
   "metadata": {},
   "source": [
    "****"
   ]
  },
  {
   "cell_type": "markdown",
   "id": "79859bb0",
   "metadata": {},
   "source": [
    "4.Write a Python program to solve quadratic equation?"
   ]
  },
  {
   "cell_type": "code",
   "execution_count": 38,
   "id": "b1eb8d73",
   "metadata": {},
   "outputs": [
    {
     "name": "stdout",
     "output_type": "stream",
     "text": [
      "The roots are\n",
      "(-3.414213562373095+0j)\n",
      "(-0.5857864376269049+0j)\n"
     ]
    }
   ],
   "source": [
    "# import complex math module\n",
    "import cmath\n",
    "\n",
    "a = 1\n",
    "b = 4\n",
    "c = 2\n",
    "\n",
    "# calculating the discriminant\n",
    "dis = (b**2) - (4 * a*c)\n",
    "\n",
    "# find two results\n",
    "ans1 = (-b-cmath.sqrt(dis))/(2 * a)\n",
    "ans2 = (-b + cmath.sqrt(dis))/(2 * a)\n",
    "\n",
    "# printing the results\n",
    "print('The roots are')\n",
    "print(ans1)\n",
    "print(ans2)"
   ]
  },
  {
   "cell_type": "markdown",
   "id": "4459c308",
   "metadata": {},
   "source": [
    "****"
   ]
  },
  {
   "cell_type": "markdown",
   "id": "1dbbf87f",
   "metadata": {},
   "source": [
    "5.Write a Python program to swap two variables without temp variable?"
   ]
  },
  {
   "cell_type": "code",
   "execution_count": 42,
   "id": "51c286fd",
   "metadata": {},
   "outputs": [
    {
     "name": "stdout",
     "output_type": "stream",
     "text": [
      "6\n",
      "3\n",
      "before swapping: a = 6 and b = 3 \n",
      "after swapping : a = 3 and b = 6\n"
     ]
    }
   ],
   "source": [
    "a = int(input())\n",
    "b = int(input())\n",
    "a,b = b,a\n",
    "print(f'before swapping: a = {b} and b = {a} \\nafter swapping : a = {a} and b = {b}')"
   ]
  }
 ],
 "metadata": {
  "kernelspec": {
   "display_name": "Python 3",
   "language": "python",
   "name": "python3"
  },
  "language_info": {
   "codemirror_mode": {
    "name": "ipython",
    "version": 3
   },
   "file_extension": ".py",
   "mimetype": "text/x-python",
   "name": "python",
   "nbconvert_exporter": "python",
   "pygments_lexer": "ipython3",
   "version": "3.8.8"
  }
 },
 "nbformat": 4,
 "nbformat_minor": 5
}
