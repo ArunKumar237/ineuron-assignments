{
 "cells": [
  {
   "cell_type": "markdown",
   "id": "275e15f3",
   "metadata": {},
   "source": [
    "Programming assignment 23\n",
    "*************************"
   ]
  },
  {
   "cell_type": "markdown",
   "id": "1725c27e",
   "metadata": {},
   "source": [
    "Question 1\n",
    "\n",
    "Create a function that takes a number as an argument and returns True or False depending on whether the number is symmetrical or not. A number is symmetrical when it is the same as its reverse.\n",
    "```python\n",
    "Examples\n",
    "is_symmetrical(7227) ➞ True\n",
    "\n",
    "is_symmetrical(12567) ➞ False\n",
    "\n",
    "is_symmetrical(44444444) ➞ True\n",
    "\n",
    "is_symmetrical(9939) ➞ False\n",
    "\n",
    "is_symmetrical(1112111) ➞ True\n",
    "```"
   ]
  },
  {
   "cell_type": "code",
   "execution_count": 25,
   "id": "4310aed3",
   "metadata": {},
   "outputs": [
    {
     "name": "stdout",
     "output_type": "stream",
     "text": [
      "is_symmetrical(7227) ➞ True\n",
      "\n",
      "is_symmetrical(12567) ➞ False\n",
      "\n",
      "is_symmetrical(44444444) ➞ True\n",
      "\n",
      "is_symmetrical(9939) ➞ False\n",
      "\n",
      "is_symmetrical(1112111) ➞ True\n",
      "\n"
     ]
    }
   ],
   "source": [
    "def is_symmetrical(q):\n",
    "    p=q\n",
    "    p = list(map(int,str(p)))\n",
    "    if len(str(p))%2 == 0:\n",
    "        r = len(p)//2\n",
    "        lhs = p[:r]\n",
    "        rhs = p[r:]\n",
    "        rhs = list(reversed(rhs))\n",
    "        if lhs == rhs:\n",
    "            print(f'is_symmetrical({q}) ➞ {True}\\n')\n",
    "        else:\n",
    "            print(f'is_symmetrical({q}) ➞ {False}\\n')\n",
    "            \n",
    "    elif len(str(p))%2 == 1:\n",
    "        r = len(p)//2\n",
    "        lhs = p[:r]\n",
    "        rhs = p[r+1:]\n",
    "        rhs = list(reversed(rhs))\n",
    "        if lhs == rhs:\n",
    "            print(f'is_symmetrical({q}) ➞ {True}\\n')\n",
    "        else:\n",
    "            print(f'is_symmetrical({q}) ➞ {False}\\n')\n",
    "            \n",
    "is_symmetrical(7227)\n",
    "is_symmetrical(12567)\n",
    "is_symmetrical(44444444)\n",
    "is_symmetrical(9939)\n",
    "is_symmetrical(1112111)"
   ]
  },
  {
   "cell_type": "markdown",
   "id": "245a25d7",
   "metadata": {},
   "source": [
    "****"
   ]
  },
  {
   "cell_type": "markdown",
   "id": "955de589",
   "metadata": {},
   "source": [
    "Question 2\n",
    "\n",
    "Given a string of numbers separated by a comma and space, return the product of the numbers.\n",
    "```python\n",
    "Examples\n",
    "multiply_nums(\"2, 3\") ➞ 6\n",
    "\n",
    "multiply_nums(\"1, 2, 3, 4\") ➞ 24\n",
    "\n",
    "multiply_nums(\"54, 75, 453, 0\") ➞ 0\n",
    "\n",
    "multiply_nums(\"10, -2\") ➞ -20\n",
    "```"
   ]
  },
  {
   "cell_type": "code",
   "execution_count": 74,
   "id": "797db99b",
   "metadata": {},
   "outputs": [
    {
     "name": "stdout",
     "output_type": "stream",
     "text": [
      "multiply_nums(\"2, 3\") ➞ 6\n",
      "\n",
      "multiply_nums(\"1, 2, 3, 4\") ➞ 24\n",
      "\n",
      "multiply_nums(\"54, 75, 453, 0\") ➞ 0\n",
      "\n",
      "multiply_nums(\"10, -2\") ➞ -20\n",
      "\n"
     ]
    }
   ],
   "source": [
    "def multiply_nums(h):\n",
    "    m = []\n",
    "    k = 1\n",
    "    \n",
    "    l = h.split(',')\n",
    "    m = [int(i) for i in l]\n",
    "    for i in m:\n",
    "        k *= i\n",
    "    print(f'multiply_nums(\"{h}\") ➞ {k}\\n')\n",
    "    \n",
    "\n",
    "multiply_nums(\"2, 3\")\n",
    "multiply_nums(\"1, 2, 3, 4\")\n",
    "multiply_nums(\"54, 75, 453, 0\")\n",
    "multiply_nums(\"10, -2\")\n",
    "\n",
    "\n"
   ]
  },
  {
   "cell_type": "markdown",
   "id": "bc5db847",
   "metadata": {},
   "source": [
    "****"
   ]
  },
  {
   "cell_type": "markdown",
   "id": "11e5becf",
   "metadata": {},
   "source": [
    "Question 3\n",
    "\n",
    "Create a function that squares every digit of a number.\n",
    "```python\n",
    "Examples\n",
    "square_digits(9119) ➞ 811181\n",
    "\n",
    "square_digits(2483) ➞ 416649\n",
    "\n",
    "square_digits(3212) ➞ 9414\n",
    "Notes\n",
    "The function receives an integer and must return an integer.\n",
    "```"
   ]
  },
  {
   "cell_type": "code",
   "execution_count": 98,
   "id": "7da53669",
   "metadata": {},
   "outputs": [
    {
     "name": "stdout",
     "output_type": "stream",
     "text": [
      "square_digits(9119) ➞ 811181\n",
      "\n",
      "square_digits(9119) ➞ 416649\n",
      "\n",
      "square_digits(9119) ➞ 9414\n",
      "\n"
     ]
    }
   ],
   "source": [
    "def square_digits(w):\n",
    "    \n",
    "    w = str(w)\n",
    "    l = list(map(int,w))\n",
    "    print(f'square_digits(9119) ➞',end=\" \")\n",
    "    for i in l:\n",
    "        print(i*i,end='')\n",
    "    print('\\n')\n",
    "\n",
    "square_digits(9119)\n",
    "square_digits(2483)\n",
    "square_digits(3212)"
   ]
  },
  {
   "cell_type": "markdown",
   "id": "9f2d5df2",
   "metadata": {},
   "source": [
    "****"
   ]
  },
  {
   "cell_type": "markdown",
   "id": "f406f343",
   "metadata": {},
   "source": [
    "Question 4\n",
    "\n",
    "Create a function that sorts a list and removes all duplicate items from it.\n",
    "```python\n",
    "Examples\n",
    "setify([1, 3, 3, 5, 5]) ➞ [1, 3, 5]\n",
    "\n",
    "setify([4, 4, 4, 4]) ➞ [4]\n",
    "\n",
    "setify([5, 7, 8, 9, 10, 15]) ➞ [5, 7, 8, 9, 10, 15]\n",
    "\n",
    "setify([3, 3, 3, 2, 1]) ➞ [1, 2, 3]\n",
    "```"
   ]
  },
  {
   "cell_type": "code",
   "execution_count": 103,
   "id": "5506976a",
   "metadata": {},
   "outputs": [
    {
     "name": "stdout",
     "output_type": "stream",
     "text": [
      "setify([1, 3, 3, 5, 5]) ➞ [1, 3, 5] \n",
      "\n",
      "setify([4, 4, 4, 4]) ➞ [4] \n",
      "\n",
      "setify([5, 7, 8, 9, 10, 15]) ➞ [5, 7, 8, 9, 10, 15] \n",
      "\n",
      "setify([3, 3, 3, 2, 1]) ➞ [1, 2, 3] \n",
      "\n"
     ]
    }
   ],
   "source": [
    "def setify(z):\n",
    "    print(f'setify({z}) ➞',list(set(z)),'\\n')\n",
    "\n",
    "setify([1, 3, 3, 5, 5])\n",
    "setify([4, 4, 4, 4])\n",
    "setify([5, 7, 8, 9, 10, 15])\n",
    "setify([3, 3, 3, 2, 1])"
   ]
  },
  {
   "cell_type": "markdown",
   "id": "0585e3c7",
   "metadata": {},
   "source": [
    "****"
   ]
  },
  {
   "cell_type": "markdown",
   "id": "71ce0596",
   "metadata": {},
   "source": [
    "Question 5\n",
    "\n",
    "Create a function that returns the mean of all digits.\n",
    "```python\n",
    "Examples\n",
    "mean(42) ➞ 3\n",
    "\n",
    "mean(12345) ➞ 3\n",
    "\n",
    "mean(666) ➞ 6\n",
    "Notes\n",
    "•\tThe mean of all digits is the sum of digits / how many digits there are (e.g. mean of digits in 512 is (5+1+2)/3(number of digits) = 8/3=2).\n",
    "•\tThe mean will always be an integer.\n",
    "```"
   ]
  },
  {
   "cell_type": "code",
   "execution_count": 114,
   "id": "559cbb3f",
   "metadata": {},
   "outputs": [
    {
     "name": "stdout",
     "output_type": "stream",
     "text": [
      "mean(42) ➞ 3 \n",
      "\n",
      "mean(12345) ➞ 3 \n",
      "\n",
      "mean(666) ➞ 6 \n",
      "\n"
     ]
    }
   ],
   "source": [
    "def mean(t):\n",
    "    temp = 0\n",
    "    w = str(t)\n",
    "    l = list(map(int,w))\n",
    "    for i in l:\n",
    "        temp += i\n",
    "    print(f'mean({t}) ➞',temp//len(w),'\\n')\n",
    "\n",
    "mean(42)\n",
    "mean(12345)\n",
    "mean(666)"
   ]
  },
  {
   "cell_type": "markdown",
   "id": "60c950e6",
   "metadata": {},
   "source": [
    "****"
   ]
  },
  {
   "cell_type": "markdown",
   "id": "3fba0711",
   "metadata": {},
   "source": []
  },
  {
   "cell_type": "code",
   "execution_count": null,
   "id": "62dfc527",
   "metadata": {},
   "outputs": [],
   "source": []
  }
 ],
 "metadata": {
  "kernelspec": {
   "display_name": "Python 3 (ipykernel)",
   "language": "python",
   "name": "python3"
  },
  "language_info": {
   "codemirror_mode": {
    "name": "ipython",
    "version": 3
   },
   "file_extension": ".py",
   "mimetype": "text/x-python",
   "name": "python",
   "nbconvert_exporter": "python",
   "pygments_lexer": "ipython3",
   "version": "3.8.12"
  }
 },
 "nbformat": 4,
 "nbformat_minor": 5
}
