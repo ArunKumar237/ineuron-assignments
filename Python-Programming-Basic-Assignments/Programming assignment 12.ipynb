{
 "cells": [
  {
   "cell_type": "markdown",
   "id": "4a5cbfa0",
   "metadata": {},
   "source": [
    "Programming assignment 12\n",
    "*************************"
   ]
  },
  {
   "cell_type": "markdown",
   "id": "4de37ed1",
   "metadata": {},
   "source": [
    "1.Write a Python program to Extract Unique values dictionary values?"
   ]
  },
  {
   "cell_type": "code",
   "execution_count": 12,
   "id": "83cea75f",
   "metadata": {},
   "outputs": [
    {
     "name": "stdout",
     "output_type": "stream",
     "text": [
      "{1, 2, 5, 6, 7, 8, 10, 11, 12}\n"
     ]
    }
   ],
   "source": [
    "test_dict = {'Apple' : [5, 6, 7, 8],\n",
    "             'banana' : [10, 11, 7, 5],\n",
    "             'grapes' : [6, 12, 10, 8],\n",
    "             'orange' : [1, 2, 5]}\n",
    "l = ()\n",
    "for i in test_dict.values(): # each value is a list\n",
    "    for j in i: # each list is getting iterated to extract each element\n",
    "        l += (j,) # each element is added as tuple to the empty tuple 'l'\n",
    "print(set(l)) # the tuple is typecasted into set because set doesn't allow duplicates"
   ]
  },
  {
   "cell_type": "markdown",
   "id": "ac60ac3b",
   "metadata": {},
   "source": [
    "****"
   ]
  },
  {
   "cell_type": "markdown",
   "id": "50cc8bd2",
   "metadata": {},
   "source": [
    "2.Write a Python program to find the sum of all items in a dictionary"
   ]
  },
  {
   "cell_type": "code",
   "execution_count": 15,
   "id": "b2052c41",
   "metadata": {},
   "outputs": [
    {
     "data": {
      "text/plain": [
       "62"
      ]
     },
     "execution_count": 15,
     "metadata": {},
     "output_type": "execute_result"
    }
   ],
   "source": [
    "#using same code as above\n",
    "'''\n",
    "test_dict = {'Apple' : [5, 6, 7, 8],\n",
    "             'banana' : [10, 11, 7, 5],\n",
    "             'grapes' : [6, 12, 10, 8],\n",
    "             'orange' : [1, 2, 5]}\n",
    "l = ()\n",
    "for i in test_dict.values(): # each value is a list\n",
    "    for j in i:\n",
    "        l += (j,)\n",
    "'''\n",
    "sum(set(l)) # sum of all items from all values of the dictionary"
   ]
  },
  {
   "cell_type": "markdown",
   "id": "3537ae33",
   "metadata": {},
   "source": [
    "****"
   ]
  },
  {
   "cell_type": "markdown",
   "id": "a8ab65c9",
   "metadata": {},
   "source": [
    "3.Write a Python program to Merging two Dictionaries"
   ]
  },
  {
   "cell_type": "code",
   "execution_count": 28,
   "id": "fef7231d",
   "metadata": {},
   "outputs": [
    {
     "data": {
      "text/plain": [
       "{'Apple': [5, 6, 7, 8],\n",
       " 'banana': [10, 11, 7, 5],\n",
       " 'grapes': [6, 12, 10, 8],\n",
       " 'orange': [1, 2, 5],\n",
       " 'papaya': [8, 7, 6, 5],\n",
       " 'pomogranate': [5, 7, 11, 10],\n",
       " 'mango': [8, 10, 12, 6],\n",
       " 'dragonfruit': [5, 1, 2, 5]}"
      ]
     },
     "execution_count": 28,
     "metadata": {},
     "output_type": "execute_result"
    }
   ],
   "source": [
    "dic1 = {'Apple' : [5, 6, 7, 8],\n",
    "             'banana' : [10, 11, 7, 5],\n",
    "             'grapes' : [6, 12, 10, 8],\n",
    "             'orange' : [1, 2, 5]}\n",
    "dic2 = {'papaya' : [8, 7, 6, 5],\n",
    "             'pomogranate' : [5, 7, 11, 10],\n",
    "             'mango' : [8, 10, 12, 6],\n",
    "             'dragonfruit' : [5, 1, 2, 5]}\n",
    "\n",
    "dic1.update(dic2)\n",
    "        \n",
    "dic1"
   ]
  },
  {
   "cell_type": "markdown",
   "id": "9228eb5f",
   "metadata": {},
   "source": [
    "****"
   ]
  },
  {
   "cell_type": "markdown",
   "id": "7d7816cf",
   "metadata": {},
   "source": [
    "4.Write a Python program to convert key-values list to flat dictionary"
   ]
  },
  {
   "cell_type": "code",
   "execution_count": 61,
   "id": "17bda868",
   "metadata": {},
   "outputs": [
    {
     "name": "stdout",
     "output_type": "stream",
     "text": [
      "{'Apple': 10, 'banana': 11, 'grapes': 7, 'orange': 5, 'papaya': 8, 'pomogranate': 10, 'mango': 12, 'dragonfruit': 6}\n"
     ]
    }
   ],
   "source": [
    "key = ['Apple','banana','grapes','orange','papaya','pomogranate','mango','dragonfruit']\n",
    "value = [10, 11, 7, 5, 8, 10, 12, 6]\n",
    "dic3 = dict(zip(key,value))\n",
    "print(dic3)"
   ]
  },
  {
   "cell_type": "markdown",
   "id": "8c240d5f",
   "metadata": {},
   "source": [
    "****"
   ]
  },
  {
   "cell_type": "markdown",
   "id": "e046ec9e",
   "metadata": {},
   "source": [
    "5.Write a Python program to insertion at the beginning in OrderedDict"
   ]
  },
  {
   "cell_type": "code",
   "execution_count": 65,
   "id": "6c1eaeb2",
   "metadata": {},
   "outputs": [
    {
     "name": "stdout",
     "output_type": "stream",
     "text": [
      "Resultant Dictionary : OrderedDict([('manjeet', '3'), ('akshat', '1'), ('nikhil', '2')])\n"
     ]
    }
   ],
   "source": [
    "# Python code to demonstrate\n",
    "# insertion of items in beginning of ordered dict\n",
    "from collections import OrderedDict\n",
    "\n",
    "# initialising ordered_dict\n",
    "iniordered_dict = OrderedDict([('akshat', '1'), ('nikhil', '2')])\n",
    "\n",
    "# inserting items in starting of dict\n",
    "iniordered_dict.update({'manjeet':'3'})\n",
    "iniordered_dict.move_to_end('manjeet', last = False)\n",
    "\n",
    "# print result\n",
    "print (\"Resultant Dictionary : \"+str(iniordered_dict))\n"
   ]
  },
  {
   "cell_type": "markdown",
   "id": "57e1457b",
   "metadata": {},
   "source": [
    "****"
   ]
  },
  {
   "cell_type": "markdown",
   "id": "d8b3fcec",
   "metadata": {},
   "source": [
    "6.Write a Python program to check order of character in string using OrderedDict()?"
   ]
  },
  {
   "cell_type": "code",
   "execution_count": 66,
   "id": "844b5f4f",
   "metadata": {},
   "outputs": [
    {
     "name": "stdout",
     "output_type": "stream",
     "text": [
      "False\n",
      "True\n"
     ]
    }
   ],
   "source": [
    "from collections import OrderedDict \n",
    "def checkOrder(string, pattern): \n",
    "    dic = OrderedDict.fromkeys(string) \n",
    "    ptr = 0\n",
    "    for key,value in dic.items(): \n",
    "        if (key == pattern[ptr]): \n",
    "            ptr = ptr + 1\n",
    "        if (ptr == (len(pattern))): \n",
    "            return 'True'\n",
    "    return 'False'\n",
    "\n",
    "string = 'Study tonight'\n",
    "pattern = 'stu'\n",
    "print (checkOrder(string,pattern))\n",
    "\n",
    "string2= 'Welcome'\n",
    "pattern2= 'cm'\n",
    "print (checkOrder(string2,pattern2)) "
   ]
  },
  {
   "cell_type": "markdown",
   "id": "49d8e8b8",
   "metadata": {},
   "source": [
    "****"
   ]
  },
  {
   "cell_type": "markdown",
   "id": "51733b45",
   "metadata": {},
   "source": [
    "7.Write a Python program to sort Python Dictionaries by Key or Value?"
   ]
  },
  {
   "cell_type": "code",
   "execution_count": 70,
   "id": "7bcd4981",
   "metadata": {},
   "outputs": [
    {
     "name": "stdout",
     "output_type": "stream",
     "text": [
      "Task 1:-\n",
      "\n",
      "Keys are\n",
      "1 2 3 4 5 6 "
     ]
    }
   ],
   "source": [
    "# Function calling\n",
    "def dictionairy():\n",
    "    # Declare hash function\t\n",
    "    key_value ={}\n",
    "\n",
    "    # Initializing value\n",
    "    key_value[2] = 56\t\n",
    "    key_value[1] = 2\n",
    "    key_value[5] = 12\n",
    "    key_value[4] = 24\n",
    "    key_value[6] = 18\t\n",
    "    key_value[3] = 323\n",
    "\n",
    "    print (\"Task 1:-\\n\")\n",
    "    print (\"Keys are\")\n",
    "\n",
    "    # iterkeys() returns an iterator over the\n",
    "    # dictionary’s keys.\n",
    "    for i in sorted (key_value.keys()) :\n",
    "        print(i, end = \" \")\n",
    "\n",
    "def main():\n",
    "\t# function calling\n",
    "\tdictionairy()\t\t\t\n",
    "\t\n",
    "# Main function calling\n",
    "if __name__==\"__main__\":\t\n",
    "\tmain()\n"
   ]
  }
 ],
 "metadata": {
  "kernelspec": {
   "display_name": "Python 3 (ipykernel)",
   "language": "python",
   "name": "python3"
  },
  "language_info": {
   "codemirror_mode": {
    "name": "ipython",
    "version": 3
   },
   "file_extension": ".py",
   "mimetype": "text/x-python",
   "name": "python",
   "nbconvert_exporter": "python",
   "pygments_lexer": "ipython3",
   "version": "3.8.12"
  }
 },
 "nbformat": 4,
 "nbformat_minor": 5
}
