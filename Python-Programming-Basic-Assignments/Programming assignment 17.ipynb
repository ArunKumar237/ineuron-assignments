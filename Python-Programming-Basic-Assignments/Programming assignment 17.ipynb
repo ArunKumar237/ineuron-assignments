{
 "cells": [
  {
   "cell_type": "markdown",
   "id": "275e15f3",
   "metadata": {},
   "source": [
    "Programming assignment 17\n",
    "*************************"
   ]
  },
  {
   "cell_type": "markdown",
   "id": "1725c27e",
   "metadata": {},
   "source": [
    "Question1.\n",
    "\n",
    "Create a function that takes three arguments a, b, c and returns the sum of the numbers that are evenly divided by c from the range a, b inclusive.\n",
    "```\n",
    "Examples\n",
    "evenly_divisible(1, 10, 20) ➞ 0\n",
    "# No number between 1 and 10 can be evenly divided by 20.\n",
    "\n",
    "evenly_divisible(1, 10, 2) ➞ 30\n",
    "# 2 + 4 + 6 + 8 + 10 = 30\n",
    "\n",
    "evenly_divisible(1, 10, 3) ➞ 18\n",
    "# 3 + 6 + 9 = 18\n",
    "```"
   ]
  },
  {
   "cell_type": "code",
   "execution_count": 64,
   "id": "4310aed3",
   "metadata": {},
   "outputs": [
    {
     "name": "stdout",
     "output_type": "stream",
     "text": [
      "\n",
      "range between 1 and 10 evenly divided by 20:\n",
      "\t\tNo number between 1 and 10 can be evenly divided by 20.\n",
      "\n",
      "range between 1 and 10 evenly divided by 2:\n",
      "\t\t2 + 4 + 6 + 8 + 10 = 30\n",
      "\n",
      "range between 1 and 10 evenly divided by 3:\n",
      "\t\t3 + 6 + 9 = 18\n",
      "\n",
      "range between 1 and 100 evenly divided by 5:\n",
      "\t\t5 + 10 + 15 + 20 + 25 + 30 + 35 + 40 + 45 + 50 + 55 + 60 + 65 + 70 + 75 + 80 + 85 + 90 + 95 + 100 = 1050\n"
     ]
    }
   ],
   "source": [
    "def func(d,e,f):\n",
    "    final = 0\n",
    "    s = []\n",
    "    print(f'\\nrange between {d} and {e} evenly divided by {f}:\\n\\t\\t',end='')\n",
    "    if f > e:\n",
    "        print(f'No number between {d} and {e} can be evenly divided by {f}.')\n",
    "    else:\n",
    "        for i in range(d,e+1):\n",
    "            if i%f == 0:\n",
    "                final += i\n",
    "                s.append(i)\n",
    "    \n",
    "        for j in range(len(s)):\n",
    "            if j == len(s)-1:\n",
    "                print(s[j],end='')\n",
    "            if j < len(s)-1:\n",
    "                print(s[j],'+ ',end='')\n",
    "        \n",
    "        print(' =',final)\n",
    "\n",
    "func(1,10,20)\n",
    "func(1,10,2)\n",
    "func(1,10,3)\n",
    "func(1,100,5)"
   ]
  },
  {
   "cell_type": "markdown",
   "id": "245a25d7",
   "metadata": {},
   "source": [
    "****"
   ]
  },
  {
   "cell_type": "markdown",
   "id": "955de589",
   "metadata": {},
   "source": [
    "Question2.\n",
    "\n",
    "Create a function that returns True if a given inequality expression is correct and False otherwise.\n",
    "```\n",
    "Examples\n",
    "correct_signs(\"3 < 7 < 11\") ➞ True\n",
    "\n",
    "correct_signs(\"13 > 44 > 33 > 1\") ➞ False\n",
    "\n",
    "correct_signs(\"1 < 2 < 6 < 9 > 3\") ➞ True\n",
    "```\n"
   ]
  },
  {
   "cell_type": "code",
   "execution_count": 26,
   "id": "797db99b",
   "metadata": {},
   "outputs": [
    {
     "name": "stdout",
     "output_type": "stream",
     "text": [
      "[1, '<', 2, '<', 6, '<', 9, '>', 3]\n"
     ]
    },
    {
     "data": {
      "text/plain": [
       "True"
      ]
     },
     "execution_count": 26,
     "metadata": {},
     "output_type": "execute_result"
    }
   ],
   "source": [
    "def correct_signs(txt):\n",
    "    lst = [int(i) if i.isdigit() else i for i in txt.split()]\n",
    "    print(lst)\n",
    "    for i in range(0,len(lst)-2,2):\n",
    "        if lst[i+1] == '>':\n",
    "            if lst[i] <= lst[i+2]:\n",
    "                return False\n",
    "        elif lst[i+1] == '<':\n",
    "            if lst[i] >= lst[i+2]:\n",
    "                return False\n",
    "    return True\n",
    "\n",
    "correct_signs(\"1 < 2 < 6 < 9 > 3\")"
   ]
  },
  {
   "cell_type": "markdown",
   "id": "bc5db847",
   "metadata": {},
   "source": [
    "****"
   ]
  },
  {
   "cell_type": "markdown",
   "id": "11e5becf",
   "metadata": {},
   "source": [
    "Question3.\n",
    "\n",
    "Create a function that replaces all the vowels in a string with a specified character.\n",
    "```\n",
    "Examples\n",
    "replace_vowels(\"the aardvark\", \"#\") ➞ \"th# ##rdv#rk\"\n",
    "\n",
    "replace_vowels(\"minnie mouse\", \"?\") ➞ \"m?nn?? m??s?\"\n",
    "\n",
    "replace_vowels(\"shakespeare\", \"*\") ➞ \"sh*k*sp**r*\"\n",
    "```"
   ]
  },
  {
   "cell_type": "code",
   "execution_count": 48,
   "id": "7da53669",
   "metadata": {},
   "outputs": [
    {
     "name": "stdout",
     "output_type": "stream",
     "text": [
      "th# ##rdv#rk\n",
      "m?nn?? m??s?\n",
      "sh*k*sp**r*\n"
     ]
    }
   ],
   "source": [
    "import re\n",
    "def replace_vowels(t,k):\n",
    "    a = re.sub('a|e|i|o|u|A|E|I|O|U',k,t)\n",
    "    print(a)\n",
    "    \n",
    "replace_vowels(\"the aardvark\", \"#\")\n",
    "replace_vowels(\"minnie mouse\", \"?\")\n",
    "replace_vowels(\"shakespeare\", \"*\")"
   ]
  },
  {
   "cell_type": "markdown",
   "id": "9f2d5df2",
   "metadata": {},
   "source": [
    "****"
   ]
  },
  {
   "cell_type": "markdown",
   "id": "f406f343",
   "metadata": {},
   "source": [
    "Question4.\n",
    "\n",
    "Write a function that calculates the factorial of a number recursively.\n",
    "```\n",
    "Examples\n",
    "factorial(5) ➞ 120\n",
    "\n",
    "factorial(3) ➞ 6\n",
    "\n",
    "factorial(1) ➞ 1\n",
    "\n",
    "factorial(0) ➞ 1\n",
    "```"
   ]
  },
  {
   "cell_type": "code",
   "execution_count": 54,
   "id": "5506976a",
   "metadata": {},
   "outputs": [
    {
     "data": {
      "text/plain": [
       "120"
      ]
     },
     "execution_count": 54,
     "metadata": {},
     "output_type": "execute_result"
    }
   ],
   "source": [
    "def fact(num):\n",
    "    if num == 1:\n",
    "        return 1\n",
    "    return (num * fact(num-1))\n",
    "    \n",
    "fact(5)"
   ]
  },
  {
   "cell_type": "markdown",
   "id": "0585e3c7",
   "metadata": {},
   "source": [
    "****"
   ]
  },
  {
   "cell_type": "markdown",
   "id": "71ce0596",
   "metadata": {},
   "source": [
    "Question 5\n",
    "\n",
    "Hamming distance is the number of characters that differ between two strings.\n",
    "To illustrate:\n",
    "```python\n",
    "String1: \"abcbba\"\n",
    "String2: \"abcbda\"\n",
    "```\n",
    "Hamming Distance: 1 - \"b\" vs. \"d\" is the only difference.\n",
    "Create a function that computes the hamming distance between two strings.\n",
    "```\n",
    "Examples\n",
    "hamming_distance(\"abcde\", \"bcdef\") ➞ 5\n",
    "\n",
    "hamming_distance(\"abcde\", \"abcde\") ➞ 0\n",
    "\n",
    "hamming_distance(\"strong\", \"strung\") ➞ 1\n",
    "```"
   ]
  },
  {
   "cell_type": "code",
   "execution_count": 4,
   "id": "559cbb3f",
   "metadata": {},
   "outputs": [
    {
     "data": {
      "text/plain": [
       "1"
      ]
     },
     "execution_count": 4,
     "metadata": {},
     "output_type": "execute_result"
    }
   ],
   "source": [
    "def hamming_distance(string_1:str, string_2:str) -> int: \n",
    "    distance = 0\n",
    "    for i in range(len(string_1)):\n",
    "        if string_1[i] != string_2[i]:\n",
    "            distance += 1\n",
    "    return distance\n",
    "\n",
    "hamming_distance(\"abcde\", \"bcdef\")"
   ]
  },
  {
   "cell_type": "code",
   "execution_count": 5,
   "id": "f99dae93",
   "metadata": {},
   "outputs": [
    {
     "data": {
      "text/plain": [
       "0"
      ]
     },
     "execution_count": 5,
     "metadata": {},
     "output_type": "execute_result"
    }
   ],
   "source": [
    "hamming_distance(\"abcde\", \"abcde\")"
   ]
  },
  {
   "cell_type": "code",
   "execution_count": 6,
   "id": "7990fd51",
   "metadata": {},
   "outputs": [
    {
     "data": {
      "text/plain": [
       "1"
      ]
     },
     "execution_count": 6,
     "metadata": {},
     "output_type": "execute_result"
    }
   ],
   "source": [
    "hamming_distance(\"strong\", \"strung\")"
   ]
  },
  {
   "cell_type": "code",
   "execution_count": 7,
   "id": "d921fcc0",
   "metadata": {},
   "outputs": [
    {
     "data": {
      "text/plain": [
       "4"
      ]
     },
     "execution_count": 7,
     "metadata": {},
     "output_type": "execute_result"
    }
   ],
   "source": [
    "hamming_distance(\"ABBA\", \"abba\")"
   ]
  },
  {
   "cell_type": "markdown",
   "id": "60c950e6",
   "metadata": {},
   "source": [
    "****"
   ]
  },
  {
   "cell_type": "markdown",
   "id": "3fba0711",
   "metadata": {},
   "source": []
  },
  {
   "cell_type": "code",
   "execution_count": null,
   "id": "62dfc527",
   "metadata": {},
   "outputs": [],
   "source": []
  },
  {
   "cell_type": "code",
   "execution_count": null,
   "id": "80d43dbd",
   "metadata": {},
   "outputs": [],
   "source": []
  }
 ],
 "metadata": {
  "kernelspec": {
   "display_name": "Python 3 (ipykernel)",
   "language": "python",
   "name": "python3"
  },
  "language_info": {
   "codemirror_mode": {
    "name": "ipython",
    "version": 3
   },
   "file_extension": ".py",
   "mimetype": "text/x-python",
   "name": "python",
   "nbconvert_exporter": "python",
   "pygments_lexer": "ipython3",
   "version": "3.8.12"
  }
 },
 "nbformat": 4,
 "nbformat_minor": 5
}
