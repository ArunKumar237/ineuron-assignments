{
 "cells": [
  {
   "cell_type": "markdown",
   "id": "275e15f3",
   "metadata": {},
   "source": [
    "Programming assignment 14\n",
    "*************************"
   ]
  },
  {
   "cell_type": "markdown",
   "id": "1725c27e",
   "metadata": {},
   "source": [
    "Question 1:\n",
    "\n",
    "Define a class with a generator which can iterate the numbers, which are divisible by 7, between a given range 0 and n."
   ]
  },
  {
   "cell_type": "code",
   "execution_count": 10,
   "id": "4310aed3",
   "metadata": {},
   "outputs": [
    {
     "name": "stdout",
     "output_type": "stream",
     "text": [
      "Range starts from: 1\n",
      "Range ends at: 100\n",
      "\n",
      "Numbers which are divisible by 7:\n",
      "\t\t\t\t 7 14 21 28 35 42 49 56 63 70 77 84 91 98 "
     ]
    }
   ],
   "source": [
    "def Divby7(m,n):\n",
    "    for i in range(m,n+1):\n",
    "        if i % 7 == 0:\n",
    "            yield i\n",
    "\n",
    "start = int(input('Range starts from: '))\n",
    "end = int(input('Range ends at: '))\n",
    "print('\\nNumbers which are divisible by 7:')\n",
    "print('\\t\\t\\t\\t',end=\" \")\n",
    "for i in Divby7(start,end):\n",
    "    print(i,end=\" \")"
   ]
  },
  {
   "cell_type": "markdown",
   "id": "245a25d7",
   "metadata": {},
   "source": [
    "****"
   ]
  },
  {
   "cell_type": "markdown",
   "id": "955de589",
   "metadata": {},
   "source": [
    "Question 2:\n",
    "\n",
    "Write a program to compute the frequency of the words from the input. The output should output after sorting the key alphanumerically. \n",
    "\n",
    "Suppose the following input is supplied to the program:\n",
    "\n",
    "New to Python or choosing between Python 2 and Python 3? Read Python 2 or Python 3.\n",
    "\n",
    "Then, the output should be:\n",
    "\n",
    "2:2\n",
    "\n",
    "3.:1\n",
    "\n",
    "3?:1\n",
    "\n",
    "New:1\n",
    "\n",
    "Python:5\n",
    "\n",
    "Read:1\n",
    "\n",
    "and:1\n",
    "\n",
    "between:1\n",
    "\n",
    "choosing:1\n",
    "\n",
    "or:2\n",
    "\n",
    "to:1"
   ]
  },
  {
   "cell_type": "code",
   "execution_count": 65,
   "id": "797db99b",
   "metadata": {},
   "outputs": [
    {
     "name": "stdout",
     "output_type": "stream",
     "text": [
      "2 : 2\n",
      "3. : 1\n",
      "3? : 1\n",
      "New : 1\n",
      "Python : 5\n",
      "Read : 1\n",
      "and : 1\n",
      "between : 1\n",
      "choosing : 1\n",
      "or : 2\n",
      "to : 1\n"
     ]
    }
   ],
   "source": [
    "inp = 'New to Python or choosing between Python 2 and Python 3? Read Python 2 or Python 3.'\n",
    "l = sorted(list(inp.split()))\n",
    "m = sorted(set(l))\n",
    "d = {}\n",
    "for i in m:\n",
    "    count = 0\n",
    "    for j in l:\n",
    "        if i == j:\n",
    "            count += 1\n",
    "        d[i] = count\n",
    "\n",
    "for keys,values in d.items():\n",
    "    print(keys,':',values)"
   ]
  },
  {
   "cell_type": "markdown",
   "id": "bc5db847",
   "metadata": {},
   "source": [
    "****"
   ]
  },
  {
   "cell_type": "markdown",
   "id": "11e5becf",
   "metadata": {},
   "source": [
    "Question 3:\n",
    "\n",
    "Define a class Person and its two child classes: Male and Female. All classes have a method \"getGender\" which can print \"Male\" for Male class and \"Female\" for Female class."
   ]
  },
  {
   "cell_type": "code",
   "execution_count": 5,
   "id": "7da53669",
   "metadata": {},
   "outputs": [
    {
     "name": "stdout",
     "output_type": "stream",
     "text": [
      "Male\n",
      "Female\n"
     ]
    }
   ],
   "source": [
    "class Person(object):\n",
    "    def getGender( self ):\n",
    "        return \"Unknown\"\n",
    "\n",
    "class Male( Person ):\n",
    "    def getGender( self ):\n",
    "        return \"Male\"\n",
    "\n",
    "class Female( Person ):\n",
    "    def getGender( self ):\n",
    "        return \"Female\"\n",
    "\n",
    "Male = Male()\n",
    "Female= Female()\n",
    "print(Male.getGender())\n",
    "print(Female.getGender())"
   ]
  },
  {
   "cell_type": "markdown",
   "id": "9f2d5df2",
   "metadata": {},
   "source": [
    "****"
   ]
  },
  {
   "cell_type": "markdown",
   "id": "f406f343",
   "metadata": {},
   "source": [
    "Question 4:\n",
    "\n",
    "Please write a program to generate all sentences where subject is in [\"I\", \"You\"] and verb is in [\"Play\", \"Love\"] and the object is in [\"Hockey\",\"Football\"]."
   ]
  },
  {
   "cell_type": "code",
   "execution_count": 6,
   "id": "5506976a",
   "metadata": {},
   "outputs": [
    {
     "name": "stdout",
     "output_type": "stream",
     "text": [
      "I Play Hockey\n",
      "I Play Football\n",
      "I Love Hockey\n",
      "I Love Football\n",
      "You Play Hockey\n",
      "You Play Football\n",
      "You Love Hockey\n",
      "You Love Football\n"
     ]
    }
   ],
   "source": [
    "s1 = [\"I\", \"You\"]\n",
    "s2 = [\"Play\", \"Love\"]\n",
    "s3 = [\"Hockey\",\"Football\"]\n",
    "\n",
    "for i in s1:\n",
    "    for j in s2:\n",
    "        for k in s3:\n",
    "            print(i,j,k)"
   ]
  },
  {
   "cell_type": "markdown",
   "id": "0585e3c7",
   "metadata": {},
   "source": [
    "****"
   ]
  },
  {
   "cell_type": "markdown",
   "id": "71ce0596",
   "metadata": {},
   "source": [
    "Question 5:\n",
    "Please write a program to compress and decompress the string \"hello world!hello world!hello world!hello world!\"."
   ]
  },
  {
   "cell_type": "code",
   "execution_count": 47,
   "id": "559cbb3f",
   "metadata": {},
   "outputs": [
    {
     "name": "stdout",
     "output_type": "stream",
     "text": [
      "before compress and decompress:  hello world! hello world! hello world! hello world!  \n",
      " ---------------------------------------------------------\n",
      "compressed:  hello world!\n",
      "\n",
      "decompressed: hello world!hello world!hello world!hello world!"
     ]
    }
   ],
   "source": [
    "#compress\n",
    "\n",
    "s4 = \"hello world!hello world!hello world!hello world!\".replace('!','! ')\n",
    "print('before compress and decompress: ',s4,'\\n','---------------------------------------------------------')\n",
    "s4 = s4.split()\n",
    "s4 = set(s4)\n",
    "s5 = ' '.join(s4)\n",
    "print('compressed: ',s5)\n",
    "\n",
    "#decompress\n",
    "print('\\ndecompressed: ',end='')\n",
    "for i in range(4):\n",
    "    print(s5,end='')"
   ]
  },
  {
   "cell_type": "markdown",
   "id": "60c950e6",
   "metadata": {},
   "source": [
    "****"
   ]
  },
  {
   "cell_type": "markdown",
   "id": "3fba0711",
   "metadata": {},
   "source": [
    "Question 6:\n",
    "Please write a binary search function which searches an item in a sorted list. The function should return the index of element to be searched in the list."
   ]
  },
  {
   "cell_type": "code",
   "execution_count": 98,
   "id": "62dfc527",
   "metadata": {},
   "outputs": [
    {
     "name": "stdout",
     "output_type": "stream",
     "text": [
      "Element is present at index  3\n"
     ]
    }
   ],
   "source": [
    "# Python3 Program for recursive binary search.\n",
    "\n",
    "# Returns index of x in arr if present, else -1\n",
    "\n",
    "\n",
    "def binarySearch(arr, l, r, x):\n",
    "\n",
    "\t# Check base case\n",
    "\tif r >= l:\n",
    "\n",
    "\t\tmid = l + (r - l) // 2\n",
    "\n",
    "\t\t# If element is present at the middle itself\n",
    "\t\tif arr[mid] == x:\n",
    "\t\t\treturn mid\n",
    "\n",
    "\t\t# If element is smaller than mid, then it\n",
    "\t\t# can only be present in left subarray\n",
    "\t\telif arr[mid] > x:\n",
    "\t\t\treturn binarySearch(arr, l, mid-1, x)\n",
    "\n",
    "\t\t# Else the element can only be present\n",
    "\t\t# in right subarray\n",
    "\t\telse:\n",
    "\t\t\treturn binarySearch(arr, mid + 1, r, x)\n",
    "\n",
    "\telse:\n",
    "\t\t# Element is not present in the array\n",
    "\t\treturn -1\n",
    "\n",
    "\n",
    "# Driver Code\n",
    "arr = [2, 3, 4, 10, 40]\n",
    "x = 10\n",
    "\n",
    "# Function call\n",
    "result = binarySearch(arr, 0, len(arr)-1, x)\n",
    "\n",
    "if result != -1:\n",
    "\tprint(\"Element is present at index % d\" % result)\n",
    "else:\n",
    "\tprint(\"Element is not present in array\")\n"
   ]
  }
 ],
 "metadata": {
  "kernelspec": {
   "display_name": "Python 3 (ipykernel)",
   "language": "python",
   "name": "python3"
  },
  "language_info": {
   "codemirror_mode": {
    "name": "ipython",
    "version": 3
   },
   "file_extension": ".py",
   "mimetype": "text/x-python",
   "name": "python",
   "nbconvert_exporter": "python",
   "pygments_lexer": "ipython3",
   "version": "3.8.12"
  }
 },
 "nbformat": 4,
 "nbformat_minor": 5
}
