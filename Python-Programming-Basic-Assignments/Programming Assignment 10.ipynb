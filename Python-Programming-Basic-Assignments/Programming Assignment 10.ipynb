{
 "cells": [
  {
   "cell_type": "markdown",
   "id": "0018df9d",
   "metadata": {},
   "source": [
    "Programming Assignment 10\n",
    "*************************************"
   ]
  },
  {
   "cell_type": "markdown",
   "id": "9419dd9a",
   "metadata": {},
   "source": [
    "1.Write a Python program to find sum of elements in list?"
   ]
  },
  {
   "cell_type": "code",
   "execution_count": 25,
   "id": "d9b2e60b",
   "metadata": {},
   "outputs": [
    {
     "name": "stdout",
     "output_type": "stream",
     "text": [
      "Enter an Array: 4,3,1,2\n",
      " addition of list:  [4, 3, 1, 2]  is  10\n"
     ]
    }
   ],
   "source": [
    "NewList = list(map(int,input('Enter an Array: ').replace(\" \",\"\").replace(',','')))\n",
    "\n",
    "print(' addition of list: ',NewList,' is ',sum(NewList))"
   ]
  },
  {
   "cell_type": "markdown",
   "id": "987b33ea",
   "metadata": {},
   "source": [
    "****"
   ]
  },
  {
   "cell_type": "markdown",
   "id": "84eab51a",
   "metadata": {},
   "source": [
    "2.Write a Python program to  Multiply all numbers in the list?"
   ]
  },
  {
   "cell_type": "code",
   "execution_count": 26,
   "id": "954ca3e1",
   "metadata": {},
   "outputs": [
    {
     "name": "stdout",
     "output_type": "stream",
     "text": [
      " multiplication of list:  [4, 3, 1, 2]  is  24\n"
     ]
    }
   ],
   "source": [
    "import math\n",
    "\n",
    "print(' multiplication of list: ',NewList,' is ',math.prod(NewList))"
   ]
  },
  {
   "cell_type": "markdown",
   "id": "03a6ca77",
   "metadata": {},
   "source": [
    "****"
   ]
  },
  {
   "cell_type": "markdown",
   "id": "f33557b2",
   "metadata": {},
   "source": [
    "3.Write a Python program to find smallest number in a list?"
   ]
  },
  {
   "cell_type": "code",
   "execution_count": 38,
   "id": "883de3dc",
   "metadata": {},
   "outputs": [
    {
     "name": "stdout",
     "output_type": "stream",
     "text": [
      " smallest number of list:  [5, 2, 3, 1]  is  1\n"
     ]
    }
   ],
   "source": [
    "l = [5,2,3,1]\n",
    "print(' smallest number of list: ',l,' is ',sorted(l)[0])"
   ]
  },
  {
   "cell_type": "markdown",
   "id": "d53b2874",
   "metadata": {},
   "source": [
    "****"
   ]
  },
  {
   "cell_type": "markdown",
   "id": "e2e47141",
   "metadata": {},
   "source": [
    "4.Write a Python program to find largest number in a list?"
   ]
  },
  {
   "cell_type": "code",
   "execution_count": 40,
   "id": "703e8cbe",
   "metadata": {},
   "outputs": [
    {
     "name": "stdout",
     "output_type": "stream",
     "text": [
      "largest number of list:  [5, 2, 3, 1]  is  5\n"
     ]
    }
   ],
   "source": [
    "l = [5,2,3,1]\n",
    "print('largest number of list: ',l,' is ',sorted(l)[-1])"
   ]
  },
  {
   "cell_type": "markdown",
   "id": "a6ab46c3",
   "metadata": {},
   "source": [
    "****"
   ]
  },
  {
   "cell_type": "markdown",
   "id": "96ec2062",
   "metadata": {},
   "source": [
    "5.Write a Python program to find second largest number in a list?"
   ]
  },
  {
   "cell_type": "code",
   "execution_count": 45,
   "id": "ce71f794",
   "metadata": {},
   "outputs": [
    {
     "name": "stdout",
     "output_type": "stream",
     "text": [
      "[9, 9, 8, 8, 7, 6, 5, 4, 3, 2, 1, 0]\n",
      "8\n"
     ]
    }
   ],
   "source": [
    "seclist = [1,0,2,9,3,8,4,7,5,6,9,8]\n",
    "seclist.sort(reverse=True)\n",
    "print(seclist)\n",
    "for i in range (0,len(seclist)-1):\n",
    "    if seclist[i] > seclist[i+1]:\n",
    "        b = seclist[i+1]\n",
    "        break\n",
    "print(b)\n",
    "        \n",
    "        "
   ]
  },
  {
   "cell_type": "markdown",
   "id": "82a65946",
   "metadata": {},
   "source": [
    "****"
   ]
  },
  {
   "cell_type": "markdown",
   "id": "374400d4",
   "metadata": {},
   "source": [
    "6.Write a Python program to find N largest elements from a list?"
   ]
  },
  {
   "cell_type": "code",
   "execution_count": 52,
   "id": "cb97fefe",
   "metadata": {},
   "outputs": [
    {
     "name": "stdout",
     "output_type": "stream",
     "text": [
      "5\n",
      "5 largest elements from a list is: [9, 9, 8, 8, 7]\n"
     ]
    }
   ],
   "source": [
    "Nlist = [1,0,2,9,3,8,4,7,5,6,9,8]\n",
    "usr = int(input())\n",
    "Nlist.sort(reverse=True)\n",
    "print(usr,'largest elements from a list is:',Nlist[:usr])"
   ]
  },
  {
   "cell_type": "markdown",
   "id": "da249793",
   "metadata": {},
   "source": [
    "****"
   ]
  },
  {
   "cell_type": "markdown",
   "id": "a9d0d801",
   "metadata": {},
   "source": [
    "7.Write a Python program to print even numbers in a list?"
   ]
  },
  {
   "cell_type": "code",
   "execution_count": 59,
   "id": "737e9a07",
   "metadata": {},
   "outputs": [
    {
     "name": "stdout",
     "output_type": "stream",
     "text": [
      "[0, 2, 8, 4, 6, 8] "
     ]
    }
   ],
   "source": [
    "eve = [1,0,2,9,3,8,4,7,5,6,9,8]\n",
    "print([i for i in eve if i%2 == 0],end=\" \")"
   ]
  },
  {
   "cell_type": "markdown",
   "id": "82a65946",
   "metadata": {},
   "source": [
    "****"
   ]
  },
  {
   "cell_type": "markdown",
   "id": "c47e3781",
   "metadata": {},
   "source": [
    "8.Write a Python program to print odd numbers in a List?"
   ]
  },
  {
   "cell_type": "code",
   "execution_count": 60,
   "id": "7e49440b",
   "metadata": {},
   "outputs": [
    {
     "name": "stdout",
     "output_type": "stream",
     "text": [
      "[1, 9, 3, 7, 5, 9] "
     ]
    }
   ],
   "source": [
    "eve = [1,0,2,9,3,8,4,7,5,6,9,8]\n",
    "print([i for i in eve if i%2 == 1],end=\" \")"
   ]
  },
  {
   "cell_type": "markdown",
   "id": "82a65946",
   "metadata": {},
   "source": [
    "****"
   ]
  },
  {
   "cell_type": "markdown",
   "id": "55245e23",
   "metadata": {},
   "source": [
    "9.Write a Python program to Remove empty List from List?"
   ]
  },
  {
   "cell_type": "code",
   "execution_count": 64,
   "id": "0c59f127",
   "metadata": {},
   "outputs": [
    {
     "data": {
      "text/plain": [
       "[[1], [0, 2], [9, 3, 8], [4, 7, 5, 6], [9, 8]]"
      ]
     },
     "execution_count": 64,
     "metadata": {},
     "output_type": "execute_result"
    }
   ],
   "source": [
    "emL = [[1],[0,2],[9,3,8],[4,7,5,6],[9,8],[]]\n",
    "for i in emL:\n",
    "    if len(i) == 0:\n",
    "        emL.remove(i)\n",
    "emL"
   ]
  },
  {
   "cell_type": "markdown",
   "id": "82a65946",
   "metadata": {},
   "source": [
    "****"
   ]
  },
  {
   "cell_type": "markdown",
   "id": "3c71b40d",
   "metadata": {},
   "source": [
    "10.Write a Python program to Cloning or Copying a list?"
   ]
  },
  {
   "cell_type": "code",
   "execution_count": 70,
   "id": "aa477e07",
   "metadata": {},
   "outputs": [
    {
     "name": "stdout",
     "output_type": "stream",
     "text": [
      "before cloning:  \n",
      "List a: [1, 0, 2, 9, 3, 8, 4, 7, 5, 6, 9, 8] \n",
      "List b: []\n",
      "after cloning:  \n",
      "List a: [1, 0, 2, 9, 3, 8, 4, 7, 5, 6, 9, 8] \n",
      "List b: [1, 0, 2, 9, 3, 8, 4, 7, 5, 6, 9, 8]\n"
     ]
    }
   ],
   "source": [
    "a = [1,0,2,9,3,8,4,7,5,6,9,8]\n",
    "b = []\n",
    "print('before cloning: ','\\nList a:',a,'\\nList b:',b)\n",
    "for i in a:\n",
    "    b.append(i)\n",
    "print('after cloning: ','\\nList a:',a,'\\nList b:',b)"
   ]
  },
  {
   "cell_type": "markdown",
   "id": "82a65946",
   "metadata": {},
   "source": [
    "****"
   ]
  },
  {
   "cell_type": "markdown",
   "id": "ad9ec31b",
   "metadata": {},
   "source": [
    "11.Write a Python program to Count occurrences of an element in a list?"
   ]
  },
  {
   "cell_type": "code",
   "execution_count": 85,
   "id": "847b1673",
   "metadata": {},
   "outputs": [
    {
     "name": "stdout",
     "output_type": "stream",
     "text": [
      "After counting the element occurences of the list:  [0, 1, 1, 2, 2, 2, 3, 3, 4, 4, 5, 6, 6, 7, 7, 8, 8, 9, 9]\n",
      "0 : 1\n",
      "1 : 2\n",
      "2 : 3\n",
      "3 : 2\n",
      "4 : 2\n",
      "5 : 1\n",
      "6 : 2\n",
      "7 : 2\n",
      "8 : 2\n",
      "9 : 2\n"
     ]
    }
   ],
   "source": [
    "import pprint\n",
    "a = [1,0,2,2,2,1,9,7,4,3,8,4,7,5,6,9,6,8,3]\n",
    "a.sort()\n",
    "d = {}\n",
    "li = []\n",
    "count = 0\n",
    "for i in a:\n",
    "    for j in a:\n",
    "        if i==j: count += 1\n",
    "    d.update({i: count})\n",
    "    count = 0\n",
    "\n",
    "print('After counting the element occurences of the list: ',a)\n",
    "for j,k in d.items():\n",
    "    print(j,':',k)\n",
    "    "
   ]
  }
 ],
 "metadata": {
  "kernelspec": {
   "display_name": "Python 3",
   "language": "python",
   "name": "python3"
  },
  "language_info": {
   "codemirror_mode": {
    "name": "ipython",
    "version": 3
   },
   "file_extension": ".py",
   "mimetype": "text/x-python",
   "name": "python",
   "nbconvert_exporter": "python",
   "pygments_lexer": "ipython3",
   "version": "3.8.8"
  }
 },
 "nbformat": 4,
 "nbformat_minor": 5
}
