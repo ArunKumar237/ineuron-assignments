{
 "cells": [
  {
   "cell_type": "markdown",
   "id": "275e15f3",
   "metadata": {},
   "source": [
    "Programming assignment 19\n",
    "*************************"
   ]
  },
  {
   "cell_type": "markdown",
   "id": "1725c27e",
   "metadata": {},
   "source": [
    "Question1\n",
    "\n",
    "Create a function that takes a string and returns a string in which each character is repeated once.\n",
    "```python\n",
    "Examples\n",
    "double_char(\"String\") ➞ \"SSttrriinngg\"\n",
    "\n",
    "double_char(\"Hello World!\") ➞ \"HHeelllloo  WWoorrlldd!!\"\n",
    "\n",
    "double_char(\"1234!_ \") ➞ \"11223344!!__  \"\n",
    "```"
   ]
  },
  {
   "cell_type": "code",
   "execution_count": 192,
   "id": "4310aed3",
   "metadata": {},
   "outputs": [
    {
     "name": "stdout",
     "output_type": "stream",
     "text": [
      "using normal for loop:  SSttrriinngg\n",
      "using list comprehension: SSttrriinngg\n",
      "\n",
      "\n",
      "using normal for loop:  HHeelllloo  WWoorrlldd!!\n",
      "using list comprehension: HHeelllloo  WWoorrlldd!!\n",
      "\n",
      "\n",
      "using normal for loop:  11223344!!__  \n",
      "using list comprehension: 11223344!!__  \n",
      "\n",
      "\n"
     ]
    }
   ],
   "source": [
    "def double_char(str):\n",
    "    s = ''\n",
    "    for i in str:\n",
    "        s = s + i*2\n",
    "    print('using normal for loop: ',s)\n",
    "    \n",
    "    f = [i*2 for i in str]\n",
    "    print('using list comprehension: ',end='')\n",
    "    print(''.join(f))\n",
    "    print('\\n')\n",
    "\n",
    "    \n",
    "double_char(\"String\")\n",
    "double_char(\"Hello World!\")\n",
    "double_char(\"1234!_ \")"
   ]
  },
  {
   "cell_type": "markdown",
   "id": "245a25d7",
   "metadata": {},
   "source": [
    "****"
   ]
  },
  {
   "cell_type": "markdown",
   "id": "955de589",
   "metadata": {},
   "source": [
    "Question2\n",
    "\n",
    "Create a function that reverses a boolean value and returns the string \"boolean expected\" if another variable type is given.\n",
    "```python\n",
    "Examples\n",
    "reverse(True) ➞ False\n",
    "\n",
    "reverse(False) ➞ True\n",
    "\n",
    "reverse(0) ➞ \"boolean expected\"\n",
    "\n",
    "reverse(None) ➞ \"boolean expected\"\n",
    "```"
   ]
  },
  {
   "cell_type": "code",
   "execution_count": 200,
   "id": "797db99b",
   "metadata": {},
   "outputs": [
    {
     "name": "stdout",
     "output_type": "stream",
     "text": [
      "value entered: True\n",
      "False\n",
      "\n",
      "\n",
      "value entered: False\n",
      "boolean expected\n",
      "\n",
      "\n",
      "value entered: 0\n",
      "boolean expected\n",
      "\n",
      "\n",
      "value entered: None\n",
      "boolean expected\n",
      "\n",
      "\n"
     ]
    }
   ],
   "source": [
    "def reverse(n):\n",
    "    print('value entered:',n)\n",
    "    if n == None: print(\"boolean expected\")\n",
    "    elif n == 0: print(\"boolean expected\")\n",
    "    elif bool(n) == True: print(False)\n",
    "    elif bool(n) == False: print(True)\n",
    "    print('\\n')\n",
    "\n",
    "reverse(True)\n",
    "reverse(False)\n",
    "reverse(0)\n",
    "reverse(None)"
   ]
  },
  {
   "cell_type": "markdown",
   "id": "bc5db847",
   "metadata": {},
   "source": [
    "****"
   ]
  },
  {
   "cell_type": "markdown",
   "id": "11e5becf",
   "metadata": {},
   "source": [
    "Question3\n",
    "\n",
    "Create a function that returns the thickness (in meters) of a piece of paper after folding it n number of times. The paper starts off with a thickness of 0.5mm.\n",
    "```python\n",
    "Examples\n",
    "num_layers(1) ➞ \"0.001m\"\n",
    "# Paper folded once is 1mm (equal to 0.001m)\n",
    "\n",
    "num_layers(4) ➞ \"0.008m\"\n",
    "# Paper folded 4 times is 8mm (equal to 0.008m)\n",
    "\n",
    "num_layers(21) ➞ \"1048.576m\"\n",
    "# Paper folded 21 times is 1048576mm (equal to 1048.576m)\n",
    "```"
   ]
  },
  {
   "cell_type": "code",
   "execution_count": 230,
   "id": "7da53669",
   "metadata": {},
   "outputs": [
    {
     "name": "stdout",
     "output_type": "stream",
     "text": [
      "Paper folded 1 times is (equal to 0.001m)\n",
      "Paper folded 4 times is (equal to 0.008m)\n",
      "Paper folded 21 times is (equal to 1048.576m)\n"
     ]
    }
   ],
   "source": [
    "def num_layers(n):\n",
    "    \n",
    "# ((for every fold thickness is doubled so '2' * power of 'n no. folds')* thickness of paper)/1000\n",
    "    \n",
    "    print(f'Paper folded {n} times is (equal to {(2**n)*0.5/1000}m)')\n",
    "\n",
    "\n",
    "    \n",
    "num_layers(1)\n",
    "num_layers(4)\n",
    "num_layers(21)"
   ]
  },
  {
   "cell_type": "markdown",
   "id": "9f2d5df2",
   "metadata": {},
   "source": [
    "****"
   ]
  },
  {
   "cell_type": "markdown",
   "id": "f406f343",
   "metadata": {},
   "source": [
    "Question4\n",
    "\n",
    "Create a function that takes a single string as argument and returns an ordered list containing the indices of all capital letters in the string.\n",
    "```python\n",
    "Examples\n",
    "index_of_caps(\"eDaBiT\") ➞ [1, 3, 5]\n",
    "\n",
    "index_of_caps(\"eQuINoX\") ➞ [1, 3, 4, 6]\n",
    "\n",
    "index_of_caps(\"determine\") ➞ []\n",
    "\n",
    "index_of_caps(\"STRIKE\") ➞ [0, 1, 2, 3, 4, 5]\n",
    "\n",
    "index_of_caps(\"sUn\") ➞ [1]\n",
    "```"
   ]
  },
  {
   "cell_type": "code",
   "execution_count": 241,
   "id": "5506976a",
   "metadata": {},
   "outputs": [
    {
     "name": "stdout",
     "output_type": "stream",
     "text": [
      "[1, 3, 5]\n",
      "[1, 3, 4, 6]\n",
      "[]\n",
      "[0, 1, 2, 3, 4, 5]\n",
      "[1]\n"
     ]
    }
   ],
   "source": [
    "def index_of_caps(s):\n",
    "    b =[]\n",
    "    for i in s:\n",
    "        if i.isupper(): b.append(s.index(i))\n",
    "    print(b)\n",
    "\n",
    "    \n",
    "index_of_caps(\"eDaBiT\")\n",
    "index_of_caps(\"eQuINoX\")\n",
    "index_of_caps(\"determine\")\n",
    "index_of_caps(\"STRIKE\")\n",
    "index_of_caps(\"sUn\")"
   ]
  },
  {
   "cell_type": "markdown",
   "id": "0585e3c7",
   "metadata": {},
   "source": [
    "****"
   ]
  },
  {
   "cell_type": "markdown",
   "id": "71ce0596",
   "metadata": {},
   "source": [
    "Question5\n",
    "\n",
    "Using list comprehensions, create a function that finds all even numbers from 1 to the given number.\n",
    "```python\n",
    "Examples\n",
    "find_even_nums(8) ➞ [2, 4, 6, 8]\n",
    "\n",
    "find_even_nums(4) ➞ [2, 4]\n",
    "\n",
    "find_even_nums(2) ➞ [2]\n",
    "```"
   ]
  },
  {
   "cell_type": "code",
   "execution_count": 249,
   "id": "559cbb3f",
   "metadata": {},
   "outputs": [
    {
     "name": "stdout",
     "output_type": "stream",
     "text": [
      "[2, 4, 6, 8]\n",
      "[2, 4]\n",
      "[2]\n"
     ]
    }
   ],
   "source": [
    "def find_even_nums(n):\n",
    "    w = [i for i in range(1,n+1) if i%2 == 0]\n",
    "    print(w)\n",
    "\n",
    "find_even_nums(8)\n",
    "find_even_nums(4)\n",
    "find_even_nums(2)"
   ]
  },
  {
   "cell_type": "markdown",
   "id": "60c950e6",
   "metadata": {},
   "source": [
    "****"
   ]
  },
  {
   "cell_type": "markdown",
   "id": "3fba0711",
   "metadata": {},
   "source": []
  },
  {
   "cell_type": "code",
   "execution_count": null,
   "id": "62dfc527",
   "metadata": {},
   "outputs": [],
   "source": []
  },
  {
   "cell_type": "code",
   "execution_count": null,
   "id": "80d43dbd",
   "metadata": {},
   "outputs": [],
   "source": []
  }
 ],
 "metadata": {
  "kernelspec": {
   "display_name": "Python 3 (ipykernel)",
   "language": "python",
   "name": "python3"
  },
  "language_info": {
   "codemirror_mode": {
    "name": "ipython",
    "version": 3
   },
   "file_extension": ".py",
   "mimetype": "text/x-python",
   "name": "python",
   "nbconvert_exporter": "python",
   "pygments_lexer": "ipython3",
   "version": "3.8.12"
  }
 },
 "nbformat": 4,
 "nbformat_minor": 5
}
