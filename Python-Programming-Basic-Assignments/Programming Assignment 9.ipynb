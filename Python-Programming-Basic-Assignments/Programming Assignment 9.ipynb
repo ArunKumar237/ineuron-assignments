{
 "cells": [
  {
   "cell_type": "markdown",
   "id": "0018df9d",
   "metadata": {},
   "source": [
    "Programming Assignment 9\n",
    "*************************************"
   ]
  },
  {
   "cell_type": "markdown",
   "id": "9419dd9a",
   "metadata": {},
   "source": [
    "1.Write a Python program to check if the given number is a Disarium Number?"
   ]
  },
  {
   "cell_type": "code",
   "execution_count": 12,
   "id": "d9b2e60b",
   "metadata": {},
   "outputs": [
    {
     "name": "stdout",
     "output_type": "stream",
     "text": [
      "Enter to check Disarium number: 175\n",
      "Number entered is: 175 \n",
      "the output is: 175 \n",
      "----------------------------\n",
      "so it is an Disarium number\n"
     ]
    }
   ],
   "source": [
    "n = list(map(int,input('Enter to check Disarium number: ')))\n",
    "a = ' '.join(map(str, n))\n",
    "temp = 0\n",
    "j=1\n",
    "\n",
    "\n",
    "for i in n:\n",
    "    temp = temp + i**j\n",
    "    j = j+1\n",
    "    \n",
    "        \n",
    "if str(temp) == a.replace(\" \", \"\"):\n",
    "    print(f'Number entered is: {a.replace(\" \", \"\")} \\nthe output is: {temp} \\n----------------------------\\nso it is an Disarium number')\n",
    "else:\n",
    "    print(f'Number entered is: {a.replace(\" \", \"\")} \\nthe output is: {temp} \\n----------------------------------\\nso it is *not* a Disarium number')"
   ]
  },
  {
   "cell_type": "markdown",
   "id": "987b33ea",
   "metadata": {},
   "source": [
    "****"
   ]
  },
  {
   "cell_type": "markdown",
   "id": "84eab51a",
   "metadata": {},
   "source": [
    "2.Write a Python program to print all disarium numbers between 1 to 100?"
   ]
  },
  {
   "cell_type": "code",
   "execution_count": 52,
   "id": "954ca3e1",
   "metadata": {},
   "outputs": [
    {
     "name": "stdout",
     "output_type": "stream",
     "text": [
      "Enter starting number: 100\n",
      "Enter Ending number: 999\n",
      "[135, 175, 518, 598]\n"
     ]
    }
   ],
   "source": [
    "final=[]\n",
    "start,end = int(input('Enter starting number: ')),int(input('Enter Ending number: '))\n",
    "for i in range(start,end+1):\n",
    "    tempList = list(range(i))\n",
    "    tempList = list(map(int,str(i)))\n",
    "    temp = 0\n",
    "    k=1\n",
    "    for j in tempList:\n",
    "        temp = temp + j**k\n",
    "        k = k+1\n",
    "    \n",
    "    if temp == i:\n",
    "        final.append(temp)\n",
    "print(final)"
   ]
  },
  {
   "cell_type": "markdown",
   "id": "03a6ca77",
   "metadata": {},
   "source": [
    "****"
   ]
  },
  {
   "cell_type": "markdown",
   "id": "f33557b2",
   "metadata": {},
   "source": [
    "3.Write a Python program to check if the given number is Happy Number?"
   ]
  },
  {
   "cell_type": "code",
   "execution_count": 68,
   "id": "b852179c",
   "metadata": {},
   "outputs": [
    {
     "name": "stdout",
     "output_type": "stream",
     "text": [
      "Enter to check Happy number: 49\n",
      "[4, 9]\n",
      "[9, 7]\n",
      "[1, 3, 0]\n",
      "[1, 0]\n",
      "[1]\n",
      "\n",
      "It is a Happy Number :)\n"
     ]
    }
   ],
   "source": [
    "n = list(map(int,input('Enter to check Happy number: '))) \n",
    "print(n)\n",
    "a = ' '.join(map(str, n))\n",
    "def addsqr(n):\n",
    "    temp = 0\n",
    "    if len(n) == 1:\n",
    "        if n[0]==1:\n",
    "            print('\\nIt is a Happy Number :)')\n",
    "        else:\n",
    "            print('\\nIt is *Not* a Happy Number :(')\n",
    "    else:\n",
    "        for i in n:\n",
    "            temp = temp + i**2\n",
    "        l = list(map(int,str(temp)))\n",
    "        print(l)\n",
    "        addsqr(l)\n",
    "addsqr(n)"
   ]
  },
  {
   "cell_type": "markdown",
   "id": "d53b2874",
   "metadata": {},
   "source": [
    "****"
   ]
  },
  {
   "cell_type": "markdown",
   "id": "e2e47141",
   "metadata": {},
   "source": [
    "4.Write a Python program to print all happy numbers between 1 and 100?"
   ]
  },
  {
   "cell_type": "code",
   "execution_count": 73,
   "id": "703e8cbe",
   "metadata": {},
   "outputs": [
    {
     "name": "stdout",
     "output_type": "stream",
     "text": [
      "Enter starting number: 1\n",
      "Enter Ending number: 100\n",
      "1\n",
      "10\n",
      "13\n",
      "19\n",
      "23\n",
      "28\n",
      "31\n",
      "32\n",
      "44\n",
      "49\n",
      "68\n",
      "70\n",
      "79\n",
      "82\n",
      "86\n",
      "91\n",
      "94\n",
      "97\n",
      "100\n"
     ]
    }
   ],
   "source": [
    "def addsqr(n):\n",
    "    temp = 0\n",
    "    if len(n) == 1:\n",
    "        if n[0]==1:\n",
    "            print(''.join(map(str, num)))\n",
    "    else:\n",
    "        for i in n:\n",
    "            temp = temp + i**2\n",
    "        l = list(map(int,str(temp)))\n",
    "        addsqr(l)\n",
    "\n",
    "start,end = int(input('Enter starting number: ')),int(input('Enter Ending number: '))\n",
    "if start < 10: start = 10\n",
    "print(1)\n",
    "for t in range(start,end+1):\n",
    "    num = list(map(int,str(t)))\n",
    "    addsqr(num)"
   ]
  },
  {
   "cell_type": "markdown",
   "id": "a6ab46c3",
   "metadata": {},
   "source": [
    "****"
   ]
  },
  {
   "cell_type": "markdown",
   "id": "96ec2062",
   "metadata": {},
   "source": [
    "5.Write a Python program to determine whether the given number is a Harshad Number?"
   ]
  },
  {
   "cell_type": "code",
   "execution_count": 12,
   "id": "ce71f794",
   "metadata": {},
   "outputs": [
    {
     "name": "stdout",
     "output_type": "stream",
     "text": [
      "Enter to check Harshad number: 171\n",
      "It is Harshad number\n"
     ]
    }
   ],
   "source": [
    "n = list(map(int,input('Enter to check Harshad number: ')))\n",
    "diviser = sum(n)\n",
    "quotient = int(''.join(map(str,n)))\n",
    "if quotient%diviser == 0:\n",
    "    print('It is Harshad number')\n",
    "else:\n",
    "    print('It is *not* Harshad number')"
   ]
  },
  {
   "cell_type": "markdown",
   "id": "82a65946",
   "metadata": {},
   "source": [
    "****"
   ]
  },
  {
   "cell_type": "markdown",
   "id": "374400d4",
   "metadata": {},
   "source": [
    "6.Write a Python program to print all pronic numbers between 1 and 100?"
   ]
  },
  {
   "cell_type": "code",
   "execution_count": 6,
   "id": "cb97fefe",
   "metadata": {},
   "outputs": [
    {
     "name": "stdout",
     "output_type": "stream",
     "text": [
      "Enter starting number: 1\n",
      "Enter Ending number: 100\n",
      "1 * 2 = 2\n",
      "2 * 3 = 6\n",
      "3 * 4 = 12\n",
      "4 * 5 = 20\n",
      "5 * 6 = 30\n",
      "6 * 7 = 42\n",
      "7 * 8 = 56\n",
      "8 * 9 = 72\n",
      "9 * 10 = 90\n"
     ]
    }
   ],
   "source": [
    "start,end = int(input('Enter starting number: ')),int(input('Enter Ending number: '))\n",
    "for i in range(start,end+1):\n",
    "    if i*(i+1) <= 100:\n",
    "        print(i,'*',i+1,'=',i*(i+1))"
   ]
  }
 ],
 "metadata": {
  "kernelspec": {
   "display_name": "Python 3",
   "language": "python",
   "name": "python3"
  },
  "language_info": {
   "codemirror_mode": {
    "name": "ipython",
    "version": 3
   },
   "file_extension": ".py",
   "mimetype": "text/x-python",
   "name": "python",
   "nbconvert_exporter": "python",
   "pygments_lexer": "ipython3",
   "version": "3.8.8"
  }
 },
 "nbformat": 4,
 "nbformat_minor": 5
}
