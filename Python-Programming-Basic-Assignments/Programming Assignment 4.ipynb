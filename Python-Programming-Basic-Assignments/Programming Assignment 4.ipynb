{
 "cells": [
  {
   "cell_type": "markdown",
   "id": "578d9eb9",
   "metadata": {},
   "source": [
    "Programming Assignment 4\n",
    "*************************************"
   ]
  },
  {
   "cell_type": "markdown",
   "id": "236befe8",
   "metadata": {},
   "source": [
    "1.Write a Python Program to Find the Factorial of a Number?"
   ]
  },
  {
   "cell_type": "code",
   "execution_count": 79,
   "id": "4f812add",
   "metadata": {},
   "outputs": [
    {
     "name": "stdout",
     "output_type": "stream",
     "text": [
      "The factorial of 4 is 24\n"
     ]
    }
   ],
   "source": [
    "def factorial(x):\n",
    "    if x == 1:\n",
    "        return 1\n",
    "    else:\n",
    "        return (x * factorial(x-1))\n",
    "\n",
    "\n",
    "num = 4\n",
    "print(\"The factorial of\", num, \"is\", factorial(num))"
   ]
  },
  {
   "cell_type": "markdown",
   "id": "aec2521e",
   "metadata": {},
   "source": [
    "****"
   ]
  },
  {
   "cell_type": "markdown",
   "id": "eaa8f1d8",
   "metadata": {},
   "source": [
    "2.Write a Python Program to Display the multiplication Table?"
   ]
  },
  {
   "cell_type": "code",
   "execution_count": 82,
   "id": "671bd35c",
   "metadata": {},
   "outputs": [
    {
     "name": "stdout",
     "output_type": "stream",
     "text": [
      "5\n",
      "5 x 1 = 5\n",
      "5 x 2 = 10\n",
      "5 x 3 = 15\n",
      "5 x 4 = 20\n",
      "5 x 5 = 25\n",
      "5 x 6 = 30\n",
      "5 x 7 = 35\n",
      "5 x 8 = 40\n",
      "5 x 9 = 45\n",
      "5 x 10 = 50\n"
     ]
    }
   ],
   "source": [
    "n = int(input())\n",
    "for i in range(1,11):\n",
    "    print(f'{n} x {i} = {n*i}')"
   ]
  },
  {
   "cell_type": "markdown",
   "id": "fcb5054b",
   "metadata": {},
   "source": [
    "****"
   ]
  },
  {
   "cell_type": "markdown",
   "id": "65f3739c",
   "metadata": {},
   "source": [
    "3.Write a Python Program to Print the Fibonacci sequence?"
   ]
  },
  {
   "cell_type": "code",
   "execution_count": 90,
   "id": "dc6d7e6c",
   "metadata": {},
   "outputs": [
    {
     "name": "stdout",
     "output_type": "stream",
     "text": [
      "0 1 1 2 3 5 8 13 21 34 55 89 "
     ]
    }
   ],
   "source": [
    "# s = input()\n",
    "# if s == s[::-1]:\n",
    "#     print('')\n",
    "a = 0\n",
    "b = 1\n",
    "print(a,b,end=\" \")\n",
    "for i in range(1,11):\n",
    "    \n",
    "    print(a+b, end=\" \")\n",
    "    c = a+b\n",
    "    a,b = b,c\n",
    "    \n",
    "    "
   ]
  },
  {
   "cell_type": "markdown",
   "id": "21715150",
   "metadata": {},
   "source": [
    "****"
   ]
  },
  {
   "cell_type": "markdown",
   "id": "91a24aef",
   "metadata": {},
   "source": [
    "4.Write a Python Program to Check Armstrong Number?"
   ]
  },
  {
   "cell_type": "code",
   "execution_count": 119,
   "id": "4ac5f288",
   "metadata": {},
   "outputs": [
    {
     "name": "stdout",
     "output_type": "stream",
     "text": [
      "Enter to check Armstrong number: 153\n",
      "Number entered is: 153 \n",
      "the output is: 153 \n",
      "----------------------------\n",
      "so it is an Armstrong number\n"
     ]
    }
   ],
   "source": [
    "n = list(map(int,input('Enter to check Armstrong number: ')))\n",
    "a = ' '.join(map(str, n))\n",
    "temp = 0\n",
    "for i in n:\n",
    "    temp = temp + i**len(n)\n",
    "if str(temp) == a.replace(\" \", \"\"):\n",
    "    print(f'Number entered is: {a.replace(\" \", \"\")} \\nthe output is: {temp} \\n----------------------------\\nso it is an Armstrong number')\n",
    "else:\n",
    "    print(f'Number entered is: {a.replace(\" \", \"\")} \\nthe output is: {temp} \\n----------------------------------\\nso it is *not* an Armstrong number')"
   ]
  },
  {
   "cell_type": "markdown",
   "id": "2602413f",
   "metadata": {},
   "source": [
    "****"
   ]
  },
  {
   "cell_type": "markdown",
   "id": "bacbdc9e",
   "metadata": {},
   "source": [
    "5.Write a Python Program to Find Armstrong Number in an Interval?"
   ]
  },
  {
   "cell_type": "code",
   "execution_count": 152,
   "id": "13e0860b",
   "metadata": {},
   "outputs": [
    {
     "name": "stdout",
     "output_type": "stream",
     "text": [
      "Enter starting number: 100\n",
      "Enter Ending number: 10000\n",
      "[153, 370, 371, 407, 1634, 8208, 9474]\n"
     ]
    }
   ],
   "source": [
    "final=[]\n",
    "start,end = int(input('Enter starting number: ')),int(input('Enter Ending number: '))\n",
    "for i in range(start,end+1):\n",
    "    tempList = list(range(i))\n",
    "    tempList = list(map(int,str(i)))\n",
    "    power = len(tempList)\n",
    "    temp = 0\n",
    "    for j in tempList:\n",
    "        temp = temp + j**power\n",
    "    \n",
    "    if temp == i:\n",
    "        final.append(temp)\n",
    "print(final)"
   ]
  },
  {
   "cell_type": "markdown",
   "id": "5dbd72b0",
   "metadata": {},
   "source": [
    "6.Write a Python Program to Find the Sum of Natural Numbers?"
   ]
  },
  {
   "cell_type": "code",
   "execution_count": 155,
   "id": "19236552",
   "metadata": {},
   "outputs": [
    {
     "name": "stdout",
     "output_type": "stream",
     "text": [
      "Enter number here: 5\n"
     ]
    },
    {
     "data": {
      "text/plain": [
       "15"
      ]
     },
     "execution_count": 155,
     "metadata": {},
     "output_type": "execute_result"
    }
   ],
   "source": [
    "#The sum of n natural numbers is represented as [n(n+1)]/2.\n",
    "\n",
    "def SumOfN(n):\n",
    "    return n*(n+1)//2\n",
    "\n",
    "SumOfN(int(input('Enter number here: ')))"
   ]
  }
 ],
 "metadata": {
  "kernelspec": {
   "display_name": "Python 3",
   "language": "python",
   "name": "python3"
  },
  "language_info": {
   "codemirror_mode": {
    "name": "ipython",
    "version": 3
   },
   "file_extension": ".py",
   "mimetype": "text/x-python",
   "name": "python",
   "nbconvert_exporter": "python",
   "pygments_lexer": "ipython3",
   "version": "3.8.8"
  }
 },
 "nbformat": 4,
 "nbformat_minor": 5
}
