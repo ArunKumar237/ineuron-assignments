{
 "cells": [
  {
   "cell_type": "markdown",
   "id": "8dab5872",
   "metadata": {},
   "source": [
    "Programming Assignment 7\n",
    "*************************************"
   ]
  },
  {
   "cell_type": "markdown",
   "id": "ac7fd740",
   "metadata": {},
   "source": [
    "1.Write a Python Program to find sum of array?"
   ]
  },
  {
   "cell_type": "code",
   "execution_count": 254,
   "id": "b2956434",
   "metadata": {},
   "outputs": [
    {
     "name": "stdout",
     "output_type": "stream",
     "text": [
      "1,2,3,4,5\n"
     ]
    },
    {
     "data": {
      "text/plain": [
       "15"
      ]
     },
     "execution_count": 254,
     "metadata": {},
     "output_type": "execute_result"
    }
   ],
   "source": [
    "array = list(map(int,input().replace(\",\",\"\")))\n",
    "sum(array)"
   ]
  },
  {
   "cell_type": "markdown",
   "id": "30add2f2",
   "metadata": {},
   "source": [
    "****"
   ]
  },
  {
   "cell_type": "markdown",
   "id": "838e6e7b",
   "metadata": {},
   "source": [
    "2.Write a Python Program to find largest element in an array?"
   ]
  },
  {
   "cell_type": "code",
   "execution_count": 256,
   "id": "f6a5047a",
   "metadata": {},
   "outputs": [
    {
     "name": "stdout",
     "output_type": "stream",
     "text": [
      "1,4,2,5,3,9,7,3,4,6\n"
     ]
    },
    {
     "data": {
      "text/plain": [
       "9"
      ]
     },
     "execution_count": 256,
     "metadata": {},
     "output_type": "execute_result"
    }
   ],
   "source": [
    "array = list(map(int,input().replace(\",\",\"\")))\n",
    "array.sort(reverse=True)\n",
    "array[0]"
   ]
  },
  {
   "cell_type": "markdown",
   "id": "3fbd0736",
   "metadata": {},
   "source": [
    "****"
   ]
  },
  {
   "cell_type": "markdown",
   "id": "2cd996be",
   "metadata": {},
   "source": [
    "3.Write a Python Program for array rotation?"
   ]
  },
  {
   "cell_type": "code",
   "execution_count": 288,
   "id": "a8912c51",
   "metadata": {},
   "outputs": [
    {
     "name": "stdout",
     "output_type": "stream",
     "text": [
      "Enter an Array: 1 2 3 4 5 6 7 8 9\n",
      "how many elements to rotate? 7\n",
      "[8, 9, 1, 2, 3, 4, 5, 6, 7]\n"
     ]
    }
   ],
   "source": [
    "array = list(map(str,input('Enter an Array: ').replace(\" \",\"\").replace(',','')))\n",
    "n = int(input('how many elements to rotate? '))\n",
    "temp=array[n:]\n",
    "temp.extend(array[:n])\n",
    "temp = list(map(int,temp))\n",
    "print(temp)"
   ]
  },
  {
   "cell_type": "markdown",
   "id": "7bd9fb0e",
   "metadata": {},
   "source": [
    "****"
   ]
  },
  {
   "cell_type": "markdown",
   "id": "5807414a",
   "metadata": {},
   "source": [
    "4.Write a Python Program to Split the array and add the first part to the end?"
   ]
  },
  {
   "cell_type": "code",
   "execution_count": 304,
   "id": "e7d04fb6",
   "metadata": {
    "scrolled": true
   },
   "outputs": [
    {
     "name": "stdout",
     "output_type": "stream",
     "text": [
      "Enter an Array: 1 2 3 4 5 6\n"
     ]
    },
    {
     "data": {
      "text/plain": [
       "[4, 5, 6, 1, 2, 3]"
      ]
     },
     "execution_count": 304,
     "metadata": {},
     "output_type": "execute_result"
    }
   ],
   "source": [
    "array = list(map(int,input('Enter an Array: ').replace(\" \",\"\").replace(',','')))\n",
    "final = array[len(array)//2:]\n",
    "final.extend(array[:len(array)//2])\n",
    "final"
   ]
  },
  {
   "cell_type": "markdown",
   "id": "9a3ff2da",
   "metadata": {},
   "source": [
    "****"
   ]
  },
  {
   "cell_type": "markdown",
   "id": "be7a06e7",
   "metadata": {},
   "source": [
    "5.Write a Python Program to check if given array is Monotonic?"
   ]
  },
  {
   "cell_type": "code",
   "execution_count": 337,
   "id": "05eb3722",
   "metadata": {},
   "outputs": [
    {
     "name": "stdout",
     "output_type": "stream",
     "text": [
      "Enter an Array: 5 5 4 3 2 2 1\n",
      "Monotonic\n"
     ]
    }
   ],
   "source": [
    "def Monotonic(n):\n",
    "    inc = 0\n",
    "    dec = 0\n",
    "    for i in range (0,len(array)-1):\n",
    "        if array[i] >= array[i+1]: \n",
    "            pass\n",
    "        else: \n",
    "            inc = 1\n",
    "\n",
    "    for i in range (0,len(array)-1):\n",
    "        if array[i] <= array[i+1]:\n",
    "            pass\n",
    "        else: \n",
    "            dec = 1\n",
    "\n",
    "    if inc == 0 or dec == 0: \n",
    "        print('Monotonic')\n",
    "    else: print('Non-Monotonic')\n",
    "\n",
    "array = list(map(int,input('Enter an Array: ').replace(\" \",\"\").replace(',','')))\n",
    "Monotonic(array)"
   ]
  }
 ],
 "metadata": {
  "kernelspec": {
   "display_name": "Python 3",
   "language": "python",
   "name": "python3"
  },
  "language_info": {
   "codemirror_mode": {
    "name": "ipython",
    "version": 3
   },
   "file_extension": ".py",
   "mimetype": "text/x-python",
   "name": "python",
   "nbconvert_exporter": "python",
   "pygments_lexer": "ipython3",
   "version": "3.8.8"
  }
 },
 "nbformat": 4,
 "nbformat_minor": 5
}
