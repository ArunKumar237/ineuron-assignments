{
 "cells": [
  {
   "cell_type": "markdown",
   "id": "91e05b3e",
   "metadata": {},
   "source": [
    "Solutions for Python Basic Assignment - 6\n",
    "****************************************"
   ]
  },
  {
   "cell_type": "code",
   "execution_count": null,
   "id": "a5ccf4de",
   "metadata": {},
   "outputs": [],
   "source": [
    "1. escape characters are the set of characters used to make the print function to accept\n",
    "    the illegal character to be printed followed by that escape character."
   ]
  },
  {
   "cell_type": "code",
   "execution_count": null,
   "id": "8a7940b8",
   "metadata": {},
   "outputs": [],
   "source": [
    "2.  n - for printing the next line\n",
    "    t - for printing the tab in the line"
   ]
  },
  {
   "cell_type": "code",
   "execution_count": null,
   "id": "0972ee33",
   "metadata": {},
   "outputs": [],
   "source": [
    "3. '\\\\' is used to print the backlash in the print statement."
   ]
  },
  {
   "cell_type": "code",
   "execution_count": null,
   "id": "bbf8df38",
   "metadata": {},
   "outputs": [],
   "source": [
    "4. because single quote is accepted between 2 double quotes to get printed and viceversa."
   ]
  },
  {
   "cell_type": "code",
   "execution_count": null,
   "id": "38869d51",
   "metadata": {},
   "outputs": [],
   "source": [
    "5. we can use triple quotes (\"\"\" \"\"\") to write a string of newlines if you don't want to\n",
    "    use the n character."
   ]
  },
  {
   "cell_type": "code",
   "execution_count": null,
   "id": "76d4bcb7",
   "metadata": {},
   "outputs": [],
   "source": [
    "6.\n",
    "    print('Hello,world!'[1])\n",
    "    print('Hello,world!'[0:5])\n",
    "    print('Hello,world!'[:5])\n",
    "    print('Hello,world!'[3:])\n",
    "    \n",
    "    output: e\n",
    "            Hello\n",
    "            Hello\n",
    "            lo,world!"
   ]
  },
  {
   "cell_type": "code",
   "execution_count": null,
   "id": "820727fe",
   "metadata": {},
   "outputs": [],
   "source": [
    "7.\n",
    "    print('Hello'.upper())\n",
    "    print('Hello'.upper().isupper())\n",
    "    print('Hello'.upper().lower())\n",
    "    \n",
    "    output: HELLO\n",
    "            True\n",
    "            hello"
   ]
  },
  {
   "cell_type": "code",
   "execution_count": null,
   "id": "9a46995d",
   "metadata": {},
   "outputs": [],
   "source": [
    "8.\n",
    "\n",
    "'Remember, remember, the fifth of July.'.split()\n",
    "    \n",
    "    output: ['Remember,', 'remember,', 'the', 'fifth', 'of', 'July.']\n",
    "        \n",
    "'-'.join('There can only one'.split())\n",
    "\n",
    "    output: 'There-can-only-one'"
   ]
  },
  {
   "cell_type": "code",
   "execution_count": null,
   "id": "6ebbe529",
   "metadata": {},
   "outputs": [],
   "source": [
    "9. \n",
    "    right-justifying: rjust()\n",
    "    left-justifying: ljust()\n",
    "    centering: center()"
   ]
  },
  {
   "cell_type": "code",
   "execution_count": null,
   "id": "f96bffa6",
   "metadata": {},
   "outputs": [],
   "source": [
    "10.\n",
    "    by using function strip() we can remove whitespace characters from the start and end.\n",
    "    lstrip() - to remove whitespaces of left side\n",
    "    rstrip() - to remove whitespaces of right side"
   ]
  },
  {
   "cell_type": "code",
   "execution_count": null,
   "id": "665fcb30",
   "metadata": {},
   "outputs": [],
   "source": []
  }
 ],
 "metadata": {
  "kernelspec": {
   "display_name": "Python 3",
   "language": "python",
   "name": "python3"
  },
  "language_info": {
   "codemirror_mode": {
    "name": "ipython",
    "version": 3
   },
   "file_extension": ".py",
   "mimetype": "text/x-python",
   "name": "python",
   "nbconvert_exporter": "python",
   "pygments_lexer": "ipython3",
   "version": "3.8.8"
  }
 },
 "nbformat": 4,
 "nbformat_minor": 5
}
