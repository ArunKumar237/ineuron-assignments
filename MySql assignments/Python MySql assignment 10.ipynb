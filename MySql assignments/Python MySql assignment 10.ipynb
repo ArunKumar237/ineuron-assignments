{
 "cells": [
  {
   "cell_type": "markdown",
   "id": "eb65f6f8",
   "metadata": {},
   "source": [
    "Python MySql assignment - 10\n",
    "**************"
   ]
  },
  {
   "cell_type": "markdown",
   "id": "0ad5265f",
   "metadata": {},
   "source": [
    "Q-19. Write an SQL query to determine the 5th highest salary without using TOP or limit method."
   ]
  },
  {
   "cell_type": "code",
   "execution_count": 75,
   "id": "7aaadd5c",
   "metadata": {},
   "outputs": [],
   "source": [
    "import mysql.connector as conn\n",
    "mydb = conn.connect(host='localhost',user='root',passwd='myroot')\n",
    "cursor = mydb.cursor(buffered=True)"
   ]
  },
  {
   "cell_type": "code",
   "execution_count": 76,
   "id": "8527a3b9",
   "metadata": {},
   "outputs": [],
   "source": [
    "cursor.execute('use test_data')"
   ]
  },
  {
   "cell_type": "code",
   "execution_count": 138,
   "id": "d314dfff",
   "metadata": {
    "scrolled": true
   },
   "outputs": [
    {
     "name": "stdout",
     "output_type": "stream",
     "text": [
      "Salaries in descending order\n",
      "--------------------\n",
      "(500000.0,)\n",
      "(300000.0,)\n",
      "(200000.0,)\n",
      "(100000.0,)\n",
      "(90000.0,)\n",
      "(80000.0,)\n",
      "(75000.0,)\n"
     ]
    }
   ],
   "source": [
    "q = '''select distinct salary from worker \n",
    "        order by salary desc\n",
    "        \n",
    "        '''\n",
    "cursor.execute(q)\n",
    "# cursor.fetchall()\n",
    "print('Salaries in descending order\\n--------------------')\n",
    "for i in cursor: print(i)"
   ]
  },
  {
   "cell_type": "code",
   "execution_count": 139,
   "id": "2e1a2810",
   "metadata": {},
   "outputs": [
    {
     "name": "stdout",
     "output_type": "stream",
     "text": [
      "5th highest Salary\n",
      "--------------------\n",
      "(90000.0,)\n"
     ]
    }
   ],
   "source": [
    "q = '''select distinct salary from worker \n",
    "        order by salary desc\n",
    "        limit 4,1\n",
    "        '''\n",
    "cursor.execute(q)\n",
    "# cursor.fetchall()\n",
    "print('5th highest Salary\\n--------------------')\n",
    "for i in cursor: print(i)"
   ]
  },
  {
   "cell_type": "markdown",
   "id": "b094ca85",
   "metadata": {},
   "source": [
    "***"
   ]
  },
  {
   "cell_type": "markdown",
   "id": "a15bd4c9",
   "metadata": {},
   "source": [
    "Q-20. Write an SQL query to fetch the list of employees with the same salary."
   ]
  },
  {
   "cell_type": "code",
   "execution_count": 145,
   "id": "c85235cd",
   "metadata": {
    "scrolled": true
   },
   "outputs": [
    {
     "name": "stdout",
     "output_type": "stream",
     "text": [
      "5th highest Salary\n",
      "--------------------\n",
      "('Vivek', 500000.0)\n",
      "('Amitabh', 500000.0)\n"
     ]
    }
   ],
   "source": [
    "q = '''select W1.First_name, W1.salary \n",
    "        from worker W1 , worker W2\n",
    "       where W1.salary = W2.salary and W1.First_name <> W2.First_name\n",
    "        '''\n",
    "cursor.execute(q)\n",
    "# cursor.fetchall()\n",
    "print('5th highest Salary\\n--------------------')\n",
    "for i in cursor: print(i)"
   ]
  },
  {
   "cell_type": "markdown",
   "id": "f484eb69",
   "metadata": {},
   "source": [
    "***"
   ]
  },
  {
   "cell_type": "markdown",
   "id": "84245d97",
   "metadata": {},
   "source": []
  },
  {
   "cell_type": "code",
   "execution_count": null,
   "id": "d56fa976",
   "metadata": {},
   "outputs": [],
   "source": []
  },
  {
   "cell_type": "code",
   "execution_count": null,
   "id": "34ff81c8",
   "metadata": {},
   "outputs": [],
   "source": []
  }
 ],
 "metadata": {
  "kernelspec": {
   "display_name": "Python 3 (ipykernel)",
   "language": "python",
   "name": "python3"
  },
  "language_info": {
   "codemirror_mode": {
    "name": "ipython",
    "version": 3
   },
   "file_extension": ".py",
   "mimetype": "text/x-python",
   "name": "python",
   "nbconvert_exporter": "python",
   "pygments_lexer": "ipython3",
   "version": "3.9.12"
  }
 },
 "nbformat": 4,
 "nbformat_minor": 5
}
