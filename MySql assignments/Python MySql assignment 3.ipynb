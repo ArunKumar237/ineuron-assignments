{
 "cells": [
  {
   "cell_type": "markdown",
   "id": "eb65f6f8",
   "metadata": {},
   "source": [
    "Python MySql assignment -3\n",
    "**************"
   ]
  },
  {
   "cell_type": "markdown",
   "id": "0ad5265f",
   "metadata": {},
   "source": [
    "Q-1. Write an SQL query to print the FIRST_NAME from Worker table after removing white spaces from the right side.\n"
   ]
  },
  {
   "cell_type": "code",
   "execution_count": 12,
   "id": "7aaadd5c",
   "metadata": {},
   "outputs": [],
   "source": [
    "import mysql.connector as conn\n",
    "mydb = conn.connect(host='localhost',user='root',passwd='myroot')\n",
    "cursor = mydb.cursor(buffered=True)"
   ]
  },
  {
   "cell_type": "code",
   "execution_count": 13,
   "id": "8527a3b9",
   "metadata": {},
   "outputs": [],
   "source": [
    "cursor.execute('use test_data')"
   ]
  },
  {
   "cell_type": "code",
   "execution_count": 38,
   "id": "d314dfff",
   "metadata": {},
   "outputs": [
    {
     "data": {
      "text/plain": [
       "[('Monika',),\n",
       " ('Niharika',),\n",
       " ('Vishal',),\n",
       " ('Amitabh',),\n",
       " ('Vivek',),\n",
       " ('Vipul',),\n",
       " ('Satish',),\n",
       " ('Geetika',)]"
      ]
     },
     "execution_count": 38,
     "metadata": {},
     "output_type": "execute_result"
    }
   ],
   "source": [
    "cursor.execute('select rtrim(first_name) from worker')\n",
    "cursor.fetchall()"
   ]
  },
  {
   "cell_type": "markdown",
   "id": "b094ca85",
   "metadata": {},
   "source": [
    "***"
   ]
  },
  {
   "cell_type": "markdown",
   "id": "a15bd4c9",
   "metadata": {},
   "source": [
    "Q-2. Write an SQL query that fetches the unique values of DEPARTMENT from Worker table and prints its length.\n"
   ]
  },
  {
   "cell_type": "code",
   "execution_count": 46,
   "id": "bffc5722",
   "metadata": {},
   "outputs": [
    {
     "data": {
      "text/plain": [
       "[('HR', 2), ('Admin', 5), ('Account', 7)]"
      ]
     },
     "execution_count": 46,
     "metadata": {},
     "output_type": "execute_result"
    }
   ],
   "source": [
    "cursor.execute('SELECT distinct department, length(department) FROM worker')\n",
    "cursor.fetchall()"
   ]
  },
  {
   "cell_type": "markdown",
   "id": "f484eb69",
   "metadata": {},
   "source": [
    "***"
   ]
  },
  {
   "cell_type": "markdown",
   "id": "84245d97",
   "metadata": {},
   "source": [
    "Q-3. Write an SQL query to fetch nth max salaries from a table."
   ]
  },
  {
   "cell_type": "code",
   "execution_count": 52,
   "id": "9c07771b",
   "metadata": {},
   "outputs": [
    {
     "data": {
      "text/plain": [
       "[(500000.0,)]"
      ]
     },
     "execution_count": 52,
     "metadata": {},
     "output_type": "execute_result"
    }
   ],
   "source": [
    "cursor.execute('SELECT MAX(SALARY) FROM worker;')\n",
    "cursor.fetchall()"
   ]
  }
 ],
 "metadata": {
  "kernelspec": {
   "display_name": "Python 3 (ipykernel)",
   "language": "python",
   "name": "python3"
  },
  "language_info": {
   "codemirror_mode": {
    "name": "ipython",
    "version": 3
   },
   "file_extension": ".py",
   "mimetype": "text/x-python",
   "name": "python",
   "nbconvert_exporter": "python",
   "pygments_lexer": "ipython3",
   "version": "3.9.12"
  }
 },
 "nbformat": 4,
 "nbformat_minor": 5
}
