{
 "cells": [
  {
   "cell_type": "markdown",
   "id": "eb65f6f8",
   "metadata": {},
   "source": [
    "Python MySql assignment -4\n",
    "**************"
   ]
  },
  {
   "cell_type": "markdown",
   "id": "0ad5265f",
   "metadata": {},
   "source": [
    "Q-1. Write an SQL query to print the FIRST_NAME from Worker table after replacing ‘a’ with ‘A’.\n"
   ]
  },
  {
   "cell_type": "code",
   "execution_count": 12,
   "id": "7aaadd5c",
   "metadata": {},
   "outputs": [],
   "source": [
    "import mysql.connector as conn\n",
    "mydb = conn.connect(host='localhost',user='root',passwd='myroot')\n",
    "cursor = mydb.cursor(buffered=True)"
   ]
  },
  {
   "cell_type": "code",
   "execution_count": 13,
   "id": "8527a3b9",
   "metadata": {},
   "outputs": [],
   "source": [
    "cursor.execute('use test_data')"
   ]
  },
  {
   "cell_type": "code",
   "execution_count": 55,
   "id": "d314dfff",
   "metadata": {},
   "outputs": [
    {
     "data": {
      "text/plain": [
       "[('Monika', 'MonikA'),\n",
       " ('Niharika', 'NihArikA'),\n",
       " ('Vishal', 'VishAl'),\n",
       " ('Amitabh', 'AmitAbh'),\n",
       " ('Vivek', 'Vivek'),\n",
       " ('Vipul', 'Vipul'),\n",
       " ('Satish', 'SAtish'),\n",
       " ('Geetika', 'GeetikA')]"
      ]
     },
     "execution_count": 55,
     "metadata": {},
     "output_type": "execute_result"
    }
   ],
   "source": [
    "cursor.execute('select first_name,replace(first_name,\"a\",\"A\") from worker')\n",
    "cursor.fetchall()"
   ]
  },
  {
   "cell_type": "markdown",
   "id": "b094ca85",
   "metadata": {},
   "source": [
    "***"
   ]
  },
  {
   "cell_type": "markdown",
   "id": "a15bd4c9",
   "metadata": {},
   "source": [
    "Q-2. Write an SQL query to print all Worker details from the Worker table order by FIRST_NAME Ascending and DEPARTMENT Descending.\n"
   ]
  },
  {
   "cell_type": "code",
   "execution_count": 66,
   "id": "bffc5722",
   "metadata": {},
   "outputs": [
    {
     "data": {
      "text/plain": [
       "[(4, 'Amitabh', 'Singh', 500000.0, '2014-02-20 09:00:00', 'Admin'),\n",
       " (8, 'Geetika', 'Chauhan', 90000.0, '2014-04-11 09:00:00', 'Admin'),\n",
       " (1, 'Monika', 'Arora', 100000.0, '2014-02-20 09:00:00', 'HR'),\n",
       " (2, 'Niharika', 'Verma', 80000.0, '2014-06-11 09:00:00', 'Admin'),\n",
       " (7, 'Satish', 'Kumar', 75000.0, '2014-01-20 09:00:00', 'Account'),\n",
       " (6, 'Vipul', 'Diwan', 200000.0, '2014-06-11 09:00:00', 'Account'),\n",
       " (3, 'Vishal', 'Singhal', 300000.0, '2014-02-20 09:00:00', 'HR'),\n",
       " (5, 'Vivek', 'Bhati', 500000.0, '2014-06-11 09:00:00', 'Admin')]"
      ]
     },
     "execution_count": 66,
     "metadata": {},
     "output_type": "execute_result"
    }
   ],
   "source": [
    "cursor.execute('SELECT * FROM worker order by first_name asc, department desc')\n",
    "cursor.fetchall()"
   ]
  },
  {
   "cell_type": "markdown",
   "id": "f484eb69",
   "metadata": {},
   "source": [
    "***"
   ]
  },
  {
   "cell_type": "markdown",
   "id": "84245d97",
   "metadata": {},
   "source": [
    "Q-3. Write an SQL query to fetch the names of workers who earn the highest salary."
   ]
  },
  {
   "cell_type": "code",
   "execution_count": 73,
   "id": "9c07771b",
   "metadata": {},
   "outputs": [
    {
     "data": {
      "text/plain": [
       "[('Amitabh', 500000.0), ('Vivek', 500000.0)]"
      ]
     },
     "execution_count": 73,
     "metadata": {},
     "output_type": "execute_result"
    }
   ],
   "source": [
    "cursor.execute('SELECT first_name,salary FROM worker where salary = (select max(salary) from worker)')\n",
    "cursor.fetchall()"
   ]
  },
  {
   "cell_type": "code",
   "execution_count": null,
   "id": "eb665e13",
   "metadata": {},
   "outputs": [],
   "source": []
  }
 ],
 "metadata": {
  "kernelspec": {
   "display_name": "Python 3 (ipykernel)",
   "language": "python",
   "name": "python3"
  },
  "language_info": {
   "codemirror_mode": {
    "name": "ipython",
    "version": 3
   },
   "file_extension": ".py",
   "mimetype": "text/x-python",
   "name": "python",
   "nbconvert_exporter": "python",
   "pygments_lexer": "ipython3",
   "version": "3.9.12"
  }
 },
 "nbformat": 4,
 "nbformat_minor": 5
}
