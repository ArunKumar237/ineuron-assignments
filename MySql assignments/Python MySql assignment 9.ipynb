{
 "cells": [
  {
   "cell_type": "markdown",
   "id": "eb65f6f8",
   "metadata": {},
   "source": [
    "Python MySql assignment - 9\n",
    "**************"
   ]
  },
  {
   "cell_type": "markdown",
   "id": "0ad5265f",
   "metadata": {},
   "source": [
    "Q-17.  Write an SQL query to show the top n (say 10) records of a table.\n",
    "\n"
   ]
  },
  {
   "cell_type": "code",
   "execution_count": 75,
   "id": "7aaadd5c",
   "metadata": {},
   "outputs": [],
   "source": [
    "import mysql.connector as conn\n",
    "mydb = conn.connect(host='localhost',user='root',passwd='myroot')\n",
    "cursor = mydb.cursor(buffered=True)"
   ]
  },
  {
   "cell_type": "code",
   "execution_count": 76,
   "id": "8527a3b9",
   "metadata": {},
   "outputs": [],
   "source": [
    "cursor.execute('use test_data')"
   ]
  },
  {
   "cell_type": "code",
   "execution_count": 105,
   "id": "d314dfff",
   "metadata": {},
   "outputs": [
    {
     "name": "stdout",
     "output_type": "stream",
     "text": [
      "(1, 'Monika', 'Arora', 100000.0, '2014-02-20 09:00:00', 'HR', 'abcd123@gmail.com')\n",
      "(2, 'Niharika', 'Verma', 80000.0, '2014-06-11 09:00:00', 'Admin', 'cherry4top@hotmail.com')\n",
      "(3, 'Vishal', 'Singhal', 300000.0, '2014-02-20 09:00:00', 'HR', '007jamesbond@yahoo.com')\n"
     ]
    }
   ],
   "source": [
    "# q = '''SELECT worker.Worker_id, worker.First_name, worker.Last_name, worker.salary, worker.Joining_date, worker.Department, worker.email FROM worker  inner join worker_copy using (first_name)'''\n",
    "q = 'select * from worker limit 3'\n",
    "cursor.execute(q)\n",
    "# cursor.fetchall()\n",
    "for i in cursor:\n",
    "    print(i)"
   ]
  },
  {
   "cell_type": "markdown",
   "id": "b094ca85",
   "metadata": {},
   "source": [
    "***"
   ]
  },
  {
   "cell_type": "markdown",
   "id": "a15bd4c9",
   "metadata": {},
   "source": [
    "Q-18. Write an SQL query to determine the nth (say n=5) highest salary from a table.\n"
   ]
  },
  {
   "cell_type": "code",
   "execution_count": 60,
   "id": "c85235cd",
   "metadata": {
    "scrolled": true
   },
   "outputs": [],
   "source": []
  },
  {
   "cell_type": "code",
   "execution_count": 130,
   "id": "8b13a528",
   "metadata": {
    "scrolled": false
   },
   "outputs": [
    {
     "name": "stdout",
     "output_type": "stream",
     "text": [
      "Salaries in descending order\n",
      "--------------------\n",
      "(500000.0,)\n",
      "(300000.0,)\n",
      "(200000.0,)\n",
      "(100000.0,)\n",
      "(90000.0,)\n",
      "(80000.0,)\n",
      "(75000.0,)\n"
     ]
    }
   ],
   "source": [
    "q = '''select distinct salary from worker \n",
    "        order by salary desc\n",
    "        \n",
    "        '''\n",
    "cursor.execute(q)\n",
    "# cursor.fetchall()\n",
    "print('Salaries in descending order\\n--------------------')\n",
    "for i in cursor: print(i)"
   ]
  },
  {
   "cell_type": "code",
   "execution_count": 134,
   "id": "057ff0ae",
   "metadata": {},
   "outputs": [
    {
     "name": "stdout",
     "output_type": "stream",
     "text": [
      "5th highest Salary\n",
      "--------------------\n",
      "(90000.0,)\n"
     ]
    }
   ],
   "source": [
    "q = '''select distinct salary from worker \n",
    "        order by salary desc\n",
    "        limit 4,1\n",
    "        '''\n",
    "cursor.execute(q)\n",
    "# cursor.fetchall()\n",
    "print('5th highest Salary\\n--------------------')\n",
    "for i in cursor: print(i)"
   ]
  },
  {
   "cell_type": "markdown",
   "id": "f484eb69",
   "metadata": {},
   "source": [
    "***"
   ]
  },
  {
   "cell_type": "markdown",
   "id": "84245d97",
   "metadata": {},
   "source": []
  },
  {
   "cell_type": "code",
   "execution_count": null,
   "id": "b91ddf38",
   "metadata": {},
   "outputs": [],
   "source": []
  }
 ],
 "metadata": {
  "kernelspec": {
   "display_name": "Python 3 (ipykernel)",
   "language": "python",
   "name": "python3"
  },
  "language_info": {
   "codemirror_mode": {
    "name": "ipython",
    "version": 3
   },
   "file_extension": ".py",
   "mimetype": "text/x-python",
   "name": "python",
   "nbconvert_exporter": "python",
   "pygments_lexer": "ipython3",
   "version": "3.9.12"
  }
 },
 "nbformat": 4,
 "nbformat_minor": 5
}
