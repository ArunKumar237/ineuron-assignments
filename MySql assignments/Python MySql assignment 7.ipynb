{
 "cells": [
  {
   "cell_type": "markdown",
   "id": "eb65f6f8",
   "metadata": {},
   "source": [
    "Python MySql assignment - 7\n",
    "**************"
   ]
  },
  {
   "cell_type": "markdown",
   "id": "0ad5265f",
   "metadata": {},
   "source": [
    "Q-13. Write an SQL query to show only odd rows from a table."
   ]
  },
  {
   "cell_type": "code",
   "execution_count": 46,
   "id": "7aaadd5c",
   "metadata": {},
   "outputs": [],
   "source": [
    "import mysql.connector as conn\n",
    "mydb = conn.connect(host='localhost',user='root',passwd='myroot')\n",
    "cursor = mydb.cursor(buffered=True)"
   ]
  },
  {
   "cell_type": "code",
   "execution_count": 47,
   "id": "8527a3b9",
   "metadata": {},
   "outputs": [],
   "source": [
    "cursor.execute('use test_data')"
   ]
  },
  {
   "cell_type": "code",
   "execution_count": 41,
   "id": "d314dfff",
   "metadata": {},
   "outputs": [
    {
     "data": {
      "text/plain": [
       "[(1,\n",
       "  'Monika',\n",
       "  'Arora',\n",
       "  100000.0,\n",
       "  '2014-02-20 09:00:00',\n",
       "  'HR',\n",
       "  'abcd123@gmail.com'),\n",
       " (3,\n",
       "  'Vishal',\n",
       "  'Singhal',\n",
       "  300000.0,\n",
       "  '2014-02-20 09:00:00',\n",
       "  'HR',\n",
       "  '007jamesbond@yahoo.com'),\n",
       " (5,\n",
       "  'Vivek',\n",
       "  'Bhati',\n",
       "  500000.0,\n",
       "  '2014-06-11 09:00:00',\n",
       "  'Admin',\n",
       "  '143lovelearning@gmail.com'),\n",
       " (7,\n",
       "  'Satish',\n",
       "  'Kumar',\n",
       "  75000.0,\n",
       "  '2014-01-20 09:00:00',\n",
       "  'Account',\n",
       "  'easydatabase@yahoo.com')]"
      ]
     },
     "execution_count": 41,
     "metadata": {},
     "output_type": "execute_result"
    }
   ],
   "source": [
    "q = '''SELECT * \n",
    "FROM worker \n",
    "WHERE mod(worker_id,2) <> 0;'''\n",
    "\n",
    "cursor.execute(q)\n",
    "cursor.fetchall()"
   ]
  },
  {
   "cell_type": "markdown",
   "id": "b094ca85",
   "metadata": {},
   "source": [
    "***"
   ]
  },
  {
   "cell_type": "markdown",
   "id": "a15bd4c9",
   "metadata": {},
   "source": [
    "\n",
    "Q-14. Write an SQL query to clone a new table from another table."
   ]
  },
  {
   "cell_type": "code",
   "execution_count": 60,
   "id": "c85235cd",
   "metadata": {
    "scrolled": true
   },
   "outputs": [],
   "source": [
    "cursor.execute('CREATE TABLE worker_copy select * from worker;')"
   ]
  },
  {
   "cell_type": "code",
   "execution_count": 62,
   "id": "98208a25",
   "metadata": {
    "scrolled": true
   },
   "outputs": [
    {
     "data": {
      "text/plain": [
       "[(1,\n",
       "  'Monika',\n",
       "  'Arora',\n",
       "  100000.0,\n",
       "  '2014-02-20 09:00:00',\n",
       "  'HR',\n",
       "  'abcd123@gmail.com'),\n",
       " (2,\n",
       "  'Niharika',\n",
       "  'Verma',\n",
       "  80000.0,\n",
       "  '2014-06-11 09:00:00',\n",
       "  'Admin',\n",
       "  'cherry4top@hotmail.com'),\n",
       " (3,\n",
       "  'Vishal',\n",
       "  'Singhal',\n",
       "  300000.0,\n",
       "  '2014-02-20 09:00:00',\n",
       "  'HR',\n",
       "  '007jamesbond@yahoo.com'),\n",
       " (4,\n",
       "  'Amitabh',\n",
       "  'Singh',\n",
       "  500000.0,\n",
       "  '2014-02-20 09:00:00',\n",
       "  'Admin',\n",
       "  'mysql@gmail.com'),\n",
       " (5,\n",
       "  'Vivek',\n",
       "  'Bhati',\n",
       "  500000.0,\n",
       "  '2014-06-11 09:00:00',\n",
       "  'Admin',\n",
       "  '143lovelearning@gmail.com'),\n",
       " (6,\n",
       "  'Vipul',\n",
       "  'Diwan',\n",
       "  200000.0,\n",
       "  '2014-06-11 09:00:00',\n",
       "  'Account',\n",
       "  'Sqlismylove@hotmail.com'),\n",
       " (7,\n",
       "  'Satish',\n",
       "  'Kumar',\n",
       "  75000.0,\n",
       "  '2014-01-20 09:00:00',\n",
       "  'Account',\n",
       "  'easydatabase@yahoo.com'),\n",
       " (8,\n",
       "  'Geetika',\n",
       "  'Chauhan',\n",
       "  90000.0,\n",
       "  '2014-04-11 09:00:00',\n",
       "  'Admin',\n",
       "  'dbms@gmail.com')]"
      ]
     },
     "execution_count": 62,
     "metadata": {},
     "output_type": "execute_result"
    }
   ],
   "source": [
    "q = 'select * from worker_copy' \n",
    "cursor.execute(q)\n",
    "cursor.fetchall()"
   ]
  },
  {
   "cell_type": "markdown",
   "id": "f484eb69",
   "metadata": {},
   "source": [
    "***"
   ]
  },
  {
   "cell_type": "markdown",
   "id": "84245d97",
   "metadata": {},
   "source": []
  },
  {
   "cell_type": "code",
   "execution_count": null,
   "id": "933c4516",
   "metadata": {},
   "outputs": [],
   "source": []
  }
 ],
 "metadata": {
  "kernelspec": {
   "display_name": "Python 3 (ipykernel)",
   "language": "python",
   "name": "python3"
  },
  "language_info": {
   "codemirror_mode": {
    "name": "ipython",
    "version": 3
   },
   "file_extension": ".py",
   "mimetype": "text/x-python",
   "name": "python",
   "nbconvert_exporter": "python",
   "pygments_lexer": "ipython3",
   "version": "3.9.12"
  }
 },
 "nbformat": 4,
 "nbformat_minor": 5
}
