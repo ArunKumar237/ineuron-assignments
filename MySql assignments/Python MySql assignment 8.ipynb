{
 "cells": [
  {
   "cell_type": "markdown",
   "id": "eb65f6f8",
   "metadata": {},
   "source": [
    "Python MySql assignment - 8\n",
    "**************"
   ]
  },
  {
   "cell_type": "markdown",
   "id": "0ad5265f",
   "metadata": {},
   "source": [
    "Q-15. Write an SQL query to fetch intersecting records of two tables."
   ]
  },
  {
   "cell_type": "code",
   "execution_count": 75,
   "id": "7aaadd5c",
   "metadata": {},
   "outputs": [],
   "source": [
    "import mysql.connector as conn\n",
    "mydb = conn.connect(host='localhost',user='root',passwd='myroot')\n",
    "cursor = mydb.cursor(buffered=True)"
   ]
  },
  {
   "cell_type": "code",
   "execution_count": 76,
   "id": "8527a3b9",
   "metadata": {},
   "outputs": [],
   "source": [
    "cursor.execute('use test_data')"
   ]
  },
  {
   "cell_type": "code",
   "execution_count": 92,
   "id": "d314dfff",
   "metadata": {},
   "outputs": [
    {
     "name": "stdout",
     "output_type": "stream",
     "text": [
      "(1, 'Monika', 'Arora', 100000.0, '2014-02-20 09:00:00', 'HR', 'abcd123@gmail.com')\n",
      "(2, 'Niharika', 'Verma', 80000.0, '2014-06-11 09:00:00', 'Admin', 'cherry4top@hotmail.com')\n",
      "(3, 'Vishal', 'Singhal', 300000.0, '2014-02-20 09:00:00', 'HR', '007jamesbond@yahoo.com')\n",
      "(4, 'Amitabh', 'Singh', 500000.0, '2014-02-20 09:00:00', 'Admin', 'mysql@gmail.com')\n"
     ]
    }
   ],
   "source": [
    "q = '''SELECT worker.Worker_id, worker.First_name, worker.Last_name, worker.salary, worker.Joining_date, worker.Department, worker.email FROM worker  inner join worker_copy using (first_name)'''\n",
    "\n",
    "cursor.execute(q)\n",
    "# cursor.fetchall()\n",
    "for i in cursor:\n",
    "    print(i)"
   ]
  },
  {
   "cell_type": "markdown",
   "id": "b094ca85",
   "metadata": {},
   "source": [
    "***"
   ]
  },
  {
   "cell_type": "markdown",
   "id": "a15bd4c9",
   "metadata": {},
   "source": [
    "\n",
    "Q-16. Write an SQL query to show records from one table that another table does not have."
   ]
  },
  {
   "cell_type": "code",
   "execution_count": 60,
   "id": "c85235cd",
   "metadata": {
    "scrolled": true
   },
   "outputs": [],
   "source": []
  },
  {
   "cell_type": "code",
   "execution_count": 102,
   "id": "7b67cae5",
   "metadata": {
    "scrolled": true
   },
   "outputs": [
    {
     "name": "stdout",
     "output_type": "stream",
     "text": [
      "(5, 'Vivek', 'Bhati', 500000.0, '2014-06-11 09:00:00', 'Admin', '143lovelearning@gmail.com')\n",
      "(6, 'Vipul', 'Diwan', 200000.0, '2014-06-11 09:00:00', 'Account', 'Sqlismylove@hotmail.com')\n",
      "(7, 'Satish', 'Kumar', 75000.0, '2014-01-20 09:00:00', 'Account', 'easydatabase@yahoo.com')\n",
      "(8, 'Geetika', 'Chauhan', 90000.0, '2014-04-11 09:00:00', 'Admin', 'dbms@gmail.com')\n"
     ]
    }
   ],
   "source": [
    "q = '''SELECT worker.Worker_id, worker.First_name, worker.Last_name, worker.salary, worker.Joining_date, worker.Department, worker.email \n",
    "        FROM worker\n",
    "        where worker.first_name not in (select first_name from worker_copy) '''\n",
    "cursor.execute(q)\n",
    "# cursor.fetchall()\n",
    "for i in cursor: print(i)"
   ]
  },
  {
   "cell_type": "markdown",
   "id": "f484eb69",
   "metadata": {},
   "source": [
    "***"
   ]
  },
  {
   "cell_type": "markdown",
   "id": "84245d97",
   "metadata": {},
   "source": []
  },
  {
   "cell_type": "code",
   "execution_count": null,
   "id": "1eaca6ce",
   "metadata": {},
   "outputs": [],
   "source": []
  }
 ],
 "metadata": {
  "kernelspec": {
   "display_name": "Python 3 (ipykernel)",
   "language": "python",
   "name": "python3"
  },
  "language_info": {
   "codemirror_mode": {
    "name": "ipython",
    "version": 3
   },
   "file_extension": ".py",
   "mimetype": "text/x-python",
   "name": "python",
   "nbconvert_exporter": "python",
   "pygments_lexer": "ipython3",
   "version": "3.9.12"
  }
 },
 "nbformat": 4,
 "nbformat_minor": 5
}
