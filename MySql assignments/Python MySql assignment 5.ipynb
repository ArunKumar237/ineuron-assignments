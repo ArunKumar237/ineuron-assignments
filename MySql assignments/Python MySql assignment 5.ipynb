{
 "cells": [
  {
   "cell_type": "markdown",
   "id": "eb65f6f8",
   "metadata": {},
   "source": [
    "Python MySql assignment - 5\n",
    "**************"
   ]
  },
  {
   "cell_type": "markdown",
   "id": "0ad5265f",
   "metadata": {},
   "source": [
    "Q-1. Write an SQL query to print details of workers excluding first names, “Vipul” and “Satish” from Worker table.\n"
   ]
  },
  {
   "cell_type": "code",
   "execution_count": 15,
   "id": "7aaadd5c",
   "metadata": {},
   "outputs": [],
   "source": [
    "import mysql.connector as conn\n",
    "mydb = conn.connect(host='localhost',user='root',passwd='myroot')\n",
    "cursor = mydb.cursor(buffered=True)"
   ]
  },
  {
   "cell_type": "code",
   "execution_count": 3,
   "id": "8527a3b9",
   "metadata": {},
   "outputs": [],
   "source": [
    "cursor.execute('use test_data')"
   ]
  },
  {
   "cell_type": "code",
   "execution_count": 5,
   "id": "d314dfff",
   "metadata": {},
   "outputs": [
    {
     "data": {
      "text/plain": [
       "[(1, 'Monika', 'Arora', 100000.0, '2014-02-20 09:00:00', 'HR'),\n",
       " (2, 'Niharika', 'Verma', 80000.0, '2014-06-11 09:00:00', 'Admin'),\n",
       " (3, 'Vishal', 'Singhal', 300000.0, '2014-02-20 09:00:00', 'HR'),\n",
       " (4, 'Amitabh', 'Singh', 500000.0, '2014-02-20 09:00:00', 'Admin'),\n",
       " (5, 'Vivek', 'Bhati', 500000.0, '2014-06-11 09:00:00', 'Admin'),\n",
       " (8, 'Geetika', 'Chauhan', 90000.0, '2014-04-11 09:00:00', 'Admin')]"
      ]
     },
     "execution_count": 5,
     "metadata": {},
     "output_type": "execute_result"
    }
   ],
   "source": [
    "cursor.execute('select * from worker where first_name not in(\"Vipul\",\"Satish\")')\n",
    "cursor.fetchall()"
   ]
  },
  {
   "cell_type": "markdown",
   "id": "b094ca85",
   "metadata": {},
   "source": [
    "***"
   ]
  },
  {
   "cell_type": "markdown",
   "id": "a15bd4c9",
   "metadata": {},
   "source": [
    "Q-2. Write an SQL query to print details of the Workers whose FIRST_NAME ends with ‘h’ and contains six alphabets.\n"
   ]
  },
  {
   "cell_type": "code",
   "execution_count": 13,
   "id": "bffc5722",
   "metadata": {},
   "outputs": [
    {
     "data": {
      "text/plain": [
       "[('Satish',)]"
      ]
     },
     "execution_count": 13,
     "metadata": {},
     "output_type": "execute_result"
    }
   ],
   "source": [
    "cursor.execute('SELECT first_name FROM worker where first_name like (\"%h\") and length(first_name)=6')\n",
    "cursor.fetchall()"
   ]
  },
  {
   "cell_type": "markdown",
   "id": "f484eb69",
   "metadata": {},
   "source": [
    "***"
   ]
  },
  {
   "cell_type": "markdown",
   "id": "84245d97",
   "metadata": {},
   "source": [
    "Q-3. Write a query to validate Email of Employee."
   ]
  },
  {
   "cell_type": "code",
   "execution_count": 19,
   "id": "9c07771b",
   "metadata": {},
   "outputs": [
    {
     "data": {
      "text/plain": [
       "[('abcd123@gmail.com',),\n",
       " ('cherry4top@hotmail.com',),\n",
       " ('007jamesbond@yahoo.com',),\n",
       " ('mysql@gmail.com',),\n",
       " ('143lovelearning@gmail.com',),\n",
       " ('Sqlismylove@hotmail.com',),\n",
       " ('easydatabase@yahoo.com',),\n",
       " ('dbms@gmail.com',)]"
      ]
     },
     "execution_count": 19,
     "metadata": {},
     "output_type": "execute_result"
    }
   ],
   "source": [
    "cursor.execute('SELECT email FROM worker where email like \"%@%.___\"')\n",
    "cursor.fetchall()"
   ]
  },
  {
   "cell_type": "code",
   "execution_count": null,
   "id": "1261da99",
   "metadata": {},
   "outputs": [],
   "source": []
  }
 ],
 "metadata": {
  "kernelspec": {
   "display_name": "Python 3 (ipykernel)",
   "language": "python",
   "name": "python3"
  },
  "language_info": {
   "codemirror_mode": {
    "name": "ipython",
    "version": 3
   },
   "file_extension": ".py",
   "mimetype": "text/x-python",
   "name": "python",
   "nbconvert_exporter": "python",
   "pygments_lexer": "ipython3",
   "version": "3.9.12"
  }
 },
 "nbformat": 4,
 "nbformat_minor": 5
}
