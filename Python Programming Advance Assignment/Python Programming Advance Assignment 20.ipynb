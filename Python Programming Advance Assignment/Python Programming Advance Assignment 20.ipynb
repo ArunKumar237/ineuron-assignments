{
 "cells": [
  {
   "cell_type": "markdown",
   "id": "37c3cf21",
   "metadata": {},
   "source": [
    "Python Programming Advance Assignment 20\n",
    "************"
   ]
  },
  {
   "cell_type": "markdown",
   "id": "630c79bc",
   "metadata": {},
   "source": [
    "1.Create a function based on the input and output. Look at the examples, there is a pattern.\n",
    "\n",
    "Examples\n",
    "```\n",
    "secret(\"p.one.two.three\") ➞ \"<p class='one two three'></p>\"\n",
    "\n",
    "secret(\"p.one\") ➞ \"<p class='one'></p>\"\n",
    "\n",
    "secret(\"p.four.five\") ➞ \"<p class='four five'></p>\"\n",
    "```"
   ]
  },
  {
   "cell_type": "code",
   "execution_count": 7,
   "id": "f1eb2062",
   "metadata": {
    "scrolled": false
   },
   "outputs": [
    {
     "name": "stdout",
     "output_type": "stream",
     "text": [
      "secret(p.one.two.three) ➞ \"<p class ='one two three'></p>\"\n",
      "\n",
      "secret(p.one) ➞ \"<p class ='one'></p>\"\n",
      "\n",
      "secret(p.four.five) ➞ \"<p class ='four five'></p>\"\n",
      "\n"
     ]
    }
   ],
   "source": [
    "def secret(s):\n",
    "    b = s[2:].replace('.',' ')\n",
    "    print(f'secret({s}) ➞ \"<p class =\\'{b}\\'></p>\"\\n')\n",
    "    \n",
    "secret(\"p.one.two.three\")\n",
    "secret(\"p.one\")\n",
    "secret(\"p.four.five\")"
   ]
  },
  {
   "cell_type": "markdown",
   "id": "4b41c32a",
   "metadata": {},
   "source": [
    "***"
   ]
  },
  {
   "cell_type": "markdown",
   "id": "e9a721ab",
   "metadata": {},
   "source": [
    "2.Create a function which counts how many lone 1s appear in a given number. Lone means the number doesn't appear twice or more in a row.\n",
    "\n",
    "Examples\n",
    "```\n",
    "count_lone_ones(101) ➞ 2\n",
    "\n",
    "count_lone_ones(1191) ➞ 1\n",
    "\n",
    "count_lone_ones(1111) ➞ 0\n",
    "\n",
    "count_lone_ones(462) ➞ 0\n",
    "```"
   ]
  },
  {
   "cell_type": "code",
   "execution_count": 25,
   "id": "afe40bfd",
   "metadata": {
    "scrolled": true
   },
   "outputs": [
    {
     "name": "stdout",
     "output_type": "stream",
     "text": [
      "count_lone_ones(101) ➞ 2\n",
      "\n",
      "count_lone_ones(1191) ➞ 1\n",
      "\n",
      "count_lone_ones(1111) ➞ 0\n",
      "\n",
      "count_lone_ones(462) ➞ 0\n",
      "\n"
     ]
    }
   ],
   "source": [
    "def count_lone_ones(m):\n",
    "    n = list(map(str,str(m)))\n",
    "    count = 0\n",
    "    if n[0] == '1' and n[1] != '1':\n",
    "        count += 1\n",
    "    if n[-1] == '1' and n[-2] != '1':\n",
    "        count +=1\n",
    "    else:\n",
    "        for i in range(1,len(n)-1):\n",
    "            if n[i] == '1' and n[i-1] != '1':\n",
    "                count += 1\n",
    "                if n[i+1] == '1':\n",
    "                    count += 1\n",
    "    \n",
    "    print(f'count_lone_ones({m}) ➞ {count}\\n')\n",
    "    \n",
    "    \n",
    "count_lone_ones(101)\n",
    "count_lone_ones(1191)\n",
    "count_lone_ones(1111)\n",
    "count_lone_ones(462)"
   ]
  },
  {
   "cell_type": "markdown",
   "id": "5a138e36",
   "metadata": {},
   "source": [
    "***"
   ]
  },
  {
   "cell_type": "markdown",
   "id": "dcf453a6",
   "metadata": {},
   "source": [
    "3.Write a method that accepts two integer parameters rows and cols. The output is a 2d array of numbers displayed in column-major order, meaning the numbers shown increase sequentially down each column and wrap to the top of the next column to the right once the bottom of the current column is reached.\n",
    "\n",
    "Examples\n",
    "```\n",
    "printGrid(3, 6) ➞ [\n",
    "  [1, 4, 7, 10, 13, 16],\n",
    "  [2, 5, 8, 11, 14, 17],\n",
    "  [3, 6, 9, 12, 15, 18]\n",
    "]\n",
    "\n",
    "printGrid(5, 3) ➞ [\n",
    "  [1, 6, 11],\n",
    "  [2, 7, 12],\n",
    "  [3, 8, 13],\n",
    "  [4, 9, 14],\n",
    "  [5, 10, 15]\n",
    "]\n",
    "\n",
    "printGrid(4, 1) ➞ [\n",
    "  [1],\n",
    "  [2],\n",
    "  [3],\n",
    "  [4]\n",
    "]\n",
    "```"
   ]
  },
  {
   "cell_type": "code",
   "execution_count": 27,
   "id": "cf6e6d39",
   "metadata": {
    "scrolled": true
   },
   "outputs": [
    {
     "name": "stdout",
     "output_type": "stream",
     "text": [
      "printGrid(3, 6) ➞ [\n",
      "[1, 4, 7, 10, 13, 16]\n",
      "[2, 5, 8, 11, 14, 17]\n",
      "[3, 6, 9, 12, 15, 18]\n",
      "]\n",
      "\n",
      "printGrid(5, 3) ➞ [\n",
      "[1, 6, 11]\n",
      "[2, 7, 12]\n",
      "[3, 8, 13]\n",
      "[4, 9, 14]\n",
      "[5, 10, 15]\n",
      "]\n",
      "\n",
      "printGrid(4, 1) ➞ [\n",
      "[1]\n",
      "[2]\n",
      "[3]\n",
      "[4]\n",
      "]\n",
      "\n"
     ]
    }
   ],
   "source": [
    "def printGrid(r,c):\n",
    "    l1 = []\n",
    "    l2 = []\n",
    "    a = ''\n",
    "    print(f'printGrid{r,c} ➞ [')\n",
    "    \n",
    "    for i in range(1,r*c+1):\n",
    "        a += str(i)+' '\n",
    "    a = a.split(' ')[:-1]\n",
    "    \n",
    "    for i in range(r):\n",
    "        for j in a[i::r]:\n",
    "            l1.append(int(j))\n",
    "        l2.append(l1.copy())\n",
    "        l1.clear()\n",
    "    \n",
    "    \n",
    "    for i in l2:\n",
    "        print(i)\n",
    "    print(']\\n')\n",
    "    \n",
    "            \n",
    "            \n",
    "    \n",
    "    \n",
    "printGrid(3,6)\n",
    "printGrid(5,3)\n",
    "printGrid(4,1)"
   ]
  },
  {
   "cell_type": "markdown",
   "id": "a52d9e48",
   "metadata": {},
   "source": [
    "***"
   ]
  },
  {
   "cell_type": "markdown",
   "id": "84216e6b",
   "metadata": {},
   "source": [
    "4.Given a list of integers, return the smallest positive integer not present in the list.\n",
    "```\n",
    "Here is a representative example. Consider the list:\n",
    "\n",
    "[-2, 6, 4, 5, 7, -1, 7, 1, 3, 6, 6, -2, 9, 10, 2, 2]\n",
    "\n",
    "After reordering, the list becomes:\n",
    "\n",
    "[-2, -2, -1, 1, 2, 2, 3, 4, 5, 6, 6, 6, 7, 7, 9, 10]\n",
    "```\n",
    "from which we see that the smallest missing positive integer is 8.\n",
    "\n",
    "Examples\n",
    "```\n",
    "min_miss_pos([-2, 6, 4, 5, 7, -1, 1, 3, 6, -2, 9, 10, 2, 2]) ➞ 8\n",
    "# After sorting, list becomes [-2, -2, -1, 1, 2, 2, 3, 4, 5, 6, 6, 7, 9, 10]\n",
    "# So the smallest missing positive integer is 8\n",
    "\n",
    "min_miss_pos([5, 9, -2, 0, 1, 3, 9, 3, 8, 9]) ➞ 2\n",
    "# After sorting, list becomes [-2, 0, 1, 3, 3, 5, 8, 9, 9, 9]\n",
    "# So the smallest missing positive integer is 2\n",
    "\n",
    "min_miss_pos([0, 4, 4, -1, 9, 4, 5, 2, 10, 7, 6, 3, 10, 9]) ➞ 1\n",
    "# After sorting, list becomes [-1, 0, 2, 3, 4, 4, 4, 5, 6, 7, 9, 9, 10, 10]\n",
    "# So the smallest missing positive integer is 1\n",
    "```"
   ]
  },
  {
   "cell_type": "code",
   "execution_count": 187,
   "id": "22770f3d",
   "metadata": {
    "scrolled": true
   },
   "outputs": [
    {
     "name": "stdout",
     "output_type": "stream",
     "text": [
      "min_miss_pos([-2, -1, 1, 2, 3, 4, 5, 6, 7, 9, 10]) ➞ 8\n",
      "\n",
      "min_miss_pos([-2, 0, 1, 3, 5, 8, 9]) ➞ 2\n",
      "\n",
      "min_miss_pos([-1, 0, 2, 3, 4, 5, 6, 7, 9, 10]) ➞ 1\n",
      "\n"
     ]
    }
   ],
   "source": [
    "def min_miss_pos(l):\n",
    "    l = sorted(list(set(l)))\n",
    "    \n",
    "    for i in l:\n",
    "        if i >= 0:\n",
    "            pos = i\n",
    "            break\n",
    "    \n",
    "    \n",
    "    for i in range(l.index(pos),len(l)-l.index(pos)):\n",
    "        if l[i+1] == l[i]+1:\n",
    "            pass\n",
    "        else:\n",
    "            print(f'min_miss_pos({l}) ➞ {l[i]+1}\\n')\n",
    "            return\n",
    "    \n",
    "    \n",
    "min_miss_pos([-2, 6, 4, 5, 7, -1, 1, 3, 6, -2, 9, 10, 2, 2])\n",
    "min_miss_pos([5, 9, -2, 0, 1, 3, 9, 3, 8, 9])\n",
    "min_miss_pos([0, 4, 4, -1, 9, 4, 5, 2, 10, 7, 6, 3, 10, 9])"
   ]
  },
  {
   "cell_type": "markdown",
   "id": "1811d892",
   "metadata": {},
   "source": [
    "***"
   ]
  },
  {
   "cell_type": "markdown",
   "id": "8bacef91",
   "metadata": {},
   "source": [
    "5.Google is launching a network of autonomous pizza delivery drones and wants you to create a flexible rewards system (Pizza Points™) that can be tweaked in the future. The rules are simple: if a customer has made at least N orders of at least Y price, they get a FREE pizza!\n",
    "\n",
    "Create a function that takes a dictionary of customers, a minimum number of orders and a minimum order price. Return a list of customers that are eligible for a free pizza.\n",
    "\n",
    "Examples\n",
    "```\n",
    "customers = {\n",
    "  \"Batman\": [22, 30, 11, 17, 15, 52, 27, 12],\n",
    "  \"Spider-Man\": [5, 17, 30, 33, 40, 22, 26, 10, 11, 45]\n",
    "}\n",
    "\n",
    "  pizza_points(customers, 5, 20) ➞ [\"Spider-Man\"]\n",
    "\n",
    "  pizza_points(customers, 3, 10) ➞ [\"Batman\", \"Spider-Man\"]\n",
    "\n",
    "  pizza_points(customers, 5, 100) ➞ []\n",
    "```"
   ]
  },
  {
   "cell_type": "code",
   "execution_count": 198,
   "id": "7c43f89f",
   "metadata": {},
   "outputs": [
    {
     "name": "stdout",
     "output_type": "stream",
     "text": [
      "pizza_points(5, 20) ➞ ['Spider-Man']\n",
      "\n",
      "pizza_points(3, 10) ➞ ['Batman', 'Spider-Man']\n",
      "\n",
      "pizza_points(5, 100) ➞ []\n",
      "\n"
     ]
    }
   ],
   "source": [
    "customers = {\n",
    "  \"Batman\": [22, 30, 11, 17, 15, 52, 27, 12],\n",
    "  \"Spider-Man\": [5, 17, 30, 33, 40, 22, 26, 10, 11, 45]\n",
    "}\n",
    "\n",
    "def pizza_points(customers, minOrders, minPrice):\n",
    "    \n",
    "    new=[]\n",
    "    for cust in customers:\n",
    "        x=[i for i in customers[cust] if i>minPrice]\n",
    "        if len(x)>=minOrders:\n",
    "            new.append(cust)\n",
    "    print(f'pizza_points{minOrders, minPrice} ➞ {new}\\n')\n",
    "\n",
    "pizza_points(customers, 5, 20)\n",
    "pizza_points(customers, 3, 10)\n",
    "pizza_points(customers, 5, 100)"
   ]
  }
 ],
 "metadata": {
  "kernelspec": {
   "display_name": "Python 3 (ipykernel)",
   "language": "python",
   "name": "python3"
  },
  "language_info": {
   "codemirror_mode": {
    "name": "ipython",
    "version": 3
   },
   "file_extension": ".py",
   "mimetype": "text/x-python",
   "name": "python",
   "nbconvert_exporter": "python",
   "pygments_lexer": "ipython3",
   "version": "3.8.12"
  }
 },
 "nbformat": 4,
 "nbformat_minor": 5
}
