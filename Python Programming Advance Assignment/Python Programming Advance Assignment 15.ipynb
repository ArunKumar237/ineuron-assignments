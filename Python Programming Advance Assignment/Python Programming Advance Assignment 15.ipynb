{
 "cells": [
  {
   "cell_type": "markdown",
   "id": "2cdd04fb",
   "metadata": {},
   "source": [
    "Python Programming Advance Assignment 15\n",
    "****************************************"
   ]
  },
  {
   "cell_type": "markdown",
   "id": "86fb11f0",
   "metadata": {},
   "source": [
    "1.Write a function that returns True if a given name can generate an array of words.\n",
    "\n",
    "Examples\n",
    "```\n",
    "anagram(\"Justin Bieber\", [\"injures\", \"ebb\", \"it\"]) ➞ True\n",
    "\n",
    "anagram(\"Natalie Portman\", [\"ornamental\", \"pita\"]) ➞ True\n",
    "\n",
    "anagram(\"Chris Pratt\", [\"chirps\", \"rat\"]) ➞ False\n",
    "# Not all letters are used\n",
    "\n",
    "anagram(\"Jeff Goldblum\", [\"jog\", \"meld\", \"bluffs\"]) ➞ False\n",
    "# \"s\" does not exist in the original name\n",
    "```"
   ]
  },
  {
   "cell_type": "code",
   "execution_count": 142,
   "id": "38b79937",
   "metadata": {},
   "outputs": [
    {
     "name": "stdout",
     "output_type": "stream",
     "text": [
      "anagram('Justin Bieber', ['injures', 'ebb', 'it']) ➞ True\n",
      "\n",
      "anagram('Natalie Portman', ['ornamental', 'pita']) ➞ True\n",
      "\n",
      "anagram('Chris Pratt', ['chirps', 'rat']) ➞ False\n",
      "\n",
      "anagram('Jeff Goldblum', ['jog', 'meld', 'bluffs']) ➞ False\n",
      "\n"
     ]
    }
   ],
   "source": [
    "def anagram(s,l):\n",
    "    \n",
    "    a = list(map(str,s.replace(' ','').lower()))\n",
    "    b = list(map(str,''.join(l)))\n",
    "    \n",
    "    \n",
    "    if len(a) == len(b):\n",
    "        \n",
    "        for i in b:\n",
    "            if i in a:\n",
    "                a.remove(i)\n",
    "                \n",
    "        if len(a) == 0:\n",
    "            print(f'anagram{s,l} ➞ {True}\\n')\n",
    "        else:\n",
    "            print(f'anagram{s,l} ➞ {False}\\n')\n",
    "    \n",
    "    \n",
    "    else:\n",
    "        print(f'anagram{s,l} ➞ {False}\\n')\n",
    "    \n",
    "    \n",
    "\n",
    "anagram(\"Justin Bieber\", [\"injures\", \"ebb\", \"it\"])\n",
    "anagram(\"Natalie Portman\", [\"ornamental\", \"pita\"])\n",
    "anagram(\"Chris Pratt\", [\"chirps\", \"rat\"])\n",
    "anagram(\"Jeff Goldblum\", [\"jog\", \"meld\", \"bluffs\"])"
   ]
  },
  {
   "cell_type": "markdown",
   "id": "f86350bb",
   "metadata": {},
   "source": [
    "****"
   ]
  },
  {
   "cell_type": "markdown",
   "id": "6e3c53ae",
   "metadata": {},
   "source": [
    "2.Given an array of users, each defined by an object with the following properties: name, score, reputation create a function that sorts the array to form the correct leaderboard.\n",
    "\n",
    "The leaderboard takes into consideration the score of each user of course, but an emphasis is put on their reputation in the community, so to get the trueScore, you should add the reputation multiplied by 2 to the score.\n",
    "\n",
    "Once you know the trueScore of each user, sort the array according to it in descending order.\n",
    "\n",
    "Examples\n",
    "```\n",
    "leaderboards([\n",
    "  { \"name\": \"a\", \"score\": 100, \"reputation\": 20 },\n",
    "  { \"name\": \"b\", \"score\": 90, \"reputation\": 40 },\n",
    "  { \"name\": \"c\", \"score\": 115, \"reputation\": 30 },\n",
    "]) ➞ [\n",
    "  { \"name\": \"c\", \"score\": 115, \"reputation\": 30 },  # trueScore = 175\n",
    "  { \"name\": \"b\", \"score\": 90, \"reputation\": 40 },   # trueScore = 170\n",
    "  { \"name\": \"a\", \"score\": 100, \"reputation\": 20 }   # trueScore = 140\n",
    "]\n",
    "```"
   ]
  },
  {
   "cell_type": "code",
   "execution_count": 172,
   "id": "5821d340",
   "metadata": {},
   "outputs": [
    {
     "name": "stdout",
     "output_type": "stream",
     "text": [
      "{'name': 'a', 'score': 100, 'reputation': 20}\n",
      "{'name': 'b', 'score': 90, 'reputation': 40}\n",
      "{'name': 'c', 'score': 115, 'reputation': 30}\n",
      "\n",
      "➞\n",
      "\t{'name': 'c', 'score': 115, 'reputation': 30} #trueScore = 175\n",
      "\t{'name': 'b', 'score': 90, 'reputation': 40} #trueScore = 170\n",
      "\t{'name': 'a', 'score': 100, 'reputation': 20} #trueScore = 140\n"
     ]
    }
   ],
   "source": [
    "def leaderboards(l):\n",
    "    [print(i) for i in l]\n",
    "    \n",
    "    t = []\n",
    "    for i in l:\n",
    "        a = i.get('score') + (i.get('reputation') * 2)\n",
    "        t.append([a,l.index(i)])\n",
    "    \n",
    "    t.sort(reverse=True)\n",
    "    print('\\n➞')\n",
    "    for i in t:\n",
    "        print(f'\\t{l[i[1]]} #trueScore = {i[0]}')\n",
    "\n",
    "leaderboards([\n",
    "  { \"name\": \"a\", \"score\": 100, \"reputation\": 20 },\n",
    "  { \"name\": \"b\", \"score\": 90, \"reputation\": 40 },\n",
    "  { \"name\": \"c\", \"score\": 115, \"reputation\": 30 },\n",
    "])"
   ]
  },
  {
   "cell_type": "markdown",
   "id": "89046f9a",
   "metadata": {},
   "source": [
    "****"
   ]
  },
  {
   "cell_type": "markdown",
   "id": "ad2d8ea5",
   "metadata": {},
   "source": [
    "3.Create a function that, given a phrase and a number of letters guessed, returns a string with hyphens - for every letter of the phrase not guessed, and each letter guessed in place.\n",
    "\n",
    "Examples\n",
    "```\n",
    "hangman(\"helicopter\", [\"o\", \"e\", \"s\"]) ➞ \"-e---o--e-\"\n",
    "\n",
    "hangman(\"tree\", [\"r\", \"t\", \"e\"]) ➞ \"tree\"\n",
    "\n",
    "hangman(\"Python rules\", [\"a\", \"n\", \"p\", \"r\", \"z\"]) ➞ \"P----n r----\"\n",
    "\n",
    "hangman(\"He\"s a very naughty boy!\", [\"e\", \"a\", \"y\"]) ➞ \"-e\"- a -e-y -a----y –y!\"\n",
    "```"
   ]
  },
  {
   "cell_type": "code",
   "execution_count": 82,
   "id": "2ff1d136",
   "metadata": {},
   "outputs": [
    {
     "name": "stdout",
     "output_type": "stream",
     "text": [
      "hangman('helicopter', ['o', 'e', 's']) ➞ -e---o--e-\n",
      "\n",
      "hangman('tree', ['r', 't', 'e']) ➞ tree\n",
      "\n",
      "hangman('Python rules', ['a', 'n', 'p', 'r', 'z']) ➞ P----n r----\n",
      "\n",
      "hangman(\"He's a very naughty boy!\", ['e', 'a', 'y']) ➞ -e'- a -e-y -a----y --y!\n",
      "\n"
     ]
    }
   ],
   "source": [
    "def hangman(b,c):\n",
    "    s,l = b,c\n",
    "    punch = '!\"#$%&\\'()*+, -./:;<=>?@[\\]^_`{|}~'\n",
    "    a = ''\n",
    "    st = list(map(str,s.lower()))\n",
    "    s = list(map(str,s))\n",
    "    for i in st:\n",
    "        if i in l or i in punch:\n",
    "            a += i\n",
    "        else:\n",
    "            a += '-'\n",
    "    a = list(map(str,a))\n",
    "\n",
    "    \n",
    "    for i in range(len(s)):\n",
    "        try:\n",
    "            if s[i].isupper():\n",
    "                a.insert(a.index(st[i]),s[i])\n",
    "                a.pop(a.index(a[i+1]))\n",
    "            else:\n",
    "                pass\n",
    "        except:\n",
    "            pass\n",
    "    a = ''.join(a)\n",
    "    \n",
    "    print(f'hangman{b,c} ➞ {a}\\n')\n",
    "    \n",
    "    \n",
    "hangman(\"helicopter\", [\"o\", \"e\", \"s\"])\n",
    "hangman(\"tree\", [\"r\", \"t\", \"e\"])\n",
    "hangman(\"Python rules\", [\"a\", \"n\", \"p\", \"r\", \"z\"])\n",
    "hangman(\"He's a very naughty boy!\", [\"e\", \"a\", \"y\"])"
   ]
  },
  {
   "cell_type": "markdown",
   "id": "54ee65a0",
   "metadata": {},
   "source": [
    "****"
   ]
  },
  {
   "cell_type": "markdown",
   "id": "b11abf4d",
   "metadata": {},
   "source": [
    "4.The Collatz sequence is as follows:\n",
    "```\n",
    "  - Start with some given integer n.\n",
    "  - If it is even, the next number will be n divided by 2.\n",
    "  - If it is odd, multiply it by 3 and add 1 to make the next number.\n",
    "  - The sequence stops when it reaches 1.\n",
    "```\n",
    "According to the Collatz conjecture, it will always reach 1. If that's true, you can construct a finite sequence following the aforementioned method for any given integer.\n",
    "\n",
    "Write a function that takes in an integer n and returns the highest integer in the corresponding Collatz sequence.\n",
    "\n",
    "Examples\n",
    "```\n",
    "max_collatz(10) ➞ 16\n",
    "# Collatz sequence: 10, 5, 16, 8, 4, 2, 1\n",
    "\n",
    "max_collatz(32) ➞ 32\n",
    "# Collatz sequence: 32, 16, 8, 4, 2, 1\n",
    "\n",
    "max_collatz(85) ➞ 256\n",
    "# Collatz sequence: 85, 256, 128, 64, 32, 16, 8, 4, 2, 1\n",
    "```"
   ]
  },
  {
   "cell_type": "code",
   "execution_count": 131,
   "id": "c53ba7e3",
   "metadata": {},
   "outputs": [
    {
     "name": "stdout",
     "output_type": "stream",
     "text": [
      "# Collatz sequence: [10, 5, 16, 8, 4, 2, 1]\n",
      "max_collatz(10) ➞ 16\n",
      "\n",
      "# Collatz sequence: [32, 16, 8, 4, 2, 1]\n",
      "max_collatz(32) ➞ 32\n",
      "\n",
      "# Collatz sequence: [85, 256, 128, 64, 32, 16, 8, 4, 2, 1]\n",
      "max_collatz(85) ➞ 256\n",
      "\n"
     ]
    }
   ],
   "source": [
    "def max_collatz(m):\n",
    "    n = m\n",
    "    l=[]\n",
    "    l.append(n)\n",
    "    while(n!= 1):\n",
    "        if n%2 ==0:\n",
    "            n=int(n/2)\n",
    "        else:\n",
    "            n= (3*n)+1\n",
    "        l.append(n)\n",
    "    print(\"# Collatz sequence:\",l)\n",
    "    print(f'max_collatz({m}) ➞ {max(l)}\\n')\n",
    "\n",
    "max_collatz(10)\n",
    "max_collatz(32)\n",
    "max_collatz(85)"
   ]
  },
  {
   "cell_type": "markdown",
   "id": "89a87b8a",
   "metadata": {},
   "source": [
    "****"
   ]
  },
  {
   "cell_type": "markdown",
   "id": "a6ed7db3",
   "metadata": {},
   "source": [
    "5.Write a function that sorts a list of integers by their digit length in descending order, then settles ties by sorting numbers with the same digit length in ascending order.\n",
    "\n",
    "Examples\n",
    "```\n",
    "digit_sort([77, 23, 5, 7, 101])\n",
    "➞ [101, 23, 77, 5, 7]\n",
    "\n",
    "digit_sort([1, 5, 9, 2, 789, 563, 444])\n",
    "➞ [444, 563, 789, 1, 2, 5, 9]\n",
    "\n",
    "digit_sort([53219, 3772, 564, 32, 1])\n",
    "➞ [53219, 3772, 564, 32, 1]\n",
    "```"
   ]
  },
  {
   "cell_type": "code",
   "execution_count": 6,
   "id": "0a5a0d64",
   "metadata": {},
   "outputs": [
    {
     "data": {
      "text/plain": [
       "['101', '23', '77', '5', '7']"
      ]
     },
     "execution_count": 6,
     "metadata": {},
     "output_type": "execute_result"
    }
   ],
   "source": [
    "def digit_sort(l):\n",
    "    l=sorted(l,reverse = True)\n",
    "    l = [str(i) for i in l]\n",
    "    i= len(l)\n",
    "    for k in range (i):\n",
    "        for j in range(0,i-1):\n",
    "            if len(l[j])==len(l[j+1]):\n",
    "                if l[j]>l[j+1]:\n",
    "                    temp = l[j]\n",
    "                    l[j] =l[j+1]\n",
    "                    l[j+1]=temp\n",
    "    return l\n",
    "\n",
    "digit_sort([77, 23, 5, 7, 101])"
   ]
  },
  {
   "cell_type": "code",
   "execution_count": 7,
   "id": "4846bfd6",
   "metadata": {},
   "outputs": [
    {
     "data": {
      "text/plain": [
       "['444', '563', '789', '1', '2', '5', '9']"
      ]
     },
     "execution_count": 7,
     "metadata": {},
     "output_type": "execute_result"
    }
   ],
   "source": [
    " digit_sort([1, 5, 9, 2, 789, 563, 444])"
   ]
  },
  {
   "cell_type": "code",
   "execution_count": 8,
   "id": "189a6b8d",
   "metadata": {},
   "outputs": [
    {
     "data": {
      "text/plain": [
       "['53219', '3772', '564', '32', '1']"
      ]
     },
     "execution_count": 8,
     "metadata": {},
     "output_type": "execute_result"
    }
   ],
   "source": [
    "digit_sort([53219, 3772, 564, 32, 1])"
   ]
  }
 ],
 "metadata": {
  "kernelspec": {
   "display_name": "Python 3 (ipykernel)",
   "language": "python",
   "name": "python3"
  },
  "language_info": {
   "codemirror_mode": {
    "name": "ipython",
    "version": 3
   },
   "file_extension": ".py",
   "mimetype": "text/x-python",
   "name": "python",
   "nbconvert_exporter": "python",
   "pygments_lexer": "ipython3",
   "version": "3.8.12"
  }
 },
 "nbformat": 4,
 "nbformat_minor": 5
}
