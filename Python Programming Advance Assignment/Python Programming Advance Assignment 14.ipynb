{
 "cells": [
  {
   "cell_type": "markdown",
   "id": "2cdd04fb",
   "metadata": {},
   "source": [
    "Python Programming Advance Assignment 14\n",
    "****************************************"
   ]
  },
  {
   "cell_type": "markdown",
   "id": "86fb11f0",
   "metadata": {},
   "source": [
    "1.Given a list of numbers, create a function that removes 25% from every number in the list except the smallest number, and adds the total amount removed to the smallest number.\n",
    "\n",
    "Examples\n",
    "```\n",
    "show_the_love([4, 1, 4]) ➞ [3, 3, 3]\n",
    "\n",
    "show_the_love([16, 10, 8]) ➞ [12, 7.5, 14.5]\n",
    "\n",
    "show_the_love([2, 100]) ➞ [27, 75]\n",
    "```"
   ]
  },
  {
   "cell_type": "code",
   "execution_count": 6,
   "id": "9df3e4c7",
   "metadata": {},
   "outputs": [
    {
     "name": "stdout",
     "output_type": "stream",
     "text": [
      "show_the_love([4, 1, 4]) ➞ [3.0, 3.0, 3.0]\n",
      "\n",
      "show_the_love([16, 10, 8]) ➞ [12.0, 7.5, 14.5]\n",
      "\n",
      "show_the_love([2, 100]) ➞ [75.0, 27.0]\n",
      "\n"
     ]
    }
   ],
   "source": [
    "import re\n",
    "def show_the_love(n):\n",
    "    l = n.copy()\n",
    "    a = 0\n",
    "    l.sort(reverse = True)\n",
    "    for i in range(len(l)-1):\n",
    "        a += l[i] * 0.25\n",
    "    \n",
    "    for i in range(len(l)-1):\n",
    "        l[i] = l[i] * 0.75\n",
    "    \n",
    "    l[-1] += a\n",
    "    \n",
    "    print(f'show_the_love({n}) ➞ {l}\\n')\n",
    "\n",
    "show_the_love([4,1,4])\n",
    "show_the_love([16, 10, 8])\n",
    "show_the_love([2, 100])"
   ]
  },
  {
   "cell_type": "markdown",
   "id": "f86350bb",
   "metadata": {},
   "source": [
    "****"
   ]
  },
  {
   "cell_type": "markdown",
   "id": "6e3c53ae",
   "metadata": {},
   "source": [
    "2.Create a function that takes in two words as input and returns a list of three elements, in the following order:\n",
    "```\n",
    "   1.Shared letters between two words.\n",
    "   2.Letters unique to word 1.\n",
    "   3.Letters unique to word 2.\n",
    "```\n",
    "Each element should have unique letters, and have each letter be alphabetically sorted.\n",
    "\n",
    "Examples\n",
    "```\n",
    "letters(\"sharp\", \"soap\") ➞ [\"aps\", \"hr\", \"o\"]\n",
    "\n",
    "letters(\"board\", \"bored\") ➞ [\"bdor\", \"a\", \"e\"]\n",
    "\n",
    "letters(\"happiness\", \"envelope\") ➞ [\"enp\", \"ahis\", \"lov\"]\n",
    "\n",
    "letters(\"kerfuffle\", \"fluffy\") ➞ [\"flu\", \"ekr\", \"y\"]\n",
    "# Even with multiple matching letters (e.g. 3 f's), there should \n",
    "# only exist a single \"f\" in your first element.\n",
    "\n",
    "letters(\"match\", \"ham\") ➞ [\"ahm\", \"ct\", \"\"]\n",
    "# \"ham\" does not contain any letters that are not found already \n",
    "# in \"match\".\n",
    "```"
   ]
  },
  {
   "cell_type": "code",
   "execution_count": 38,
   "id": "5821d340",
   "metadata": {},
   "outputs": [
    {
     "name": "stdout",
     "output_type": "stream",
     "text": [
      "letters('sharp', 'soap') ➞ ['aps', 'hr', 'o']\n",
      "\n",
      "letters('board', 'bored') ➞ ['bdor', 'a', 'e']\n",
      "\n",
      "letters('happiness', 'envelope') ➞ ['enp', 'ahis', 'lov']\n",
      "\n",
      "letters('kerfuffle', 'fluffy') ➞ ['flu', 'ekr', 'y']\n",
      "\n",
      "letters('match', 'ham') ➞ ['ahm', 'ct', '']\n",
      "\n"
     ]
    }
   ],
   "source": [
    "def letters(s,t):\n",
    "    a = []\n",
    "    final = []\n",
    "    if len(s) < len(t):\n",
    "        s,t = t,s\n",
    "    \n",
    "    for i in range(len(s)):\n",
    "        if s[i] in t:\n",
    "            a.append(s[i])\n",
    "    final.append(''.join(sorted(set(a))))\n",
    "    a.clear()\n",
    "    \n",
    "    for i in range(len(s)):\n",
    "        if s[i] not in t:\n",
    "            a.append(s[i])\n",
    "    final.append(''.join(sorted(set(a))))\n",
    "    a.clear()\n",
    "    \n",
    "    for i in range(len(t)):\n",
    "        if t[i] not in s:\n",
    "            a.append(t[i])\n",
    "    final.append(''.join(sorted(set(a))))\n",
    "\n",
    "    \n",
    "    print(f'letters{s,t} ➞ {final}\\n')\n",
    "    \n",
    "    \n",
    "letters(\"sharp\", \"soap\")\n",
    "letters(\"board\", \"bored\")\n",
    "letters(\"happiness\", \"envelope\")\n",
    "letters(\"kerfuffle\", \"fluffy\")\n",
    "letters(\"match\", \"ham\")"
   ]
  },
  {
   "cell_type": "markdown",
   "id": "89046f9a",
   "metadata": {},
   "source": [
    "****"
   ]
  },
  {
   "cell_type": "markdown",
   "id": "ad2d8ea5",
   "metadata": {},
   "source": [
    "3.Write a function that pairs the first number in an array with the last, the second number with the second to last, etc.\n",
    "\n",
    "Examples\n",
    "```\n",
    "pairs([1, 2, 3, 4, 5, 6, 7]) ➞ [[1, 7], [2, 6], [3, 5], [4, 4]]\n",
    "\n",
    "pairs([1, 2, 3, 4, 5, 6]) ➞ [[1, 6], [2, 5], [3, 4]]\n",
    "\n",
    "pairs([5, 9, 8, 1, 2]) ➞ [[5, 2], [9, 1], [8, 8]]\n",
    "\n",
    "pairs([]) ➞ []\n",
    "```"
   ]
  },
  {
   "cell_type": "code",
   "execution_count": 91,
   "id": "2ff1d136",
   "metadata": {},
   "outputs": [
    {
     "name": "stdout",
     "output_type": "stream",
     "text": [
      "pairs([1, 2, 3, 4, 5, 6, 7]) ➞ [[1, 7], [2, 6], [3, 5], [4, 4]] \n",
      "\n",
      "pairs([1, 2, 3, 4, 5, 6]) ➞ [[1, 6], [2, 5], [3, 4]] \n",
      "\n",
      "pairs([5, 9, 8, 1, 2]) ➞ [[5, 2], [9, 1], [8, 8]] \n",
      "\n",
      "pairs([]) ➞ [] \n",
      "\n"
     ]
    }
   ],
   "source": [
    "def pairs(l):\n",
    "    f = []\n",
    "    j = 1\n",
    "    if len(l)%2 == 1:\n",
    "        for i in range(len(l)//2):\n",
    "            f.append([l[i],l[-j]])\n",
    "            j+=1\n",
    "        f.append([l[len(l)//2], l[len(l)//2]])\n",
    "        print(f'pairs({l}) ➞ {f}','\\n')\n",
    "    \n",
    "    else:\n",
    "        for i in range(len(l)//2):\n",
    "            f.append([l[i],l[-j]])\n",
    "            j+=1\n",
    "        print(f'pairs({l}) ➞ {f}','\\n')\n",
    "\n",
    "pairs([1, 2, 3, 4, 5, 6, 7])\n",
    "pairs([1, 2, 3, 4, 5, 6])\n",
    "pairs([5, 9, 8, 1, 2])\n",
    "pairs([])"
   ]
  },
  {
   "cell_type": "markdown",
   "id": "54ee65a0",
   "metadata": {},
   "source": [
    "****"
   ]
  },
  {
   "cell_type": "markdown",
   "id": "b11abf4d",
   "metadata": {},
   "source": [
    "4.Write a function that adds two numbers. The catch, however, is that the numbers will be strings.\n",
    "\n",
    "Examples\n",
    "```\n",
    "add_str_nums(\"4\", \"5\") ➞ \"9\"\n",
    "\n",
    "add_str_nums(\"abcdefg\", \"3\") ➞ \"-1\"\n",
    "\n",
    "add_str_nums(\"1\", \"\") ➞ \"1\"\n",
    "\n",
    "add_str_nums(\"1874682736267235927359283579235789257\", \"32652983572985729\") ➞ \"1874682736267235927391936562808774986\"\n",
    "```"
   ]
  },
  {
   "cell_type": "code",
   "execution_count": 103,
   "id": "01b79671",
   "metadata": {},
   "outputs": [
    {
     "name": "stdout",
     "output_type": "stream",
     "text": [
      "add_str_nums('4', '5') ➞ 9\n",
      "\n",
      "add_str_nums('abcdefg', '3') ➞ -1\n",
      "\n",
      "add_str_nums('1', '') ➞ 1\n",
      "\n",
      "add_str_nums('1874682736267235927359283579235789257', '32652983572985729') ➞ 1874682736267235927391936562808774986\n",
      "\n"
     ]
    }
   ],
   "source": [
    "def add_str_nums(u,v):\n",
    "    if len(u) == 0:\n",
    "        print(f'add_str_nums{u,v} ➞ {v}\\n')\n",
    "    \n",
    "    elif len(v) == 0:\n",
    "        print(f'add_str_nums{u,v} ➞ {u}\\n')\n",
    "    \n",
    "    elif (u.isdigit() == True) and (v.isdigit() == True):\n",
    "        print(f'add_str_nums{u,v} ➞ {int(u) + int(v)}\\n')\n",
    "    \n",
    "    else:\n",
    "        print(f'add_str_nums{u,v} ➞ {-1}\\n')            \n",
    "    \n",
    "add_str_nums('4','5')\n",
    "add_str_nums(\"abcdefg\", \"3\")\n",
    "add_str_nums(\"1\", \"\")\n",
    "add_str_nums(\"1874682736267235927359283579235789257\", \"32652983572985729\")"
   ]
  },
  {
   "cell_type": "markdown",
   "id": "89a87b8a",
   "metadata": {},
   "source": [
    "****"
   ]
  },
  {
   "cell_type": "markdown",
   "id": "a6ed7db3",
   "metadata": {},
   "source": [
    "5.lPaeesh le pemu mnxit ehess rtnisg! Oh, sorry, that was supposed to say: Please help me unmix these strings!\n",
    "\n",
    "Somehow my strings have all become mixed up; every pair of characters has been swapped. Help me undo this so I can understand my strings again.\n",
    "\n",
    "Examples\n",
    "```\n",
    "unmix(\"123456\") ➞ \"214365\"\n",
    "\n",
    "unmix(\"hTsii  s aimex dpus rtni.g\") ➞ \"This is a mixed up string.\"\n",
    "\n",
    "unmix(\"badce\") ➞ \"abcde\"\n",
    "```"
   ]
  },
  {
   "cell_type": "code",
   "execution_count": 106,
   "id": "0a5a0d64",
   "metadata": {},
   "outputs": [
    {
     "name": "stdout",
     "output_type": "stream",
     "text": [
      "214365\n",
      "This is a mixed up string.\n",
      "abcde\n"
     ]
    }
   ],
   "source": [
    "def unmix(s):\n",
    "    s=''.join([ s[x:x+2][::-1] for x in range(0, len(s), 2) ])\n",
    "    return print(s)\n",
    "\n",
    "unmix(\"123456\")\n",
    "unmix(\"hTsii  s aimex dpus rtni.g\")\n",
    "unmix(\"badce\")"
   ]
  }
 ],
 "metadata": {
  "kernelspec": {
   "display_name": "Python 3 (ipykernel)",
   "language": "python",
   "name": "python3"
  },
  "language_info": {
   "codemirror_mode": {
    "name": "ipython",
    "version": 3
   },
   "file_extension": ".py",
   "mimetype": "text/x-python",
   "name": "python",
   "nbconvert_exporter": "python",
   "pygments_lexer": "ipython3",
   "version": "3.8.12"
  }
 },
 "nbformat": 4,
 "nbformat_minor": 5
}
