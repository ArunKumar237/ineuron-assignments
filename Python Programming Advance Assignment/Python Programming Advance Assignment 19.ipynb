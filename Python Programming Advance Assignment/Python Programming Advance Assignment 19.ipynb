{
 "cells": [
  {
   "cell_type": "markdown",
   "id": "37c3cf21",
   "metadata": {},
   "source": [
    "Python Programming Advance Assignment 19\n",
    "************"
   ]
  },
  {
   "cell_type": "markdown",
   "id": "630c79bc",
   "metadata": {},
   "source": [
    "1.Create a checker board generator, which takes as inputs n and 2 elements to generate an n x n checkerboard with those two elements as alternating squares.\n",
    "\n",
    "Examples\n",
    "```\n",
    "checker_board(2, 7, 6) ➞ [\n",
    "  [7, 6],\n",
    "  [6, 7]\n",
    "]\n",
    "\n",
    "checker_board(3, \"A\", \"B\") ➞ [\n",
    "  [\"A\", \"B\", \"A\"],\n",
    "  [\"B\", \"A\", \"B\"],\n",
    "  [\"A\", \"B\", \"A\"]\n",
    "]\n",
    "\n",
    "checker_board(4, \"c\", \"d\") ➞ [\n",
    "  [\"c\", \"d\", \"c\", \"d\"],\n",
    "  [\"d\", \"c\", \"d\", \"c\"],\n",
    "  [\"c\", \"d\", \"c\", \"d\"],\n",
    "  [\"d\", \"c\", \"d\", \"c\"]\n",
    "]\n",
    "\n",
    "checker_board(4, \"c\", \"c\") ➞ \"invalid\"\n",
    "```"
   ]
  },
  {
   "cell_type": "code",
   "execution_count": 1,
   "id": "f1eb2062",
   "metadata": {
    "scrolled": true
   },
   "outputs": [
    {
     "name": "stdout",
     "output_type": "stream",
     "text": [
      "checker_board(2, 7, 6) \n",
      "➞ [[7, 6], [6, 7]]\n",
      "\n",
      "checker_board(3, 'A', 'B') \n",
      "➞ [['A', 'B', 'A'], ['B', 'A', 'B'], ['A', 'B', 'A']]\n",
      "\n",
      "checker_board(4, 'c', 'd') \n",
      "➞ [['c', 'd', 'c', 'd'], ['d', 'c', 'd', 'c'], ['c', 'd', 'c', 'd'], ['d', 'c', 'd', 'c']]\n",
      "\n"
     ]
    }
   ],
   "source": [
    "def checker_board(a,b,c):\n",
    "    l = []\n",
    "    m = []\n",
    "    n = []\n",
    "    t = 0\n",
    "    e = 0\n",
    "    \n",
    "    for i in range(a*a):\n",
    "        if t == 0:\n",
    "            l.append(b)\n",
    "            t = 1\n",
    "        elif t == 1:\n",
    "            l.append(c)\n",
    "            t = 0      \n",
    "    \n",
    "    for k in range(1,len(l)//a+1):\n",
    "        f = a * k\n",
    "        m.append(l[e:f])\n",
    "        e = f\n",
    "\n",
    "    for o in range(len(m)):\n",
    "        if o%2 == 0:\n",
    "            n.append(m[o])\n",
    "        else:\n",
    "            n.append(list(reversed(m[o])))\n",
    "\n",
    "    print(f'checker_board{a,b,c} \\n➞ {n}\\n')\n",
    "    \n",
    "checker_board(2, 7, 6)\n",
    "checker_board(3, 'A', 'B')\n",
    "checker_board(4, \"c\", \"d\")\n"
   ]
  },
  {
   "cell_type": "markdown",
   "id": "e9a721ab",
   "metadata": {},
   "source": [
    "2.A string is an almost-palindrome if, by changing only one character, you can make it a palindrome. Create a function that returns True if a string is an almost-palindrome and False otherwise.\n",
    "\n",
    "Examples\n",
    "```\n",
    "almost_palindrome(\"abcdcbg\") ➞ True\n",
    "# Transformed to \"abcdcba\" by changing \"g\" to \"a\".\n",
    "\n",
    "almost_palindrome(\"abccia\") ➞ True\n",
    "# Transformed to \"abccba\" by changing \"i\" to \"b\".\n",
    "\n",
    "almost_palindrome(\"abcdaaa\") ➞ False\n",
    "# Can't be transformed to a palindrome in exactly 1 turn.\n",
    "\n",
    "almost_palindrome(\"1234312\") ➞ False\n",
    "```"
   ]
  },
  {
   "cell_type": "code",
   "execution_count": 2,
   "id": "afe40bfd",
   "metadata": {
    "scrolled": true
   },
   "outputs": [
    {
     "name": "stdout",
     "output_type": "stream",
     "text": [
      "almost_palindrome(abcdcbg) ➞ True\n",
      "\n",
      "almost_palindrome(abccia) ➞ True\n",
      "\n",
      "almost_palindrome(abcdaaa) ➞ False\n",
      "\n",
      "almost_palindrome(1234312) ➞ False\n",
      "\n"
     ]
    }
   ],
   "source": [
    "def almost_palindrome(s):\n",
    "    if len(s)%2 != 0:\n",
    "        a = set(s[:len(s)//2])\n",
    "        b = s[len(s)//2+1:]\n",
    "        b = set(reversed(b))\n",
    "    else:\n",
    "        a = set(s[:len(s)//2])\n",
    "        b = set(s[len(s)//2:])\n",
    "    \n",
    "    if len(a-b) == 1:\n",
    "        print(f'almost_palindrome({s}) ➞ {True}\\n')\n",
    "    else:\n",
    "        print(f'almost_palindrome({s}) ➞ {False}\\n')\n",
    "\n",
    "almost_palindrome('abcdcbg')\n",
    "almost_palindrome(\"abccia\")\n",
    "almost_palindrome(\"abcdaaa\")\n",
    "almost_palindrome(\"1234312\")"
   ]
  },
  {
   "cell_type": "markdown",
   "id": "dcf453a6",
   "metadata": {},
   "source": [
    "3.Create a function that finds how many prime numbers there are, up to the given integer.\n",
    "\n",
    "Examples\n",
    "```\n",
    "prime_numbers(10) ➞ 4\n",
    "# 2, 3, 5 and 7\n",
    "\n",
    "prime_numbers(20) ➞ 8\n",
    "# 2, 3, 5, 7, 11, 13, 17 and 19\n",
    "\n",
    "prime_numbers(30) ➞ 10\n",
    "# 2, 3, 5, 7, 11, 13, 17, 19, 23 and 29\n",
    "```"
   ]
  },
  {
   "cell_type": "code",
   "execution_count": 3,
   "id": "cf6e6d39",
   "metadata": {
    "scrolled": true
   },
   "outputs": [
    {
     "name": "stdout",
     "output_type": "stream",
     "text": [
      "prime_numbers(10) ➞ 4\n",
      "\n",
      "prime_numbers(20) ➞ 8\n",
      "\n",
      "prime_numbers(30) ➞ 10\n",
      "\n"
     ]
    }
   ],
   "source": [
    "def prime_numbers(n):\n",
    "    count=0\n",
    "    for i in range(n+1):\n",
    "        if i>1:\n",
    "            for j in range(2,i):\n",
    "                if(i % j==0):\n",
    "                    break\n",
    "            else:\n",
    "                count+=1\n",
    "    print(f'prime_numbers({n}) ➞ {count}\\n')\n",
    "    \n",
    "    \n",
    "prime_numbers(10)\n",
    "prime_numbers(20)\n",
    "prime_numbers(30)"
   ]
  },
  {
   "cell_type": "markdown",
   "id": "84216e6b",
   "metadata": {},
   "source": [
    "4.If today was Monday, in two days, it would be Wednesday.\n",
    "\n",
    "Create a function that takes in a list of days as input and the number of days to increment by. Return a list of days after n number of days has passed.\n",
    "\n",
    "Examples\n",
    "```\n",
    "after_n_days([\"Thursday\", \"Monday\"], 4) ➞ [\"Monday\", \"Friday\"]\n",
    "\n",
    "after_n_days([\"Sunday\", \"Sunday\", \"Sunday\"], 1) ➞ [\"Monday\", \"Monday\", \"Monday\"]\n",
    "\n",
    "after_n_days([\"Monday\", \"Tuesday\", \"Friday\"], 1) ➞ [\"Tuesday\", \"Wednesday\", \"Saturday\"]\n",
    "```"
   ]
  },
  {
   "cell_type": "code",
   "execution_count": 4,
   "id": "22770f3d",
   "metadata": {
    "scrolled": true
   },
   "outputs": [
    {
     "name": "stdout",
     "output_type": "stream",
     "text": [
      "after_n_days(['Thursday', 'Monday'], 4) ➞ ['Monday', 'Friday']\n",
      "\n",
      "after_n_days(['Sunday', 'Sunday', 'Sunday'], 1) ➞ ['Monday', 'Monday', 'Monday']\n",
      "\n",
      "after_n_days(['Monday', 'Tuesday', 'Friday'], 1) ➞ ['Tuesday', 'Wednesday', 'Saturday']\n",
      "\n"
     ]
    }
   ],
   "source": [
    "a = ['Sunday','Monday','Tuesday','Wednesday','Thursday','Friday','Saturday']\n",
    "\n",
    "def find(i,n):\n",
    "    b = a.index(a[-1]) - a.index(i)\n",
    "    return a[n-b-1]\n",
    "\n",
    "def after_n_days(lis,n):\n",
    "    final = []\n",
    "    for i in lis:\n",
    "        final.append(find(i,n))\n",
    "    \n",
    "    print(f'after_n_days{lis,n} ➞ {final}\\n')\n",
    "    \n",
    "    \n",
    "    \n",
    "after_n_days([\"Thursday\", \"Monday\"],4)\n",
    "after_n_days([\"Sunday\", \"Sunday\", \"Sunday\"], 1)\n",
    "after_n_days([\"Monday\", \"Tuesday\", \"Friday\"], 1)"
   ]
  },
  {
   "cell_type": "markdown",
   "id": "8bacef91",
   "metadata": {},
   "source": [
    "5.You are in the process of creating a chat application and want to add an anonymous name feature. This anonymous name feature will create an alias that consists of two capitalized words beginning with the same letter as the users first name.\n",
    "\n",
    "Create a function that determines if the list of users is mapped to a list of anonymous names correctly.\n",
    "\n",
    "Examples\n",
    "```\n",
    "is_correct_aliases([\"Adrian M.\", \"Harriet S.\", \"Mandy T.\"], [\"Amazing Artichoke\", \"Hopeful Hedgehog\", \"Marvelous Mouse\"]) ➞ True\n",
    "\n",
    "is_correct_aliases([\"Rachel F.\", \"Pam G.\", \"Fred Z.\", \"Nancy K.\"], [\"Reassuring Rat\", \"Peaceful Panda\", \"Fantastic Frog\", \"Notable Nickel\"]) ➞ True\n",
    "\n",
    "is_correct_aliases([\"Beth T.\"], [\"Brandishing Mimosa\"]) ➞ False\n",
    "# Both words in \"Brandishing Mimosa\" should begin with a \"B\" - \"Brandishing Beaver\" would do the trick.\n",
    "```"
   ]
  },
  {
   "cell_type": "code",
   "execution_count": 6,
   "id": "7c43f89f",
   "metadata": {},
   "outputs": [
    {
     "name": "stdout",
     "output_type": "stream",
     "text": [
      "is_correct_aliases(['Adrian M.', 'Harriet S.', 'Mandy T.'], ['Amazing Artichoke', 'Hopeful Hedgehog', 'Marvelous Mouse']) \n",
      "➞ True\n",
      "\n",
      "is_correct_aliases(['Rachel F.', 'Pam G.', 'Fred Z.', 'Nancy K.'], ['Reassuring Rat', 'Peaceful Panda', 'Fantastic Frog', 'Notable Nickel']) \n",
      "➞ True\n",
      "\n",
      "is_correct_aliases(['Beth T.'], ['Brandishing Mimosa']) \n",
      "➞ False\n",
      "\n"
     ]
    }
   ],
   "source": [
    "def is_correct_aliases(l1,l2):\n",
    "    l3 = []\n",
    "    decide = False\n",
    "    \n",
    "    for i in l2:\n",
    "        l3.append(i.split())\n",
    "        \n",
    "    for i in l1:\n",
    "        for j in range(len(l3)):\n",
    "            if i[0] == l3[j][0][0] and i[0] == l3[j][1][0]:\n",
    "                decide = True\n",
    "            else:\n",
    "                decide = False\n",
    "        \n",
    "                \n",
    "    if decide == True:        \n",
    "        print(f'is_correct_aliases{l1,l2} \\n➞ {True}\\n')\n",
    "    else:\n",
    "        print(f'is_correct_aliases{l1,l2} \\n➞ {False}\\n')\n",
    "\n",
    "is_correct_aliases([\"Adrian M.\", \"Harriet S.\", \"Mandy T.\"], [\"Amazing Artichoke\", \"Hopeful Hedgehog\", \"Marvelous Mouse\"])\n",
    "is_correct_aliases([\"Rachel F.\", \"Pam G.\", \"Fred Z.\", \"Nancy K.\"], [\"Reassuring Rat\", \"Peaceful Panda\", \"Fantastic Frog\", \"Notable Nickel\"])\n",
    "is_correct_aliases([\"Beth T.\"], [\"Brandishing Mimosa\"])"
   ]
  }
 ],
 "metadata": {
  "kernelspec": {
   "display_name": "Python 3 (ipykernel)",
   "language": "python",
   "name": "python3"
  },
  "language_info": {
   "codemirror_mode": {
    "name": "ipython",
    "version": 3
   },
   "file_extension": ".py",
   "mimetype": "text/x-python",
   "name": "python",
   "nbconvert_exporter": "python",
   "pygments_lexer": "ipython3",
   "version": "3.8.12"
  }
 },
 "nbformat": 4,
 "nbformat_minor": 5
}
