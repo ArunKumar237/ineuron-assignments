{
 "cells": [
  {
   "cell_type": "markdown",
   "id": "c1eb8f3d",
   "metadata": {},
   "source": [
    "Python Programming Advance Assignment 3\n",
    "***************************************"
   ]
  },
  {
   "cell_type": "markdown",
   "id": "3b94f8af",
   "metadata": {},
   "source": [
    "1. Create a function to perform basic arithmetic operations that includes addition, subtraction, multiplication and division on a string number (e.g. \"12 + 24\" or \"23 - 21\" or \"12 // 12\" or \"12 * 21\").\n",
    "\n",
    "    Here, we have 1 followed by a space, operator followed by another space and 2. For the challenge, we are going to have only two numbers between 1 valid operator. The return value should be a number.\n",
    "\n",
    "    eval() is not allowed. In case of division, whenever the second number equals \"0\" return -1.\n",
    "\n",
    "For example:\n",
    "\n",
    "\"15 // 0\"  ➞ -1\n",
    "```\n",
    "    Examples\n",
    "\n",
    "    arithmetic_operation(\"12 + 12\") ➞ 24 // 12 + 12 = 24\n",
    "\n",
    "    arithmetic_operation(\"12 - 12\") ➞ 24 // 12 - 12 = 0\n",
    "\n",
    "    arithmetic_operation(\"12 * 12\") ➞ 144 // 12 * 12 = 144\n",
    "\n",
    "    arithmetic_operation(\"12 // 0\") ➞ -1 // 12 / 0 = -1\n",
    "```"
   ]
  },
  {
   "cell_type": "code",
   "execution_count": 21,
   "id": "1e0d1b5d",
   "metadata": {},
   "outputs": [
    {
     "name": "stdout",
     "output_type": "stream",
     "text": [
      "arithmetic_operation(\"12 + 12\") ➞ 24 \n",
      "\n",
      "arithmetic_operation(\"12 - 12\") ➞ 0 \n",
      "\n",
      "arithmetic_operation(\"12 * 12\") ➞ 144 \n",
      "\n",
      "arithmetic_operation(\"12 / 0\") ➞ -1\n",
      "\n",
      "arithmetic_operation(\"12 / 3\") ➞ 4 \n",
      "\n"
     ]
    }
   ],
   "source": [
    "def arithmetic_operation(s):\n",
    "    l = s.split()\n",
    "    if '+' in l: print(f'arithmetic_operation(\"{s}\") ➞',int(l[0]) + int(l[2]),'\\n')\n",
    "    elif '-' in l: print(f'arithmetic_operation(\"{s}\") ➞',int(l[0]) - int(l[2]),'\\n')\n",
    "    elif '*' in l: print(f'arithmetic_operation(\"{s}\") ➞',int(l[0]) * int(l[2]),'\\n')\n",
    "    elif '/' in l:\n",
    "        if l[2] == '0':\n",
    "            print(f'arithmetic_operation(\"{s}\") ➞ -1\\n')\n",
    "        else:\n",
    "            print(f'arithmetic_operation(\"{s}\") ➞',int(l[0]) // int(l[2]),'\\n')\n",
    "    \n",
    "arithmetic_operation(\"12 + 12\")\n",
    "arithmetic_operation(\"12 - 12\")\n",
    "arithmetic_operation(\"12 * 12\")\n",
    "arithmetic_operation(\"12 / 0\")\n",
    "arithmetic_operation(\"12 / 3\")"
   ]
  },
  {
   "cell_type": "markdown",
   "id": "235de94a",
   "metadata": {},
   "source": [
    "****"
   ]
  },
  {
   "cell_type": "markdown",
   "id": "68aa5144",
   "metadata": {},
   "source": [
    "2. Write a function that takes the coordinates of three points in the form of a 2d array and returns the perimeter of the triangle. The given points are the vertices of a triangle on a two-dimensional plane.\n",
    "```\n",
    "    Examples\n",
    "\n",
    "    perimeter( [ [15, 7], [5, 22], [11, 1] ] ) ➞ 47.08\n",
    "\n",
    "    perimeter( [ [0, 0], [0, 1], [1, 0] ] ) ➞ 3.42\n",
    "\n",
    "    perimeter( [ [-10, -10], [10, 10 ], [-10, 10] ] ) ➞ 68.28\n",
    "```"
   ]
  },
  {
   "cell_type": "code",
   "execution_count": 26,
   "id": "55d78931",
   "metadata": {},
   "outputs": [
    {
     "name": "stdout",
     "output_type": "stream",
     "text": [
      "perimeter[[15, 7], [5, 22], [11, 1]] ➞ 47.08 \n",
      "\n",
      "perimeter[[0, 0], [0, 1], [1, 0]] ➞ 3.41 \n",
      "\n",
      "perimeter[[-10, -10], [10, 10], [-10, 10]] ➞ 68.28 \n",
      "\n"
     ]
    }
   ],
   "source": [
    "import math\n",
    "def perimeter(k):\n",
    "    l,m,n = k[0],k[1],k[2]\n",
    "    \n",
    "    lm = math.sqrt((m[0]-l[0])**2 + (m[1]-l[1])**2)\n",
    "    mn = math.sqrt((n[0]-m[0])**2 + (n[1]-m[1])**2)\n",
    "    nl = math.sqrt((l[0]-n[0])**2 + (l[1]-n[1])**2)\n",
    "    \n",
    "    print(f'perimeter{k} ➞',round(lm + mn + nl,2),'\\n')\n",
    "\n",
    "    \n",
    "    \n",
    "    \n",
    "perimeter([ [15, 7], [5, 22], [11, 1] ])\n",
    "perimeter([ [0, 0], [0, 1], [1, 0] ])\n",
    "perimeter([ [-10, -10], [10, 10 ], [-10, 10] ])"
   ]
  },
  {
   "cell_type": "markdown",
   "id": "38c82bf1",
   "metadata": {},
   "source": [
    "****"
   ]
  },
  {
   "cell_type": "markdown",
   "id": "0caf403e",
   "metadata": {},
   "source": [
    "3. A city skyline can be represented as a 2-D list with 1s representing buildings. In the example below, the height of the tallest building is 4 (second-most right column).\n",
    "```\n",
    "    [[0, 0, 0, 0, 0, 0],\n",
    "    [0, 0, 0, 0, 1, 0],\n",
    "    [0, 0, 1, 0, 1, 0],\n",
    "    [0, 1, 1, 1, 1, 0],\n",
    "    [1, 1, 1, 1, 1, 1]]\n",
    "\n",
    "Create a function that takes a skyline (2-D list of 0's and 1's) and returns the height of the tallest skyscraper.\n",
    "\n",
    "Examples\n",
    "\n",
    "    tallest_skyscraper([\n",
    "      [0, 0, 0, 0],\n",
    "      [0, 1, 0, 0],\n",
    "      [0, 1, 1, 0],\n",
    "      [1, 1, 1, 1]\n",
    "    ]) ➞ 3\n",
    "\n",
    "    tallest_skyscraper([\n",
    "      [0, 1, 0, 0],\n",
    "      [0, 1, 0, 0],\n",
    "      [0, 1, 1, 0],\n",
    "      [1, 1, 1, 1]\n",
    "    ]) ➞ 4\n",
    "\n",
    "    tallest_skyscraper([\n",
    "      [0, 0, 0, 0],\n",
    "      [0, 0, 0, 0],\n",
    "      [1, 1, 1, 0],\n",
    "      [1, 1, 1, 1]\n",
    "    ]) ➞ 2\n",
    "```"
   ]
  },
  {
   "cell_type": "code",
   "execution_count": 39,
   "id": "4b33a9de",
   "metadata": {},
   "outputs": [
    {
     "name": "stdout",
     "output_type": "stream",
     "text": [
      "[0, 0, 0, 0]\n",
      "[0, 1, 0, 0]\n",
      "[0, 1, 1, 0]\n",
      "[1, 1, 1, 1]\n",
      "the height of the tallest skyscraper is ➞  3 \n",
      "\n",
      "[0, 1, 0, 0]\n",
      "[0, 1, 0, 0]\n",
      "[0, 1, 1, 0]\n",
      "[1, 1, 1, 1]\n",
      "the height of the tallest skyscraper is ➞  4 \n",
      "\n",
      "[0, 0, 0, 0]\n",
      "[0, 0, 0, 0]\n",
      "[1, 1, 1, 0]\n",
      "[1, 1, 1, 1]\n",
      "the height of the tallest skyscraper is ➞  2 \n",
      "\n"
     ]
    }
   ],
   "source": [
    "import pprint\n",
    "def tallest_skyscraper(bl):\n",
    "    [print(i) for i in bl]\n",
    "    sub = 0\n",
    "    for i in bl:\n",
    "        result = len(bl)-sub\n",
    "        for j in i:\n",
    "            if i.count(1) >= 1:\n",
    "                return print('the height of the tallest skyscraper is ➞ ',result,'\\n')\n",
    "        sub += 1\n",
    "    \n",
    "tallest_skyscraper([\n",
    "  [0, 0, 0, 0],\n",
    "  [0, 1, 0, 0],\n",
    "  [0, 1, 1, 0],\n",
    "  [1, 1, 1, 1]\n",
    "])\n",
    "\n",
    "tallest_skyscraper([\n",
    "  [0, 1, 0, 0],\n",
    "  [0, 1, 0, 0],\n",
    "  [0, 1, 1, 0],\n",
    "  [1, 1, 1, 1]\n",
    "])\n",
    "\n",
    "tallest_skyscraper([\n",
    "  [0, 0, 0, 0],\n",
    "  [0, 0, 0, 0],\n",
    "  [1, 1, 1, 0],\n",
    "  [1, 1, 1, 1]\n",
    "])"
   ]
  },
  {
   "cell_type": "markdown",
   "id": "2d5edb0d",
   "metadata": {},
   "source": [
    "****"
   ]
  },
  {
   "cell_type": "markdown",
   "id": "298d3af5",
   "metadata": {},
   "source": [
    "4. A financial institution provides professional services to banks and claims charges from the customers based on the number of man-days provided. Internally, it has set a scheme to motivate and reward staff to meet and exceed targeted billable utilization and revenues by paying a bonus for each day claimed from customers in excess of a threshold target.\n",
    "\n",
    "This quarterly scheme is calculated with a threshold target of 32 days per quarter, and the incentive payment for each billable day in excess of such threshold target is shown as follows:\n",
    "```\n",
    "    Days\t                           Bonus\n",
    "    0 to 32 days\t                   Zero\n",
    "    33 to 40 days\t         SGD$325 per billable day\n",
    "    41 to 48 days\t         SGD$550 per billable day\n",
    "    Greater than 48 days      SGD$600 per billable day\n",
    "```\n",
    "Please note that incentive payment is calculated progressively. As an example, if an employee reached total billable days of 45 in a quarter, his/her incentive payment is computed as follows:\n",
    "\n",
    "    32*0 + 8*325 + 5*550 = 5350\n",
    "\n",
    "Write a function to read the billable days of an employee and return the bonus he/she has obtained in that quarter.\n",
    "```\n",
    "Examples\n",
    "\n",
    "    bonus(15) ➞ 0\n",
    "\n",
    "    bonus(37) ➞ 1625\n",
    "\n",
    "    bonus(50) ➞ 8200\n",
    "```"
   ]
  },
  {
   "cell_type": "code",
   "execution_count": 44,
   "id": "2c986296",
   "metadata": {},
   "outputs": [
    {
     "name": "stdout",
     "output_type": "stream",
     "text": [
      "bonus(15) ➞ 0 \n",
      "\n",
      "bonus(37) ➞ 1625 \n",
      "\n",
      "bonus(50) ➞ 8200 \n",
      "\n"
     ]
    }
   ],
   "source": [
    "def bonus(n):\n",
    "    if n < 33: print(f'bonus({n}) ➞',0,'\\n')\n",
    "    elif n > 32 and n < 41: print(f'bonus({n}) ➞',32*0 + (n-32)*325,'\\n')\n",
    "    elif n > 40 and n < 49: print(f'bonus({n}) ➞',32*0 + 8*325 + (n-40)*550,'\\n')\n",
    "    elif n > 47: print(f'bonus({n}) ➞',32*0 + 8*325 + 8*550 + (n-48)*600,'\\n')\n",
    "\n",
    "bonus(15)\n",
    "bonus(37)\n",
    "bonus(50)"
   ]
  },
  {
   "cell_type": "markdown",
   "id": "206b7e28",
   "metadata": {},
   "source": [
    "****"
   ]
  },
  {
   "cell_type": "markdown",
   "id": "1b115c07",
   "metadata": {},
   "source": [
    "5. A number is said to be Disarium if the sum of its digits raised to their respective positions is the number itself.\n",
    "\n",
    "Create a function that determines whether a number is a Disarium or not.\n",
    "\n",
    "Examples\n",
    "```\n",
    "is_disarium(75) ➞ False\n",
    " 7^1 + 5^2 = 7 + 25 = 32\n",
    "\n",
    "is_disarium(135) ➞ True\n",
    " 1^1 + 3^2 + 5^3 = 1 + 9 + 125 = 135\n",
    "\n",
    "is_disarium(544) ➞ False\n",
    "\n",
    "is_disarium(518) ➞ True\n",
    "\n",
    "is_disarium(466) ➞ False\n",
    "\n",
    "is_disarium(8) ➞ True\n",
    "```"
   ]
  },
  {
   "cell_type": "code",
   "execution_count": 70,
   "id": "e8da2604",
   "metadata": {},
   "outputs": [
    {
     "name": "stdout",
     "output_type": "stream",
     "text": [
      "is_disarium(75) ➞ 32\n",
      "is_disarium(135) ➞ 135\n",
      "is_disarium(544) ➞ 85\n",
      "is_disarium(518) ➞ 518\n",
      "is_disarium(466) ➞ 256\n",
      "is_disarium(8) ➞ 8\n"
     ]
    }
   ],
   "source": [
    "def is_disarium(m):\n",
    "    n = list(map(int,str(m)))\n",
    "    a = 0\n",
    "    power = 1\n",
    "    for i in n:\n",
    "        a = a + i**power\n",
    "        power+=1\n",
    "    print(f'is_disarium({m}) ➞',a)\n",
    "\n",
    "is_disarium(75)\n",
    "is_disarium(135)\n",
    "is_disarium(544)\n",
    "is_disarium(518)\n",
    "is_disarium(466)\n",
    "is_disarium(8)"
   ]
  }
 ],
 "metadata": {
  "kernelspec": {
   "display_name": "Python 3 (ipykernel)",
   "language": "python",
   "name": "python3"
  },
  "language_info": {
   "codemirror_mode": {
    "name": "ipython",
    "version": 3
   },
   "file_extension": ".py",
   "mimetype": "text/x-python",
   "name": "python",
   "nbconvert_exporter": "python",
   "pygments_lexer": "ipython3",
   "version": "3.8.12"
  }
 },
 "nbformat": 4,
 "nbformat_minor": 5
}
