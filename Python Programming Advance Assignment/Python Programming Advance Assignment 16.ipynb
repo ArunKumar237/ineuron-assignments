{
 "cells": [
  {
   "cell_type": "markdown",
   "id": "2cdd04fb",
   "metadata": {},
   "source": [
    "Python Programming Advance Assignment 16\n",
    "****************************************"
   ]
  },
  {
   "cell_type": "markdown",
   "id": "86fb11f0",
   "metadata": {},
   "source": [
    "1.Rondo Form is a type of musical structure, in which there is a recurring theme/refrain, notated as A. Here are the rules for valid rondo forms:\n",
    "```\n",
    "   - Rondo forms always start and end with an A section.\n",
    "   - In between the A sections, there should be contrasting sections notated as B, then C, then D, etc... No letter should be skipped.\n",
    "   - There shouldn't be any repeats in the sequence (such as ABBACCA).\n",
    "```\n",
    "Create a function which validates whether a given string is a valid Rondo Form.\n",
    "\n",
    "Examples\n",
    "```\n",
    "valid_rondo(\"ABACADAEAFAGAHAIAJA\") ➞ True\n",
    "\n",
    "valid_rondo(\"ABA\") ➞ True\n",
    "\n",
    "valid_rondo(\"ABBACCA\") ➞ False\n",
    "\n",
    "valid_rondo(\"ACAC\") ➞ False\n",
    "\n",
    "valid_rondo(\"A\") ➞ False\n",
    "```"
   ]
  },
  {
   "cell_type": "code",
   "execution_count": 30,
   "id": "38b79937",
   "metadata": {},
   "outputs": [
    {
     "name": "stdout",
     "output_type": "stream",
     "text": [
      "valid_rondo('ABACADAEAFAGAHAIAJA') ➞ True\n",
      "\n",
      "valid_rondo('ABA') ➞ True\n",
      "\n",
      "valid_rondo('ABBACCA') ➞ False\n",
      "\n",
      "valid_rondo('ACAC') ➞ False\n",
      "\n",
      "valid_rondo('A') ➞ False\n",
      "\n"
     ]
    }
   ],
   "source": [
    "def valid_rondo(s):\n",
    "    decide = True\n",
    "    if s[0] == 'A' and s[-1] == 'A':\n",
    "        if len(s) == 1:\n",
    "            decide = False\n",
    "            \n",
    "        for i in range(1,len(s),2):\n",
    "            try:\n",
    "                if ord(s[i+2]) == ord(s[i])+1:\n",
    "                    pass\n",
    "                else:\n",
    "                    decide = False\n",
    "            except:\n",
    "                pass\n",
    "    else:\n",
    "        decide = False\n",
    "    \n",
    "    \n",
    "    if decide == True:\n",
    "        print(f'valid_rondo(\\'{s}\\') ➞ {True}\\n')\n",
    "    else:\n",
    "        print(f'valid_rondo(\\'{s}\\') ➞ {False}\\n')\n",
    "            \n",
    "    \n",
    "    \n",
    "valid_rondo(\"ABACADAEAFAGAHAIAJA\")\n",
    "valid_rondo(\"ABA\")\n",
    "valid_rondo(\"ABBACCA\")\n",
    "valid_rondo(\"ACAC\")\n",
    "valid_rondo(\"A\")"
   ]
  },
  {
   "cell_type": "markdown",
   "id": "f86350bb",
   "metadata": {},
   "source": [
    "****"
   ]
  },
  {
   "cell_type": "markdown",
   "id": "6e3c53ae",
   "metadata": {},
   "source": [
    "2.Create a function that returns the whole of the first sentence which contains a specific word. Include the full stop at the end of the sentence.\n",
    "\n",
    "Examples\n",
    "```\n",
    "txt = \"I have a cat. I have a mat. Things are going swell.\"\n",
    "\n",
    "sentence_searcher(txt, \"have\") ➞ \"I have a cat.\"\n",
    "\n",
    "sentence_searcher(txt, \"MAT\") ➞ \"I have a mat.\"\n",
    "\n",
    "sentence_searcher(txt, \"things\") ➞ \"Things are going swell.\"\n",
    "\n",
    "sentence_searcher(txt, \"flat\") ➞ \"\"\n",
    "```"
   ]
  },
  {
   "cell_type": "code",
   "execution_count": 23,
   "id": "5821d340",
   "metadata": {
    "scrolled": true
   },
   "outputs": [
    {
     "name": "stdout",
     "output_type": "stream",
     "text": [
      "sentence_searcher (txt, have) ➞ I have a cat.\n",
      "sentence_searcher (txt, have) ➞ I have a mat.\n",
      "sentence_searcher (txt, MAT) ➞ I have a mat.\n",
      "sentence_searcher (txt, things) ➞ Things are going swell.\n"
     ]
    }
   ],
   "source": [
    "import re\n",
    "def sentence_searcher(txt, s):\n",
    "    b = []\n",
    "    tx = txt.replace('.','.,').lower().split(',')\n",
    "    txt = txt.replace('.','.,').split(',')\n",
    "    a = s.lower()\n",
    "    \n",
    "    for i in txt:\n",
    "        c = i.lstrip()\n",
    "        b.append(c)\n",
    "    for i in b:\n",
    "        if a in i.lower():\n",
    "            print(f'sentence_searcher (txt, {s}) ➞ {i}')\n",
    "\n",
    "txt = \"I have a cat. I have a mat. Things are going swell.\"\n",
    "sentence_searcher(txt,'have')\n",
    "sentence_searcher(txt, \"MAT\")\n",
    "sentence_searcher(txt, \"things\")\n",
    "sentence_searcher(txt, \"flat\") "
   ]
  },
  {
   "cell_type": "markdown",
   "id": "54ee65a0",
   "metadata": {},
   "source": [
    "****"
   ]
  },
  {
   "cell_type": "markdown",
   "id": "dfca3c05",
   "metadata": {},
   "source": [
    "3.Given a number, find the \"round \"of each digit of the number. An integer is called \"round\" if all its digits except the leftmost (most significant) are equal to zero.\n",
    "```\n",
    "    - Round numbers: 4000, 1, 9, 800, 90\n",
    "    - Not round numbers: 110, 707, 222, 1001\n",
    "```\n",
    "Create a function that takes a number and returns the \"round\" of each digit (except if the digit is zero) as a string. Check out the following examples for more clarification.\n",
    "\n",
    "Examples\n",
    "```\n",
    "sum_round(101) ➞ \"1 100\"\n",
    "\n",
    "sum_round(1234) ➞ \"4 30 200 1000\"\n",
    "\n",
    "sum_round(54210) ➞ \"10 200 4000 50000\"\n",
    "```"
   ]
  },
  {
   "cell_type": "code",
   "execution_count": 116,
   "id": "eae9b764",
   "metadata": {},
   "outputs": [
    {
     "name": "stdout",
     "output_type": "stream",
     "text": [
      "sum_round(101) ➞ \"1 100\"\n",
      "sum_round(1234) ➞ \"4 30 200 1000\"\n",
      "sum_round(54210) ➞ \"10 200 4000 50000\"\n"
     ]
    }
   ],
   "source": [
    "def  sum_round(n):\n",
    "    a = str(n)\n",
    "    b = []\n",
    "    c = ''\n",
    "    for i in range(len(a)):\n",
    "        if a[i] != '0':\n",
    "            b.append(a[i]+'0'*(len(a)-i-1))\n",
    "        if a[i] == '0':\n",
    "            pass\n",
    "    \n",
    "    for i in b[::-1]:\n",
    "        c += ' '+i\n",
    "    print(f'sum_round({n}) ➞ \"{c.lstrip()}\"')\n",
    "    \n",
    "    \n",
    "sum_round(101)\n",
    "sum_round(1234)\n",
    "sum_round(54210)"
   ]
  },
  {
   "cell_type": "markdown",
   "id": "5aedb7c2",
   "metadata": {},
   "source": [
    "****"
   ]
  },
  {
   "cell_type": "markdown",
   "id": "b11abf4d",
   "metadata": {},
   "source": [
    "4.Your task, is to create N x N multiplication table, of size n provided in parameter.\n",
    "\n",
    "For example, when n is 5, the multiplication table is:\n",
    "```\n",
    "   - 1, 2, 3, 4, 5\n",
    "   - 2, 4, 6, 8, 10\n",
    "   - 3, 6, 9, 12, 15\n",
    "   - 4, 8, 12, 16, 20\n",
    "   - 5, 10, 15, 20, 25\n",
    "```\n",
    "This example will result in:\n",
    "```\n",
    "[[1, 2, 3, 4, 5], [2, 4, 6, 8, 10], [3, 6, 9, 12, 15], [4, 8, 12, 16, 20], [5, 10, 15, 20, 25]]\n",
    "```\n",
    "Examples\n",
    "```\n",
    "multiplication_table(1) ➞ [[1]]\n",
    "\n",
    "multiplication_table(3) ➞ [[1, 2, 3], [2, 4, 6], [3, 6, 9]]\n",
    "```"
   ]
  },
  {
   "cell_type": "code",
   "execution_count": 49,
   "id": "c53ba7e3",
   "metadata": {},
   "outputs": [
    {
     "name": "stdout",
     "output_type": "stream",
     "text": [
      "multiplication_table(5) ➞ [[1, 2, 3, 4, 5], [2, 4, 6, 8, 10], [3, 6, 9, 12, 15], [4, 8, 12, 16, 20], [5, 10, 15, 20, 25]]\n",
      "multiplication_table(3) ➞ [[1, 2, 3], [2, 4, 6], [3, 6, 9]]\n",
      "multiplication_table(1) ➞ [[1]]\n"
     ]
    }
   ],
   "source": [
    "def multiplication_table(n):\n",
    "    a = []\n",
    "    b = []\n",
    "    for j in range(1,n+1):\n",
    "        for i in range(1,n+1):\n",
    "            a.append(j*i)\n",
    "        b.append(a.copy())\n",
    "        a.clear()\n",
    "    \n",
    "    print(f'multiplication_table({n}) ➞ {b}')    \n",
    "    \n",
    "multiplication_table(5)\n",
    "multiplication_table(3)\n",
    "multiplication_table(1)"
   ]
  },
  {
   "cell_type": "markdown",
   "id": "89a87b8a",
   "metadata": {},
   "source": [
    "****"
   ]
  },
  {
   "cell_type": "markdown",
   "id": "a6ed7db3",
   "metadata": {},
   "source": [
    "5.Create a function that returns True if two lines rhyme and False otherwise. For the purposes of this exercise, two lines rhyme if the last word from each sentence contains the same vowels.\n",
    "\n",
    "Examples\n",
    "```\n",
    "does_rhyme(\"Sam I am!\", \"Green eggs and ham.\") ➞ True\n",
    "\n",
    "does_rhyme(\"Sam I am!\", \"Green eggs and HAM.\") ➞ True\n",
    "# Capitalization and punctuation should not matter.\n",
    "\n",
    "does_rhyme(\"You are off to the races\", \"a splendid day.\") ➞ False\n",
    "\n",
    "does_rhyme(\"and frequently do?\", \"you gotta move.\") ➞ False\n",
    "```"
   ]
  },
  {
   "cell_type": "code",
   "execution_count": 71,
   "id": "0a5a0d64",
   "metadata": {},
   "outputs": [
    {
     "name": "stdout",
     "output_type": "stream",
     "text": [
      "does_rhyme('Sam I am!', 'Green eggs and ham.') ➞ True\n",
      "does_rhyme('Sam I am!', 'Green eggs and HAM.') ➞ True\n",
      "does_rhyme('You are off to the races', 'a splendid day.') ➞ False\n",
      "does_rhyme('and frequently do?', 'you gotta move.') ➞ False\n"
     ]
    }
   ],
   "source": [
    "def does_rhyme(m,n):\n",
    "    a = m.split()\n",
    "    b = n.split()\n",
    "    t = ''\n",
    "    for i in a[-1]:\n",
    "        if i not in '!\"#$%&()*+, -./:;<=>?@[\\]^_`{|}~':\n",
    "            t += i\n",
    "    \n",
    "    if t in b[-1].lower():\n",
    "        print(f'does_rhyme{m,n} ➞ {True}')\n",
    "    else:\n",
    "        print(f'does_rhyme{m,n} ➞ {False}')\n",
    "    \n",
    "    \n",
    "does_rhyme(\"Sam I am!\", \"Green eggs and ham.\")\n",
    "does_rhyme(\"Sam I am!\", \"Green eggs and HAM.\")\n",
    "does_rhyme(\"You are off to the races\", \"a splendid day.\")\n",
    "does_rhyme(\"and frequently do?\", \"you gotta move.\")"
   ]
  }
 ],
 "metadata": {
  "kernelspec": {
   "display_name": "Python 3 (ipykernel)",
   "language": "python",
   "name": "python3"
  },
  "language_info": {
   "codemirror_mode": {
    "name": "ipython",
    "version": 3
   },
   "file_extension": ".py",
   "mimetype": "text/x-python",
   "name": "python",
   "nbconvert_exporter": "python",
   "pygments_lexer": "ipython3",
   "version": "3.8.12"
  }
 },
 "nbformat": 4,
 "nbformat_minor": 5
}
