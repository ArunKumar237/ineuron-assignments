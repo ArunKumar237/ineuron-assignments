{
 "cells": [
  {
   "cell_type": "markdown",
   "id": "0c8330a3",
   "metadata": {},
   "source": [
    "Python Programming Advance Assignment 5\n",
    "***************************************"
   ]
  },
  {
   "cell_type": "markdown",
   "id": "b4bfbca8",
   "metadata": {},
   "source": [
    "1. Create a function that takes a number n (integer greater than zero) as an argument, and returns 2 if n is odd and 8 if n is even.\n",
    "\n",
    "You can only use the following arithmetic operators: addition of numbers +, subtraction of numbers -, multiplication of number *, division of number /, and exponentiation **.\n",
    "\n",
    "You are not allowed to use any other methods in this challenge (i.e. no if statements, comparison operators, etc).\n",
    "```\n",
    "Examples\n",
    "\n",
    "f(1) ➞ 2\n",
    "\n",
    "f(2) ➞ 8\n",
    "\n",
    "f(3) ➞ 2\n",
    "```"
   ]
  },
  {
   "cell_type": "code",
   "execution_count": 86,
   "id": "53733ae5",
   "metadata": {},
   "outputs": [
    {
     "name": "stdout",
     "output_type": "stream",
     "text": [
      "f(1)  ➞  2 \n",
      "\n",
      "f(2)  ➞  8 \n",
      "\n",
      "f(3)  ➞  2 \n",
      "\n"
     ]
    }
   ],
   "source": [
    "def f(no):\n",
    "    arr = [\"8\", \"2\"]\n",
    "    print (f'f({no})  ➞ ',arr[no % 2],'\\n')\n",
    "\n",
    "f(1)\n",
    "f(2)\n",
    "f(3)"
   ]
  },
  {
   "cell_type": "markdown",
   "id": "0e1c0b92",
   "metadata": {},
   "source": [
    "****"
   ]
  },
  {
   "cell_type": "markdown",
   "id": "4ed56668",
   "metadata": {},
   "source": [
    "2. Create a function that returns the majority vote in a list. A majority vote is an element that occurs > N/2 times in a list (where N is the length of the list).\n",
    "\n",
    "Examples\n",
    "```\n",
    "majority_vote([\"A\", \"A\", \"B\"]) ➞ \"A\"\n",
    "\n",
    "majority_vote([\"A\", \"A\", \"A\", \"B\", \"C\", \"A\"]) ➞ \"A\"\n",
    "\n",
    "majority_vote([\"A\", \"B\", \"B\", \"A\", \"C\", \"C\"]) ➞ None\n",
    "```"
   ]
  },
  {
   "cell_type": "code",
   "execution_count": 1,
   "id": "67dacc9a",
   "metadata": {},
   "outputs": [
    {
     "name": "stdout",
     "output_type": "stream",
     "text": [
      "['A', 'B', 'B', 'A', 'C', 'C'] ➞ None \n",
      "\n",
      "['A', 'A', 'A', 'B', 'C', 'A'] ➞ A \n",
      "\n",
      "['A', 'A', 'B'] ➞ A \n",
      "\n"
     ]
    }
   ],
   "source": [
    "def majority_vote(l):\n",
    "    k = set(l)\n",
    "    for i in k:\n",
    "        c = l.count(i)\n",
    "        if c > len(l)//2:\n",
    "            print(f'{l} ➞',i,'\\n')\n",
    "    if c < len(l)//2:\n",
    "        print(f'{l} ➞',None,'\\n')\n",
    "\n",
    "majority_vote([\"A\", \"B\", \"B\", \"A\", \"C\", \"C\"])\n",
    "majority_vote([\"A\", \"A\", \"A\", \"B\", \"C\", \"A\"]) \n",
    "majority_vote([\"A\", \"A\", \"B\"])"
   ]
  },
  {
   "cell_type": "markdown",
   "id": "abb7ce6d",
   "metadata": {},
   "source": [
    "****"
   ]
  },
  {
   "cell_type": "markdown",
   "id": "69db6d1b",
   "metadata": {},
   "source": [
    "3. Create a function that takes a string txt and censors any word from a given list lst. The text removed must be replaced by the given character char.\n",
    "\n",
    "Examples\n",
    "```\n",
    "censor_string(\"Today is a Wednesday!\", [\"Today\", \"a\"], \"-\") ➞ \"----- is - Wednesday!\"\n",
    "\n",
    "censor_string(\"The cow jumped over the moon.\", [\"cow\", \"over\"], \"*\"), \"The *** jumped **** the moon.\")\n",
    "\n",
    "censor_string(\"Why did the chicken cross the road?\", [\"Did\", \"chicken\", \"road\"], \"*\") ➞ \"Why *** the ******* cross the ****?\"\n",
    "```"
   ]
  },
  {
   "cell_type": "code",
   "execution_count": 60,
   "id": "84dae119",
   "metadata": {},
   "outputs": [
    {
     "name": "stdout",
     "output_type": "stream",
     "text": [
      "\n",
      "censor_string(['-----', 'is', '-', 'Wednesday'], ['Today', 'a'], '-') \n",
      "\n",
      "\t output: \" ----- is - Wednesday! \"\n",
      "\n",
      "\n",
      "censor_string(['The', '***', 'jumped', '****', 'the', 'moon'], ['cow', 'over'], '*') \n",
      "\n",
      "\t output: \" The *** jumped **** the moon. \"\n",
      "\n",
      "\n",
      "censor_string(['Why', '***', 'the', '*******', 'cross', 'the', '****'], ['Did', 'chicken', 'road'], '*') \n",
      "\n",
      "\t output: \" Why *** the ******* cross the ****? \"\n",
      "\n"
     ]
    }
   ],
   "source": [
    "import re\n",
    "import string\n",
    "def censor_string(s,l,c):\n",
    "\n",
    "#storing puntuation marks and index of a string into (listOFpun & indexOfpun)\n",
    "    pun = string.punctuation\n",
    "    indexOfpun = []\n",
    "    listOfpun = []\n",
    "    for i in pun:\n",
    "        for j in range(0,len(s)):\n",
    "            if i == s[j]:\n",
    "                indexOfpun.append(j)\n",
    "                listOfpun.append(s[j])\n",
    "                temp = s[j]\n",
    "                s = s.replace(temp,'') # deleting puntuation marks in original string\n",
    "    \n",
    "        \n",
    "    \n",
    "# replacing the characters with the matched words to the original string\n",
    "    \n",
    "    s = s.split()\n",
    "    indexS = []\n",
    "    LenOfchar = []                                \n",
    "    \n",
    "    #storing the matched words and its wordlength in a list\n",
    "    for i in s: \n",
    "        for j in range(0,len(l)):\n",
    "            if i.lower() == l[j].lower():\n",
    "                indexS.append(s.index(i))\n",
    "                LenOfchar.append(len(i))\n",
    "    \n",
    "    #inserting the character with the wordlength of the matched words\n",
    "    iterator2 = 0\n",
    "    for j in indexS: \n",
    "        s.insert( j,c*LenOfchar[iterator2])\n",
    "        s.pop(j+1)\n",
    "        iterator2 +=1\n",
    "    \n",
    "    #adding puntution marks from the list where it previously stored\n",
    "    final = ' '.join(s) \n",
    "    for i in indexOfpun:\n",
    "        for j in listOfpun:\n",
    "            final = final[:i] + j + final[i:]\n",
    "    \n",
    "    print(f'\\ncensor_string{s,l,c} \\n\\n\\t','output: \"',final,'\"\\n')\n",
    "\n",
    "censor_string(\"Today is a Wednesday!\", [\"Today\", \"a\"], \"-\")\n",
    "censor_string(\"The cow jumped over the moon.\", [\"cow\", \"over\"], \"*\")\n",
    "censor_string(\"Why did the chicken cross the road?\", [\"Did\", \"chicken\", \"road\"], \"*\")"
   ]
  },
  {
   "cell_type": "markdown",
   "id": "585a1df9",
   "metadata": {},
   "source": [
    "****"
   ]
  },
  {
   "cell_type": "markdown",
   "id": "db971a60",
   "metadata": {},
   "source": [
    "4. In mathematics a Polydivisible Number (or magic number) is a number in a given number base with digits abcde... that has the following properties:\n",
    "\n",
    "-  Its first digit a is not 0.\n",
    "- The number formed by its first two digits ab is a multiple of 2.\n",
    "- The number formed by its first three digits abc is a multiple of 3.\n",
    "- The number formed by its first four digits abcd is a multiple of 4.\n",
    "\n",
    "Create a function which takes an integer n and returns True if the given number is a Polydivisible Number and False otherwise.\n",
    "\n",
    "Examples\n",
    "```\n",
    "is_polydivisible(1232) ➞ True\n",
    "# 1     / 1 = 1\n",
    "# 12    / 2 = 6\n",
    "# 123   / 3 = 41\n",
    "# 1232  / 4 = 308\n",
    "\n",
    "is_polydivisible(123220 ) ➞ False\n",
    "# 1   / 1 = 1\n",
    "# 12   / 2 = 6\n",
    "# 123   / 3 = 41\n",
    "# 1232   / 4 = 308\n",
    "# 12322   / 5 = 2464.4         # Not a Whole Number\n",
    "# 123220   /6 = 220536.333...  # Not a Whole Number\n",
    "```"
   ]
  },
  {
   "cell_type": "code",
   "execution_count": 98,
   "id": "d723c2d2",
   "metadata": {},
   "outputs": [
    {
     "name": "stdout",
     "output_type": "stream",
     "text": [
      "is_polydivisible(123220) ➞ False\n",
      "is_polydivisible(1232) ➞ True\n"
     ]
    }
   ],
   "source": [
    "def is_polydivisible(n):\n",
    "\n",
    "    m = str(n)\n",
    "    decidingfactor = 0\n",
    "    for i in range(1,len(m)+1):\n",
    "        if int(m[:i])%i == 0: pass\n",
    "        else: decidingfactor = 1\n",
    "    \n",
    "    if decidingfactor == 0:\n",
    "        print(f'is_polydivisible({n}) ➞',True)\n",
    "    else:\n",
    "        print(f'is_polydivisible({n}) ➞',False)\n",
    "            \n",
    "        \n",
    "\n",
    "    \n",
    "is_polydivisible(123220)  \n",
    "is_polydivisible(1232)"
   ]
  },
  {
   "cell_type": "markdown",
   "id": "312fdc15",
   "metadata": {},
   "source": [
    "****"
   ]
  },
  {
   "cell_type": "markdown",
   "id": "4c8a026c",
   "metadata": {},
   "source": [
    "5. Create a function that takes a list of numbers and returns the sum of all prime numbers in the list.\n",
    "\n",
    "Examples\n",
    "```\n",
    "sum_primes([1, 2, 3, 4, 5, 6, 7, 8, 9, 10]) ➞ 17\n",
    "\n",
    "sum_primes([2, 3, 4, 11, 20, 50, 71]) ➞ 87\n",
    "\n",
    "sum_primes([]) ➞ None\n",
    "```"
   ]
  },
  {
   "cell_type": "code",
   "execution_count": 112,
   "id": "b8f37ade",
   "metadata": {},
   "outputs": [
    {
     "name": "stdout",
     "output_type": "stream",
     "text": [
      "sum_primes([1, 2, 3, 4, 5, 6, 7, 8, 9, 10]) ➞ 17\n",
      "sum_primes([2, 3, 4, 11, 20, 50, 71]) ➞ 87\n",
      "sum_primes([]) ➞ None\n"
     ]
    }
   ],
   "source": [
    "def sum_primes(l):\n",
    "    result = 0\n",
    "    for i in l:\n",
    "        if i > 1:\n",
    "            for j in range(2, int(i/2)+1):\n",
    "                if (i % j) == 0:\n",
    "                    pass\n",
    "                    break\n",
    "            else:\n",
    "                result = result + i\n",
    "    \n",
    "    if result > 0:\n",
    "        print(f'sum_primes({l}) ➞',result)\n",
    "    else:\n",
    "        print(f'sum_primes({l}) ➞',None)\n",
    "    \n",
    "sum_primes([1, 2, 3, 4, 5, 6, 7, 8, 9, 10])\n",
    "sum_primes([2, 3, 4, 11, 20, 50, 71])\n",
    "sum_primes([])"
   ]
  }
 ],
 "metadata": {
  "kernelspec": {
   "display_name": "Python 3 (ipykernel)",
   "language": "python",
   "name": "python3"
  },
  "language_info": {
   "codemirror_mode": {
    "name": "ipython",
    "version": 3
   },
   "file_extension": ".py",
   "mimetype": "text/x-python",
   "name": "python",
   "nbconvert_exporter": "python",
   "pygments_lexer": "ipython3",
   "version": "3.8.12"
  }
 },
 "nbformat": 4,
 "nbformat_minor": 5
}
