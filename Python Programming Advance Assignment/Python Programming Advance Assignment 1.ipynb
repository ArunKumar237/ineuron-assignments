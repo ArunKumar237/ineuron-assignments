{
 "cells": [
  {
   "cell_type": "markdown",
   "id": "c9a51007",
   "metadata": {},
   "source": [
    "Python Programming Advance Assignment 1\n",
    "***************************************"
   ]
  },
  {
   "cell_type": "markdown",
   "id": "69ebc6cf",
   "metadata": {},
   "source": [
    "1. Write a function that takes a list of lists and returns the value of all of the symbols in it, where each symbol adds or takes something from the total score. Symbol values:\n",
    "```\n",
    "# = 5\n",
    "O = 3\n",
    "X = 1\n",
    "! = -1\n",
    "!! = -3\n",
    "!!! = -5\n",
    "```\n",
    "A list of lists containing 2 #s, a O, and a !!! would equal (0 + 5 + 5 + 3 - 5) 8.\n",
    "\n",
    "If the final score is negative, return 0 (e.g. 3 #s, 3 !!s, 2 !!!s and a X would be (0 + 5 + 5 + 5 - 3 - 3 - 3 - 5 - 5 + 1) -3, so return 0.\n",
    "``` python\n",
    "Examples\n",
    "\n",
    "check_score([\n",
    "  [\"#\", \"!\"],\n",
    "  [\"!!\", \"X\"]\n",
    "]) ➞ 2\n",
    "\n",
    "check_score([\n",
    "  [\"!!!\", \"O\", \"!\"],\n",
    "  [\"X\", \"#\", \"!!!\"],\n",
    "  [\"!!\", \"X\", \"O\"]\n",
    "]) ➞ 0\n",
    "```"
   ]
  },
  {
   "cell_type": "code",
   "execution_count": 36,
   "id": "7e3d04ee",
   "metadata": {},
   "outputs": [
    {
     "name": "stdout",
     "output_type": "stream",
     "text": [
      "check_score([['#', '!'], ['!!', 'X']]) ➞ 2 \n",
      "\n",
      "check_score([['!!!', 'O', '!'], ['X', '#', '!!!'], ['!!', 'X', 'O']]) ➞ -1 \n",
      "\n"
     ]
    }
   ],
   "source": [
    "def check_score(x):\n",
    "    d = {'#' : 5, 'O' : 3, 'X' : 1, '!' : -1, '!!' : -3, '!!!' : -5}\n",
    "    a = list()\n",
    "    for i in x:\n",
    "        for j in i:\n",
    "            a.append(j)\n",
    "    print(f'check_score({x}) ➞',sum(d[k] for k in a),'\\n')\n",
    "\n",
    "\n",
    "    \n",
    "    \n",
    "check_score([\n",
    "  [\"#\", \"!\"],\n",
    "  [\"!!\", \"X\"]\n",
    "])\n",
    "\n",
    "check_score([\n",
    "  [\"!!!\", \"O\", \"!\"],\n",
    "  [\"X\", \"#\", \"!!!\"],\n",
    "  [\"!!\", \"X\", \"O\"]\n",
    "]) "
   ]
  },
  {
   "cell_type": "markdown",
   "id": "506af08f",
   "metadata": {},
   "source": [
    "****"
   ]
  },
  {
   "cell_type": "markdown",
   "id": "0fcba8c0",
   "metadata": {},
   "source": [
    "2. Create a function that takes a variable number of arguments, each argument representing the number of items in a group, and returns the number of permutations (combinations) of items that you could get by taking one item from each group.\n",
    "```python\n",
    "Examples\n",
    "\n",
    "    combinations(2, 3) ➞ 6\n",
    "\n",
    "    combinations(3, 7, 4) ➞ 84\n",
    "\n",
    "    combinations(2, 3, 4, 5) ➞ 120\n",
    "```"
   ]
  },
  {
   "cell_type": "code",
   "execution_count": 46,
   "id": "e62220e6",
   "metadata": {},
   "outputs": [
    {
     "name": "stdout",
     "output_type": "stream",
     "text": [
      "combinations((2, 3)) ➞ 6\n",
      "combinations((3, 7, 4)) ➞ 84\n",
      "combinations((2, 3, 4, 5)) ➞ 120\n"
     ]
    }
   ],
   "source": [
    "import math\n",
    "\n",
    "def combinations(*items):\n",
    "    print(f'combinations({items}) ➞',math.prod(items))\n",
    "\n",
    "combinations(2,3)\n",
    "combinations(3, 7, 4)\n",
    "combinations(2, 3, 4, 5)\n"
   ]
  },
  {
   "cell_type": "markdown",
   "id": "1ea53fe7",
   "metadata": {},
   "source": [
    "****"
   ]
  },
  {
   "cell_type": "markdown",
   "id": "c16e204e",
   "metadata": {},
   "source": [
    "3. Create a function that takes a string as an argument and returns the Morse code equivalent.\n",
    "```python\n",
    "Examples\n",
    "\n",
    "    encode_morse(\"EDABBIT CHALLENGE\") ➞ \". -.. .- -... -... .. -   -.-. .... .- .-.. .-.. . -. --. .\"\n",
    "\n",
    "    encode_morse(\"HELP ME !\") ➞ \".... . .-.. .--.   -- .   -.-.--\"\n",
    "\n",
    "This dictionary can be used for coding:\n",
    "```python\n",
    "char_to_dots = {\n",
    "  'A': '.-', 'B': '-...', 'C': '-.-.', 'D': '-..', 'E': '.', 'F': '..-.',\n",
    "  'G': '--.', 'H': '....', 'I': '..', 'J': '.---', 'K': '-.-', 'L': '.-..',\n",
    "  'M': '--', 'N': '-.', 'O': '---', 'P': '.--.', 'Q': '--.-', 'R': '.-.',\n",
    "  'S': '...', 'T': '-', 'U': '..-', 'V': '...-', 'W': '.--', 'X': '-..-',\n",
    "  'Y': '-.--', 'Z': '--..', ' ': ' ', '0': '-----',\n",
    "  '1': '.----', '2': '..---', '3': '...--', '4': '....-', '5': '.....',\n",
    "  '6': '-....', '7': '--...', '8': '---..', '9': '----.',\n",
    "  '&': '.-...', \"'\": '.----.', '@': '.--.-.', ')': '-.--.-', '(': '-.--.',\n",
    "  ':': '---...', ',': '--..--', '=': '-...-', '!': '-.-.--', '.': '.-.-.-',\n",
    "  '-': '-....-', '+': '.-.-.', '\"': '.-..-.', '?': '..--..', '/': '-..-.'\n",
    "}\n",
    "```\n",
    "```"
   ]
  },
  {
   "cell_type": "code",
   "execution_count": 54,
   "id": "03ca72a4",
   "metadata": {},
   "outputs": [
    {
     "name": "stdout",
     "output_type": "stream",
     "text": [
      "encode_morse(\"EDABBIT CHALLENGE\") ➞ . -.. .- -... -... .. -   -.-. .... .- .-.. .-.. . -. --. . \n",
      "\n",
      "encode_morse(\"HELP ME !\") ➞ .... . .-.. .--.   -- .   -.-.-- \n",
      "\n"
     ]
    }
   ],
   "source": [
    "def encode_morse(l):\n",
    "    char_to_dots = {\n",
    "  'A': '.-', 'B': '-...', 'C': '-.-.', 'D': '-..', 'E': '.', 'F': '..-.',\n",
    "  'G': '--.', 'H': '....', 'I': '..', 'J': '.---', 'K': '-.-', 'L': '.-..',\n",
    "  'M': '--', 'N': '-.', 'O': '---', 'P': '.--.', 'Q': '--.-', 'R': '.-.',\n",
    "  'S': '...', 'T': '-', 'U': '..-', 'V': '...-', 'W': '.--', 'X': '-..-',\n",
    "  'Y': '-.--', 'Z': '--..', ' ': ' ', '0': '-----',\n",
    "  '1': '.----', '2': '..---', '3': '...--', '4': '....-', '5': '.....',\n",
    "  '6': '-....', '7': '--...', '8': '---..', '9': '----.',\n",
    "  '&': '.-...', \"'\": '.----.', '@': '.--.-.', ')': '-.--.-', '(': '-.--.',\n",
    "  ':': '---...', ',': '--..--', '=': '-...-', '!': '-.-.--', '.': '.-.-.-',\n",
    "  '-': '-....-', '+': '.-.-.', '\"': '.-..-.', '?': '..--..', '/': '-..-.'}\n",
    "    \n",
    "    lis = list(map(str,l))\n",
    "    print(f'encode_morse(\"{l}\") ➞',end=' ')\n",
    "    for i in lis:\n",
    "        print(char_to_dots.get(i),end=' ')\n",
    "    print('\\n')\n",
    "    \n",
    "    \n",
    "encode_morse('EDABBIT CHALLENGE')\n",
    "encode_morse(\"HELP ME !\")"
   ]
  },
  {
   "cell_type": "markdown",
   "id": "46ba163f",
   "metadata": {},
   "source": [
    "****"
   ]
  },
  {
   "cell_type": "markdown",
   "id": "f6b3f25c",
   "metadata": {},
   "source": [
    "4.  Write a function that takes a number and returns True if it's a prime; False otherwise. The number can be 2^64-1 (2 to the power of 63, not XOR). With the standard technique it would be O(2^64-1), which is much too large for the 10 second time limit.\n",
    "```python\n",
    "Examples\n",
    "\n",
    "    prime(7) ➞ True\n",
    "\n",
    "    prime(56963) ➞ True\n",
    "\n",
    "    prime(5151512515524) ➞ False\n",
    "```"
   ]
  },
  {
   "cell_type": "code",
   "execution_count": 61,
   "id": "a89f1f8f",
   "metadata": {},
   "outputs": [
    {
     "name": "stdout",
     "output_type": "stream",
     "text": [
      "prime(7) ➞ True\n",
      "prime(56963) ➞ True\n",
      "prime(515151251) ➞ False\n"
     ]
    }
   ],
   "source": [
    "def prime(n):\n",
    "    flag = False\n",
    "    if n>1:\n",
    "        for i in range(2,n):\n",
    "            if n%i == 0:\n",
    "                flag = True\n",
    "    \n",
    "    \n",
    "    if flag:\n",
    "        print(f'prime({n}) ➞',False)\n",
    "    else:\n",
    "        print(f'prime({n}) ➞',True)\n",
    "        \n",
    "prime(7)\n",
    "prime(56963)\n",
    "prime(515151251)"
   ]
  },
  {
   "cell_type": "markdown",
   "id": "2e48abd4",
   "metadata": {},
   "source": [
    "****"
   ]
  },
  {
   "cell_type": "markdown",
   "id": "0d685abf",
   "metadata": {},
   "source": [
    "5.  Create a function that converts a word to a bitstring and then to a boolean list based on the following criteria:\n",
    "\n",
    "    1. Locate the position of the letter in the English alphabet (from 1 to 26).\n",
    "    2. Odd positions will be represented as 1 and 0 otherwise.\n",
    "    3. Convert the represented positions to boolean values, 1 for True and 0 for False.\n",
    "    4. Store the conversions into an array.\n",
    "```python\n",
    "Examples\n",
    "to_boolean_list(\"deep\") ➞ [False, True, True, False]\n",
    "     deep converts to 0110\n",
    "     d is the 4th alphabet - 0\n",
    "     e is the 5th alphabet - 1\n",
    "     e is the 5th alphabet - 1\n",
    "     p is the 16th alphabet - 0\n",
    "\n",
    "to_boolean_list(\"loves\") ➞ [False, True, False, True, True]\n",
    "\n",
    "to_boolean_list(\"tesh\") ➞ [False, True, True, False]\n",
    "\n",
    "```"
   ]
  },
  {
   "cell_type": "code",
   "execution_count": 75,
   "id": "3cb5b533",
   "metadata": {},
   "outputs": [
    {
     "name": "stdout",
     "output_type": "stream",
     "text": [
      "to_boolean_list(\"deep\") ➞ [False, True, True, False] \n",
      "\n",
      "to_boolean_list(\"loves\") ➞ [False, True, False, True, True] \n",
      "\n",
      "to_boolean_list(\"tesh\") ➞ [False, True, True, False] \n",
      "\n"
     ]
    }
   ],
   "source": [
    "def to_boolean_list(l):\n",
    "    alphabet = {'a':1,'b':2,'c':3,'d':4,'e':5,'f':6,'g':7,'h':8,'i':9,'j':10,'k':11,'l':12,'m':13,'n':14,'o':15,\n",
    "               'p':16,'q':17,'r':18,'s':19,'t':20,'u':21,'v':22,'w':23,'x':24,'y':25,'z':26}\n",
    "    m = list(map(str,l))\n",
    "    e = []\n",
    "    for i in m:\n",
    "        if int(alphabet[i])%2 == 0:\n",
    "            e.append(0)\n",
    "        else:\n",
    "            e.append(1)\n",
    "            \n",
    "    print(f'to_boolean_list(\"{l}\") ➞',[False if i==0 else True for i in e  ],'\\n')\n",
    "        \n",
    "    \n",
    "to_boolean_list('deep')\n",
    "to_boolean_list(\"loves\")\n",
    "to_boolean_list(\"tesh\")"
   ]
  },
  {
   "cell_type": "code",
   "execution_count": null,
   "id": "b81d3d44",
   "metadata": {},
   "outputs": [],
   "source": []
  }
 ],
 "metadata": {
  "kernelspec": {
   "display_name": "Python 3 (ipykernel)",
   "language": "python",
   "name": "python3"
  },
  "language_info": {
   "codemirror_mode": {
    "name": "ipython",
    "version": 3
   },
   "file_extension": ".py",
   "mimetype": "text/x-python",
   "name": "python",
   "nbconvert_exporter": "python",
   "pygments_lexer": "ipython3",
   "version": "3.8.12"
  }
 },
 "nbformat": 4,
 "nbformat_minor": 5
}
