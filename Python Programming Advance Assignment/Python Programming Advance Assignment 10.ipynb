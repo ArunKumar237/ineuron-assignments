{
 "cells": [
  {
   "cell_type": "markdown",
   "id": "0c8330a3",
   "metadata": {},
   "source": [
    "Python Programming Advance Assignment 10\n",
    "***************************************"
   ]
  },
  {
   "cell_type": "markdown",
   "id": "b4bfbca8",
   "metadata": {},
   "source": [
    "1.Create a function that takes the width, height and character and returns a picture frame as a 2D list.\n",
    "\n",
    "Examples\n",
    "```\n",
    "get_frame(4, 5, \"#\") ➞ [\n",
    "  [\"####\"],\n",
    "  [\"#  #\"],\n",
    "  [\"#  #\"],\n",
    "  [\"#  #\"],\n",
    "  [\"####\"]\n",
    "]\n",
    "# Frame is 4 characters wide and 5 characters tall.\n",
    "\n",
    "\n",
    "get_frame(10, 3, \"*\") ➞ [\n",
    "  [\"**********\"],\n",
    "  [\"*        *\"],\n",
    "  [\"**********\"]\n",
    "]\n",
    "# Frame is 10 characters and wide and 3 characters tall.\n",
    "\n",
    "\n",
    "get_frame(2, 5, \"0\") ➞ \"invalid\"\n",
    "# Frame's width is not more than 2.\n",
    "```"
   ]
  },
  {
   "cell_type": "code",
   "execution_count": 156,
   "id": "53733ae5",
   "metadata": {},
   "outputs": [
    {
     "name": "stdout",
     "output_type": "stream",
     "text": [
      "\n",
      "get_frame(4, 5, '#')\n",
      "['####']\n",
      "['#  #']\n",
      "['#  #']\n",
      "['#  #']\n",
      "['####']\n",
      "\n",
      "get_frame(10, 3, '*')\n",
      "['**********']\n",
      "['*        *']\n",
      "['**********']\n"
     ]
    }
   ],
   "source": [
    "def get_frame(n,m,s):\n",
    "    final = []\n",
    "    for i in range(m):\n",
    "        if (i == 0) or (i== m-1):\n",
    "            x = [n*s]\n",
    "#             print(x)\n",
    "        else:\n",
    "            x = [s+ (n-2)*' ' +s]\n",
    "#             print(x)\n",
    "        \n",
    "        final.append(x)\n",
    "    print(f'\\nget_frame{n,m,s}')\n",
    "    [print(i) for i in final]\n",
    "    \n",
    "    \n",
    "get_frame(4, 5, \"#\")\n",
    "get_frame(10, 3, \"*\")"
   ]
  },
  {
   "cell_type": "markdown",
   "id": "0e1c0b92",
   "metadata": {},
   "source": [
    "****"
   ]
  },
  {
   "cell_type": "markdown",
   "id": "4ed56668",
   "metadata": {},
   "source": [
    "2.Write three functions:\n",
    "```\n",
    "  1. boolean_and\n",
    "  2. boolean_or\n",
    "  3. boolean_xor\n",
    "```\n",
    "These functions should evaluate a list of True and False values, starting from the leftmost element and evaluating pairwise.\n",
    "\n",
    "Examples\n",
    "```\n",
    "boolean_and([True, True, False, True]) ➞ False\n",
    "# [True, True, False, True] => [True, False, True] => [False, True] => False\n",
    "\n",
    "boolean_or([True, True, False, False]) ➞ True\n",
    "# [True, True, False, True] => [True, False, False] => [True, False] => True\n",
    "\n",
    "boolean_xor([True, True, False, False]) ➞ False\n",
    "# [True, True, False, False] => [False, False, False] => [False, False] => False\n",
    "```"
   ]
  },
  {
   "cell_type": "code",
   "execution_count": 242,
   "id": "3e6490cc",
   "metadata": {},
   "outputs": [
    {
     "name": "stdout",
     "output_type": "stream",
     "text": [
      "boolean_and([True, True, False, True]) ➞ False\n",
      "\n",
      "boolean_or([True, True, False, False]) ➞ True\n",
      "\n",
      "boolean_xor([True, True, True, True]) ➞ False\n",
      "\n"
     ]
    }
   ],
   "source": [
    "def boolean_and(n):\n",
    "    if False in n:\n",
    "        print(f'boolean_and({n}) ➞ {False}\\n')\n",
    "    else:\n",
    "        print(f'boolean_and({n}) ➞ {True}\\n')\n",
    "\n",
    "def boolean_or(n):\n",
    "    if True in n:\n",
    "        print(f'boolean_or({n}) ➞ {True}\\n')\n",
    "    else:\n",
    "        print(f'boolean_or({n}) ➞ {False}\\n')\n",
    "    \n",
    "def boolean_xor(n):\n",
    "    f = []\n",
    "    for i in range(len(n)-1):\n",
    "        if n[i] != n[i+1]:\n",
    "            f.append(True)\n",
    "        else:\n",
    "            f.append(False)\n",
    "    \n",
    "    print(f'boolean_xor({n}) ➞ {f[-1]}\\n')\n",
    "        \n",
    "    \n",
    "    \n",
    "            \n",
    "    \n",
    "boolean_and([True, True, False, True])\n",
    "boolean_or([True, True, False, False])\n",
    "boolean_xor([True, True, True, True])"
   ]
  },
  {
   "cell_type": "markdown",
   "id": "abb7ce6d",
   "metadata": {},
   "source": [
    "****"
   ]
  },
  {
   "cell_type": "markdown",
   "id": "69db6d1b",
   "metadata": {},
   "source": [
    "3.Create a function that creates a box based on dimension n.\n",
    "\n",
    "Examples\n",
    "```\n",
    "make_box(5) ➞ [\n",
    "  \"#####\",\n",
    "  \"#   #\",\n",
    "  \"#   #\",\n",
    "  \"#   #\",\n",
    "  \"#####\"\n",
    "]\n",
    "\n",
    "make_box(3) ➞ [\n",
    "  \"###\",\n",
    "  \"# #\",\n",
    "  \"###\"\n",
    "]\n",
    "\n",
    "make_box(2) ➞ [\n",
    "  \"##\",\n",
    "  \"##\"\n",
    "]\n",
    "\n",
    "make_box(1) ➞ [\n",
    "  \"#\"\n",
    "]\n",
    "```"
   ]
  },
  {
   "cell_type": "code",
   "execution_count": 256,
   "id": "c7387a81",
   "metadata": {},
   "outputs": [
    {
     "name": "stdout",
     "output_type": "stream",
     "text": [
      "make_box(3)\n",
      "['###']\n",
      "['# #']\n",
      "['###']\n",
      "\n",
      "make_box(2)\n",
      "['##']\n",
      "['##']\n",
      "\n",
      "make_box(1)\n",
      "#\n",
      "\n"
     ]
    }
   ],
   "source": [
    "def make_box(n):\n",
    "    f = []\n",
    "    print(f'make_box({n})')\n",
    "    if n == 1: print('#')\n",
    "    else:\n",
    "        for i in range(n):\n",
    "            if (i == 0) or (i == n-1):\n",
    "                f.append(['#'*n])\n",
    "            else:\n",
    "                f.append(['#'+' '*(n-2)+'#'])\n",
    "    \n",
    "    [print(i) for i in f]\n",
    "    print('')\n",
    "    \n",
    "make_box(3)\n",
    "make_box(2)\n",
    "make_box(1)"
   ]
  },
  {
   "cell_type": "markdown",
   "id": "585a1df9",
   "metadata": {},
   "source": [
    "****"
   ]
  },
  {
   "cell_type": "markdown",
   "id": "db971a60",
   "metadata": {},
   "source": [
    "4.Given a common phrase, return False if any individual word in the phrase contains duplicate letters. Return True otherwise.\n",
    "\n",
    "Examples\n",
    "```\n",
    "no_duplicate_letters(\"Fortune favours the bold.\") ➞ True\n",
    "\n",
    "no_duplicate_letters(\"You can lead a horse to water, but you can't make him drink.\") ➞ True\n",
    "\n",
    "no_duplicate_letters(\"Look before you leap.\") ➞ False\n",
    "# Duplicate letters in \"Look\" and \"before\".\n",
    "\n",
    "no_duplicate_letters(\"An apple a day keeps the doctor away.\") ➞ False\n",
    "# Duplicate letters in \"apple\", \"keeps\", \"doctor\", and \"away\".\n",
    "```"
   ]
  },
  {
   "cell_type": "code",
   "execution_count": 265,
   "id": "d723c2d2",
   "metadata": {},
   "outputs": [
    {
     "name": "stdout",
     "output_type": "stream",
     "text": [
      "no_duplicate_letters(Fortune favours the bold.) ➞ True\n",
      "\n",
      "no_duplicate_letters(You can lead a horse to water, but you can't make him drink.) ➞ True\n",
      "\n",
      "no_duplicate_letters(Look before you leap.) ➞ False\n",
      "\n",
      "no_duplicate_letters(An apple a day keeps the doctor away.) ➞ False\n",
      "\n"
     ]
    }
   ],
   "source": [
    "def no_duplicate_letters(s):\n",
    "    st = s.split(' ')\n",
    "    decide = True\n",
    "    for i in st:\n",
    "        if len(set(i)) != len(i):\n",
    "            decide = False\n",
    "    \n",
    "    if decide == False:\n",
    "        print(f'no_duplicate_letters({s}) ➞ {False}\\n')\n",
    "    else:\n",
    "        print(f'no_duplicate_letters({s}) ➞ {True}\\n')\n",
    "        \n",
    "    \n",
    "    \n",
    "no_duplicate_letters(\"Fortune favours the bold.\")\n",
    "no_duplicate_letters(\"You can lead a horse to water, but you can't make him drink.\")\n",
    "no_duplicate_letters(\"Look before you leap.\")\n",
    "no_duplicate_letters(\"An apple a day keeps the doctor away.\")"
   ]
  },
  {
   "cell_type": "markdown",
   "id": "312fdc15",
   "metadata": {},
   "source": [
    "****"
   ]
  },
  {
   "cell_type": "markdown",
   "id": "4c8a026c",
   "metadata": {},
   "source": [
    "5.Write a regular expression that will match the states that voted yes to President Trump's impeachment. You must use RegEx positive lookahead.\n",
    "\n",
    "Example\n",
    "```\n",
    "txt = \"Texas = no, California = yes, Florida = yes, Michigan = no\"\n",
    "pattern = \"yourregularexpressionhere\"\n",
    "\n",
    "re.findall(pattern, txt) ➞ [\"California\", \"Florida\"]\n",
    "```"
   ]
  },
  {
   "cell_type": "code",
   "execution_count": 321,
   "id": "b8f37ade",
   "metadata": {},
   "outputs": [
    {
     "name": "stdout",
     "output_type": "stream",
     "text": [
      "['California', 'Florida']\n"
     ]
    }
   ],
   "source": [
    "import re\n",
    "txt = \"Texas = no, California = yes, Florida = yes, Michigan = no\"\n",
    "pattern = \"\\S[a-zA-Z]*(?=\\s=\\syes)\"\n",
    "\n",
    "x = re.findall(pattern, txt)\n",
    "print(x)"
   ]
  }
 ],
 "metadata": {
  "kernelspec": {
   "display_name": "Python 3 (ipykernel)",
   "language": "python",
   "name": "python3"
  },
  "language_info": {
   "codemirror_mode": {
    "name": "ipython",
    "version": 3
   },
   "file_extension": ".py",
   "mimetype": "text/x-python",
   "name": "python",
   "nbconvert_exporter": "python",
   "pygments_lexer": "ipython3",
   "version": "3.8.12"
  }
 },
 "nbformat": 4,
 "nbformat_minor": 5
}
