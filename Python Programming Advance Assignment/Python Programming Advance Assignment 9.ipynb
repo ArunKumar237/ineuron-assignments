{
 "cells": [
  {
   "cell_type": "markdown",
   "id": "0c8330a3",
   "metadata": {},
   "source": [
    "Python Programming Advance Assignment 9\n",
    "***************************************"
   ]
  },
  {
   "cell_type": "markdown",
   "id": "b4bfbca8",
   "metadata": {},
   "source": [
    "1.YouTube offers different playback speed options for users. This allows users to increase or decrease the speed of the video content. Given the actual duration and playback speed of the video, calculate the playback duration of the video.\n",
    "\n",
    "Examples\n",
    "```\n",
    "playback_duration(\"00:30:00\", 2) ➞ \"00:15:00\"\n",
    "\n",
    "playback_duration(\"01:20:00\", 1.5) ➞ \"00:53:20\"\n",
    "\n",
    "playback_duration(\"51:20:09\", 0.5) ➞ \"102:40:18\"\n",
    "```"
   ]
  },
  {
   "cell_type": "code",
   "execution_count": 28,
   "id": "53733ae5",
   "metadata": {},
   "outputs": [
    {
     "name": "stdout",
     "output_type": "stream",
     "text": [
      "playback_duration('00:30:00', 2) ➞ 00:15:00\n",
      "\n",
      "playback_duration('01:20:00', 1.5) ➞ 00:53:20\n",
      "\n",
      "playback_duration('51:20:09', 0.5) ➞ 102:40:18\n",
      "\n"
     ]
    }
   ],
   "source": [
    "import math\n",
    "def playback_duration(a,b):\n",
    "    x = list(map(int,a.split(':')))\n",
    "    t_mins = x[0]*60/1 + x[1] + x[2]*1/60  #calculating actual total minutes of the duration given as input\n",
    "    \n",
    "    \n",
    "    \n",
    "    if b > 0:\n",
    "        t_mins = t_mins/b  #calculating the total minutes after dividing with the required speed\n",
    "        \n",
    "        if int(str(t_mins).split('.')[0]) > 60:       #If the total minutes is more than 60 mins\n",
    "            \n",
    "            hrs = int(str(t_mins).split('.')[0])//60          #calculating hrs\n",
    "            if hrs == 0: hrs = '00'\n",
    "            \n",
    "            mins = int(str(t_mins).split('.')[0]) % 60         #calculating mins\n",
    "            if mins == 0: mins = '00'\n",
    "            \n",
    "            sec = int(str(t_mins).split('.')[1])         #calculating secs\n",
    "            sec = int(str(sec*60)[:2])\n",
    "            if sec == 0: sec = '00'\n",
    "            \n",
    "            print(f'playback_duration{a,b} ➞ {hrs}:{mins}:{sec}\\n') #output printing\n",
    "        \n",
    "        if int(str(t_mins).split('.')[0]) < 60:      #if the total minutes is less than 60 mins\n",
    "            \n",
    "            hrs = '00'        #because total mins is less than 60mins by default it is 0hrs\n",
    "            \n",
    "            mins = int(str(t_mins).split('.')[0])        #calculating mins\n",
    "            if mins == 0: mins = '00'\n",
    "            \n",
    "            sec = int(str(t_mins).split('.')[1])      #calculating secs\n",
    "            sec = int(str(sec*60)[:2])\n",
    "            if sec == 0: sec = '00'\n",
    "            \n",
    "            print(f'playback_duration{a,b} ➞ {hrs}:{mins}:{sec}\\n')     #printing output\n",
    "        \n",
    "    \n",
    "    \n",
    "    \n",
    "playback_duration(\"00:30:00\", 2)\n",
    "playback_duration(\"01:20:00\", 1.5)\n",
    "playback_duration(\"51:20:09\", 0.5)"
   ]
  },
  {
   "cell_type": "markdown",
   "id": "0e1c0b92",
   "metadata": {},
   "source": [
    "****"
   ]
  },
  {
   "cell_type": "markdown",
   "id": "4ed56668",
   "metadata": {},
   "source": [
    "2.We needs your help to construct a building which will be a pile of n cubes. The cube at the bottom will have a volume of n^3, the cube above will have volume of (n-1)^3 and so on until the top which will have a volume of 1^3.\n",
    "\n",
    "Given the total volume m of the building, can you find the number of cubes n required for the building?\n",
    "\n",
    "In other words, you have to return an integer n such that:\n",
    "\n",
    "n^3 + (n-1)^3 + ... + 1^3 == m\n",
    "\n",
    "Return None if there is no such number.\n",
    "\n",
    "Examples\n",
    "```\n",
    "pile_of_cubes(1071225) ➞ 45\n",
    "\n",
    "pile_of_cubes(4183059834009) ➞ 2022\n",
    "\n",
    "pile_of_cubes(16) ➞ None\n",
    "```"
   ]
  },
  {
   "cell_type": "code",
   "execution_count": 12,
   "id": "010bb21f",
   "metadata": {},
   "outputs": [
    {
     "name": "stdout",
     "output_type": "stream",
     "text": [
      "pile_of_cubes(1071225) ➞ 45\n",
      "\n",
      "pile_of_cubes(4183059834009) ➞ 2022\n",
      "\n",
      "pile_of_cubes(16) ➞ None\n",
      "\n"
     ]
    }
   ],
   "source": [
    "def pile_of_cubes(m):\n",
    "    output = 1\n",
    "    check = 0\n",
    "    decide = False\n",
    "    while check <= m:\n",
    "        check += output ** 3\n",
    "        if check == m:\n",
    "            decide = True\n",
    "            print(f'pile_of_cubes({m}) ➞ {output}\\n')\n",
    "        output += 1\n",
    "    if decide == False:\n",
    "        print(f'pile_of_cubes({m}) ➞ {None}\\n')\n",
    "\n",
    "pile_of_cubes(1071225)\n",
    "pile_of_cubes(4183059834009)\n",
    "pile_of_cubes(16)"
   ]
  },
  {
   "cell_type": "markdown",
   "id": "abb7ce6d",
   "metadata": {},
   "source": [
    "****"
   ]
  },
  {
   "cell_type": "markdown",
   "id": "69db6d1b",
   "metadata": {},
   "source": [
    "3.A fulcrum of a list is an integer such that all elements to the left of it and all elements to the right of it sum to the same value. Write a function that finds the fulcrum of a list.\n",
    "\n",
    "To illustrate:\n",
    "```\n",
    "find_fulcrum([3, 1, 5, 2, 4, 6, -1]) ➞ 2\n",
    "// Since [3, 1, 5] and [4, 6, -1] both sum to 9\n",
    "```\n",
    "Examples\n",
    "```\n",
    "find_fulcrum([1, 2, 4, 9, 10, -10, -9, 3]) ➞ 4\n",
    "\n",
    "find_fulcrum([9, 1, 9]) ➞ 1\n",
    "\n",
    "find_fulcrum([7, -1, 0, -1, 1, 1, 2, 3]) ➞ 0\n",
    "\n",
    "find_fulcrum([8, 8, 8, 8]) ➞ -1\n",
    "```"
   ]
  },
  {
   "cell_type": "code",
   "execution_count": 53,
   "id": "c7387a81",
   "metadata": {},
   "outputs": [
    {
     "name": "stdout",
     "output_type": "stream",
     "text": [
      "find_fulcrum([1, 2, 4, 9, 10, -10, -9, 3]) ➞ 4\n",
      "\n",
      "find_fulcrum([9, 1, 9]) ➞ 1\n",
      "\n",
      "find_fulcrum([7, -1, 0, -1, 1, 1, 2, 3]) ➞ 0\n",
      "\n",
      "find_fulcrum([8, 8, 8, 8]) ➞ -1\n",
      "\n"
     ]
    }
   ],
   "source": [
    "def find_fulcrum(n):\n",
    "    decide = False\n",
    "    \n",
    "    for i in range(1,len(n)-1):\n",
    "        left = 0\n",
    "        right = 0\n",
    "        \n",
    "#         print(n.index(n[i]),end=':')\n",
    "#         print(n[:n.index(n[i])],\":\",n[n.index(n[i])+1:])\n",
    "        \n",
    "        for j in range(len(n[:n.index(n[i])])):\n",
    "            left += n[j]\n",
    "        \n",
    "        for k in range(len(n[:n.index(n[i])])+1,len(n)):\n",
    "            right += n[k]\n",
    "        \n",
    "#         print(left,right)\n",
    "        if left == right:\n",
    "            decide = True\n",
    "            print(f'find_fulcrum({n}) ➞ {n[i]}\\n')\n",
    "        \n",
    "        \n",
    "    if decide == False:\n",
    "        print(f'find_fulcrum({n}) ➞ {-1}\\n')\n",
    "            \n",
    "            \n",
    "    \n",
    "    \n",
    "find_fulcrum([1, 2, 4, 9, 10, -10, -9, 3])\n",
    "find_fulcrum([9, 1, 9])\n",
    "find_fulcrum([7, -1, 0, -1, 1, 1, 2, 3])\n",
    "find_fulcrum([8, 8, 8, 8])"
   ]
  },
  {
   "cell_type": "markdown",
   "id": "585a1df9",
   "metadata": {},
   "source": [
    "****"
   ]
  },
  {
   "cell_type": "markdown",
   "id": "db971a60",
   "metadata": {},
   "source": [
    "4.Given a list of integers representing the color of each sock, determine how many pairs of socks with matching colors there are. For example, there are 7 socks with colors [1, 2, 1, 2, 1, 3, 2]. There is one pair of color 1 and one of color 2. There are three odd socks left, one of each color. The number of pairs is 2.\n",
    "\n",
    "Create a function that returns an integer representing the number of matching pairs of socks that are available.\n",
    "\n",
    "Examples\n",
    "```\n",
    "sock_merchant([10, 20, 20, 10, 10, 30, 50, 10, 20]) ➞ 3\n",
    "\n",
    "sock_merchant([50, 20, 30, 90, 30, 20, 50, 20, 90]) ➞ 4\n",
    "\n",
    "sock_merchant([]) ➞ 0\n",
    "```"
   ]
  },
  {
   "cell_type": "code",
   "execution_count": 72,
   "id": "d723c2d2",
   "metadata": {},
   "outputs": [
    {
     "name": "stdout",
     "output_type": "stream",
     "text": [
      "sock_merchant([10, 10, 10, 10, 20, 20, 20, 30, 50]) ➞ 3\n",
      "\n",
      "sock_merchant([20, 20, 20, 30, 30, 50, 50, 90, 90]) ➞ 1\n",
      "\n",
      "sock_merchant([]) ➞ 0\n",
      "\n"
     ]
    }
   ],
   "source": [
    "def sock_merchant(n):\n",
    "    n = sorted(n)\n",
    "    count = 0\n",
    "    for i in range(0,len(n)-1,2):\n",
    "        if n[i] == n[i+1]:\n",
    "            count += 1\n",
    "    print(f'sock_merchant({n}) ➞ {count}\\n')   \n",
    "        \n",
    "    \n",
    "\n",
    "sock_merchant([10, 20, 20, 10, 10, 30, 50, 10, 20])\n",
    "sock_merchant([50, 20, 30, 90, 30, 20, 50, 20, 90])\n",
    "sock_merchant([])"
   ]
  },
  {
   "cell_type": "markdown",
   "id": "312fdc15",
   "metadata": {},
   "source": [
    "****"
   ]
  },
  {
   "cell_type": "markdown",
   "id": "4c8a026c",
   "metadata": {},
   "source": [
    "5.Create a function that takes a string containing integers as well as other characters and return the sum of the negative integers only.\n",
    "\n",
    "Examples\n",
    "```\n",
    "negative_sum(\"-12 13%14&-11\") ➞ -23\n",
    "# -12 + -11 = -23\n",
    "\n",
    "negative_sum(\"22 13%14&-11-22 13 12\") ➞ -33\n",
    "# -11 + -22 = -33\n",
    "```"
   ]
  },
  {
   "cell_type": "code",
   "execution_count": 90,
   "id": "b8f37ade",
   "metadata": {},
   "outputs": [
    {
     "name": "stdout",
     "output_type": "stream",
     "text": [
      "negative_sum(-12 13%14&-11) ➞ -23\n",
      "\n",
      "negative_sum(22 13%14&-11-22 13 12) ➞ -33\n",
      "\n"
     ]
    }
   ],
   "source": [
    "import re\n",
    "def negative_sum(s):\n",
    "    out = 0\n",
    "    x = re.findall(\"-\\d+\", s)\n",
    "    for i in x:\n",
    "        out += int(i)\n",
    "    print(f'negative_sum({s}) ➞ {out}\\n')\n",
    "    \n",
    "    \n",
    "negative_sum(\"-12 13%14&-11\")\n",
    "negative_sum(\"22 13%14&-11-22 13 12\")"
   ]
  }
 ],
 "metadata": {
  "kernelspec": {
   "display_name": "Python 3 (ipykernel)",
   "language": "python",
   "name": "python3"
  },
  "language_info": {
   "codemirror_mode": {
    "name": "ipython",
    "version": 3
   },
   "file_extension": ".py",
   "mimetype": "text/x-python",
   "name": "python",
   "nbconvert_exporter": "python",
   "pygments_lexer": "ipython3",
   "version": "3.8.12"
  }
 },
 "nbformat": 4,
 "nbformat_minor": 5
}
