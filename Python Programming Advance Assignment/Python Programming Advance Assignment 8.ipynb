{
 "cells": [
  {
   "cell_type": "markdown",
   "id": "0c8330a3",
   "metadata": {},
   "source": [
    "Python Programming Advance Assignment 8\n",
    "***************************************"
   ]
  },
  {
   "cell_type": "markdown",
   "id": "b4bfbca8",
   "metadata": {},
   "source": [
    "1.Given a sentence as txt, return True if any two adjacent words have this property: One word ends with a vowel, while the word immediately after begins with a vowel (a e i o u).\n",
    "\n",
    "Examples\n",
    "```\n",
    "vowel_links(\"a very large appliance\") ➞ True\n",
    "\n",
    "vowel_links(\"go to edabit\") ➞ True\n",
    "\n",
    "vowel_links(\"an open fire\") ➞ False\n",
    "\n",
    "vowel_links(\"a sudden applause\") ➞ False\n",
    "```"
   ]
  },
  {
   "cell_type": "code",
   "execution_count": 90,
   "id": "53733ae5",
   "metadata": {},
   "outputs": [
    {
     "name": "stdout",
     "output_type": "stream",
     "text": [
      "vowel_links(a very large appliance) ➞  True\n",
      "vowel_links(go to edabit) ➞  True\n",
      "vowel_links(an open fire) ➞  False\n",
      "vowel_links(a sudden applause) ➞  False\n"
     ]
    }
   ],
   "source": [
    "def vowel_links(st):\n",
    "    a = st.replace(' ',' (aeiou) ') #inserting temp string\n",
    "    a = a.split(' ')\n",
    "    decide = False\n",
    "    for i in range(1,len(a)-1,2): #checking the last character of left string and first character of right string of temp string '(aeiou)'\n",
    "        if (a[i-1][-1] == 'a' or a[i-1][-1] == 'e' or a[i-1][-1] == 'i' or a[i-1][-1] == 'o' or a[i-1][-1] == 'u') and (a[i+1][0] == 'a' or a[i+1][0] == 'e' or a[i+1][0] == 'i' or a[i+1][0] == 'o' or a[i+1][0] == 'u'):\n",
    "            decide = True\n",
    "        \n",
    "    print(f'vowel_links({st}) ➞ ',decide)   \n",
    "            \n",
    "    \n",
    "    \n",
    "vowel_links(\"a very large appliance\")\n",
    "vowel_links(\"go to edabit\")\n",
    "vowel_links(\"an open fire\")\n",
    "vowel_links(\"a sudden applause\")"
   ]
  },
  {
   "cell_type": "markdown",
   "id": "0e1c0b92",
   "metadata": {},
   "source": [
    "****"
   ]
  },
  {
   "cell_type": "markdown",
   "id": "4ed56668",
   "metadata": {},
   "source": [
    "2.You are given three inputs: a string, one letter, and a second letter.\n",
    "\n",
    "Write a function that returns True if every instance of the first letter occurs before every instance of the second letter.\n",
    "\n",
    "Examples\n",
    "```\n",
    "first_before_second(\"a rabbit jumps joyfully\", \"a\", \"j\") ➞ True\n",
    "# Every instance of \"a\" occurs before every instance of \"j\".\n",
    "\n",
    "first_before_second(\"knaves knew about waterfalls\", \"k\", \"w\") ➞  True\n",
    "\n",
    "first_before_second(\"happy birthday\", \"a\", \"y\") ➞ False\n",
    "# The \"a\" in \"birthday\" occurs after the \"y\" in \"happy\".\n",
    "\n",
    "first_before_second(\"precarious kangaroos\", \"k\", \"a\") ➞ False\n",
    "```"
   ]
  },
  {
   "cell_type": "code",
   "execution_count": 105,
   "id": "67dacc9a",
   "metadata": {},
   "outputs": [
    {
     "name": "stdout",
     "output_type": "stream",
     "text": [
      "first_before_second('a rabbit jumps joyfully', 'a', 'j') ➞  True\n",
      "Every instance of \"a\" occurs before every instance of \"j\".\n",
      "\n",
      "first_before_second('knaves knew about waterfalls', 'k', 'w') ➞  True\n",
      "Every instance of \"k\" occurs before every instance of \"w\".\n",
      "\n",
      "first_before_second('happy birthday', 'a', 'y') ➞  False\n",
      "The \"a\" occurs after the \"y\" in the string.\n",
      "\n",
      "first_before_second('precarious kangaroos', 'k', 'a') ➞  False\n",
      "The \"k\" occurs after the \"a\" in the string.\n",
      "\n"
     ]
    }
   ],
   "source": [
    "def first_before_second(a,b,c):\n",
    "    x = a.rfind(b)\n",
    "    y = a.find(c)\n",
    "    \n",
    "    if x == -1: \n",
    "        print(f'{b} not fount')\n",
    "    elif y == -1:\n",
    "        print(f'{c} not found')\n",
    "    elif x < y:\n",
    "        print(f'first_before_second{a,b,c} ➞ ',True)\n",
    "        print(f'Every instance of \"{b}\" occurs before every instance of \"{c}\".\\n')\n",
    "    else:\n",
    "        print(f'first_before_second{a,b,c} ➞ ',False)\n",
    "        print(f'The \"{b}\" occurs after the \"{c}\" in the string.\\n')\n",
    "    \n",
    "    \n",
    "first_before_second(\"a rabbit jumps joyfully\", \"a\", \"j\")\n",
    "first_before_second(\"knaves knew about waterfalls\", \"k\", \"w\")\n",
    "first_before_second(\"happy birthday\", \"a\", \"y\")\n",
    "first_before_second(\"precarious kangaroos\", \"k\", \"a\")"
   ]
  },
  {
   "cell_type": "markdown",
   "id": "abb7ce6d",
   "metadata": {},
   "source": [
    "****"
   ]
  },
  {
   "cell_type": "markdown",
   "id": "69db6d1b",
   "metadata": {},
   "source": [
    "3. Create a function that returns the characters from a list or string r on odd or even positions, depending on the specifier s. The specifier will be \"odd\" for items on odd positions (1, 3, 5, ...) and \"even\" for items on even positions (2, 4, 6, ...).\n",
    "\n",
    "Examples\n",
    "```\n",
    "char_at_pos([2, 4, 6, 8, 10], \"even\") ➞ [4, 8]\n",
    "# 4 & 8 occupy the 2nd & 4th positions\n",
    "\n",
    "char_at_pos(\"EDABIT\", \"odd\") ➞ \"EAI\"\n",
    "# \"E\", \"A\" and \"I\" occupy the 1st, 3rd and 5th positions\n",
    "\n",
    "char_at_pos([\"A\", \"R\", \"B\", \"I\", \"T\", \"R\", \"A\", \"R\", \"I\", \"L\", \"Y\"], \"odd\") ➞ [\"A\", \"B\", \"T\", \"A\", \"I\", \"Y\"]\n",
    "```"
   ]
  },
  {
   "cell_type": "code",
   "execution_count": 128,
   "id": "c7387a81",
   "metadata": {},
   "outputs": [
    {
     "name": "stdout",
     "output_type": "stream",
     "text": [
      "char_at_pos([2, 4, 6, 8, 10], 'even') ➞ [4, 8]\n",
      "\n",
      "\n",
      "char_at_pos('EDABIT', 'odd') ➞ \"EAI\"\n",
      "\n",
      "char_at_pos(['A', 'R', 'B', 'I', 'T', 'R', 'A', 'R', 'I', 'L', 'Y'], 'odd') ➞ ['A', 'B', 'T', 'A', 'I', 'Y']\n"
     ]
    }
   ],
   "source": [
    "def char_at_pos(s,d):\n",
    "    l = []\n",
    "    if d == 'even':\n",
    "        print(f'char_at_pos{s,d} ➞ ',end='')\n",
    "        if type(s) == list:\n",
    "            for i in range(1,len(s),2):\n",
    "                l.append(s[i])\n",
    "            print(l)\n",
    "        else:\n",
    "            for i in range(1,len(s),2):\n",
    "                print(i,end='')\n",
    "    \n",
    "    print('')\n",
    "\n",
    "    if d == 'odd':\n",
    "        print(f'char_at_pos{s,d} ➞ ',end='')\n",
    "        if type(s) == list:\n",
    "            for i in range(0,len(s),2):\n",
    "                l.append(s[i])\n",
    "            print(l)\n",
    "        else:\n",
    "            print('\"',end='')\n",
    "            for i in range(0,len(s),2):\n",
    "                print(s[i],end='')\n",
    "            print('\"')    \n",
    "            \n",
    "char_at_pos([2, 4, 6, 8, 10], \"even\")\n",
    "char_at_pos(\"EDABIT\", \"odd\")\n",
    "char_at_pos([\"A\", \"R\", \"B\", \"I\", \"T\", \"R\", \"A\", \"R\", \"I\", \"L\", \"Y\"], \"odd\")"
   ]
  },
  {
   "cell_type": "markdown",
   "id": "585a1df9",
   "metadata": {},
   "source": [
    "****"
   ]
  },
  {
   "cell_type": "markdown",
   "id": "db971a60",
   "metadata": {},
   "source": [
    "4.Create a function that takes in n, a, b and returns the number of positive values raised to the nth power that lie in the range [a, b], inclusive.\n",
    "\n",
    "Examples\n",
    "```\n",
    "power_ranger(2, 49, 65) ➞ 2\n",
    "# 2 squares (n^2) lie between 49 and 65, 49 (7^2) and 64 (8^2)\n",
    "\n",
    "power_ranger(3, 1, 27) ➞ 3\n",
    "# 3 cubes (n^3) lie between 1 and 27, 1 (1^3), 8 (2^3) and 27 (3^3)\n",
    "\n",
    "power_ranger(10, 1, 5) ➞ 1\n",
    "# 1 value raised to the 10th power lies between 1 and 5, 1 (1^10)\n",
    "\n",
    "power_ranger(5, 31, 33) ➞ 1\n",
    "\n",
    "power_ranger(4, 250, 1300) ➞ 3\n",
    "```"
   ]
  },
  {
   "cell_type": "code",
   "execution_count": 131,
   "id": "d723c2d2",
   "metadata": {},
   "outputs": [
    {
     "data": {
      "text/plain": [
       "3"
      ]
     },
     "execution_count": 131,
     "metadata": {},
     "output_type": "execute_result"
    }
   ],
   "source": [
    "def power_range(power,first_number, last_number):\n",
    "    numbers = [i for i in range(first_number,last_number+1)]\n",
    "    numbers_in_between = [i for i in range(0,100)]\n",
    "    \n",
    "    count = 0\n",
    "    for i in numbers_in_between:\n",
    "        for j in numbers:\n",
    "            if j==i**power:\n",
    "                count = count + 1\n",
    "    return count\n",
    "\n",
    "power_range(4,250,1300)"
   ]
  },
  {
   "cell_type": "markdown",
   "id": "312fdc15",
   "metadata": {},
   "source": [
    "****"
   ]
  },
  {
   "cell_type": "markdown",
   "id": "4c8a026c",
   "metadata": {},
   "source": [
    "5.A number/string is a palindrome if the digits/characters are the same when read both forward and backward. Examples include \"racecar\" and 12321. Given a positive number n, check if n or the binary representation of n is palindromic. Return the following:\n",
    "\n",
    "- \"Decimal only.\" if only n is a palindrome.\n",
    "- \"Binary only.\" if only the binary representation of n is a palindrome.\n",
    "- \"Decimal and binary.\" if both are palindromes.\n",
    "- \"Neither!\" if neither are palindromes.\n",
    "\n",
    "Examples\n",
    "```\n",
    "palindrome_type(1306031) ➞ \"Decimal only.\"\n",
    "# decimal = 1306031\n",
    "# binary  = \"100111110110110101111\"\n",
    "\n",
    "palindrome_type(427787) ➞ \"Binary only.\"\n",
    "# decimal = 427787\n",
    "# binary  = \"1101000011100001011\"\n",
    "\n",
    "palindrome_type(313) ➞ \"Decimal and binary.\"\n",
    "# decimal = 313\n",
    "# binary  = 100111001\n",
    "\n",
    "palindrome_type(934) ➞ \"Neither!\"\n",
    "# decimal = 934\n",
    "# binary  = \"1110100110\"\n",
    "```"
   ]
  },
  {
   "cell_type": "code",
   "execution_count": 175,
   "id": "b8f37ade",
   "metadata": {},
   "outputs": [
    {
     "name": "stdout",
     "output_type": "stream",
     "text": [
      "Decimal palindrome_type(1306031) ➞ \"Decimal only.\"\n",
      "\n",
      "palindrome_type(427787) ➞ \"Binary only.\"\n",
      "\n",
      "Decimal palindrome_type(313) ➞ \"Decimal and Binary.\"\n",
      "\n",
      "palindrome_type(934) ➞ \"Neither!\"\n",
      "\n"
     ]
    }
   ],
   "source": [
    "def palindrome_type(num):\n",
    "    x = ''\n",
    "    a = bin(num)[2:]\n",
    "    if a == a[::-1]:\n",
    "        x += 'b'\n",
    "    if str(num) == str(num)[::-1]:\n",
    "        print('Decimal',end=' ')\n",
    "        x += 'd'\n",
    "    if x == 'b':\n",
    "        print(f'palindrome_type({num}) ➞ \"Binary only.\"\\n')\n",
    "    elif x == 'd':\n",
    "        print(f'palindrome_type({num}) ➞ \"Decimal only.\"\\n')\n",
    "    elif x == 'bd':\n",
    "        print(f'palindrome_type({num}) ➞ \"Decimal and Binary.\"\\n')\n",
    "    else:\n",
    "        print(f'palindrome_type({num}) ➞ \"Neither!\"\\n')\n",
    "    \n",
    "    \n",
    "palindrome_type(1306031)\n",
    "palindrome_type(427787)\n",
    "palindrome_type(313)\n",
    "palindrome_type(934)"
   ]
  }
 ],
 "metadata": {
  "kernelspec": {
   "display_name": "Python 3 (ipykernel)",
   "language": "python",
   "name": "python3"
  },
  "language_info": {
   "codemirror_mode": {
    "name": "ipython",
    "version": 3
   },
   "file_extension": ".py",
   "mimetype": "text/x-python",
   "name": "python",
   "nbconvert_exporter": "python",
   "pygments_lexer": "ipython3",
   "version": "3.8.12"
  }
 },
 "nbformat": 4,
 "nbformat_minor": 5
}
