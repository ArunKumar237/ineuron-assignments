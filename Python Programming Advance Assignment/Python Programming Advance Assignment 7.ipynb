{
 "cells": [
  {
   "cell_type": "markdown",
   "id": "0c8330a3",
   "metadata": {},
   "source": [
    "Python Programming Advance Assignment 7\n",
    "***************************************"
   ]
  },
  {
   "cell_type": "markdown",
   "id": "b4bfbca8",
   "metadata": {},
   "source": [
    "1.Write a function that counts how many concentric layers a rug.\n",
    "\n",
    "Examples\n",
    "```\n",
    "count_layers([\n",
    "  \"AAAA\",\n",
    "  \"ABBA\",\n",
    "  \"AAAA\"\n",
    "]) ➞ 2\n",
    "\n",
    "count_layers([\n",
    "  \"AAAAAAAAA\",\n",
    "  \"ABBBBBBBA\",\n",
    "  \"ABBAAABBA\",\n",
    "  \"ABBBBBBBA\",\n",
    "  \"AAAAAAAAA\"\n",
    "]) ➞ 3\n",
    "\n",
    "count_layers([\n",
    "  \"AAAAAAAAAAA\",\n",
    "  \"AABBBBBBBAA\",\n",
    "  \"AABCCCCCBAA\",\n",
    "  \"AABCAAACBAA\",\n",
    "  \"AABCADACBAA\",\n",
    "  \"AABCAAACBAA\",\n",
    "  \"AABCCCCCBAA\",\n",
    "  \"AABBBBBBBAA\",\n",
    "  \"AAAAAAAAAAA\"\n",
    "]) ➞ 5\n",
    "```"
   ]
  },
  {
   "cell_type": "code",
   "execution_count": 8,
   "id": "53733ae5",
   "metadata": {},
   "outputs": [
    {
     "name": "stdout",
     "output_type": "stream",
     "text": [
      "['AAAAAAAAAAA',\n",
      " 'AABBBBBBBAA',\n",
      " 'AABCCCCCBAA',\n",
      " 'AABCAAACBAA',\n",
      " 'AABCADACBAA',\n",
      " 'AABCAAACBAA',\n",
      " 'AABCCCCCBAA',\n",
      " 'AABBBBBBBAA',\n",
      " 'AAAAAAAAAAA']\n",
      "\t\t\t ➞ 5 \n",
      "\n",
      "['AAAAAAAAA', 'ABBBBBBBA', 'ABBAAABBA', 'ABBBBBBBA', 'AAAAAAAAA']\n",
      "\t\t\t ➞ 3 \n",
      "\n",
      "['AAAA', 'ABBA', 'AAAA']\n",
      "\t\t\t ➞ 2 \n",
      "\n"
     ]
    }
   ],
   "source": [
    "import pprint\n",
    "def count_layers(l):\n",
    "    a = l[len(l)//2]\n",
    "    b = a[:len(a)//2+1]\n",
    "    c = list(map(str,b))\n",
    "    count = 0\n",
    "    for i in range(len(c)-1):\n",
    "        if c[i] == c[i+1]:\n",
    "            pass\n",
    "        else:\n",
    "            count += 1\n",
    "    \n",
    "    pprint.pprint(l)\n",
    "    print('\\t\\t\\t ➞',count+1,'\\n')\n",
    "    \n",
    "\n",
    "count_layers([\n",
    "  \"AAAAAAAAAAA\",\n",
    "  \"AABBBBBBBAA\",\n",
    "  \"AABCCCCCBAA\",\n",
    "  \"AABCAAACBAA\",\n",
    "  \"AABCADACBAA\",\n",
    "  \"AABCAAACBAA\",\n",
    "  \"AABCCCCCBAA\",\n",
    "  \"AABBBBBBBAA\",\n",
    "  \"AAAAAAAAAAA\"\n",
    "])\n",
    "\n",
    "count_layers([\n",
    "  \"AAAAAAAAA\",\n",
    "  \"ABBBBBBBA\",\n",
    "  \"ABBAAABBA\",\n",
    "  \"ABBBBBBBA\",\n",
    "  \"AAAAAAAAA\"\n",
    "])\n",
    "\n",
    "count_layers([\n",
    "  \"AAAA\",\n",
    "  \"ABBA\",\n",
    "  \"AAAA\"\n",
    "])"
   ]
  },
  {
   "cell_type": "markdown",
   "id": "0e1c0b92",
   "metadata": {},
   "source": [
    "****"
   ]
  },
  {
   "cell_type": "markdown",
   "id": "4ed56668",
   "metadata": {},
   "source": [
    "2.There are many different styles of music and many albums exhibit multiple styles. Create a function that takes a list of musical styles from albums and returns how many styles are unique.\n",
    "\n",
    "Examples\n",
    "```\n",
    "unique_styles([\n",
    "  \"Dub,Dancehall\",\n",
    "  \"Industrial,Heavy Metal\",\n",
    "  \"Techno,Dubstep\",\n",
    "  \"Synth-pop,Euro-Disco\",\n",
    "  \"Industrial,Techno,Minimal\"\n",
    "]) ➞ 9\n",
    "\n",
    "unique_styles([\n",
    "  \"Soul\",\n",
    "  \"House,Folk\",\n",
    "  \"Trance,Downtempo,Big Beat,House\",\n",
    "  \"Deep House\",\n",
    "  \"Soul\"\n",
    "]) ➞ 7\n",
    "```"
   ]
  },
  {
   "cell_type": "code",
   "execution_count": 47,
   "id": "67dacc9a",
   "metadata": {},
   "outputs": [
    {
     "name": "stdout",
     "output_type": "stream",
     "text": [
      "unique_styles([\n",
      "\t \"Dub,Dancehall\"\n",
      "\t \"Industrial,Heavy Metal\"\n",
      "\t \"Techno,Dubstep\"\n",
      "\t \"Synth-pop,Euro-Disco\"\n",
      "\t \"Industrial,Techno,Minimal\"\n",
      "]) ➞  9 \n",
      "\n",
      "unique_styles([\n",
      "\t \"Soul\"\n",
      "\t \"House,Folk\"\n",
      "\t \"Trance,Downtempo,Big Beat,House\"\n",
      "\t \"Deep House\"\n",
      "\t \"Soul\"\n",
      "]) ➞  7 \n",
      "\n"
     ]
    }
   ],
   "source": [
    "\n",
    "def unique_styles(l):\n",
    "    fin = []\n",
    "    print('unique_styles([')\n",
    "    for i in l:\n",
    "        fin = fin + list(map(str,i.split(',')))\n",
    "        print(\"\\t\",'\"'+i+'\"')\n",
    "    print('])',end='')\n",
    "    fin = set(fin)\n",
    "\n",
    "    print(' ➞ ',len(fin),'\\n')\n",
    "\n",
    "unique_styles([\n",
    "  \"Dub,Dancehall\",\n",
    "  \"Industrial,Heavy Metal\",\n",
    "  \"Techno,Dubstep\",\n",
    "  \"Synth-pop,Euro-Disco\",\n",
    "  \"Industrial,Techno,Minimal\"\n",
    "])\n",
    "\n",
    "unique_styles([\n",
    "  \"Soul\",\n",
    "  \"House,Folk\",\n",
    "  \"Trance,Downtempo,Big Beat,House\",\n",
    "  \"Deep House\",\n",
    "  \"Soul\"\n",
    "])"
   ]
  },
  {
   "cell_type": "markdown",
   "id": "abb7ce6d",
   "metadata": {},
   "source": [
    "****"
   ]
  },
  {
   "cell_type": "markdown",
   "id": "69db6d1b",
   "metadata": {},
   "source": [
    "3.Create a function that finds a target number in a list of prime numbers. Implement a binary search algorithm in your function. The target number will be from 2 through 97. If the target is prime then return \"yes\" else return \"no\".\n",
    "\n",
    "Examples\n",
    "```\n",
    "primes = [2, 3, 5, 7, 11, 13, 17, 19, 23, 29, 31, 37, 41, 43, 47, 53, 59, 61, 67, 71, 73, 79, 83, 89, 97]\n",
    "\n",
    "\n",
    "is_prime(primes, 3) ➞ \"yes\"\n",
    "\n",
    "is_prime(primes, 4) ➞ \"no\"\n",
    "\n",
    "is_prime(primes, 67) ➞ \"yes\"\n",
    "\n",
    "is_prime(primes, 36) ➞ \"no\"\n",
    "```"
   ]
  },
  {
   "cell_type": "code",
   "execution_count": 119,
   "id": "c7387a81",
   "metadata": {},
   "outputs": [
    {
     "name": "stdout",
     "output_type": "stream",
     "text": [
      "is_prime(primes, 41) ➞ \"Yes\"\n",
      "\n",
      "is_prime(primes, 3) ➞ \"Yes\"\n",
      "\n",
      "is_prime(primes, 4) ➞ \"No\"\n",
      "\n",
      "is_prime(primes, 67) ➞ \"Yes\"\n",
      "\n",
      "is_prime(primes, 36) ➞ \"No\"\n",
      "\n"
     ]
    }
   ],
   "source": [
    "def is_prime(primes, x):\n",
    "    l = 0\n",
    "    r = len(primes)-1\n",
    "    while l <= r:\n",
    "\n",
    "        mid = l + (r - l) // 2\n",
    "\n",
    "        if arr[mid] == x:\n",
    "            print(f'is_prime(primes, {x}) ➞ \"Yes\"\\n')\n",
    "            break\n",
    "\n",
    "        elif arr[mid] < x:\n",
    "            l = mid + 1\n",
    "\n",
    "        else:\n",
    "            r = mid - 1\n",
    "\n",
    "    if arr[mid] != x:\n",
    "        print(f'is_prime(primes, {x}) ➞ \"No\"\\n')\n",
    "\n",
    "\n",
    "primes = [2, 3, 5, 7, 11, 13, 17, 19, 23, 29, 31, 37, 41, 43, 47, 53, 59, 61, 67, 71, 73, 79, 83, 89, 97]\n",
    "\n",
    "\n",
    "is_prime(primes, 41)\n",
    "is_prime(primes, 3)\n",
    "is_prime(primes, 4)\n",
    "is_prime(primes, 67)\n",
    "is_prime(primes, 36)\n"
   ]
  },
  {
   "cell_type": "markdown",
   "id": "585a1df9",
   "metadata": {},
   "source": [
    "****"
   ]
  },
  {
   "cell_type": "markdown",
   "id": "db971a60",
   "metadata": {},
   "source": [
    "4.Create a function that takes in n, a, b and returns the number of positive values raised to the nth power that lie in the range [a, b], inclusive.\n",
    "\n",
    "Examples\n",
    "```\n",
    "power_ranger(2, 49, 65) ➞ 2\n",
    "# 2 squares (n^2) lie between 49 and 65, 49 (7^2) and 64 (8^2)\n",
    "\n",
    "power_ranger(3, 1, 27) ➞ 3\n",
    "# 3 cubes (n^3) lie between 1 and 27, 1 (1^3), 8 (2^3) and 27 (3^3)\n",
    "\n",
    "power_ranger(10, 1, 5) ➞ 1\n",
    "# 1 value raised to the 10th power lies between 1 and 5, 1 (1^10)\n",
    "\n",
    "power_ranger(5, 31, 33) ➞ 1\n",
    "\n",
    "power_ranger(4, 250, 1300) ➞ 3\n",
    "```"
   ]
  },
  {
   "cell_type": "code",
   "execution_count": 126,
   "id": "d723c2d2",
   "metadata": {},
   "outputs": [
    {
     "name": "stdout",
     "output_type": "stream",
     "text": [
      "power_ranger(2, 49, 65) ➞ 2 \n",
      "\n",
      "power_ranger(3, 1, 27) ➞ 2 \n",
      "\n",
      "power_ranger(10, 1, 5) ➞ 1 \n",
      "\n",
      "power_ranger(5, 31, 33) ➞ 1 \n",
      "\n",
      "power_ranger(4, 250, 1300) ➞ 3 \n",
      "\n"
     ]
    }
   ],
   "source": [
    "def power_ranger(n,min,max):\n",
    "    count = 0 \n",
    "    for i in range(max): \n",
    "        if i**n in range(min,max):\n",
    "            count += 1 \n",
    "    print(f'power_ranger{n,min,max} ➞',count,'\\n') \n",
    "    \n",
    "power_ranger(2,49,65)\n",
    "power_ranger(3, 1, 27)\n",
    "power_ranger(10, 1, 5)\n",
    "power_ranger(5, 31, 33)\n",
    "power_ranger(4, 250, 1300)"
   ]
  },
  {
   "cell_type": "markdown",
   "id": "312fdc15",
   "metadata": {},
   "source": [
    "****"
   ]
  },
  {
   "cell_type": "markdown",
   "id": "4c8a026c",
   "metadata": {},
   "source": [
    "5.Given a number, return the difference between the maximum and minimum numbers that can be formed when the digits are rearranged.\n",
    "\n",
    "Examples\n",
    "```\n",
    "rearranged_difference(972882) ➞ 760833\n",
    "# 988722 - 227889 = 760833\n",
    "\n",
    "rearranged_difference(3320707) ➞ 7709823\n",
    "# 7733200 - 23377 = 7709823\n",
    "\n",
    "rearranged_difference(90010) ➞ 90981\n",
    "# 91000 - 19 = 90981\n",
    "```"
   ]
  },
  {
   "cell_type": "code",
   "execution_count": 144,
   "id": "b8f37ade",
   "metadata": {},
   "outputs": [
    {
     "name": "stdout",
     "output_type": "stream",
     "text": [
      "rearranged_difference(972882) ➞ 684603 \n",
      "\n",
      "rearranged_difference(3320707) ➞ -3749526 \n",
      "\n",
      "rearranged_difference(90010) ➞ 89001 \n",
      "\n"
     ]
    }
   ],
   "source": [
    "def rearranged_difference(n):\n",
    "    a = int(str(n)[::-1]) \n",
    "    print(f'rearranged_difference({n}) ➞',n-a,'\\n')\n",
    "    \n",
    "\n",
    "rearranged_difference(972882)\n",
    "rearranged_difference(3320707)\n",
    "rearranged_difference(90010)"
   ]
  }
 ],
 "metadata": {
  "kernelspec": {
   "display_name": "Python 3 (ipykernel)",
   "language": "python",
   "name": "python3"
  },
  "language_info": {
   "codemirror_mode": {
    "name": "ipython",
    "version": 3
   },
   "file_extension": ".py",
   "mimetype": "text/x-python",
   "name": "python",
   "nbconvert_exporter": "python",
   "pygments_lexer": "ipython3",
   "version": "3.8.12"
  }
 },
 "nbformat": 4,
 "nbformat_minor": 5
}
