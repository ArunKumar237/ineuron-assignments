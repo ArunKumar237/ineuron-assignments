{
  "nbformat": 4,
  "nbformat_minor": 0,
  "metadata": {
    "colab": {
      "provenance": []
    },
    "kernelspec": {
      "name": "python3",
      "display_name": "Python 3"
    },
    "language_info": {
      "name": "python"
    },
    "accelerator": "GPU",
    "gpuClass": "standard"
  },
  "cells": [
    {
      "cell_type": "code",
      "source": [
        "!pip install xgboost\n",
        "!pip install scikit-learn"
      ],
      "metadata": {
        "colab": {
          "base_uri": "https://localhost:8080/"
        },
        "id": "YrPMuru80gyl",
        "outputId": "4eed5bad-5dbc-4b34-a36a-01d445b05a12"
      },
      "execution_count": 1,
      "outputs": [
        {
          "output_type": "stream",
          "name": "stdout",
          "text": [
            "Looking in indexes: https://pypi.org/simple, https://us-python.pkg.dev/colab-wheels/public/simple/\n",
            "Requirement already satisfied: xgboost in /usr/local/lib/python3.8/dist-packages (1.7.4)\n",
            "Requirement already satisfied: numpy in /usr/local/lib/python3.8/dist-packages (from xgboost) (1.22.4)\n",
            "Requirement already satisfied: scipy in /usr/local/lib/python3.8/dist-packages (from xgboost) (1.10.1)\n",
            "Looking in indexes: https://pypi.org/simple, https://us-python.pkg.dev/colab-wheels/public/simple/\n",
            "Requirement already satisfied: scikit-learn in /usr/local/lib/python3.8/dist-packages (1.2.1)\n",
            "Requirement already satisfied: numpy>=1.17.3 in /usr/local/lib/python3.8/dist-packages (from scikit-learn) (1.22.4)\n",
            "Requirement already satisfied: scipy>=1.3.2 in /usr/local/lib/python3.8/dist-packages (from scikit-learn) (1.10.1)\n",
            "Requirement already satisfied: threadpoolctl>=2.0.0 in /usr/local/lib/python3.8/dist-packages (from scikit-learn) (3.1.0)\n",
            "Requirement already satisfied: joblib>=1.1.1 in /usr/local/lib/python3.8/dist-packages (from scikit-learn) (1.2.0)\n"
          ]
        }
      ]
    },
    {
      "cell_type": "code",
      "execution_count": 25,
      "metadata": {
        "id": "uIdUbpQ_zadS"
      },
      "outputs": [],
      "source": [
        "import xgboost as xgb\n",
        "import numpy as np\n",
        "import pandas as pd\n",
        "from sklearn.preprocessing import LabelEncoder, OneHotEncoder, StandardScaler\n",
        "from sklearn.metrics import accuracy_score, confusion_matrix, f1_score\n",
        "from sklearn.model_selection import GridSearchCV"
      ]
    },
    {
      "cell_type": "code",
      "source": [
        "train_set = pd.read_csv('http://archive.ics.uci.edu/ml/machine-learning-databases/adult/adult.data', header = None)\n",
        "test_set = pd.read_csv('http://archive.ics.uci.edu/ml/machine-learning-databases/adult/adult.test' , skiprows = 1, header = None)\n",
        "col_labels = ['age', 'workclass', 'fnlwgt', 'education','education_num','marital_status', 'occupation','relationship', 'race', 'sex', 'capital_gain','capital_loss', 'hours_per_week', 'native_country', 'wage_class']\n",
        "train_set.columns = col_labels\n",
        "test_set.columns = col_labels"
      ],
      "metadata": {
        "id": "5lQxtUbP4xcv"
      },
      "execution_count": 3,
      "outputs": []
    },
    {
      "cell_type": "code",
      "source": [
        "train_set.shape, test_set.shape"
      ],
      "metadata": {
        "colab": {
          "base_uri": "https://localhost:8080/"
        },
        "id": "P9NncTJyKvGT",
        "outputId": "6c5b405c-a02c-446c-a03b-44ae289d6bcd"
      },
      "execution_count": 4,
      "outputs": [
        {
          "output_type": "execute_result",
          "data": {
            "text/plain": [
              "((32561, 15), (16281, 15))"
            ]
          },
          "metadata": {},
          "execution_count": 4
        }
      ]
    },
    {
      "cell_type": "code",
      "source": [
        "def strip(df):\n",
        "  for i in df.columns:\n",
        "    if df[i].dtypes == 'O':\n",
        "      df[i] = df[i].str.strip()\n",
        "  return df"
      ],
      "metadata": {
        "id": "0xDKXtsM-yz1"
      },
      "execution_count": 5,
      "outputs": []
    },
    {
      "cell_type": "code",
      "source": [
        "def query(q:str, df):\n",
        "  cols = []\n",
        "  for i in df.columns:\n",
        "    if df[i].dtypes == 'O' and q in df[i].unique():\n",
        "      print(f'columns containing \"{q}\" :',i)\n",
        "      cols.append(i)\n",
        "  return cols"
      ],
      "metadata": {
        "id": "yDSMdC0DCjzI"
      },
      "execution_count": 6,
      "outputs": []
    },
    {
      "cell_type": "code",
      "source": [
        "def replace(l:list, df):\n",
        "  print(f'replacing values of {l} with most frequent value')\n",
        "  for i in l:\n",
        "    print(i)\n",
        "    df[i] = df[i].str.replace('?',df[i].mode()[0])\n",
        "  print(f'replacing done ..')"
      ],
      "metadata": {
        "id": "eb8uuID0DQsq"
      },
      "execution_count": 7,
      "outputs": []
    },
    {
      "cell_type": "code",
      "source": [
        "def encode(df1,df2):\n",
        "  enc = LabelEncoder()\n",
        "  for i in df1.columns:\n",
        "    if df1[i].dtypes == 'O':\n",
        "      df1[i] = enc.fit_transform(df1[i])\n",
        "      df2[i] = enc.transform(df2[i])\n",
        "  return df1,df2"
      ],
      "metadata": {
        "id": "4rJ9iH1NPkp9"
      },
      "execution_count": 9,
      "outputs": []
    },
    {
      "cell_type": "code",
      "source": [
        "def scale(df1):\n",
        "  scale = StandardScaler()\n",
        "  df1=scale.fit_transform(df1)\n",
        "  return df1"
      ],
      "metadata": {
        "id": "zBpYBPC46HXy"
      },
      "execution_count": 10,
      "outputs": []
    },
    {
      "cell_type": "code",
      "source": [
        "train_set = strip(train_set)\n",
        "test_set = strip(test_set)"
      ],
      "metadata": {
        "id": "SmP3rGYZAM2V"
      },
      "execution_count": 11,
      "outputs": []
    },
    {
      "cell_type": "code",
      "source": [
        "train_unwanted = query('?',train_set)\n",
        "test_unwanted = query('?',test_set)"
      ],
      "metadata": {
        "colab": {
          "base_uri": "https://localhost:8080/"
        },
        "id": "UidHlFGfAsXf",
        "outputId": "7926785b-6fdf-4e06-cbd0-1996c7f76a80"
      },
      "execution_count": 12,
      "outputs": [
        {
          "output_type": "stream",
          "name": "stdout",
          "text": [
            "columns containing \"?\" : workclass\n",
            "columns containing \"?\" : occupation\n",
            "columns containing \"?\" : native_country\n",
            "columns containing \"?\" : workclass\n",
            "columns containing \"?\" : occupation\n",
            "columns containing \"?\" : native_country\n"
          ]
        }
      ]
    },
    {
      "cell_type": "code",
      "source": [
        "replace(train_unwanted, train_set)\n",
        "replace(test_unwanted, test_set)"
      ],
      "metadata": {
        "colab": {
          "base_uri": "https://localhost:8080/"
        },
        "id": "RbWkbcHCDNmW",
        "outputId": "d1f0b1c4-ec97-454d-c333-f040b5e792bb"
      },
      "execution_count": 13,
      "outputs": [
        {
          "output_type": "stream",
          "name": "stdout",
          "text": [
            "replacing values of ['workclass', 'occupation', 'native_country'] with most frequent value\n",
            "workclass\n",
            "occupation\n",
            "native_country\n",
            "replacing done ..\n",
            "replacing values of ['workclass', 'occupation', 'native_country'] with most frequent value\n",
            "workclass\n",
            "occupation\n",
            "native_country\n",
            "replacing done ..\n"
          ]
        },
        {
          "output_type": "stream",
          "name": "stderr",
          "text": [
            "<ipython-input-7-b87d6b3becfb>:5: FutureWarning: The default value of regex will change from True to False in a future version. In addition, single character regular expressions will *not* be treated as literal strings when regex=True.\n",
            "  df[i] = df[i].str.replace('?',df[i].mode()[0])\n"
          ]
        }
      ]
    },
    {
      "cell_type": "code",
      "source": [
        "# from <=50k. to <=50k (removing . from end)\n",
        "test_set.iloc[:,-1] = test_set.iloc[:,-1].transform(lambda x:x[:-1])"
      ],
      "metadata": {
        "id": "KPbx890HJPF3"
      },
      "execution_count": 14,
      "outputs": []
    },
    {
      "cell_type": "code",
      "source": [
        "train_set, test_set = encode(train_set, test_set)"
      ],
      "metadata": {
        "id": "j7tzx7eoRF79"
      },
      "execution_count": 15,
      "outputs": []
    },
    {
      "cell_type": "code",
      "source": [
        "train_set.head()"
      ],
      "metadata": {
        "colab": {
          "base_uri": "https://localhost:8080/",
          "height": 206
        },
        "id": "HEq9tp5AR-KU",
        "outputId": "3ed65c1a-ae35-4ad2-b615-b5647ec92bdc"
      },
      "execution_count": 16,
      "outputs": [
        {
          "output_type": "execute_result",
          "data": {
            "text/plain": [
              "   age  workclass  fnlwgt  education  education_num  marital_status  \\\n",
              "0   39          6   77516          9             13               4   \n",
              "1   50          5   83311          9             13               2   \n",
              "2   38          3  215646         11              9               0   \n",
              "3   53          3  234721          1              7               2   \n",
              "4   28          3  338409          9             13               2   \n",
              "\n",
              "   occupation  relationship  race  sex  capital_gain  capital_loss  \\\n",
              "0           0             1     4    1          2174             0   \n",
              "1           3             0     4    1             0             0   \n",
              "2           5             1     4    1             0             0   \n",
              "3           5             0     2    1             0             0   \n",
              "4           9             5     2    0             0             0   \n",
              "\n",
              "   hours_per_week  native_country  wage_class  \n",
              "0              40              38           0  \n",
              "1              13              38           0  \n",
              "2              40              38           0  \n",
              "3              40              38           0  \n",
              "4              40               4           0  "
            ],
            "text/html": [
              "\n",
              "  <div id=\"df-4dfda509-909f-4615-a95c-a979e51e1637\">\n",
              "    <div class=\"colab-df-container\">\n",
              "      <div>\n",
              "<style scoped>\n",
              "    .dataframe tbody tr th:only-of-type {\n",
              "        vertical-align: middle;\n",
              "    }\n",
              "\n",
              "    .dataframe tbody tr th {\n",
              "        vertical-align: top;\n",
              "    }\n",
              "\n",
              "    .dataframe thead th {\n",
              "        text-align: right;\n",
              "    }\n",
              "</style>\n",
              "<table border=\"1\" class=\"dataframe\">\n",
              "  <thead>\n",
              "    <tr style=\"text-align: right;\">\n",
              "      <th></th>\n",
              "      <th>age</th>\n",
              "      <th>workclass</th>\n",
              "      <th>fnlwgt</th>\n",
              "      <th>education</th>\n",
              "      <th>education_num</th>\n",
              "      <th>marital_status</th>\n",
              "      <th>occupation</th>\n",
              "      <th>relationship</th>\n",
              "      <th>race</th>\n",
              "      <th>sex</th>\n",
              "      <th>capital_gain</th>\n",
              "      <th>capital_loss</th>\n",
              "      <th>hours_per_week</th>\n",
              "      <th>native_country</th>\n",
              "      <th>wage_class</th>\n",
              "    </tr>\n",
              "  </thead>\n",
              "  <tbody>\n",
              "    <tr>\n",
              "      <th>0</th>\n",
              "      <td>39</td>\n",
              "      <td>6</td>\n",
              "      <td>77516</td>\n",
              "      <td>9</td>\n",
              "      <td>13</td>\n",
              "      <td>4</td>\n",
              "      <td>0</td>\n",
              "      <td>1</td>\n",
              "      <td>4</td>\n",
              "      <td>1</td>\n",
              "      <td>2174</td>\n",
              "      <td>0</td>\n",
              "      <td>40</td>\n",
              "      <td>38</td>\n",
              "      <td>0</td>\n",
              "    </tr>\n",
              "    <tr>\n",
              "      <th>1</th>\n",
              "      <td>50</td>\n",
              "      <td>5</td>\n",
              "      <td>83311</td>\n",
              "      <td>9</td>\n",
              "      <td>13</td>\n",
              "      <td>2</td>\n",
              "      <td>3</td>\n",
              "      <td>0</td>\n",
              "      <td>4</td>\n",
              "      <td>1</td>\n",
              "      <td>0</td>\n",
              "      <td>0</td>\n",
              "      <td>13</td>\n",
              "      <td>38</td>\n",
              "      <td>0</td>\n",
              "    </tr>\n",
              "    <tr>\n",
              "      <th>2</th>\n",
              "      <td>38</td>\n",
              "      <td>3</td>\n",
              "      <td>215646</td>\n",
              "      <td>11</td>\n",
              "      <td>9</td>\n",
              "      <td>0</td>\n",
              "      <td>5</td>\n",
              "      <td>1</td>\n",
              "      <td>4</td>\n",
              "      <td>1</td>\n",
              "      <td>0</td>\n",
              "      <td>0</td>\n",
              "      <td>40</td>\n",
              "      <td>38</td>\n",
              "      <td>0</td>\n",
              "    </tr>\n",
              "    <tr>\n",
              "      <th>3</th>\n",
              "      <td>53</td>\n",
              "      <td>3</td>\n",
              "      <td>234721</td>\n",
              "      <td>1</td>\n",
              "      <td>7</td>\n",
              "      <td>2</td>\n",
              "      <td>5</td>\n",
              "      <td>0</td>\n",
              "      <td>2</td>\n",
              "      <td>1</td>\n",
              "      <td>0</td>\n",
              "      <td>0</td>\n",
              "      <td>40</td>\n",
              "      <td>38</td>\n",
              "      <td>0</td>\n",
              "    </tr>\n",
              "    <tr>\n",
              "      <th>4</th>\n",
              "      <td>28</td>\n",
              "      <td>3</td>\n",
              "      <td>338409</td>\n",
              "      <td>9</td>\n",
              "      <td>13</td>\n",
              "      <td>2</td>\n",
              "      <td>9</td>\n",
              "      <td>5</td>\n",
              "      <td>2</td>\n",
              "      <td>0</td>\n",
              "      <td>0</td>\n",
              "      <td>0</td>\n",
              "      <td>40</td>\n",
              "      <td>4</td>\n",
              "      <td>0</td>\n",
              "    </tr>\n",
              "  </tbody>\n",
              "</table>\n",
              "</div>\n",
              "      <button class=\"colab-df-convert\" onclick=\"convertToInteractive('df-4dfda509-909f-4615-a95c-a979e51e1637')\"\n",
              "              title=\"Convert this dataframe to an interactive table.\"\n",
              "              style=\"display:none;\">\n",
              "        \n",
              "  <svg xmlns=\"http://www.w3.org/2000/svg\" height=\"24px\"viewBox=\"0 0 24 24\"\n",
              "       width=\"24px\">\n",
              "    <path d=\"M0 0h24v24H0V0z\" fill=\"none\"/>\n",
              "    <path d=\"M18.56 5.44l.94 2.06.94-2.06 2.06-.94-2.06-.94-.94-2.06-.94 2.06-2.06.94zm-11 1L8.5 8.5l.94-2.06 2.06-.94-2.06-.94L8.5 2.5l-.94 2.06-2.06.94zm10 10l.94 2.06.94-2.06 2.06-.94-2.06-.94-.94-2.06-.94 2.06-2.06.94z\"/><path d=\"M17.41 7.96l-1.37-1.37c-.4-.4-.92-.59-1.43-.59-.52 0-1.04.2-1.43.59L10.3 9.45l-7.72 7.72c-.78.78-.78 2.05 0 2.83L4 21.41c.39.39.9.59 1.41.59.51 0 1.02-.2 1.41-.59l7.78-7.78 2.81-2.81c.8-.78.8-2.07 0-2.86zM5.41 20L4 18.59l7.72-7.72 1.47 1.35L5.41 20z\"/>\n",
              "  </svg>\n",
              "      </button>\n",
              "      \n",
              "  <style>\n",
              "    .colab-df-container {\n",
              "      display:flex;\n",
              "      flex-wrap:wrap;\n",
              "      gap: 12px;\n",
              "    }\n",
              "\n",
              "    .colab-df-convert {\n",
              "      background-color: #E8F0FE;\n",
              "      border: none;\n",
              "      border-radius: 50%;\n",
              "      cursor: pointer;\n",
              "      display: none;\n",
              "      fill: #1967D2;\n",
              "      height: 32px;\n",
              "      padding: 0 0 0 0;\n",
              "      width: 32px;\n",
              "    }\n",
              "\n",
              "    .colab-df-convert:hover {\n",
              "      background-color: #E2EBFA;\n",
              "      box-shadow: 0px 1px 2px rgba(60, 64, 67, 0.3), 0px 1px 3px 1px rgba(60, 64, 67, 0.15);\n",
              "      fill: #174EA6;\n",
              "    }\n",
              "\n",
              "    [theme=dark] .colab-df-convert {\n",
              "      background-color: #3B4455;\n",
              "      fill: #D2E3FC;\n",
              "    }\n",
              "\n",
              "    [theme=dark] .colab-df-convert:hover {\n",
              "      background-color: #434B5C;\n",
              "      box-shadow: 0px 1px 3px 1px rgba(0, 0, 0, 0.15);\n",
              "      filter: drop-shadow(0px 1px 2px rgba(0, 0, 0, 0.3));\n",
              "      fill: #FFFFFF;\n",
              "    }\n",
              "  </style>\n",
              "\n",
              "      <script>\n",
              "        const buttonEl =\n",
              "          document.querySelector('#df-4dfda509-909f-4615-a95c-a979e51e1637 button.colab-df-convert');\n",
              "        buttonEl.style.display =\n",
              "          google.colab.kernel.accessAllowed ? 'block' : 'none';\n",
              "\n",
              "        async function convertToInteractive(key) {\n",
              "          const element = document.querySelector('#df-4dfda509-909f-4615-a95c-a979e51e1637');\n",
              "          const dataTable =\n",
              "            await google.colab.kernel.invokeFunction('convertToInteractive',\n",
              "                                                     [key], {});\n",
              "          if (!dataTable) return;\n",
              "\n",
              "          const docLinkHtml = 'Like what you see? Visit the ' +\n",
              "            '<a target=\"_blank\" href=https://colab.research.google.com/notebooks/data_table.ipynb>data table notebook</a>'\n",
              "            + ' to learn more about interactive tables.';\n",
              "          element.innerHTML = '';\n",
              "          dataTable['output_type'] = 'display_data';\n",
              "          await google.colab.output.renderOutput(dataTable, element);\n",
              "          const docLink = document.createElement('div');\n",
              "          docLink.innerHTML = docLinkHtml;\n",
              "          element.appendChild(docLink);\n",
              "        }\n",
              "      </script>\n",
              "    </div>\n",
              "  </div>\n",
              "  "
            ]
          },
          "metadata": {},
          "execution_count": 16
        }
      ]
    },
    {
      "cell_type": "code",
      "source": [
        "X_train = train_set.iloc[:,:-1]\n",
        "y_train = train_set.iloc[:,-1]\n",
        "\n",
        "X_test = test_set.iloc[:,:-1]\n",
        "y_test = test_set.iloc[:,-1]"
      ],
      "metadata": {
        "id": "cCzJ4tVGKCyD"
      },
      "execution_count": 17,
      "outputs": []
    },
    {
      "cell_type": "code",
      "source": [
        "X_train = scale(X_train)"
      ],
      "metadata": {
        "id": "g9QqrExn7J_T"
      },
      "execution_count": 22,
      "outputs": []
    },
    {
      "cell_type": "code",
      "source": [
        "X_train.shape, y_train.shape"
      ],
      "metadata": {
        "colab": {
          "base_uri": "https://localhost:8080/"
        },
        "id": "rXBa5qtT7BLW",
        "outputId": "621bc621-f178-4cd2-9c4c-5aa4b1f9882d"
      },
      "execution_count": 23,
      "outputs": [
        {
          "output_type": "execute_result",
          "data": {
            "text/plain": [
              "((32561, 14), (32561,))"
            ]
          },
          "metadata": {},
          "execution_count": 23
        }
      ]
    },
    {
      "cell_type": "code",
      "source": [
        "train = xgb.DMatrix(X_train, label = y_train)\n",
        "test = xgb.DMatrix(X_test, label = y_test)"
      ],
      "metadata": {
        "id": "M7SJ8DUgS48-"
      },
      "execution_count": 24,
      "outputs": []
    },
    {
      "cell_type": "code",
      "source": [
        "param_grid = {'learning_rate':[1,0.5,0.1,0.01,0.001],\n",
        "              'max_depth':[3,5,10,20],\n",
        "              'n_estimators':[10,50,100,200]}"
      ],
      "metadata": {
        "id": "AJwd8KhQ7qBB"
      },
      "execution_count": 26,
      "outputs": []
    },
    {
      "cell_type": "code",
      "source": [
        "grid = GridSearchCV(xgb.XGBClassifier(objective='binary:logistic'),\n",
        "                    param_grid,\n",
        "                    verbose=3)"
      ],
      "metadata": {
        "id": "lnpqD-sc8JWg"
      },
      "execution_count": 27,
      "outputs": []
    },
    {
      "cell_type": "code",
      "source": [
        "grid.fit(X_train,y_train)"
      ],
      "metadata": {
        "colab": {
          "base_uri": "https://localhost:8080/",
          "height": 1000
        },
        "id": "sH5tt-pg8Vum",
        "outputId": "43135aae-bf88-4161-b3af-7d00468d6044"
      },
      "execution_count": 28,
      "outputs": [
        {
          "output_type": "stream",
          "name": "stdout",
          "text": [
            "Fitting 5 folds for each of 80 candidates, totalling 400 fits\n",
            "[CV 1/5] END learning_rate=1, max_depth=3, n_estimators=10;, score=0.859 total time=   0.3s\n",
            "[CV 2/5] END learning_rate=1, max_depth=3, n_estimators=10;, score=0.858 total time=   0.1s\n",
            "[CV 3/5] END learning_rate=1, max_depth=3, n_estimators=10;, score=0.863 total time=   0.1s\n",
            "[CV 4/5] END learning_rate=1, max_depth=3, n_estimators=10;, score=0.865 total time=   0.1s\n",
            "[CV 5/5] END learning_rate=1, max_depth=3, n_estimators=10;, score=0.866 total time=   0.1s\n",
            "[CV 1/5] END learning_rate=1, max_depth=3, n_estimators=50;, score=0.869 total time=   0.5s\n",
            "[CV 2/5] END learning_rate=1, max_depth=3, n_estimators=50;, score=0.865 total time=   0.5s\n",
            "[CV 3/5] END learning_rate=1, max_depth=3, n_estimators=50;, score=0.869 total time=   0.5s\n",
            "[CV 4/5] END learning_rate=1, max_depth=3, n_estimators=50;, score=0.873 total time=   0.5s\n",
            "[CV 5/5] END learning_rate=1, max_depth=3, n_estimators=50;, score=0.871 total time=   0.5s\n",
            "[CV 1/5] END learning_rate=1, max_depth=3, n_estimators=100;, score=0.860 total time=   1.1s\n",
            "[CV 2/5] END learning_rate=1, max_depth=3, n_estimators=100;, score=0.861 total time=   2.2s\n",
            "[CV 3/5] END learning_rate=1, max_depth=3, n_estimators=100;, score=0.867 total time=   1.9s\n",
            "[CV 4/5] END learning_rate=1, max_depth=3, n_estimators=100;, score=0.872 total time=   1.7s\n",
            "[CV 5/5] END learning_rate=1, max_depth=3, n_estimators=100;, score=0.873 total time=   1.7s\n",
            "[CV 1/5] END learning_rate=1, max_depth=3, n_estimators=200;, score=0.857 total time=   2.2s\n",
            "[CV 2/5] END learning_rate=1, max_depth=3, n_estimators=200;, score=0.858 total time=   2.0s\n",
            "[CV 3/5] END learning_rate=1, max_depth=3, n_estimators=200;, score=0.862 total time=   3.0s\n",
            "[CV 4/5] END learning_rate=1, max_depth=3, n_estimators=200;, score=0.867 total time=   1.8s\n",
            "[CV 5/5] END learning_rate=1, max_depth=3, n_estimators=200;, score=0.865 total time=   1.8s\n",
            "[CV 1/5] END learning_rate=1, max_depth=5, n_estimators=10;, score=0.863 total time=   0.2s\n",
            "[CV 2/5] END learning_rate=1, max_depth=5, n_estimators=10;, score=0.863 total time=   0.2s\n",
            "[CV 3/5] END learning_rate=1, max_depth=5, n_estimators=10;, score=0.872 total time=   0.2s\n",
            "[CV 4/5] END learning_rate=1, max_depth=5, n_estimators=10;, score=0.871 total time=   0.2s\n",
            "[CV 5/5] END learning_rate=1, max_depth=5, n_estimators=10;, score=0.868 total time=   0.2s\n",
            "[CV 1/5] END learning_rate=1, max_depth=5, n_estimators=50;, score=0.857 total time=   0.8s\n",
            "[CV 2/5] END learning_rate=1, max_depth=5, n_estimators=50;, score=0.860 total time=   0.8s\n",
            "[CV 3/5] END learning_rate=1, max_depth=5, n_estimators=50;, score=0.862 total time=   0.8s\n",
            "[CV 4/5] END learning_rate=1, max_depth=5, n_estimators=50;, score=0.863 total time=   0.8s\n",
            "[CV 5/5] END learning_rate=1, max_depth=5, n_estimators=50;, score=0.860 total time=   0.8s\n",
            "[CV 1/5] END learning_rate=1, max_depth=5, n_estimators=100;, score=0.854 total time=   2.9s\n",
            "[CV 2/5] END learning_rate=1, max_depth=5, n_estimators=100;, score=0.858 total time=   1.5s\n",
            "[CV 3/5] END learning_rate=1, max_depth=5, n_estimators=100;, score=0.856 total time=   1.5s\n",
            "[CV 4/5] END learning_rate=1, max_depth=5, n_estimators=100;, score=0.855 total time=   1.5s\n",
            "[CV 5/5] END learning_rate=1, max_depth=5, n_estimators=100;, score=0.855 total time=   1.5s\n",
            "[CV 1/5] END learning_rate=1, max_depth=5, n_estimators=200;, score=0.847 total time=   3.0s\n",
            "[CV 2/5] END learning_rate=1, max_depth=5, n_estimators=200;, score=0.850 total time=   4.4s\n",
            "[CV 3/5] END learning_rate=1, max_depth=5, n_estimators=200;, score=0.849 total time=   3.0s\n",
            "[CV 4/5] END learning_rate=1, max_depth=5, n_estimators=200;, score=0.853 total time=   3.0s\n",
            "[CV 5/5] END learning_rate=1, max_depth=5, n_estimators=200;, score=0.848 total time=   4.8s\n",
            "[CV 1/5] END learning_rate=1, max_depth=10, n_estimators=10;, score=0.857 total time=   0.4s\n",
            "[CV 2/5] END learning_rate=1, max_depth=10, n_estimators=10;, score=0.855 total time=   0.4s\n",
            "[CV 3/5] END learning_rate=1, max_depth=10, n_estimators=10;, score=0.858 total time=   0.4s\n",
            "[CV 4/5] END learning_rate=1, max_depth=10, n_estimators=10;, score=0.857 total time=   0.4s\n",
            "[CV 5/5] END learning_rate=1, max_depth=10, n_estimators=10;, score=0.861 total time=   0.4s\n",
            "[CV 1/5] END learning_rate=1, max_depth=10, n_estimators=50;, score=0.850 total time=   1.7s\n",
            "[CV 2/5] END learning_rate=1, max_depth=10, n_estimators=50;, score=0.845 total time=   1.7s\n",
            "[CV 3/5] END learning_rate=1, max_depth=10, n_estimators=50;, score=0.850 total time=   1.7s\n",
            "[CV 4/5] END learning_rate=1, max_depth=10, n_estimators=50;, score=0.849 total time=   3.1s\n",
            "[CV 5/5] END learning_rate=1, max_depth=10, n_estimators=50;, score=0.849 total time=   1.7s\n",
            "[CV 1/5] END learning_rate=1, max_depth=10, n_estimators=100;, score=0.847 total time=   3.2s\n",
            "[CV 2/5] END learning_rate=1, max_depth=10, n_estimators=100;, score=0.843 total time=   3.2s\n",
            "[CV 3/5] END learning_rate=1, max_depth=10, n_estimators=100;, score=0.848 total time=   4.7s\n",
            "[CV 4/5] END learning_rate=1, max_depth=10, n_estimators=100;, score=0.848 total time=   3.3s\n",
            "[CV 5/5] END learning_rate=1, max_depth=10, n_estimators=100;, score=0.846 total time=   3.2s\n",
            "[CV 1/5] END learning_rate=1, max_depth=10, n_estimators=200;, score=0.842 total time=   7.7s\n",
            "[CV 2/5] END learning_rate=1, max_depth=10, n_estimators=200;, score=0.842 total time=   6.3s\n",
            "[CV 3/5] END learning_rate=1, max_depth=10, n_estimators=200;, score=0.848 total time=   7.7s\n",
            "[CV 4/5] END learning_rate=1, max_depth=10, n_estimators=200;, score=0.845 total time=   8.5s\n",
            "[CV 5/5] END learning_rate=1, max_depth=10, n_estimators=200;, score=0.844 total time=   6.3s\n",
            "[CV 1/5] END learning_rate=1, max_depth=20, n_estimators=10;, score=0.843 total time=   0.8s\n",
            "[CV 2/5] END learning_rate=1, max_depth=20, n_estimators=10;, score=0.850 total time=   1.4s\n",
            "[CV 3/5] END learning_rate=1, max_depth=20, n_estimators=10;, score=0.846 total time=   1.6s\n",
            "[CV 4/5] END learning_rate=1, max_depth=20, n_estimators=10;, score=0.851 total time=   0.8s\n",
            "[CV 5/5] END learning_rate=1, max_depth=20, n_estimators=10;, score=0.849 total time=   0.8s\n",
            "[CV 1/5] END learning_rate=1, max_depth=20, n_estimators=50;, score=0.845 total time=   3.4s\n",
            "[CV 2/5] END learning_rate=1, max_depth=20, n_estimators=50;, score=0.848 total time=   3.4s\n",
            "[CV 3/5] END learning_rate=1, max_depth=20, n_estimators=50;, score=0.848 total time=   4.7s\n",
            "[CV 4/5] END learning_rate=1, max_depth=20, n_estimators=50;, score=0.851 total time=   3.3s\n",
            "[CV 5/5] END learning_rate=1, max_depth=20, n_estimators=50;, score=0.848 total time=   3.4s\n",
            "[CV 1/5] END learning_rate=1, max_depth=20, n_estimators=100;, score=0.848 total time=   7.7s\n",
            "[CV 2/5] END learning_rate=1, max_depth=20, n_estimators=100;, score=0.847 total time=   7.8s\n",
            "[CV 3/5] END learning_rate=1, max_depth=20, n_estimators=100;, score=0.846 total time=   6.3s\n",
            "[CV 4/5] END learning_rate=1, max_depth=20, n_estimators=100;, score=0.853 total time=   7.8s\n",
            "[CV 5/5] END learning_rate=1, max_depth=20, n_estimators=100;, score=0.849 total time=   6.4s\n",
            "[CV 1/5] END learning_rate=1, max_depth=20, n_estimators=200;, score=0.849 total time=  14.4s\n",
            "[CV 2/5] END learning_rate=1, max_depth=20, n_estimators=200;, score=0.846 total time=  13.1s\n",
            "[CV 3/5] END learning_rate=1, max_depth=20, n_estimators=200;, score=0.846 total time=  14.3s\n",
            "[CV 4/5] END learning_rate=1, max_depth=20, n_estimators=200;, score=0.851 total time=  12.9s\n",
            "[CV 5/5] END learning_rate=1, max_depth=20, n_estimators=200;, score=0.847 total time=  13.1s\n",
            "[CV 1/5] END learning_rate=0.5, max_depth=3, n_estimators=10;, score=0.848 total time=   0.1s\n",
            "[CV 2/5] END learning_rate=0.5, max_depth=3, n_estimators=10;, score=0.856 total time=   0.1s\n",
            "[CV 3/5] END learning_rate=0.5, max_depth=3, n_estimators=10;, score=0.856 total time=   0.1s\n",
            "[CV 4/5] END learning_rate=0.5, max_depth=3, n_estimators=10;, score=0.857 total time=   0.1s\n",
            "[CV 5/5] END learning_rate=0.5, max_depth=3, n_estimators=10;, score=0.860 total time=   0.1s\n",
            "[CV 1/5] END learning_rate=0.5, max_depth=3, n_estimators=50;, score=0.867 total time=   0.5s\n",
            "[CV 2/5] END learning_rate=0.5, max_depth=3, n_estimators=50;, score=0.869 total time=   0.5s\n",
            "[CV 3/5] END learning_rate=0.5, max_depth=3, n_estimators=50;, score=0.873 total time=   0.5s\n",
            "[CV 4/5] END learning_rate=0.5, max_depth=3, n_estimators=50;, score=0.875 total time=   0.5s\n",
            "[CV 5/5] END learning_rate=0.5, max_depth=3, n_estimators=50;, score=0.871 total time=   0.5s\n",
            "[CV 1/5] END learning_rate=0.5, max_depth=3, n_estimators=100;, score=0.869 total time=   2.3s\n",
            "[CV 2/5] END learning_rate=0.5, max_depth=3, n_estimators=100;, score=0.868 total time=   0.9s\n",
            "[CV 3/5] END learning_rate=0.5, max_depth=3, n_estimators=100;, score=0.872 total time=   0.9s\n",
            "[CV 4/5] END learning_rate=0.5, max_depth=3, n_estimators=100;, score=0.874 total time=   0.9s\n",
            "[CV 5/5] END learning_rate=0.5, max_depth=3, n_estimators=100;, score=0.875 total time=   0.9s\n",
            "[CV 1/5] END learning_rate=0.5, max_depth=3, n_estimators=200;, score=0.865 total time=   1.8s\n",
            "[CV 2/5] END learning_rate=0.5, max_depth=3, n_estimators=200;, score=0.867 total time=   1.8s\n",
            "[CV 3/5] END learning_rate=0.5, max_depth=3, n_estimators=200;, score=0.868 total time=   1.8s\n",
            "[CV 4/5] END learning_rate=0.5, max_depth=3, n_estimators=200;, score=0.872 total time=   3.1s\n",
            "[CV 5/5] END learning_rate=0.5, max_depth=3, n_estimators=200;, score=0.873 total time=   1.8s\n",
            "[CV 1/5] END learning_rate=0.5, max_depth=5, n_estimators=10;, score=0.859 total time=   0.2s\n",
            "[CV 2/5] END learning_rate=0.5, max_depth=5, n_estimators=10;, score=0.866 total time=   0.2s\n",
            "[CV 3/5] END learning_rate=0.5, max_depth=5, n_estimators=10;, score=0.865 total time=   0.2s\n",
            "[CV 4/5] END learning_rate=0.5, max_depth=5, n_estimators=10;, score=0.872 total time=   0.2s\n",
            "[CV 5/5] END learning_rate=0.5, max_depth=5, n_estimators=10;, score=0.865 total time=   0.2s\n",
            "[CV 1/5] END learning_rate=0.5, max_depth=5, n_estimators=50;, score=0.865 total time=   0.8s\n",
            "[CV 2/5] END learning_rate=0.5, max_depth=5, n_estimators=50;, score=0.869 total time=   0.8s\n",
            "[CV 3/5] END learning_rate=0.5, max_depth=5, n_estimators=50;, score=0.872 total time=   0.8s\n",
            "[CV 4/5] END learning_rate=0.5, max_depth=5, n_estimators=50;, score=0.876 total time=   0.8s\n",
            "[CV 5/5] END learning_rate=0.5, max_depth=5, n_estimators=50;, score=0.873 total time=   0.8s\n",
            "[CV 1/5] END learning_rate=0.5, max_depth=5, n_estimators=100;, score=0.864 total time=   1.5s\n",
            "[CV 2/5] END learning_rate=0.5, max_depth=5, n_estimators=100;, score=0.867 total time=   1.8s\n",
            "[CV 3/5] END learning_rate=0.5, max_depth=5, n_estimators=100;, score=0.865 total time=   2.6s\n",
            "[CV 4/5] END learning_rate=0.5, max_depth=5, n_estimators=100;, score=0.871 total time=   1.5s\n",
            "[CV 5/5] END learning_rate=0.5, max_depth=5, n_estimators=100;, score=0.866 total time=   1.5s\n",
            "[CV 1/5] END learning_rate=0.5, max_depth=5, n_estimators=200;, score=0.860 total time=   2.9s\n",
            "[CV 2/5] END learning_rate=0.5, max_depth=5, n_estimators=200;, score=0.860 total time=   4.4s\n",
            "[CV 3/5] END learning_rate=0.5, max_depth=5, n_estimators=200;, score=0.861 total time=   3.0s\n",
            "[CV 4/5] END learning_rate=0.5, max_depth=5, n_estimators=200;, score=0.867 total time=   3.0s\n",
            "[CV 5/5] END learning_rate=0.5, max_depth=5, n_estimators=200;, score=0.861 total time=   3.0s\n",
            "[CV 1/5] END learning_rate=0.5, max_depth=10, n_estimators=10;, score=0.863 total time=   0.4s\n",
            "[CV 2/5] END learning_rate=0.5, max_depth=10, n_estimators=10;, score=0.862 total time=   0.4s\n",
            "[CV 3/5] END learning_rate=0.5, max_depth=10, n_estimators=10;, score=0.866 total time=   1.1s\n",
            "[CV 4/5] END learning_rate=0.5, max_depth=10, n_estimators=10;, score=0.871 total time=   1.1s\n",
            "[CV 5/5] END learning_rate=0.5, max_depth=10, n_estimators=10;, score=0.868 total time=   0.4s\n",
            "[CV 1/5] END learning_rate=0.5, max_depth=10, n_estimators=50;, score=0.858 total time=   1.8s\n",
            "[CV 2/5] END learning_rate=0.5, max_depth=10, n_estimators=50;, score=0.860 total time=   1.7s\n",
            "[CV 3/5] END learning_rate=0.5, max_depth=10, n_estimators=50;, score=0.856 total time=   1.7s\n",
            "[CV 4/5] END learning_rate=0.5, max_depth=10, n_estimators=50;, score=0.865 total time=   1.7s\n",
            "[CV 5/5] END learning_rate=0.5, max_depth=10, n_estimators=50;, score=0.861 total time=   1.7s\n",
            "[CV 1/5] END learning_rate=0.5, max_depth=10, n_estimators=100;, score=0.854 total time=   4.7s\n",
            "[CV 2/5] END learning_rate=0.5, max_depth=10, n_estimators=100;, score=0.858 total time=   3.4s\n",
            "[CV 3/5] END learning_rate=0.5, max_depth=10, n_estimators=100;, score=0.855 total time=   3.4s\n",
            "[CV 4/5] END learning_rate=0.5, max_depth=10, n_estimators=100;, score=0.858 total time=   4.9s\n",
            "[CV 5/5] END learning_rate=0.5, max_depth=10, n_estimators=100;, score=0.860 total time=   3.3s\n",
            "[CV 1/5] END learning_rate=0.5, max_depth=10, n_estimators=200;, score=0.851 total time=   7.8s\n",
            "[CV 2/5] END learning_rate=0.5, max_depth=10, n_estimators=200;, score=0.852 total time=   6.5s\n",
            "[CV 3/5] END learning_rate=0.5, max_depth=10, n_estimators=200;, score=0.851 total time=   7.9s\n",
            "[CV 4/5] END learning_rate=0.5, max_depth=10, n_estimators=200;, score=0.854 total time=   7.1s\n",
            "[CV 5/5] END learning_rate=0.5, max_depth=10, n_estimators=200;, score=0.854 total time=   7.0s\n",
            "[CV 1/5] END learning_rate=0.5, max_depth=20, n_estimators=10;, score=0.852 total time=   0.8s\n",
            "[CV 2/5] END learning_rate=0.5, max_depth=20, n_estimators=10;, score=0.852 total time=   0.9s\n",
            "[CV 3/5] END learning_rate=0.5, max_depth=20, n_estimators=10;, score=0.854 total time=   0.8s\n",
            "[CV 4/5] END learning_rate=0.5, max_depth=20, n_estimators=10;, score=0.860 total time=   0.8s\n",
            "[CV 5/5] END learning_rate=0.5, max_depth=20, n_estimators=10;, score=0.854 total time=   1.5s\n",
            "[CV 1/5] END learning_rate=0.5, max_depth=20, n_estimators=50;, score=0.853 total time=   4.2s\n",
            "[CV 2/5] END learning_rate=0.5, max_depth=20, n_estimators=50;, score=0.850 total time=   3.6s\n",
            "[CV 3/5] END learning_rate=0.5, max_depth=20, n_estimators=50;, score=0.852 total time=   5.0s\n",
            "[CV 4/5] END learning_rate=0.5, max_depth=20, n_estimators=50;, score=0.854 total time=   3.5s\n",
            "[CV 5/5] END learning_rate=0.5, max_depth=20, n_estimators=50;, score=0.854 total time=   3.6s\n",
            "[CV 1/5] END learning_rate=0.5, max_depth=20, n_estimators=100;, score=0.854 total time=   8.0s\n",
            "[CV 2/5] END learning_rate=0.5, max_depth=20, n_estimators=100;, score=0.852 total time=   7.9s\n",
            "[CV 3/5] END learning_rate=0.5, max_depth=20, n_estimators=100;, score=0.854 total time=   7.0s\n",
            "[CV 4/5] END learning_rate=0.5, max_depth=20, n_estimators=100;, score=0.855 total time=   8.2s\n",
            "[CV 5/5] END learning_rate=0.5, max_depth=20, n_estimators=100;, score=0.852 total time=   6.8s\n",
            "[CV 1/5] END learning_rate=0.5, max_depth=20, n_estimators=200;, score=0.853 total time=  15.5s\n",
            "[CV 2/5] END learning_rate=0.5, max_depth=20, n_estimators=200;, score=0.849 total time=  15.5s\n",
            "[CV 3/5] END learning_rate=0.5, max_depth=20, n_estimators=200;, score=0.854 total time=  14.3s\n",
            "[CV 4/5] END learning_rate=0.5, max_depth=20, n_estimators=200;, score=0.853 total time=  15.8s\n",
            "[CV 5/5] END learning_rate=0.5, max_depth=20, n_estimators=200;, score=0.852 total time=  14.4s\n",
            "[CV 1/5] END learning_rate=0.1, max_depth=3, n_estimators=10;, score=0.834 total time=   0.1s\n",
            "[CV 2/5] END learning_rate=0.1, max_depth=3, n_estimators=10;, score=0.839 total time=   0.1s\n",
            "[CV 3/5] END learning_rate=0.1, max_depth=3, n_estimators=10;, score=0.842 total time=   0.1s\n",
            "[CV 4/5] END learning_rate=0.1, max_depth=3, n_estimators=10;, score=0.846 total time=   0.1s\n",
            "[CV 5/5] END learning_rate=0.1, max_depth=3, n_estimators=10;, score=0.841 total time=   0.1s\n",
            "[CV 1/5] END learning_rate=0.1, max_depth=3, n_estimators=50;, score=0.849 total time=   0.5s\n",
            "[CV 2/5] END learning_rate=0.1, max_depth=3, n_estimators=50;, score=0.852 total time=   0.5s\n",
            "[CV 3/5] END learning_rate=0.1, max_depth=3, n_estimators=50;, score=0.857 total time=   0.5s\n",
            "[CV 4/5] END learning_rate=0.1, max_depth=3, n_estimators=50;, score=0.858 total time=   0.5s\n",
            "[CV 5/5] END learning_rate=0.1, max_depth=3, n_estimators=50;, score=0.857 total time=   0.5s\n",
            "[CV 1/5] END learning_rate=0.1, max_depth=3, n_estimators=100;, score=0.858 total time=   0.9s\n",
            "[CV 2/5] END learning_rate=0.1, max_depth=3, n_estimators=100;, score=0.861 total time=   0.9s\n",
            "[CV 3/5] END learning_rate=0.1, max_depth=3, n_estimators=100;, score=0.863 total time=   0.9s\n",
            "[CV 4/5] END learning_rate=0.1, max_depth=3, n_estimators=100;, score=0.867 total time=   0.9s\n",
            "[CV 5/5] END learning_rate=0.1, max_depth=3, n_estimators=100;, score=0.867 total time=   2.3s\n",
            "[CV 1/5] END learning_rate=0.1, max_depth=3, n_estimators=200;, score=0.866 total time=   1.8s\n",
            "[CV 2/5] END learning_rate=0.1, max_depth=3, n_estimators=200;, score=0.867 total time=   1.8s\n",
            "[CV 3/5] END learning_rate=0.1, max_depth=3, n_estimators=200;, score=0.868 total time=   1.8s\n",
            "[CV 4/5] END learning_rate=0.1, max_depth=3, n_estimators=200;, score=0.874 total time=   1.8s\n",
            "[CV 5/5] END learning_rate=0.1, max_depth=3, n_estimators=200;, score=0.871 total time=   1.8s\n",
            "[CV 1/5] END learning_rate=0.1, max_depth=5, n_estimators=10;, score=0.850 total time=   0.2s\n",
            "[CV 2/5] END learning_rate=0.1, max_depth=5, n_estimators=10;, score=0.853 total time=   0.2s\n",
            "[CV 3/5] END learning_rate=0.1, max_depth=5, n_estimators=10;, score=0.854 total time=   0.2s\n",
            "[CV 4/5] END learning_rate=0.1, max_depth=5, n_estimators=10;, score=0.859 total time=   0.2s\n",
            "[CV 5/5] END learning_rate=0.1, max_depth=5, n_estimators=10;, score=0.856 total time=   0.4s\n",
            "[CV 1/5] END learning_rate=0.1, max_depth=5, n_estimators=50;, score=0.859 total time=   2.0s\n",
            "[CV 2/5] END learning_rate=0.1, max_depth=5, n_estimators=50;, score=0.864 total time=   0.8s\n",
            "[CV 3/5] END learning_rate=0.1, max_depth=5, n_estimators=50;, score=0.864 total time=   0.9s\n",
            "[CV 4/5] END learning_rate=0.1, max_depth=5, n_estimators=50;, score=0.866 total time=   0.8s\n",
            "[CV 5/5] END learning_rate=0.1, max_depth=5, n_estimators=50;, score=0.864 total time=   0.9s\n",
            "[CV 1/5] END learning_rate=0.1, max_depth=5, n_estimators=100;, score=0.867 total time=   1.6s\n",
            "[CV 2/5] END learning_rate=0.1, max_depth=5, n_estimators=100;, score=0.870 total time=   1.6s\n",
            "[CV 3/5] END learning_rate=0.1, max_depth=5, n_estimators=100;, score=0.873 total time=   1.6s\n",
            "[CV 4/5] END learning_rate=0.1, max_depth=5, n_estimators=100;, score=0.876 total time=   1.8s\n",
            "[CV 5/5] END learning_rate=0.1, max_depth=5, n_estimators=100;, score=0.871 total time=   2.8s\n",
            "[CV 1/5] END learning_rate=0.1, max_depth=5, n_estimators=200;, score=0.869 total time=   3.1s\n",
            "[CV 2/5] END learning_rate=0.1, max_depth=5, n_estimators=200;, score=0.871 total time=   3.1s\n",
            "[CV 3/5] END learning_rate=0.1, max_depth=5, n_estimators=200;, score=0.873 total time=   4.5s\n",
            "[CV 4/5] END learning_rate=0.1, max_depth=5, n_estimators=200;, score=0.877 total time=   3.0s\n",
            "[CV 5/5] END learning_rate=0.1, max_depth=5, n_estimators=200;, score=0.872 total time=   3.1s\n",
            "[CV 1/5] END learning_rate=0.1, max_depth=10, n_estimators=10;, score=0.855 total time=   0.4s\n",
            "[CV 2/5] END learning_rate=0.1, max_depth=10, n_estimators=10;, score=0.859 total time=   0.4s\n",
            "[CV 3/5] END learning_rate=0.1, max_depth=10, n_estimators=10;, score=0.858 total time=   0.4s\n",
            "[CV 4/5] END learning_rate=0.1, max_depth=10, n_estimators=10;, score=0.866 total time=   0.4s\n",
            "[CV 5/5] END learning_rate=0.1, max_depth=10, n_estimators=10;, score=0.858 total time=   0.4s\n",
            "[CV 1/5] END learning_rate=0.1, max_depth=10, n_estimators=50;, score=0.867 total time=   3.3s\n",
            "[CV 2/5] END learning_rate=0.1, max_depth=10, n_estimators=50;, score=0.866 total time=   1.9s\n",
            "[CV 3/5] END learning_rate=0.1, max_depth=10, n_estimators=50;, score=0.870 total time=   1.9s\n",
            "[CV 4/5] END learning_rate=0.1, max_depth=10, n_estimators=50;, score=0.876 total time=   2.0s\n",
            "[CV 5/5] END learning_rate=0.1, max_depth=10, n_estimators=50;, score=0.871 total time=   1.8s\n",
            "[CV 1/5] END learning_rate=0.1, max_depth=10, n_estimators=100;, score=0.869 total time=   4.9s\n",
            "[CV 2/5] END learning_rate=0.1, max_depth=10, n_estimators=100;, score=0.868 total time=   3.5s\n",
            "[CV 3/5] END learning_rate=0.1, max_depth=10, n_estimators=100;, score=0.870 total time=   3.5s\n",
            "[CV 4/5] END learning_rate=0.1, max_depth=10, n_estimators=100;, score=0.877 total time=   4.9s\n",
            "[CV 5/5] END learning_rate=0.1, max_depth=10, n_estimators=100;, score=0.871 total time=   3.5s\n",
            "[CV 1/5] END learning_rate=0.1, max_depth=10, n_estimators=200;, score=0.865 total time=   8.0s\n",
            "[CV 2/5] END learning_rate=0.1, max_depth=10, n_estimators=200;, score=0.867 total time=   6.5s\n",
            "[CV 3/5] END learning_rate=0.1, max_depth=10, n_estimators=200;, score=0.869 total time=   8.1s\n",
            "[CV 4/5] END learning_rate=0.1, max_depth=10, n_estimators=200;, score=0.874 total time=   6.5s\n",
            "[CV 5/5] END learning_rate=0.1, max_depth=10, n_estimators=200;, score=0.869 total time=   8.0s\n",
            "[CV 1/5] END learning_rate=0.1, max_depth=20, n_estimators=10;, score=0.845 total time=   0.8s\n",
            "[CV 2/5] END learning_rate=0.1, max_depth=20, n_estimators=10;, score=0.848 total time=   0.8s\n",
            "[CV 3/5] END learning_rate=0.1, max_depth=20, n_estimators=10;, score=0.854 total time=   0.8s\n",
            "[CV 4/5] END learning_rate=0.1, max_depth=20, n_estimators=10;, score=0.858 total time=   0.8s\n",
            "[CV 5/5] END learning_rate=0.1, max_depth=20, n_estimators=10;, score=0.851 total time=   0.8s\n",
            "[CV 1/5] END learning_rate=0.1, max_depth=20, n_estimators=50;, score=0.860 total time=   5.3s\n",
            "[CV 2/5] END learning_rate=0.1, max_depth=20, n_estimators=50;, score=0.855 total time=   3.9s\n",
            "[CV 3/5] END learning_rate=0.1, max_depth=20, n_estimators=50;, score=0.861 total time=   5.3s\n",
            "[CV 4/5] END learning_rate=0.1, max_depth=20, n_estimators=50;, score=0.865 total time=   4.0s\n",
            "[CV 5/5] END learning_rate=0.1, max_depth=20, n_estimators=50;, score=0.861 total time=   3.9s\n",
            "[CV 1/5] END learning_rate=0.1, max_depth=20, n_estimators=100;, score=0.857 total time=   8.9s\n",
            "[CV 2/5] END learning_rate=0.1, max_depth=20, n_estimators=100;, score=0.856 total time=   8.9s\n",
            "[CV 3/5] END learning_rate=0.1, max_depth=20, n_estimators=100;, score=0.864 total time=   8.8s\n",
            "[CV 4/5] END learning_rate=0.1, max_depth=20, n_estimators=100;, score=0.863 total time=   8.9s\n",
            "[CV 5/5] END learning_rate=0.1, max_depth=20, n_estimators=100;, score=0.865 total time=   8.7s\n",
            "[CV 1/5] END learning_rate=0.1, max_depth=20, n_estimators=200;, score=0.856 total time=  15.5s\n",
            "[CV 2/5] END learning_rate=0.1, max_depth=20, n_estimators=200;, score=0.853 total time=  17.0s\n",
            "[CV 3/5] END learning_rate=0.1, max_depth=20, n_estimators=200;, score=0.862 total time=  15.8s\n",
            "[CV 4/5] END learning_rate=0.1, max_depth=20, n_estimators=200;, score=0.859 total time=  16.9s\n",
            "[CV 5/5] END learning_rate=0.1, max_depth=20, n_estimators=200;, score=0.862 total time=  15.7s\n",
            "[CV 1/5] END learning_rate=0.01, max_depth=3, n_estimators=10;, score=0.834 total time=   0.1s\n",
            "[CV 2/5] END learning_rate=0.01, max_depth=3, n_estimators=10;, score=0.839 total time=   0.1s\n",
            "[CV 3/5] END learning_rate=0.01, max_depth=3, n_estimators=10;, score=0.841 total time=   0.1s\n",
            "[CV 4/5] END learning_rate=0.01, max_depth=3, n_estimators=10;, score=0.844 total time=   0.1s\n",
            "[CV 5/5] END learning_rate=0.01, max_depth=3, n_estimators=10;, score=0.841 total time=   0.1s\n",
            "[CV 1/5] END learning_rate=0.01, max_depth=3, n_estimators=50;, score=0.833 total time=   0.5s\n",
            "[CV 2/5] END learning_rate=0.01, max_depth=3, n_estimators=50;, score=0.839 total time=   0.5s\n",
            "[CV 3/5] END learning_rate=0.01, max_depth=3, n_estimators=50;, score=0.841 total time=   0.5s\n",
            "[CV 4/5] END learning_rate=0.01, max_depth=3, n_estimators=50;, score=0.844 total time=   0.5s\n",
            "[CV 5/5] END learning_rate=0.01, max_depth=3, n_estimators=50;, score=0.841 total time=   0.5s\n",
            "[CV 2/5] END learning_rate=0.01, max_depth=3, n_estimators=100;, score=0.840 total time=   0.9s\n",
            "[CV 3/5] END learning_rate=0.01, max_depth=3, n_estimators=100;, score=0.842 total time=   2.3s\n",
            "[CV 4/5] END learning_rate=0.01, max_depth=3, n_estimators=100;, score=0.844 total time=   0.9s\n",
            "[CV 5/5] END learning_rate=0.01, max_depth=3, n_estimators=100;, score=0.841 total time=   0.9s\n",
            "[CV 1/5] END learning_rate=0.01, max_depth=3, n_estimators=200;, score=0.838 total time=   1.9s\n",
            "[CV 2/5] END learning_rate=0.01, max_depth=3, n_estimators=200;, score=0.846 total time=   1.8s\n",
            "[CV 3/5] END learning_rate=0.01, max_depth=3, n_estimators=200;, score=0.848 total time=   1.9s\n",
            "[CV 4/5] END learning_rate=0.01, max_depth=3, n_estimators=200;, score=0.849 total time=   1.8s\n",
            "[CV 5/5] END learning_rate=0.01, max_depth=3, n_estimators=200;, score=0.849 total time=   3.2s\n",
            "[CV 1/5] END learning_rate=0.01, max_depth=5, n_estimators=10;, score=0.845 total time=   0.2s\n",
            "[CV 2/5] END learning_rate=0.01, max_depth=5, n_estimators=10;, score=0.850 total time=   0.2s\n",
            "[CV 3/5] END learning_rate=0.01, max_depth=5, n_estimators=10;, score=0.852 total time=   0.2s\n",
            "[CV 4/5] END learning_rate=0.01, max_depth=5, n_estimators=10;, score=0.857 total time=   0.2s\n",
            "[CV 5/5] END learning_rate=0.01, max_depth=5, n_estimators=10;, score=0.855 total time=   0.2s\n",
            "[CV 1/5] END learning_rate=0.01, max_depth=5, n_estimators=50;, score=0.848 total time=   0.8s\n",
            "[CV 2/5] END learning_rate=0.01, max_depth=5, n_estimators=50;, score=0.852 total time=   0.8s\n",
            "[CV 3/5] END learning_rate=0.01, max_depth=5, n_estimators=50;, score=0.853 total time=   0.8s\n",
            "[CV 4/5] END learning_rate=0.01, max_depth=5, n_estimators=50;, score=0.857 total time=   0.8s\n",
            "[CV 5/5] END learning_rate=0.01, max_depth=5, n_estimators=50;, score=0.855 total time=   0.8s\n",
            "[CV 1/5] END learning_rate=0.01, max_depth=5, n_estimators=100;, score=0.850 total time=   1.6s\n",
            "[CV 2/5] END learning_rate=0.01, max_depth=5, n_estimators=100;, score=0.853 total time=   1.6s\n",
            "[CV 3/5] END learning_rate=0.01, max_depth=5, n_estimators=100;, score=0.854 total time=   3.1s\n",
            "[CV 4/5] END learning_rate=0.01, max_depth=5, n_estimators=100;, score=0.859 total time=   1.6s\n",
            "[CV 5/5] END learning_rate=0.01, max_depth=5, n_estimators=100;, score=0.856 total time=   1.6s\n",
            "[CV 1/5] END learning_rate=0.01, max_depth=5, n_estimators=200;, score=0.850 total time=   3.2s\n",
            "[CV 2/5] END learning_rate=0.01, max_depth=5, n_estimators=200;, score=0.854 total time=   3.3s\n",
            "[CV 3/5] END learning_rate=0.01, max_depth=5, n_estimators=200;, score=0.854 total time=   4.5s\n",
            "[CV 4/5] END learning_rate=0.01, max_depth=5, n_estimators=200;, score=0.861 total time=   3.2s\n",
            "[CV 5/5] END learning_rate=0.01, max_depth=5, n_estimators=200;, score=0.858 total time=   3.2s\n",
            "[CV 1/5] END learning_rate=0.01, max_depth=10, n_estimators=10;, score=0.850 total time=   0.4s\n",
            "[CV 2/5] END learning_rate=0.01, max_depth=10, n_estimators=10;, score=0.854 total time=   1.4s\n",
            "[CV 3/5] END learning_rate=0.01, max_depth=10, n_estimators=10;, score=0.854 total time=   0.7s\n",
            "[CV 4/5] END learning_rate=0.01, max_depth=10, n_estimators=10;, score=0.861 total time=   0.4s\n",
            "[CV 5/5] END learning_rate=0.01, max_depth=10, n_estimators=10;, score=0.854 total time=   0.4s\n",
            "[CV 1/5] END learning_rate=0.01, max_depth=10, n_estimators=50;, score=0.855 total time=   1.9s\n",
            "[CV 2/5] END learning_rate=0.01, max_depth=10, n_estimators=50;, score=0.858 total time=   1.9s\n",
            "[CV 3/5] END learning_rate=0.01, max_depth=10, n_estimators=50;, score=0.858 total time=   2.0s\n",
            "[CV 4/5] END learning_rate=0.01, max_depth=10, n_estimators=50;, score=0.863 total time=   1.9s\n",
            "[CV 5/5] END learning_rate=0.01, max_depth=10, n_estimators=50;, score=0.858 total time=   3.3s\n",
            "[CV 1/5] END learning_rate=0.01, max_depth=10, n_estimators=100;, score=0.856 total time=   3.7s\n",
            "[CV 2/5] END learning_rate=0.01, max_depth=10, n_estimators=100;, score=0.860 total time=   3.8s\n",
            "[CV 3/5] END learning_rate=0.01, max_depth=10, n_estimators=100;, score=0.860 total time=   5.2s\n",
            "[CV 4/5] END learning_rate=0.01, max_depth=10, n_estimators=100;, score=0.866 total time=   3.8s\n",
            "[CV 5/5] END learning_rate=0.01, max_depth=10, n_estimators=100;, score=0.858 total time=   3.8s\n",
            "[CV 1/5] END learning_rate=0.01, max_depth=10, n_estimators=200;, score=0.861 total time=   9.1s\n",
            "[CV 2/5] END learning_rate=0.01, max_depth=10, n_estimators=200;, score=0.863 total time=   9.1s\n",
            "[CV 3/5] END learning_rate=0.01, max_depth=10, n_estimators=200;, score=0.866 total time=   9.2s\n",
            "[CV 4/5] END learning_rate=0.01, max_depth=10, n_estimators=200;, score=0.872 total time=   7.8s\n",
            "[CV 5/5] END learning_rate=0.01, max_depth=10, n_estimators=200;, score=0.864 total time=   9.2s\n",
            "[CV 1/5] END learning_rate=0.01, max_depth=20, n_estimators=10;, score=0.835 total time=   0.7s\n",
            "[CV 2/5] END learning_rate=0.01, max_depth=20, n_estimators=10;, score=0.842 total time=   0.7s\n",
            "[CV 3/5] END learning_rate=0.01, max_depth=20, n_estimators=10;, score=0.847 total time=   0.7s\n",
            "[CV 4/5] END learning_rate=0.01, max_depth=20, n_estimators=10;, score=0.849 total time=   0.7s\n",
            "[CV 5/5] END learning_rate=0.01, max_depth=20, n_estimators=10;, score=0.841 total time=   0.8s\n",
            "[CV 1/5] END learning_rate=0.01, max_depth=20, n_estimators=50;, score=0.842 total time=   5.0s\n",
            "[CV 2/5] END learning_rate=0.01, max_depth=20, n_estimators=50;, score=0.844 total time=   5.2s\n",
            "[CV 3/5] END learning_rate=0.01, max_depth=20, n_estimators=50;, score=0.852 total time=   5.1s\n",
            "[CV 4/5] END learning_rate=0.01, max_depth=20, n_estimators=50;, score=0.855 total time=   3.7s\n",
            "[CV 5/5] END learning_rate=0.01, max_depth=20, n_estimators=50;, score=0.846 total time=   3.7s\n",
            "[CV 1/5] END learning_rate=0.01, max_depth=20, n_estimators=100;, score=0.846 total time=   8.9s\n",
            "[CV 2/5] END learning_rate=0.01, max_depth=20, n_estimators=100;, score=0.849 total time=   8.9s\n",
            "[CV 3/5] END learning_rate=0.01, max_depth=20, n_estimators=100;, score=0.852 total time=   9.0s\n",
            "[CV 4/5] END learning_rate=0.01, max_depth=20, n_estimators=100;, score=0.860 total time=   7.7s\n",
            "[CV 5/5] END learning_rate=0.01, max_depth=20, n_estimators=100;, score=0.851 total time=   9.0s\n",
            "[CV 1/5] END learning_rate=0.01, max_depth=20, n_estimators=200;, score=0.853 total time=  18.3s\n",
            "[CV 2/5] END learning_rate=0.01, max_depth=20, n_estimators=200;, score=0.856 total time=  16.8s\n",
            "[CV 3/5] END learning_rate=0.01, max_depth=20, n_estimators=200;, score=0.856 total time=  18.5s\n",
            "[CV 4/5] END learning_rate=0.01, max_depth=20, n_estimators=200;, score=0.861 total time=  16.9s\n",
            "[CV 5/5] END learning_rate=0.01, max_depth=20, n_estimators=200;, score=0.859 total time=  18.4s\n",
            "[CV 1/5] END learning_rate=0.001, max_depth=3, n_estimators=10;, score=0.834 total time=   0.1s\n",
            "[CV 2/5] END learning_rate=0.001, max_depth=3, n_estimators=10;, score=0.839 total time=   0.1s\n",
            "[CV 3/5] END learning_rate=0.001, max_depth=3, n_estimators=10;, score=0.841 total time=   0.1s\n",
            "[CV 4/5] END learning_rate=0.001, max_depth=3, n_estimators=10;, score=0.844 total time=   0.1s\n",
            "[CV 5/5] END learning_rate=0.001, max_depth=3, n_estimators=10;, score=0.841 total time=   0.1s\n",
            "[CV 1/5] END learning_rate=0.001, max_depth=3, n_estimators=50;, score=0.834 total time=   0.5s\n",
            "[CV 2/5] END learning_rate=0.001, max_depth=3, n_estimators=50;, score=0.839 total time=   0.5s\n",
            "[CV 3/5] END learning_rate=0.001, max_depth=3, n_estimators=50;, score=0.841 total time=   0.5s\n",
            "[CV 4/5] END learning_rate=0.001, max_depth=3, n_estimators=50;, score=0.844 total time=   0.5s\n",
            "[CV 5/5] END learning_rate=0.001, max_depth=3, n_estimators=50;, score=0.841 total time=   0.5s\n",
            "[CV 1/5] END learning_rate=0.001, max_depth=3, n_estimators=100;, score=0.834 total time=   0.9s\n",
            "[CV 2/5] END learning_rate=0.001, max_depth=3, n_estimators=100;, score=0.839 total time=   0.9s\n",
            "[CV 3/5] END learning_rate=0.001, max_depth=3, n_estimators=100;, score=0.841 total time=   0.9s\n",
            "[CV 4/5] END learning_rate=0.001, max_depth=3, n_estimators=100;, score=0.844 total time=   1.0s\n",
            "[CV 5/5] END learning_rate=0.001, max_depth=3, n_estimators=100;, score=0.841 total time=   0.9s\n",
            "[CV 1/5] END learning_rate=0.001, max_depth=3, n_estimators=200;, score=0.833 total time=   3.3s\n",
            "[CV 2/5] END learning_rate=0.001, max_depth=3, n_estimators=200;, score=0.839 total time=   1.9s\n",
            "[CV 3/5] END learning_rate=0.001, max_depth=3, n_estimators=200;, score=0.841 total time=   1.9s\n",
            "[CV 4/5] END learning_rate=0.001, max_depth=3, n_estimators=200;, score=0.844 total time=   1.8s\n",
            "[CV 5/5] END learning_rate=0.001, max_depth=3, n_estimators=200;, score=0.841 total time=   1.9s\n",
            "[CV 1/5] END learning_rate=0.001, max_depth=5, n_estimators=10;, score=0.843 total time=   0.2s\n",
            "[CV 2/5] END learning_rate=0.001, max_depth=5, n_estimators=10;, score=0.846 total time=   0.2s\n",
            "[CV 3/5] END learning_rate=0.001, max_depth=5, n_estimators=10;, score=0.853 total time=   0.2s\n",
            "[CV 4/5] END learning_rate=0.001, max_depth=5, n_estimators=10;, score=0.852 total time=   0.2s\n",
            "[CV 5/5] END learning_rate=0.001, max_depth=5, n_estimators=10;, score=0.855 total time=   0.2s\n",
            "[CV 1/5] END learning_rate=0.001, max_depth=5, n_estimators=50;, score=0.847 total time=   0.8s\n",
            "[CV 2/5] END learning_rate=0.001, max_depth=5, n_estimators=50;, score=0.850 total time=   2.2s\n",
            "[CV 3/5] END learning_rate=0.001, max_depth=5, n_estimators=50;, score=0.852 total time=   0.8s\n",
            "[CV 4/5] END learning_rate=0.001, max_depth=5, n_estimators=50;, score=0.857 total time=   0.8s\n",
            "[CV 5/5] END learning_rate=0.001, max_depth=5, n_estimators=50;, score=0.855 total time=   0.8s\n",
            "[CV 1/5] END learning_rate=0.001, max_depth=5, n_estimators=100;, score=0.845 total time=   1.5s\n",
            "[CV 2/5] END learning_rate=0.001, max_depth=5, n_estimators=100;, score=0.850 total time=   1.5s\n",
            "[CV 3/5] END learning_rate=0.001, max_depth=5, n_estimators=100;, score=0.852 total time=   1.6s\n",
            "[CV 4/5] END learning_rate=0.001, max_depth=5, n_estimators=100;, score=0.857 total time=   1.6s\n",
            "[CV 5/5] END learning_rate=0.001, max_depth=5, n_estimators=100;, score=0.855 total time=   2.5s\n",
            "[CV 1/5] END learning_rate=0.001, max_depth=5, n_estimators=200;, score=0.846 total time=   3.5s\n",
            "[CV 2/5] END learning_rate=0.001, max_depth=5, n_estimators=200;, score=0.852 total time=   3.0s\n",
            "[CV 3/5] END learning_rate=0.001, max_depth=5, n_estimators=200;, score=0.853 total time=   3.1s\n",
            "[CV 4/5] END learning_rate=0.001, max_depth=5, n_estimators=200;, score=0.857 total time=   4.5s\n",
            "[CV 5/5] END learning_rate=0.001, max_depth=5, n_estimators=200;, score=0.855 total time=   3.1s\n",
            "[CV 1/5] END learning_rate=0.001, max_depth=10, n_estimators=10;, score=0.850 total time=   0.4s\n",
            "[CV 2/5] END learning_rate=0.001, max_depth=10, n_estimators=10;, score=0.852 total time=   0.4s\n",
            "[CV 3/5] END learning_rate=0.001, max_depth=10, n_estimators=10;, score=0.852 total time=   0.4s\n",
            "[CV 4/5] END learning_rate=0.001, max_depth=10, n_estimators=10;, score=0.861 total time=   0.4s\n",
            "[CV 5/5] END learning_rate=0.001, max_depth=10, n_estimators=10;, score=0.854 total time=   0.4s\n",
            "[CV 1/5] END learning_rate=0.001, max_depth=10, n_estimators=50;, score=0.851 total time=   1.8s\n",
            "[CV 2/5] END learning_rate=0.001, max_depth=10, n_estimators=50;, score=0.852 total time=   3.2s\n",
            "[CV 3/5] END learning_rate=0.001, max_depth=10, n_estimators=50;, score=0.852 total time=   1.9s\n",
            "[CV 4/5] END learning_rate=0.001, max_depth=10, n_estimators=50;, score=0.861 total time=   1.9s\n",
            "[CV 5/5] END learning_rate=0.001, max_depth=10, n_estimators=50;, score=0.855 total time=   1.9s\n",
            "[CV 1/5] END learning_rate=0.001, max_depth=10, n_estimators=100;, score=0.851 total time=   3.7s\n",
            "[CV 2/5] END learning_rate=0.001, max_depth=10, n_estimators=100;, score=0.854 total time=   5.0s\n",
            "[CV 3/5] END learning_rate=0.001, max_depth=10, n_estimators=100;, score=0.854 total time=   3.9s\n",
            "[CV 4/5] END learning_rate=0.001, max_depth=10, n_estimators=100;, score=0.861 total time=   5.0s\n",
            "[CV 5/5] END learning_rate=0.001, max_depth=10, n_estimators=100;, score=0.854 total time=   3.9s\n",
            "[CV 1/5] END learning_rate=0.001, max_depth=10, n_estimators=200;, score=0.852 total time=  10.0s\n",
            "[CV 2/5] END learning_rate=0.001, max_depth=10, n_estimators=200;, score=0.856 total time=   7.3s\n",
            "[CV 3/5] END learning_rate=0.001, max_depth=10, n_estimators=200;, score=0.855 total time=   8.9s\n",
            "[CV 4/5] END learning_rate=0.001, max_depth=10, n_estimators=200;, score=0.862 total time=   8.7s\n",
            "[CV 5/5] END learning_rate=0.001, max_depth=10, n_estimators=200;, score=0.855 total time=   7.4s\n",
            "[CV 1/5] END learning_rate=0.001, max_depth=20, n_estimators=10;, score=0.832 total time=   2.1s\n",
            "[CV 2/5] END learning_rate=0.001, max_depth=20, n_estimators=10;, score=0.835 total time=   0.7s\n",
            "[CV 3/5] END learning_rate=0.001, max_depth=20, n_estimators=10;, score=0.844 total time=   0.7s\n",
            "[CV 4/5] END learning_rate=0.001, max_depth=20, n_estimators=10;, score=0.847 total time=   0.7s\n",
            "[CV 5/5] END learning_rate=0.001, max_depth=20, n_estimators=10;, score=0.841 total time=   0.7s\n",
            "[CV 1/5] END learning_rate=0.001, max_depth=20, n_estimators=50;, score=0.831 total time=   3.5s\n",
            "[CV 2/5] END learning_rate=0.001, max_depth=20, n_estimators=50;, score=0.838 total time=   3.5s\n",
            "[CV 3/5] END learning_rate=0.001, max_depth=20, n_estimators=50;, score=0.845 total time=   4.9s\n",
            "[CV 4/5] END learning_rate=0.001, max_depth=20, n_estimators=50;, score=0.847 total time=   3.5s\n",
            "[CV 5/5] END learning_rate=0.001, max_depth=20, n_estimators=50;, score=0.841 total time=   3.8s\n",
            "[CV 1/5] END learning_rate=0.001, max_depth=20, n_estimators=100;, score=0.833 total time=   8.1s\n",
            "[CV 2/5] END learning_rate=0.001, max_depth=20, n_estimators=100;, score=0.842 total time=   8.5s\n",
            "[CV 3/5] END learning_rate=0.001, max_depth=20, n_estimators=100;, score=0.845 total time=   8.4s\n",
            "[CV 4/5] END learning_rate=0.001, max_depth=20, n_estimators=100;, score=0.850 total time=   7.0s\n",
            "[CV 5/5] END learning_rate=0.001, max_depth=20, n_estimators=100;, score=0.841 total time=   8.4s\n",
            "[CV 1/5] END learning_rate=0.001, max_depth=20, n_estimators=200;, score=0.838 total time=  15.6s\n",
            "[CV 2/5] END learning_rate=0.001, max_depth=20, n_estimators=200;, score=0.842 total time=  16.9s\n",
            "[CV 3/5] END learning_rate=0.001, max_depth=20, n_estimators=200;, score=0.847 total time=  15.7s\n",
            "[CV 4/5] END learning_rate=0.001, max_depth=20, n_estimators=200;, score=0.852 total time=  15.6s\n",
            "[CV 5/5] END learning_rate=0.001, max_depth=20, n_estimators=200;, score=0.842 total time=  17.1s\n"
          ]
        },
        {
          "output_type": "execute_result",
          "data": {
            "text/plain": [
              "GridSearchCV(estimator=XGBClassifier(base_score=None, booster=None,\n",
              "                                     callbacks=None, colsample_bylevel=None,\n",
              "                                     colsample_bynode=None,\n",
              "                                     colsample_bytree=None,\n",
              "                                     early_stopping_rounds=None,\n",
              "                                     enable_categorical=False, eval_metric=None,\n",
              "                                     feature_types=None, gamma=None,\n",
              "                                     gpu_id=None, grow_policy=None,\n",
              "                                     importance_type=None,\n",
              "                                     interaction_constraints=None,\n",
              "                                     learning_rate=None, max_b...\n",
              "                                     max_cat_threshold=None,\n",
              "                                     max_cat_to_onehot=None,\n",
              "                                     max_delta_step=None, max_depth=None,\n",
              "                                     max_leaves=None, min_child_weight=None,\n",
              "                                     missing=nan, monotone_constraints=None,\n",
              "                                     n_estimators=100, n_jobs=None,\n",
              "                                     num_parallel_tree=None, predictor=None,\n",
              "                                     random_state=None, ...),\n",
              "             param_grid={'learning_rate': [1, 0.5, 0.1, 0.01, 0.001],\n",
              "                         'max_depth': [3, 5, 10, 20],\n",
              "                         'n_estimators': [10, 50, 100, 200]},\n",
              "             verbose=3)"
            ],
            "text/html": [
              "<style>#sk-container-id-1 {color: black;background-color: white;}#sk-container-id-1 pre{padding: 0;}#sk-container-id-1 div.sk-toggleable {background-color: white;}#sk-container-id-1 label.sk-toggleable__label {cursor: pointer;display: block;width: 100%;margin-bottom: 0;padding: 0.3em;box-sizing: border-box;text-align: center;}#sk-container-id-1 label.sk-toggleable__label-arrow:before {content: \"▸\";float: left;margin-right: 0.25em;color: #696969;}#sk-container-id-1 label.sk-toggleable__label-arrow:hover:before {color: black;}#sk-container-id-1 div.sk-estimator:hover label.sk-toggleable__label-arrow:before {color: black;}#sk-container-id-1 div.sk-toggleable__content {max-height: 0;max-width: 0;overflow: hidden;text-align: left;background-color: #f0f8ff;}#sk-container-id-1 div.sk-toggleable__content pre {margin: 0.2em;color: black;border-radius: 0.25em;background-color: #f0f8ff;}#sk-container-id-1 input.sk-toggleable__control:checked~div.sk-toggleable__content {max-height: 200px;max-width: 100%;overflow: auto;}#sk-container-id-1 input.sk-toggleable__control:checked~label.sk-toggleable__label-arrow:before {content: \"▾\";}#sk-container-id-1 div.sk-estimator input.sk-toggleable__control:checked~label.sk-toggleable__label {background-color: #d4ebff;}#sk-container-id-1 div.sk-label input.sk-toggleable__control:checked~label.sk-toggleable__label {background-color: #d4ebff;}#sk-container-id-1 input.sk-hidden--visually {border: 0;clip: rect(1px 1px 1px 1px);clip: rect(1px, 1px, 1px, 1px);height: 1px;margin: -1px;overflow: hidden;padding: 0;position: absolute;width: 1px;}#sk-container-id-1 div.sk-estimator {font-family: monospace;background-color: #f0f8ff;border: 1px dotted black;border-radius: 0.25em;box-sizing: border-box;margin-bottom: 0.5em;}#sk-container-id-1 div.sk-estimator:hover {background-color: #d4ebff;}#sk-container-id-1 div.sk-parallel-item::after {content: \"\";width: 100%;border-bottom: 1px solid gray;flex-grow: 1;}#sk-container-id-1 div.sk-label:hover label.sk-toggleable__label {background-color: #d4ebff;}#sk-container-id-1 div.sk-serial::before {content: \"\";position: absolute;border-left: 1px solid gray;box-sizing: border-box;top: 0;bottom: 0;left: 50%;z-index: 0;}#sk-container-id-1 div.sk-serial {display: flex;flex-direction: column;align-items: center;background-color: white;padding-right: 0.2em;padding-left: 0.2em;position: relative;}#sk-container-id-1 div.sk-item {position: relative;z-index: 1;}#sk-container-id-1 div.sk-parallel {display: flex;align-items: stretch;justify-content: center;background-color: white;position: relative;}#sk-container-id-1 div.sk-item::before, #sk-container-id-1 div.sk-parallel-item::before {content: \"\";position: absolute;border-left: 1px solid gray;box-sizing: border-box;top: 0;bottom: 0;left: 50%;z-index: -1;}#sk-container-id-1 div.sk-parallel-item {display: flex;flex-direction: column;z-index: 1;position: relative;background-color: white;}#sk-container-id-1 div.sk-parallel-item:first-child::after {align-self: flex-end;width: 50%;}#sk-container-id-1 div.sk-parallel-item:last-child::after {align-self: flex-start;width: 50%;}#sk-container-id-1 div.sk-parallel-item:only-child::after {width: 0;}#sk-container-id-1 div.sk-dashed-wrapped {border: 1px dashed gray;margin: 0 0.4em 0.5em 0.4em;box-sizing: border-box;padding-bottom: 0.4em;background-color: white;}#sk-container-id-1 div.sk-label label {font-family: monospace;font-weight: bold;display: inline-block;line-height: 1.2em;}#sk-container-id-1 div.sk-label-container {text-align: center;}#sk-container-id-1 div.sk-container {/* jupyter's `normalize.less` sets `[hidden] { display: none; }` but bootstrap.min.css set `[hidden] { display: none !important; }` so we also need the `!important` here to be able to override the default hidden behavior on the sphinx rendered scikit-learn.org. See: https://github.com/scikit-learn/scikit-learn/issues/21755 */display: inline-block !important;position: relative;}#sk-container-id-1 div.sk-text-repr-fallback {display: none;}</style><div id=\"sk-container-id-1\" class=\"sk-top-container\"><div class=\"sk-text-repr-fallback\"><pre>GridSearchCV(estimator=XGBClassifier(base_score=None, booster=None,\n",
              "                                     callbacks=None, colsample_bylevel=None,\n",
              "                                     colsample_bynode=None,\n",
              "                                     colsample_bytree=None,\n",
              "                                     early_stopping_rounds=None,\n",
              "                                     enable_categorical=False, eval_metric=None,\n",
              "                                     feature_types=None, gamma=None,\n",
              "                                     gpu_id=None, grow_policy=None,\n",
              "                                     importance_type=None,\n",
              "                                     interaction_constraints=None,\n",
              "                                     learning_rate=None, max_b...\n",
              "                                     max_cat_threshold=None,\n",
              "                                     max_cat_to_onehot=None,\n",
              "                                     max_delta_step=None, max_depth=None,\n",
              "                                     max_leaves=None, min_child_weight=None,\n",
              "                                     missing=nan, monotone_constraints=None,\n",
              "                                     n_estimators=100, n_jobs=None,\n",
              "                                     num_parallel_tree=None, predictor=None,\n",
              "                                     random_state=None, ...),\n",
              "             param_grid={&#x27;learning_rate&#x27;: [1, 0.5, 0.1, 0.01, 0.001],\n",
              "                         &#x27;max_depth&#x27;: [3, 5, 10, 20],\n",
              "                         &#x27;n_estimators&#x27;: [10, 50, 100, 200]},\n",
              "             verbose=3)</pre><b>In a Jupyter environment, please rerun this cell to show the HTML representation or trust the notebook. <br />On GitHub, the HTML representation is unable to render, please try loading this page with nbviewer.org.</b></div><div class=\"sk-container\" hidden><div class=\"sk-item sk-dashed-wrapped\"><div class=\"sk-label-container\"><div class=\"sk-label sk-toggleable\"><input class=\"sk-toggleable__control sk-hidden--visually\" id=\"sk-estimator-id-1\" type=\"checkbox\" ><label for=\"sk-estimator-id-1\" class=\"sk-toggleable__label sk-toggleable__label-arrow\">GridSearchCV</label><div class=\"sk-toggleable__content\"><pre>GridSearchCV(estimator=XGBClassifier(base_score=None, booster=None,\n",
              "                                     callbacks=None, colsample_bylevel=None,\n",
              "                                     colsample_bynode=None,\n",
              "                                     colsample_bytree=None,\n",
              "                                     early_stopping_rounds=None,\n",
              "                                     enable_categorical=False, eval_metric=None,\n",
              "                                     feature_types=None, gamma=None,\n",
              "                                     gpu_id=None, grow_policy=None,\n",
              "                                     importance_type=None,\n",
              "                                     interaction_constraints=None,\n",
              "                                     learning_rate=None, max_b...\n",
              "                                     max_cat_threshold=None,\n",
              "                                     max_cat_to_onehot=None,\n",
              "                                     max_delta_step=None, max_depth=None,\n",
              "                                     max_leaves=None, min_child_weight=None,\n",
              "                                     missing=nan, monotone_constraints=None,\n",
              "                                     n_estimators=100, n_jobs=None,\n",
              "                                     num_parallel_tree=None, predictor=None,\n",
              "                                     random_state=None, ...),\n",
              "             param_grid={&#x27;learning_rate&#x27;: [1, 0.5, 0.1, 0.01, 0.001],\n",
              "                         &#x27;max_depth&#x27;: [3, 5, 10, 20],\n",
              "                         &#x27;n_estimators&#x27;: [10, 50, 100, 200]},\n",
              "             verbose=3)</pre></div></div></div><div class=\"sk-parallel\"><div class=\"sk-parallel-item\"><div class=\"sk-item\"><div class=\"sk-label-container\"><div class=\"sk-label sk-toggleable\"><input class=\"sk-toggleable__control sk-hidden--visually\" id=\"sk-estimator-id-2\" type=\"checkbox\" ><label for=\"sk-estimator-id-2\" class=\"sk-toggleable__label sk-toggleable__label-arrow\">estimator: XGBClassifier</label><div class=\"sk-toggleable__content\"><pre>XGBClassifier(base_score=None, booster=None, callbacks=None,\n",
              "              colsample_bylevel=None, colsample_bynode=None,\n",
              "              colsample_bytree=None, early_stopping_rounds=None,\n",
              "              enable_categorical=False, eval_metric=None, feature_types=None,\n",
              "              gamma=None, gpu_id=None, grow_policy=None, importance_type=None,\n",
              "              interaction_constraints=None, learning_rate=None, max_bin=None,\n",
              "              max_cat_threshold=None, max_cat_to_onehot=None,\n",
              "              max_delta_step=None, max_depth=None, max_leaves=None,\n",
              "              min_child_weight=None, missing=nan, monotone_constraints=None,\n",
              "              n_estimators=100, n_jobs=None, num_parallel_tree=None,\n",
              "              predictor=None, random_state=None, ...)</pre></div></div></div><div class=\"sk-serial\"><div class=\"sk-item\"><div class=\"sk-estimator sk-toggleable\"><input class=\"sk-toggleable__control sk-hidden--visually\" id=\"sk-estimator-id-3\" type=\"checkbox\" ><label for=\"sk-estimator-id-3\" class=\"sk-toggleable__label sk-toggleable__label-arrow\">XGBClassifier</label><div class=\"sk-toggleable__content\"><pre>XGBClassifier(base_score=None, booster=None, callbacks=None,\n",
              "              colsample_bylevel=None, colsample_bynode=None,\n",
              "              colsample_bytree=None, early_stopping_rounds=None,\n",
              "              enable_categorical=False, eval_metric=None, feature_types=None,\n",
              "              gamma=None, gpu_id=None, grow_policy=None, importance_type=None,\n",
              "              interaction_constraints=None, learning_rate=None, max_bin=None,\n",
              "              max_cat_threshold=None, max_cat_to_onehot=None,\n",
              "              max_delta_step=None, max_depth=None, max_leaves=None,\n",
              "              min_child_weight=None, missing=nan, monotone_constraints=None,\n",
              "              n_estimators=100, n_jobs=None, num_parallel_tree=None,\n",
              "              predictor=None, random_state=None, ...)</pre></div></div></div></div></div></div></div></div></div></div>"
            ]
          },
          "metadata": {},
          "execution_count": 28
        }
      ]
    },
    {
      "cell_type": "code",
      "source": [
        "grid.best_params_"
      ],
      "metadata": {
        "id": "N7cQ_ClYUbpR",
        "colab": {
          "base_uri": "https://localhost:8080/"
        },
        "outputId": "1ce8a934-315a-482c-c8c9-b8b96570e570"
      },
      "execution_count": 30,
      "outputs": [
        {
          "output_type": "execute_result",
          "data": {
            "text/plain": [
              "{'learning_rate': 0.1, 'max_depth': 5, 'n_estimators': 200}"
            ]
          },
          "metadata": {},
          "execution_count": 30
        }
      ]
    },
    {
      "cell_type": "code",
      "source": [
        "best_params = {'learning_rate': 0.1, 'max_depth': 5, 'n_estimators': 200} # bestparams after grid search operation"
      ],
      "metadata": {
        "id": "onl2SGjZDauZ"
      },
      "execution_count": 32,
      "outputs": []
    },
    {
      "cell_type": "code",
      "source": [
        "model = xgb.XGBClassifier(learning_rate= 0.1, max_depth= 5, n_estimators= 200)\n",
        "model.fit(X_train, y_train)"
      ],
      "metadata": {
        "colab": {
          "base_uri": "https://localhost:8080/",
          "height": 248
        },
        "id": "acRozWWwDhN4",
        "outputId": "907681bd-e11b-4671-d495-15bc082031f8"
      },
      "execution_count": 35,
      "outputs": [
        {
          "output_type": "execute_result",
          "data": {
            "text/plain": [
              "XGBClassifier(base_score=None, booster=None, callbacks=None,\n",
              "              colsample_bylevel=None, colsample_bynode=None,\n",
              "              colsample_bytree=None, early_stopping_rounds=None,\n",
              "              enable_categorical=False, eval_metric=None, feature_types=None,\n",
              "              gamma=None, gpu_id=None, grow_policy=None, importance_type=None,\n",
              "              interaction_constraints=None, learning_rate=0.1, max_bin=None,\n",
              "              max_cat_threshold=None, max_cat_to_onehot=None,\n",
              "              max_delta_step=None, max_depth=5, max_leaves=None,\n",
              "              min_child_weight=None, missing=nan, monotone_constraints=None,\n",
              "              n_estimators=200, n_jobs=None, num_parallel_tree=None,\n",
              "              predictor=None, random_state=None, ...)"
            ],
            "text/html": [
              "<style>#sk-container-id-2 {color: black;background-color: white;}#sk-container-id-2 pre{padding: 0;}#sk-container-id-2 div.sk-toggleable {background-color: white;}#sk-container-id-2 label.sk-toggleable__label {cursor: pointer;display: block;width: 100%;margin-bottom: 0;padding: 0.3em;box-sizing: border-box;text-align: center;}#sk-container-id-2 label.sk-toggleable__label-arrow:before {content: \"▸\";float: left;margin-right: 0.25em;color: #696969;}#sk-container-id-2 label.sk-toggleable__label-arrow:hover:before {color: black;}#sk-container-id-2 div.sk-estimator:hover label.sk-toggleable__label-arrow:before {color: black;}#sk-container-id-2 div.sk-toggleable__content {max-height: 0;max-width: 0;overflow: hidden;text-align: left;background-color: #f0f8ff;}#sk-container-id-2 div.sk-toggleable__content pre {margin: 0.2em;color: black;border-radius: 0.25em;background-color: #f0f8ff;}#sk-container-id-2 input.sk-toggleable__control:checked~div.sk-toggleable__content {max-height: 200px;max-width: 100%;overflow: auto;}#sk-container-id-2 input.sk-toggleable__control:checked~label.sk-toggleable__label-arrow:before {content: \"▾\";}#sk-container-id-2 div.sk-estimator input.sk-toggleable__control:checked~label.sk-toggleable__label {background-color: #d4ebff;}#sk-container-id-2 div.sk-label input.sk-toggleable__control:checked~label.sk-toggleable__label {background-color: #d4ebff;}#sk-container-id-2 input.sk-hidden--visually {border: 0;clip: rect(1px 1px 1px 1px);clip: rect(1px, 1px, 1px, 1px);height: 1px;margin: -1px;overflow: hidden;padding: 0;position: absolute;width: 1px;}#sk-container-id-2 div.sk-estimator {font-family: monospace;background-color: #f0f8ff;border: 1px dotted black;border-radius: 0.25em;box-sizing: border-box;margin-bottom: 0.5em;}#sk-container-id-2 div.sk-estimator:hover {background-color: #d4ebff;}#sk-container-id-2 div.sk-parallel-item::after {content: \"\";width: 100%;border-bottom: 1px solid gray;flex-grow: 1;}#sk-container-id-2 div.sk-label:hover label.sk-toggleable__label {background-color: #d4ebff;}#sk-container-id-2 div.sk-serial::before {content: \"\";position: absolute;border-left: 1px solid gray;box-sizing: border-box;top: 0;bottom: 0;left: 50%;z-index: 0;}#sk-container-id-2 div.sk-serial {display: flex;flex-direction: column;align-items: center;background-color: white;padding-right: 0.2em;padding-left: 0.2em;position: relative;}#sk-container-id-2 div.sk-item {position: relative;z-index: 1;}#sk-container-id-2 div.sk-parallel {display: flex;align-items: stretch;justify-content: center;background-color: white;position: relative;}#sk-container-id-2 div.sk-item::before, #sk-container-id-2 div.sk-parallel-item::before {content: \"\";position: absolute;border-left: 1px solid gray;box-sizing: border-box;top: 0;bottom: 0;left: 50%;z-index: -1;}#sk-container-id-2 div.sk-parallel-item {display: flex;flex-direction: column;z-index: 1;position: relative;background-color: white;}#sk-container-id-2 div.sk-parallel-item:first-child::after {align-self: flex-end;width: 50%;}#sk-container-id-2 div.sk-parallel-item:last-child::after {align-self: flex-start;width: 50%;}#sk-container-id-2 div.sk-parallel-item:only-child::after {width: 0;}#sk-container-id-2 div.sk-dashed-wrapped {border: 1px dashed gray;margin: 0 0.4em 0.5em 0.4em;box-sizing: border-box;padding-bottom: 0.4em;background-color: white;}#sk-container-id-2 div.sk-label label {font-family: monospace;font-weight: bold;display: inline-block;line-height: 1.2em;}#sk-container-id-2 div.sk-label-container {text-align: center;}#sk-container-id-2 div.sk-container {/* jupyter's `normalize.less` sets `[hidden] { display: none; }` but bootstrap.min.css set `[hidden] { display: none !important; }` so we also need the `!important` here to be able to override the default hidden behavior on the sphinx rendered scikit-learn.org. See: https://github.com/scikit-learn/scikit-learn/issues/21755 */display: inline-block !important;position: relative;}#sk-container-id-2 div.sk-text-repr-fallback {display: none;}</style><div id=\"sk-container-id-2\" class=\"sk-top-container\"><div class=\"sk-text-repr-fallback\"><pre>XGBClassifier(base_score=None, booster=None, callbacks=None,\n",
              "              colsample_bylevel=None, colsample_bynode=None,\n",
              "              colsample_bytree=None, early_stopping_rounds=None,\n",
              "              enable_categorical=False, eval_metric=None, feature_types=None,\n",
              "              gamma=None, gpu_id=None, grow_policy=None, importance_type=None,\n",
              "              interaction_constraints=None, learning_rate=0.1, max_bin=None,\n",
              "              max_cat_threshold=None, max_cat_to_onehot=None,\n",
              "              max_delta_step=None, max_depth=5, max_leaves=None,\n",
              "              min_child_weight=None, missing=nan, monotone_constraints=None,\n",
              "              n_estimators=200, n_jobs=None, num_parallel_tree=None,\n",
              "              predictor=None, random_state=None, ...)</pre><b>In a Jupyter environment, please rerun this cell to show the HTML representation or trust the notebook. <br />On GitHub, the HTML representation is unable to render, please try loading this page with nbviewer.org.</b></div><div class=\"sk-container\" hidden><div class=\"sk-item\"><div class=\"sk-estimator sk-toggleable\"><input class=\"sk-toggleable__control sk-hidden--visually\" id=\"sk-estimator-id-4\" type=\"checkbox\" checked><label for=\"sk-estimator-id-4\" class=\"sk-toggleable__label sk-toggleable__label-arrow\">XGBClassifier</label><div class=\"sk-toggleable__content\"><pre>XGBClassifier(base_score=None, booster=None, callbacks=None,\n",
              "              colsample_bylevel=None, colsample_bynode=None,\n",
              "              colsample_bytree=None, early_stopping_rounds=None,\n",
              "              enable_categorical=False, eval_metric=None, feature_types=None,\n",
              "              gamma=None, gpu_id=None, grow_policy=None, importance_type=None,\n",
              "              interaction_constraints=None, learning_rate=0.1, max_bin=None,\n",
              "              max_cat_threshold=None, max_cat_to_onehot=None,\n",
              "              max_delta_step=None, max_depth=5, max_leaves=None,\n",
              "              min_child_weight=None, missing=nan, monotone_constraints=None,\n",
              "              n_estimators=200, n_jobs=None, num_parallel_tree=None,\n",
              "              predictor=None, random_state=None, ...)</pre></div></div></div></div></div>"
            ]
          },
          "metadata": {},
          "execution_count": 35
        }
      ]
    },
    {
      "cell_type": "code",
      "source": [
        "y_pred = model.predict(scale(X_test))"
      ],
      "metadata": {
        "id": "XxwWTCXwD2uk"
      },
      "execution_count": 36,
      "outputs": []
    },
    {
      "cell_type": "code",
      "source": [
        "y_pred"
      ],
      "metadata": {
        "colab": {
          "base_uri": "https://localhost:8080/"
        },
        "id": "ygClVWOQEJrG",
        "outputId": "dd7b2501-878f-4681-cdac-4d373dc4e76c"
      },
      "execution_count": 37,
      "outputs": [
        {
          "output_type": "execute_result",
          "data": {
            "text/plain": [
              "array([0, 0, 0, ..., 1, 0, 1])"
            ]
          },
          "metadata": {},
          "execution_count": 37
        }
      ]
    },
    {
      "cell_type": "code",
      "source": [
        "accuracy = accuracy_score(y_test,y_pred)"
      ],
      "metadata": {
        "id": "NeVyARYGENkx"
      },
      "execution_count": 38,
      "outputs": []
    },
    {
      "cell_type": "code",
      "source": [
        "accuracy"
      ],
      "metadata": {
        "colab": {
          "base_uri": "https://localhost:8080/"
        },
        "id": "uew3uFz6EarZ",
        "outputId": "ffbe3683-966b-4e5e-ec9d-40050fad50a3"
      },
      "execution_count": 39,
      "outputs": [
        {
          "output_type": "execute_result",
          "data": {
            "text/plain": [
              "0.8670843314292734"
            ]
          },
          "metadata": {},
          "execution_count": 39
        }
      ]
    },
    {
      "cell_type": "code",
      "source": [],
      "metadata": {
        "id": "6epqxOxVEcI-"
      },
      "execution_count": null,
      "outputs": []
    }
  ]
}