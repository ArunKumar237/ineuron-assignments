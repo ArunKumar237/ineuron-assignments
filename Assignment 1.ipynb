{
 "cells": [
  {
   "cell_type": "markdown",
   "id": "a526a137",
   "metadata": {},
   "source": [
    "Solutions for Python Basic Assignment - 1\n",
    "****************************************"
   ]
  },
  {
   "cell_type": "code",
   "execution_count": null,
   "id": "ac9b8b12",
   "metadata": {},
   "outputs": [],
   "source": [
    "1 Ans: \n",
    "\tStrings >    'hello'\n",
    "\tvalues >    -87.8 , 6\n",
    "\texpressions >   *, -, /, +"
   ]
  },
  {
   "cell_type": "code",
   "execution_count": null,
   "id": "32ff84bd",
   "metadata": {},
   "outputs": [],
   "source": [
    "2 Ans: \n",
    "\tdifference between string and variable:\n",
    "\n",
    "\tString - A String is a set of characters with in double quotes.\n",
    "        In python every user input will be treated as a string unless it is typecasted.\n",
    "\n",
    "\tVariable - A Variable can be considered as a container or data pointer in which the \n",
    "        location of a Data can be stored irrespective of its data type. \n",
    "        A variable can be reused, manipulated."
   ]
  },
  {
   "cell_type": "code",
   "execution_count": null,
   "id": "09d16d3f",
   "metadata": {},
   "outputs": [],
   "source": [
    "3 Ans: \n",
    "    3 Different types of Data: \n",
    "\t1. Numeric - In this Data type, Data will be in the form of integers, float and complex numbers\n",
    "\t2.Sequence - In this Data type, Data will be in the form of strings, list and tuple\n",
    "\t3.Boolean - In this Data type, Data will be in the form of True(1) and False(0)"
   ]
  },
  {
   "cell_type": "code",
   "execution_count": null,
   "id": "265c5efc",
   "metadata": {},
   "outputs": [],
   "source": [
    "4 Ans:\n",
    "\tAn expression is a combination of variables, operators, values and function \n",
    "    which can be written as a statement in programming. \n",
    "    An expression used to evaluate and produce a value as a result."
   ]
  },
  {
   "cell_type": "code",
   "execution_count": null,
   "id": "a52b2041",
   "metadata": {},
   "outputs": [],
   "source": [
    "5 Ans:\n",
    "\t-An expression is made up of variables, operators, values and function to \n",
    "        carryout an evaluation and produce or return a result as a value.\n",
    "\t-A statement is a smallest executable unit of code. \n",
    "        An expression can be called as a statment when minimum required combination \n",
    "        of variables, operators, values and function is used."
   ]
  },
  {
   "cell_type": "code",
   "execution_count": null,
   "id": "efe898a6",
   "metadata": {},
   "outputs": [],
   "source": [
    "6 Ans:\n",
    "    > bacon = 22\n",
    "    > bacon + 1\n",
    "\to/p> value of bacon will be 23"
   ]
  },
  {
   "cell_type": "code",
   "execution_count": null,
   "id": "b0d9f595",
   "metadata": {},
   "outputs": [],
   "source": [
    "7 Ans:\n",
    "\tthe values of the following two terms will be:\n",
    "\n",
    "\t> 'spam'+'spamspam'\n",
    "     o/p> spamspamspam\n",
    "        \n",
    "\t> 'spam' * 3\n",
    "     o/p> spamspamspam"
   ]
  },
  {
   "cell_type": "code",
   "execution_count": null,
   "id": "31145cb0",
   "metadata": {},
   "outputs": [],
   "source": [
    "8 Ans:\n",
    "\tWhy is eggs a valid variable name while 100 is invalid - \n",
    "    Because thats a rule in python programming that a variable name should not be started \n",
    "    with numerical symbols or alphanumeric charaters except (. and _)"
   ]
  },
  {
   "cell_type": "code",
   "execution_count": null,
   "id": "1eec247f",
   "metadata": {},
   "outputs": [],
   "source": [
    "9 Ans:\n",
    "\tint(), float() and str() are the three functions can be used to get the integer, floating-point number, or string\n",
    "    version of a value. This process is called typecasting."
   ]
  },
  {
   "cell_type": "code",
   "execution_count": null,
   "id": "ebee16df",
   "metadata": {},
   "outputs": [],
   "source": [
    "10 Ans:\n",
    "    'I have eaten ' + 99 + ' burritos.' \n",
    "\tThis expression will cause an error because in python we cannot concatinate(join)\n",
    "    integer with string. If concatinating integer is important then it can be done by typecasting."
   ]
  }
 ],
 "metadata": {
  "kernelspec": {
   "display_name": "Python 3",
   "language": "python",
   "name": "python3"
  },
  "language_info": {
   "codemirror_mode": {
    "name": "ipython",
    "version": 3
   },
   "file_extension": ".py",
   "mimetype": "text/x-python",
   "name": "python",
   "nbconvert_exporter": "python",
   "pygments_lexer": "ipython3",
   "version": "3.8.8"
  }
 },
 "nbformat": 4,
 "nbformat_minor": 5
}
