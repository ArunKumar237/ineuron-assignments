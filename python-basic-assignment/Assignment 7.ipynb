{
 "cells": [
  {
   "cell_type": "markdown",
   "id": "91e05b3e",
   "metadata": {},
   "source": [
    "Solutions for Python Basic Assignment - 7\n",
    "****************************************"
   ]
  },
  {
   "cell_type": "code",
   "execution_count": null,
   "id": "a5ccf4de",
   "metadata": {},
   "outputs": [],
   "source": [
    "1. re.compile() - Regular expressions are compiled into pattern objects, which have methods for various operations \n",
    "                    such as searching for pattern matches or performing string substitutions. "
   ]
  },
  {
   "cell_type": "code",
   "execution_count": null,
   "id": "8a7940b8",
   "metadata": {},
   "outputs": [],
   "source": [
    "2.  The raw string is slightly different from a regular string, it won’t interpret the \\ character as an escape character.\n",
    "    This is because the regular expression engine uses \\ character for its own escaping purpose."
   ]
  },
  {
   "cell_type": "code",
   "execution_count": null,
   "id": "0972ee33",
   "metadata": {},
   "outputs": [],
   "source": [
    "3. search - Returns a Match object if there is a match anywhere in the string"
   ]
  },
  {
   "cell_type": "code",
   "execution_count": null,
   "id": "bbf8df38",
   "metadata": {},
   "outputs": [],
   "source": [
    "4.  search() method searches the string it is passed for any matches to the regex.\n",
    "    The search() method will return None if the regex pattern is not found in the string.\n",
    "    If the pattern is found, the search() method returns a Match object, \n",
    "    which have a group() method that will return the actual matched text from the searched string."
   ]
  },
  {
   "cell_type": "code",
   "execution_count": null,
   "id": "38869d51",
   "metadata": {},
   "outputs": [],
   "source": [
    "5.  Group 0 covers - entire matched string.\n",
    "    Group 1 covers - first set of paranthesis\n",
    "    Group 2 covers - second set of paranthesis"
   ]
  },
  {
   "cell_type": "code",
   "execution_count": null,
   "id": "76d4bcb7",
   "metadata": {},
   "outputs": [],
   "source": [
    "6.  need to escape them with a backslash (\\)\n",
    "    If you want to detect these characters as part of your text pattern."
   ]
  },
  {
   "cell_type": "code",
   "execution_count": null,
   "id": "820727fe",
   "metadata": {},
   "outputs": [],
   "source": [
    "7.  The findall() function returns a list containing with all matches."
   ]
  },
  {
   "cell_type": "code",
   "execution_count": null,
   "id": "9a46995d",
   "metadata": {},
   "outputs": [],
   "source": [
    "8.  | refers to 'OR' which Sets each bit to 1 if one of two bits is 1"
   ]
  },
  {
   "cell_type": "code",
   "execution_count": null,
   "id": "6ebbe529",
   "metadata": {},
   "outputs": [],
   "source": [
    "9.  Each character in a regular expression (that is, each character in the string describing its pattern)\n",
    "    is either a metacharacter, having a special meaning, or a regular character that has a literal meaning.\n",
    "    For example, in the regex b."
   ]
  },
  {
   "cell_type": "code",
   "execution_count": null,
   "id": "f96bffa6",
   "metadata": {},
   "outputs": [],
   "source": [
    "10. * means zero-or-more, and + means one-or-more."
   ]
  },
  {
   "cell_type": "code",
   "execution_count": null,
   "id": "7f811861",
   "metadata": {},
   "outputs": [],
   "source": [
    "11. {4} - Indicate the number of occurrences of a preceding regex to match as 4 times.\n",
    "    {4,5} - Indiacates it can match four or five instances of match in the string."
   ]
  },
  {
   "cell_type": "code",
   "execution_count": null,
   "id": "97312921",
   "metadata": {},
   "outputs": [],
   "source": [
    "12. \\d - Returns a match where the string contains digits (numbers from 0-9).\n",
    "    \\w - Returns a match where the string contains any word characters\n",
    "         (characters from a to Z, digits from 0-9, and the underscore _ character).\n",
    "    \\s - Returns a match where the string contains a white space character."
   ]
  },
  {
   "cell_type": "code",
   "execution_count": null,
   "id": "023154c6",
   "metadata": {},
   "outputs": [],
   "source": [
    "13. \\D - Returns a match where the string DOES NOT contain digits.\n",
    "    \\W - Returns a match where the string DOES NOT contain any word characters.\n",
    "    \\S - Returns a match where the string DOES NOT contain a white space character."
   ]
  },
  {
   "cell_type": "code",
   "execution_count": null,
   "id": "8216e708",
   "metadata": {},
   "outputs": [],
   "source": [
    "14. The .* performs a greedy match, and the .*? performs a non-greedy match."
   ]
  },
  {
   "cell_type": "code",
   "execution_count": null,
   "id": "4bf52af9",
   "metadata": {},
   "outputs": [],
   "source": [
    "15. syntax for matching both numbers and lowercase letters with a character class is [a-z0-9]"
   ]
  },
  {
   "cell_type": "code",
   "execution_count": null,
   "id": "82485d74",
   "metadata": {},
   "outputs": [],
   "source": [
    "16. To make your regex case insensitive, you can pass re.IGNORECASE or re.I as a second argument to re.compile()\n",
    "        \n",
    "            syntax: variable = re.compile(r'robocop', re.I)"
   ]
  },
  {
   "cell_type": "code",
   "execution_count": null,
   "id": "dc9b26e1",
   "metadata": {},
   "outputs": [],
   "source": [
    "17. '.' character normally match any character except newline character.\n",
    "    're.DOTALL' or 're.S' used to match any character including newline character."
   ]
  },
  {
   "cell_type": "code",
   "execution_count": null,
   "id": "407f6159",
   "metadata": {},
   "outputs": [],
   "source": [
    "18. The sub() call will return the string 'X drummers, X pipers, five rings, X hens'."
   ]
  },
  {
   "cell_type": "code",
   "execution_count": null,
   "id": "d61daae3",
   "metadata": {},
   "outputs": [],
   "source": [
    "19. To ignore whitespace and comments inside the regular expression string re.VERBOSE is used"
   ]
  },
  {
   "cell_type": "code",
   "execution_count": null,
   "id": "3562f56f",
   "metadata": {},
   "outputs": [],
   "source": [
    "20. re.compile(r'^\\d{1,3}(,\\d{3})*$')"
   ]
  },
  {
   "cell_type": "code",
   "execution_count": null,
   "id": "d3be4218",
   "metadata": {},
   "outputs": [],
   "source": [
    "21. re.compile(r'[A-Z][a-z]*\\sWatanabe')"
   ]
  },
  {
   "cell_type": "code",
   "execution_count": null,
   "id": "61ff9786",
   "metadata": {},
   "outputs": [],
   "source": [
    "22. re.compile(r'(Alice|Bob|Carol)\\s(eats|pets|throws)\\s(apples|cats |baseballs)\\.', re.IGNORECASE)"
   ]
  }
 ],
 "metadata": {
  "kernelspec": {
   "display_name": "Python 3",
   "language": "python",
   "name": "python3"
  },
  "language_info": {
   "codemirror_mode": {
    "name": "ipython",
    "version": 3
   },
   "file_extension": ".py",
   "mimetype": "text/x-python",
   "name": "python",
   "nbconvert_exporter": "python",
   "pygments_lexer": "ipython3",
   "version": "3.8.8"
  }
 },
 "nbformat": 4,
 "nbformat_minor": 5
}
