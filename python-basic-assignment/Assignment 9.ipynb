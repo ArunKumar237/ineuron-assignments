{
 "cells": [
  {
   "cell_type": "markdown",
   "id": "95e43369",
   "metadata": {},
   "source": [
    "Solutions for Python Basic Assignment - 9\n",
    "*****************************************"
   ]
  },
  {
   "cell_type": "code",
   "execution_count": null,
   "id": "334836c8",
   "metadata": {},
   "outputs": [],
   "source": [
    "1. To what does a relative path refer?\n",
    "\n",
    "Ans:\n",
    "    Relative path refers to the current working directory."
   ]
  },
  {
   "cell_type": "code",
   "execution_count": null,
   "id": "ae00bafb",
   "metadata": {},
   "outputs": [],
   "source": [
    "2. What does an absolute path start with your operating system?\n",
    "\n",
    "Ans:\n",
    "    \"C:\\\" in windows operating system.\n",
    "    \"/\" in Linux operating system."
   ]
  },
  {
   "cell_type": "code",
   "execution_count": null,
   "id": "e5d33a77",
   "metadata": {},
   "outputs": [],
   "source": [
    "3. What do the functions os.getcwd() and os.chdir() do?\n",
    "\n",
    "Ans:\n",
    "    os.getcwd() -  reponsible for getting the path of current working directory.\n",
    "    os.chdir() - responsible for changing the path from current working directory to other directory."
   ]
  },
  {
   "cell_type": "code",
   "execution_count": null,
   "id": "ef5f4f1c",
   "metadata": {},
   "outputs": [],
   "source": [
    "4. What are the . and .. folders?\n",
    "\n",
    "Ans:\n",
    "    Both are comes under relative path.\n",
    "    '.' refers to present working directory i.e current directory's relative path.\n",
    "    '..' refers to parent directory(folder) of relative path."
   ]
  },
  {
   "cell_type": "code",
   "execution_count": null,
   "id": "c0124351",
   "metadata": {},
   "outputs": [],
   "source": [
    "5. In C:\\bacon\\eggs\\spam.txt, which part is the dir name, and which part is the base name?\n",
    "\n",
    "Ans:\n",
    "    'C:\\bacon\\eggs' - is the dir name.\n",
    "    'spam.txt' - is the base name."
   ]
  },
  {
   "cell_type": "code",
   "execution_count": null,
   "id": "b892fd2a",
   "metadata": {},
   "outputs": [],
   "source": [
    "6. What are the three “mode” arguments that can be passed to the open() function?\n",
    "\n",
    "Ans:\n",
    "    'r' for read mode, 'w' for write mode, and 'a' for append mode. \n",
    "        these are the three \"mode\" arguments that can be passed to open() function."
   ]
  },
  {
   "cell_type": "code",
   "execution_count": null,
   "id": "09151412",
   "metadata": {},
   "outputs": [],
   "source": [
    "7. What happens if an existing file is opened in write mode?\n",
    "\n",
    "Ans:\n",
    "    An existing file opened in write mode will get erased and completely overwritten."
   ]
  },
  {
   "cell_type": "code",
   "execution_count": null,
   "id": "1fcc53a5",
   "metadata": {},
   "outputs": [],
   "source": [
    "8. How do you tell the difference between read() and readlines()?\n",
    "\n",
    "Ans:\n",
    "    read() - used to read the contents of the file and return it in a single line string.\n",
    "    readlines() - used to read the contents of the file and return it in a line after line manner as it is in original file."
   ]
  },
  {
   "cell_type": "code",
   "execution_count": null,
   "id": "1e6dc923",
   "metadata": {},
   "outputs": [],
   "source": [
    "9. What data structure does a shelf value resemble?\n",
    "\n",
    "Ans:\n",
    "    It resembles as a dictionary data type value."
   ]
  }
 ],
 "metadata": {
  "kernelspec": {
   "display_name": "Python 3",
   "language": "python",
   "name": "python3"
  },
  "language_info": {
   "codemirror_mode": {
    "name": "ipython",
    "version": 3
   },
   "file_extension": ".py",
   "mimetype": "text/x-python",
   "name": "python",
   "nbconvert_exporter": "python",
   "pygments_lexer": "ipython3",
   "version": "3.8.8"
  }
 },
 "nbformat": 4,
 "nbformat_minor": 5
}
