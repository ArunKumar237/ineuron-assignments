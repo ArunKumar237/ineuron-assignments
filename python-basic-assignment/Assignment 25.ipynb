{
 "cells": [
  {
   "cell_type": "markdown",
   "id": "fb240d9a",
   "metadata": {},
   "source": [
    "Solutions for Python Basic Assignment - 25\n",
    "******************************************"
   ]
  },
  {
   "cell_type": "markdown",
   "id": "2387ab11",
   "metadata": {},
   "source": [
    "    Q. What is the difference between enclosing a list comprehension in square brackets and parentheses?"
   ]
  },
  {
   "cell_type": "markdown",
   "id": "e386ace8",
   "metadata": {},
   "source": [
    "> List Comprehension with square brackets produces list.\n",
    "\n",
    "> List Comprehension with parentheses creates generators"
   ]
  },
  {
   "cell_type": "markdown",
   "id": "82cb47b9",
   "metadata": {},
   "source": [
    "****"
   ]
  },
  {
   "cell_type": "markdown",
   "id": "37f1b9c9",
   "metadata": {},
   "source": [
    "    Q. What is the relationship between generators and iterators?"
   ]
  },
  {
   "cell_type": "markdown",
   "id": "0710e4af",
   "metadata": {},
   "source": [
    "> An iterator is an object which contains a countable number of values and it is used to iterate over iterable objects like \n",
    "  list, tuples etc Using an iterator- iter() keyword is used to create an iterator containing an iterable object. next() \n",
    "  keyword is used to call the next element in the iterable object.\n",
    "\n",
    "> Generator It is another way of creating iterators in a simple way where it uses the keyword “yield” instead of returning it in \n",
    "  a defined function Generators are implemented using a function Here, the yield function returns the data without affecting or \n",
    "  exiting the function. It will return a sequence of data in an iterable format where we need to iterate over the sequence to \n",
    "  use the data as they won’t store the entire sequence in the memory By using next() function we can iterate the output of \n",
    "  generator function"
   ]
  },
  {
   "cell_type": "code",
   "execution_count": 7,
   "id": "2e2451b2",
   "metadata": {},
   "outputs": [
    {
     "name": "stdout",
     "output_type": "stream",
     "text": [
      "Dog\n",
      "CAt\n",
      "Bear\n"
     ]
    }
   ],
   "source": [
    "# iterator\n",
    "iter_list = iter(['Dog', 'CAt', 'Bear'])\n",
    "print(next(iter_list))\n",
    "print(next(iter_list))\n",
    "print(next(iter_list))"
   ]
  },
  {
   "cell_type": "code",
   "execution_count": 8,
   "id": "c098e789",
   "metadata": {},
   "outputs": [],
   "source": [
    "# Generator \n",
    "\n",
    "def sq(n):\n",
    "    for i in range(1, n+1):\n",
    "        yield i*i"
   ]
  },
  {
   "cell_type": "code",
   "execution_count": 9,
   "id": "5c19ade8",
   "metadata": {},
   "outputs": [
    {
     "data": {
      "text/plain": [
       "<generator object sq at 0x00000141CB5B15F0>"
      ]
     },
     "execution_count": 9,
     "metadata": {},
     "output_type": "execute_result"
    }
   ],
   "source": [
    "sq(6)"
   ]
  },
  {
   "cell_type": "code",
   "execution_count": 10,
   "id": "a1844251",
   "metadata": {},
   "outputs": [
    {
     "data": {
      "text/plain": [
       "<generator object sq at 0x00000141CB5B1900>"
      ]
     },
     "execution_count": 10,
     "metadata": {},
     "output_type": "execute_result"
    }
   ],
   "source": [
    "lst = sq(6)\n",
    "lst"
   ]
  },
  {
   "cell_type": "code",
   "execution_count": 11,
   "id": "1735f2f8",
   "metadata": {},
   "outputs": [
    {
     "name": "stdout",
     "output_type": "stream",
     "text": [
      "1\n",
      "4\n",
      "9\n",
      "16\n"
     ]
    }
   ],
   "source": [
    "print(next(lst))\n",
    "print(next(lst))\n",
    "print(next(lst))\n",
    "print(next(lst))"
   ]
  },
  {
   "cell_type": "markdown",
   "id": "0dfaf6d6",
   "metadata": {},
   "source": [
    "****"
   ]
  },
  {
   "cell_type": "markdown",
   "id": "72be669e",
   "metadata": {},
   "source": [
    "    Q. What are the signs that a function is a generator function?"
   ]
  },
  {
   "cell_type": "markdown",
   "id": "e182573a",
   "metadata": {},
   "source": [
    "> If a function contains at least one yield statement (it may contain other yield or return statements), it becomes a generator function. Both yield and return will return some value from a function."
   ]
  },
  {
   "cell_type": "markdown",
   "id": "7fd09328",
   "metadata": {},
   "source": [
    "****"
   ]
  },
  {
   "cell_type": "markdown",
   "id": "99a536b8",
   "metadata": {},
   "source": [
    "    Q. What is the purpose of a yield statement?"
   ]
  },
  {
   "cell_type": "markdown",
   "id": "8245f305",
   "metadata": {},
   "source": [
    "> A yield statement looks much like a return statement, except that instead of stopping execution of the function and returning, yield instead provides a value to the code looping over the generator and pauses execution of the generator function"
   ]
  },
  {
   "cell_type": "markdown",
   "id": "ecf05487",
   "metadata": {},
   "source": [
    "****"
   ]
  },
  {
   "cell_type": "markdown",
   "id": "b97579be",
   "metadata": {},
   "source": [
    "    Q. What is the relationship between map calls and list comprehensions? Make a comparison and contrast between the two."
   ]
  },
  {
   "cell_type": "markdown",
   "id": "664c2a26",
   "metadata": {},
   "source": [
    "> Map function: Suppose we have a function and we want to compute this function for different values in a single line of code . This is where map() function plays its role. map() function returns a map object(which is an iterator) of the results after applying the given function to each item of a given iterable (list, tuple etc.)\n",
    "\n",
    "> If we already have a function defined, it is often good to use map For example, map(sum, myLists) is more neat than [sum(x) for x in myLists]. You gain the elegance of not having to make up a dummy variable (e.g. sum(x) for x... or sum() for ... or sum(readableName) for readableName...) which you have to type twice, just to iterate.\n",
    "\n",
    "> List Comprehension: List Comprehension is a substitute for the lambda function, map(), filter() and reduce()"
   ]
  },
  {
   "cell_type": "markdown",
   "id": "27f218ea",
   "metadata": {},
   "source": [
    ">comparision:\n",
    "    \n",
    "    1.List comprehension is more concise and easier to read as compared to map\n",
    "    2.List comprehension allows filtering. In map, we have no such facility For example, to print all even numbers in \n",
    "        range of 100, we can write [n for n in range(100) if n%2 == 0]. There is no alternate for it in map\n",
    "    3.List comprehension are used when a list of results is required, where as map only returns a map object and does not \n",
    "        return any list.\n",
    "    4.List comprehension is faster than map when we need to evaluate expressions that are too long or complicated to express\n",
    "    5.Map is faster in case of calling an already defined function (as no lambda is required)"
   ]
  }
 ],
 "metadata": {
  "kernelspec": {
   "display_name": "Python 3",
   "language": "python",
   "name": "python3"
  },
  "language_info": {
   "codemirror_mode": {
    "name": "ipython",
    "version": 3
   },
   "file_extension": ".py",
   "mimetype": "text/x-python",
   "name": "python",
   "nbconvert_exporter": "python",
   "pygments_lexer": "ipython3",
   "version": "3.8.8"
  }
 },
 "nbformat": 4,
 "nbformat_minor": 5
}
