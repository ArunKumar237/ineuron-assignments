{
 "cells": [
  {
   "cell_type": "markdown",
   "id": "fb240d9a",
   "metadata": {},
   "source": [
    "Solutions for Python Basic Assignment - 21\n",
    "******************************************"
   ]
  },
  {
   "cell_type": "markdown",
   "id": "2387ab11",
   "metadata": {},
   "source": [
    "    Q. Add the current date to the text file today.txt as a string.\n"
   ]
  },
  {
   "cell_type": "code",
   "execution_count": 10,
   "id": "0dada860",
   "metadata": {},
   "outputs": [],
   "source": [
    "from datetime import date\n",
    "\n",
    "f = open('today.txt','w')\n",
    "f.write(str(date.today()))\n",
    "f.close()\n",
    "\n"
   ]
  },
  {
   "cell_type": "markdown",
   "id": "82cb47b9",
   "metadata": {},
   "source": [
    "****"
   ]
  },
  {
   "cell_type": "markdown",
   "id": "37f1b9c9",
   "metadata": {},
   "source": [
    "    Q. Read the text file today.txt into the string today_string"
   ]
  },
  {
   "cell_type": "code",
   "execution_count": 14,
   "id": "82fa9c66",
   "metadata": {},
   "outputs": [],
   "source": [
    "f = open('today.txt','r')\n",
    "today_string = f.read()\n",
    "f.close()"
   ]
  },
  {
   "cell_type": "markdown",
   "id": "0dfaf6d6",
   "metadata": {},
   "source": [
    "****"
   ]
  },
  {
   "cell_type": "markdown",
   "id": "72be669e",
   "metadata": {},
   "source": [
    "    Q. Parse the date from today_string."
   ]
  },
  {
   "cell_type": "code",
   "execution_count": 18,
   "id": "dbb7aeb7",
   "metadata": {},
   "outputs": [
    {
     "name": "stdout",
     "output_type": "stream",
     "text": [
      "2022-01-29\n"
     ]
    }
   ],
   "source": [
    "f = open('today.txt','r')\n",
    "today_string = f.read()\n",
    "print(today_string)\n",
    "f.close()"
   ]
  },
  {
   "cell_type": "markdown",
   "id": "7fd09328",
   "metadata": {},
   "source": [
    "****"
   ]
  },
  {
   "cell_type": "markdown",
   "id": "99a536b8",
   "metadata": {},
   "source": [
    "    Q. List the files in your current directory"
   ]
  },
  {
   "cell_type": "code",
   "execution_count": 19,
   "id": "9538d4e5",
   "metadata": {},
   "outputs": [
    {
     "data": {
      "text/plain": [
       "['.ipynb_checkpoints',\n",
       " 'Assignment 21.ipynb',\n",
       " 'books.csv',\n",
       " 'books.db',\n",
       " 'Custom Office Templates',\n",
       " 'desktop.ini',\n",
       " 'My Music',\n",
       " 'My Pictures',\n",
       " 'My Videos',\n",
       " 'practice.ipynb',\n",
       " 'Python',\n",
       " 'Screenshot.png',\n",
       " 'test.txt',\n",
       " 'today.txt',\n",
       " 'Zoom',\n",
       " '__pycache__']"
      ]
     },
     "execution_count": 19,
     "metadata": {},
     "output_type": "execute_result"
    }
   ],
   "source": [
    "from pathlib import Path\n",
    "import os \n",
    "os.listdir(Path.cwd())"
   ]
  },
  {
   "cell_type": "markdown",
   "id": "ecf05487",
   "metadata": {},
   "source": [
    "****"
   ]
  },
  {
   "cell_type": "markdown",
   "id": "b97579be",
   "metadata": {},
   "source": [
    "    Q. Create a list of all of the files in your parent directory (minimum five files should be available)."
   ]
  },
  {
   "cell_type": "code",
   "execution_count": 20,
   "id": "8758ddf6",
   "metadata": {},
   "outputs": [
    {
     "data": {
      "text/plain": [
       "['-1.14-windows.xml',\n",
       " '.android',\n",
       " '.conda',\n",
       " '.condarc',\n",
       " '.continuum',\n",
       " '.ipynb_checkpoints',\n",
       " '.ipython',\n",
       " '.jupyter',\n",
       " '.Origin',\n",
       " '.QtWebEngineProcess',\n",
       " '.vscode',\n",
       " '3D Objects',\n",
       " 'anaconda3',\n",
       " 'AppData',\n",
       " 'Application Data',\n",
       " 'Contacts',\n",
       " 'Cookies',\n",
       " 'Desktop',\n",
       " 'Documents',\n",
       " 'Downloads',\n",
       " 'Favorites',\n",
       " 'Links',\n",
       " 'Local Settings',\n",
       " 'Music',\n",
       " 'My Documents',\n",
       " 'NetHood',\n",
       " 'NTUSER.DAT',\n",
       " 'ntuser.dat.LOG1',\n",
       " 'ntuser.dat.LOG2',\n",
       " 'NTUSER.DAT{53b39e88-18c4-11ea-a811-000d3aa4692b}.TM.blf',\n",
       " 'NTUSER.DAT{53b39e88-18c4-11ea-a811-000d3aa4692b}.TMContainer00000000000000000001.regtrans-ms',\n",
       " 'NTUSER.DAT{53b39e88-18c4-11ea-a811-000d3aa4692b}.TMContainer00000000000000000002.regtrans-ms',\n",
       " 'ntuser.ini',\n",
       " 'OneDrive',\n",
       " 'Pictures',\n",
       " 'PrintHood',\n",
       " 'Recent',\n",
       " 'Saved Games',\n",
       " 'Searches',\n",
       " 'SendTo',\n",
       " 'Start Menu',\n",
       " 'Templates',\n",
       " 'Videos',\n",
       " '__pycache__']"
      ]
     },
     "execution_count": 20,
     "metadata": {},
     "output_type": "execute_result"
    }
   ],
   "source": [
    "from pathlib import Path\n",
    "import os \n",
    "os.listdir(Path.cwd().parents[0])"
   ]
  },
  {
   "cell_type": "markdown",
   "id": "e5f7050c",
   "metadata": {},
   "source": [
    "****"
   ]
  },
  {
   "cell_type": "markdown",
   "id": "4d97ee2c",
   "metadata": {},
   "source": [
    "    Q. Use multiprocessing to create three separate processes. Make each one wait a random number of seconds between one and five, print the current time, and then exit."
   ]
  },
  {
   "cell_type": "code",
   "execution_count": 36,
   "id": "834f03ed",
   "metadata": {},
   "outputs": [],
   "source": [
    "import multiprocessing\n",
    "\n",
    "def printsec(seconds):\n",
    "    from datetime import datetime\n",
    "    from time import sleep\n",
    "    sleep(seconds)\n",
    "    print('wait', seconds, 'seconds, time is', datetime.utcnow())\n",
    "    \n",
    "if __name__ == '__main__':\n",
    "    import random    \n",
    "    for n in range(3):\n",
    "        seconds = random.random()\n",
    "        proc = multiprocessing.Process(target=printsec, args=(seconds,))\n",
    "        proc.start()"
   ]
  },
  {
   "cell_type": "code",
   "execution_count": 38,
   "id": "a7c3b5e7",
   "metadata": {},
   "outputs": [
    {
     "name": "stdout",
     "output_type": "stream",
     "text": [
      "wait 0.022204390860448342 seconds, time is 2022-01-29 07:27:51.029201\n",
      "wait 0.30417072428724157 seconds, time is 2022-01-29 07:27:51.304779\n",
      "wait 0.6122492678128428 seconds, time is 2022-01-29 07:27:51.601317\n"
     ]
    }
   ],
   "source": [
    "!python abc.py"
   ]
  },
  {
   "cell_type": "markdown",
   "id": "72e7d2a0",
   "metadata": {},
   "source": [
    "****"
   ]
  },
  {
   "cell_type": "markdown",
   "id": "d5e9d51e",
   "metadata": {},
   "source": [
    "    Q. Create a date object of your day of birth."
   ]
  },
  {
   "cell_type": "code",
   "execution_count": 41,
   "id": "370c80e6",
   "metadata": {},
   "outputs": [
    {
     "data": {
      "text/plain": [
       "datetime.date(1997, 1, 27)"
      ]
     },
     "execution_count": 41,
     "metadata": {},
     "output_type": "execute_result"
    }
   ],
   "source": [
    "my_dob = date(1997,1,27)\n",
    "my_dob"
   ]
  },
  {
   "cell_type": "markdown",
   "id": "0fbf2a27",
   "metadata": {},
   "source": [
    "****"
   ]
  },
  {
   "cell_type": "markdown",
   "id": "8bc269c9",
   "metadata": {},
   "source": [
    "    Q. What day of the week was your day of birth?"
   ]
  },
  {
   "cell_type": "code",
   "execution_count": 42,
   "id": "eef77af2",
   "metadata": {},
   "outputs": [
    {
     "data": {
      "text/plain": [
       "0"
      ]
     },
     "execution_count": 42,
     "metadata": {},
     "output_type": "execute_result"
    }
   ],
   "source": [
    "my_dob.weekday()"
   ]
  },
  {
   "cell_type": "markdown",
   "id": "dff40d9f",
   "metadata": {},
   "source": [
    "****"
   ]
  },
  {
   "cell_type": "markdown",
   "id": "50b1acf8",
   "metadata": {},
   "source": [
    "    Q. When will you be (or when were you) 10,000 days old?"
   ]
  },
  {
   "cell_type": "code",
   "execution_count": 43,
   "id": "cd39ec3b",
   "metadata": {},
   "outputs": [
    {
     "data": {
      "text/plain": [
       "datetime.date(2024, 6, 14)"
      ]
     },
     "execution_count": 43,
     "metadata": {},
     "output_type": "execute_result"
    }
   ],
   "source": [
    "from datetime import timedelta\n",
    "day10000 = my_dob + timedelta(days=10000)\n",
    "day10000"
   ]
  },
  {
   "cell_type": "markdown",
   "id": "e341fa6c",
   "metadata": {},
   "source": [
    "****"
   ]
  }
 ],
 "metadata": {
  "kernelspec": {
   "display_name": "Python 3",
   "language": "python",
   "name": "python3"
  },
  "language_info": {
   "codemirror_mode": {
    "name": "ipython",
    "version": 3
   },
   "file_extension": ".py",
   "mimetype": "text/x-python",
   "name": "python",
   "nbconvert_exporter": "python",
   "pygments_lexer": "ipython3",
   "version": "3.8.8"
  }
 },
 "nbformat": 4,
 "nbformat_minor": 5
}
