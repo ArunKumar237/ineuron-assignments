{
 "cells": [
  {
   "cell_type": "markdown",
   "id": "0a3e7551",
   "metadata": {},
   "source": [
    "Solutions for Python Basic Assignment - 3\n",
    "****************************************"
   ]
  },
  {
   "cell_type": "code",
   "execution_count": null,
   "id": "0113b77f",
   "metadata": {},
   "outputs": [],
   "source": [
    "1. A Function is nothing but a section of a code which is written inside a Function for a specific required outcome by taking external inputs as an argument.\n",
    "\tonce a Function is defined with a specific code, then that Function can be called as many times as required without writing the same specific code again and again.\n"
   ]
  },
  {
   "cell_type": "code",
   "execution_count": null,
   "id": "0390dac7",
   "metadata": {},
   "outputs": [],
   "source": [
    "2. The code in a Function run when it is called by its(function) name. The Function is called when the required code is available in a Function to perform a specific task.\n"
   ]
  },
  {
   "cell_type": "code",
   "execution_count": null,
   "id": "2ba32928",
   "metadata": {},
   "outputs": [],
   "source": [
    "3. To create(define) a function 'def' keyword will be used.\n",
    "\n",
    "\tsyntax: def <Function_name>(<parameter1>,<parameter2>,..):\n"
   ]
  },
  {
   "cell_type": "code",
   "execution_count": null,
   "id": "89225b11",
   "metadata": {},
   "outputs": [],
   "source": [
    "4. A Function is a Function itself i.e a code which is defined inside a function by using 'def' keyword with proper syntax.\n",
    "   A Function_Call is nothing but calling a Function to perform a specific task without rewriting the same code which is used in the Function.\n"
   ]
  },
  {
   "cell_type": "code",
   "execution_count": null,
   "id": "d1ea234d",
   "metadata": {},
   "outputs": [],
   "source": [
    "5. In python Global scope is 1 and Local scopes are unlimited.\n"
   ]
  },
  {
   "cell_type": "code",
   "execution_count": null,
   "id": "76a32d74",
   "metadata": {},
   "outputs": [],
   "source": [
    "6. When Function call returns variables in a local scope the duplicate value of that variable will be passed outside the local scope which is called Global scope.\n"
   ]
  },
  {
   "cell_type": "code",
   "execution_count": null,
   "id": "94ac3cd1",
   "metadata": {},
   "outputs": [],
   "source": [
    "7. A return value is nothing but a result value of the function which is obtained by performing various function statements. Yes, it is possible to have a return value in an expression.\n"
   ]
  },
  {
   "cell_type": "code",
   "execution_count": null,
   "id": "db5b6f91",
   "metadata": {},
   "outputs": [],
   "source": [
    "8. If a function does not have a return statement then return value of a call to that function is nothing.\n"
   ]
  },
  {
   "cell_type": "code",
   "execution_count": null,
   "id": "cb2f0b4a",
   "metadata": {},
   "outputs": [],
   "source": [
    "9. by using 'global' keyword.\n"
   ]
  },
  {
   "cell_type": "code",
   "execution_count": null,
   "id": "d7ca53e5",
   "metadata": {},
   "outputs": [],
   "source": [
    "10. Data type of None is 'None' which means zero or null and it is not same as empty string\n"
   ]
  },
  {
   "cell_type": "code",
   "execution_count": null,
   "id": "5f8d32bd",
   "metadata": {},
   "outputs": [],
   "source": [
    "11. Nothing but throws an error 'Module not found'.\n"
   ]
  },
  {
   "cell_type": "code",
   "execution_count": null,
   "id": "58433369",
   "metadata": {},
   "outputs": [],
   "source": [
    "12. spam.bacon() "
   ]
  },
  {
   "cell_type": "code",
   "execution_count": null,
   "id": "2811d755",
   "metadata": {},
   "outputs": [],
   "source": [
    "13. We can use exception handling to save a programme from crashing if it encounters an error.\n"
   ]
  }
 ],
 "metadata": {
  "kernelspec": {
   "display_name": "Python 3",
   "language": "python",
   "name": "python3"
  },
  "language_info": {
   "codemirror_mode": {
    "name": "ipython",
    "version": 3
   },
   "file_extension": ".py",
   "mimetype": "text/x-python",
   "name": "python",
   "nbconvert_exporter": "python",
   "pygments_lexer": "ipython3",
   "version": "3.8.8"
  }
 },
 "nbformat": 4,
 "nbformat_minor": 5
}
