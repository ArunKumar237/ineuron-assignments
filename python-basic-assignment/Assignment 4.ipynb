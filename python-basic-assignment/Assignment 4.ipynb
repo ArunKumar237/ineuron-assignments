{
 "cells": [
  {
   "cell_type": "markdown",
   "id": "d8f6c435",
   "metadata": {},
   "source": [
    "Solutions for Python Basic Assignment - 4\n",
    "****************************************"
   ]
  },
  {
   "cell_type": "raw",
   "id": "7e228753",
   "metadata": {},
   "source": [
    "1. [] are the opening and closing brackets for list data type."
   ]
  },
  {
   "cell_type": "raw",
   "id": "59b22e49",
   "metadata": {},
   "source": [
    "2. spam[2] = 'hello'"
   ]
  },
  {
   "cell_type": "raw",
   "id": "d76807f4",
   "metadata": {},
   "source": [
    "3. spam = ['a','b','c','d']\n",
    "   spam[int(int('3' * 2) / 11)]\n",
    "   \n",
    "\toutput: 'd'"
   ]
  },
  {
   "cell_type": "raw",
   "id": "d2871cab",
   "metadata": {},
   "source": [
    "4. spam[-1]\n",
    "\n",
    "\toutput: 'd'"
   ]
  },
  {
   "cell_type": "raw",
   "id": "9a91f8f2",
   "metadata": {},
   "source": [
    "5. spam[:2]\n",
    "\n",
    "\toutput: ['a', 'b']"
   ]
  },
  {
   "cell_type": "raw",
   "id": "24ae75b3",
   "metadata": {},
   "source": [
    "6. bacon = [3.14, 'cat', 11, 'cat', True]\n",
    "   bacon.index('cat')\n",
    "\n",
    "\toutput: 1"
   ]
  },
  {
   "cell_type": "raw",
   "id": "c3195033",
   "metadata": {},
   "source": [
    "7. bacon.append(99)\n",
    "\n",
    "\toutput: [3.14, 'cat', 11, 'cat', True, 99]"
   ]
  },
  {
   "cell_type": "raw",
   "id": "c983ea80",
   "metadata": {},
   "source": [
    "8. bacon.remove('cat')\n",
    "\n",
    "\toutput: [3.14, 11, 'cat', True, 99]"
   ]
  },
  {
   "cell_type": "raw",
   "id": "5f0eea91",
   "metadata": {},
   "source": [
    "9. list concatenation operator is '+' and list replication operator is '*'."
   ]
  },
  {
   "cell_type": "raw",
   "id": "243abb2a",
   "metadata": {},
   "source": [
    "10. append[] is used to add an element in the highest index available of list.\n",
    "    insert[] is used to insert an elemnet in the list according to the required index of list."
   ]
  },
  {
   "cell_type": "raw",
   "id": "50b40aa2",
   "metadata": {},
   "source": [
    "11. clear() - to delete all elements in the list.\n",
    "    pop() - to delete a specific element by index.\n",
    "    remove() -  to delete a specific element by element."
   ]
  },
  {
   "cell_type": "raw",
   "id": "774f280a",
   "metadata": {},
   "source": [
    "12. list values and string values are identical because both are comes under sequence category. which means both are iterable because we can loop over them."
   ]
  },
  {
   "cell_type": "raw",
   "id": "d4246653",
   "metadata": {},
   "source": [
    "13. Tuples are immutable but Lists are mutable"
   ]
  },
  {
   "cell_type": "raw",
   "id": "7d1e92b5",
   "metadata": {},
   "source": [
    "14. tuplevalue = (42)"
   ]
  },
  {
   "cell_type": "raw",
   "id": "0387f512",
   "metadata": {},
   "source": [
    "15. To get List value's tuple form we use typecasting - tuple(list_name)\n",
    "    To get Tuple  value's list form we use typecasting - list(tuple_name)"
   ]
  },
  {
   "cell_type": "raw",
   "id": "e7b3a855",
   "metadata": {},
   "source": [
    "16. Variables that \"contain\" list values are not necessarily lists themselves. Instead they may also contain other lists."
   ]
  },
  {
   "cell_type": "raw",
   "id": "8d366970",
   "metadata": {},
   "source": [
    "17. copy.copy() - used for copying the list into another variable with different memory location to support \n",
    "                    integrity of list items.\n",
    "    copy.deepcopy() - used for copying the mulit-dimensional(nested) list into another variable with different memory location to support integrity of list items of nested list."
   ]
  },
  {
   "cell_type": "code",
   "execution_count": null,
   "id": "4d99feee",
   "metadata": {},
   "outputs": [],
   "source": []
  }
 ],
 "metadata": {
  "kernelspec": {
   "display_name": "Python 3",
   "language": "python",
   "name": "python3"
  },
  "language_info": {
   "codemirror_mode": {
    "name": "ipython",
    "version": 3
   },
   "file_extension": ".py",
   "mimetype": "text/x-python",
   "name": "python",
   "nbconvert_exporter": "python",
   "pygments_lexer": "ipython3",
   "version": "3.8.8"
  }
 },
 "nbformat": 4,
 "nbformat_minor": 5
}
