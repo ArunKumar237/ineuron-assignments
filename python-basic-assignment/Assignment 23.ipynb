{
 "cells": [
  {
   "cell_type": "markdown",
   "id": "fb240d9a",
   "metadata": {},
   "source": [
    "Solutions for Python Basic Assignment - 23\n",
    "******************************************"
   ]
  },
  {
   "cell_type": "markdown",
   "id": "2387ab11",
   "metadata": {},
   "source": [
    "    Q. What is the result of the code, and why?\n",
    "        >>> def func(a, b=6, c=8):\n",
    "        print(a, b, c)\n",
    "        >>> func(1, 2)"
   ]
  },
  {
   "cell_type": "code",
   "execution_count": 63,
   "id": "0dada860",
   "metadata": {},
   "outputs": [
    {
     "name": "stdout",
     "output_type": "stream",
     "text": [
      "1 2 8\n"
     ]
    }
   ],
   "source": [
    "def func(a, b=6, c=8):\n",
    "    print(a, b, c)\n",
    "\n",
    "func(1, 2)\n",
    "\n",
    "'''\n",
    "value of C is already assigned with a value '8' while defining a function\n",
    "so the output will be '1 2 8'\n",
    "'''"
   ]
  },
  {
   "cell_type": "markdown",
   "id": "82cb47b9",
   "metadata": {},
   "source": [
    "****"
   ]
  },
  {
   "cell_type": "markdown",
   "id": "37f1b9c9",
   "metadata": {},
   "source": [
    "    Q. What is the result of this code, and why?\n",
    "        >>> def func(a, b, c=5):\n",
    "        print(a, b, c)\n",
    "        >>> func(1, c=3, b=2)"
   ]
  },
  {
   "cell_type": "code",
   "execution_count": 64,
   "id": "82fa9c66",
   "metadata": {},
   "outputs": [
    {
     "name": "stdout",
     "output_type": "stream",
     "text": [
      "1 2 3\n"
     ]
    }
   ],
   "source": [
    "def func(a, b, c=5):\n",
    "    print(a, b, c)\n",
    "func(1, c=3, b=2)\n",
    "\n",
    "'''\n",
    "While calling a function we are passing the arguments to the function so these arguments will overwrite the existing values of the defined function\n",
    "so the output will be '1 2 3'\n",
    "'''"
   ]
  },
  {
   "cell_type": "markdown",
   "id": "0dfaf6d6",
   "metadata": {},
   "source": [
    "****"
   ]
  },
  {
   "cell_type": "markdown",
   "id": "72be669e",
   "metadata": {},
   "source": [
    "    Q. How about this code: what is its result, and why?\n",
    "        >>> def func(a, *pargs):\n",
    "        print(a, pargs)\n",
    "        >>> func(1, 2, 3)"
   ]
  },
  {
   "cell_type": "code",
   "execution_count": 68,
   "id": "dbb7aeb7",
   "metadata": {},
   "outputs": [
    {
     "name": "stdout",
     "output_type": "stream",
     "text": [
      "1 (2, 3)\n"
     ]
    }
   ],
   "source": [
    "def func(a, *pargs):\n",
    "    print(a, pargs)\n",
    "func(1, 2, 3)\n",
    "\n",
    "'''\n",
    "Ans.The return type of *args parameter is tuple, where as **kargs will be dictionary\n",
    "solution is = 1 (2,3)\n",
    "'''"
   ]
  },
  {
   "cell_type": "markdown",
   "id": "7fd09328",
   "metadata": {},
   "source": [
    "****"
   ]
  },
  {
   "cell_type": "markdown",
   "id": "99a536b8",
   "metadata": {},
   "source": [
    "    Q. What does this code print, and why?\n",
    "        >>> def func(a, **kargs):\n",
    "        print(a, kargs)\n",
    "        >>> func(a=1, c=3, b=2)"
   ]
  },
  {
   "cell_type": "code",
   "execution_count": 70,
   "id": "9538d4e5",
   "metadata": {},
   "outputs": [
    {
     "name": "stdout",
     "output_type": "stream",
     "text": [
      "1 {'c': 3, 'b': 2}\n"
     ]
    }
   ],
   "source": [
    "def func(a, **kargs):\n",
    "    print(a, kargs)\n",
    "func(a=1, c=3, b=2)\n",
    "\n",
    "'''\n",
    "Ans.The return type of *args parameter is tuple, where as **kargs will be dictionary\n",
    "solution is = 1 {'c': 3, 'b': 2}\n",
    "'''"
   ]
  },
  {
   "cell_type": "markdown",
   "id": "ecf05487",
   "metadata": {},
   "source": [
    "****"
   ]
  },
  {
   "cell_type": "markdown",
   "id": "b97579be",
   "metadata": {},
   "source": [
    "    Q. What gets printed by this, and explain?\n",
    "        >>> def func(a, b, c=8, d=5): print(a, b, c, d)\n",
    "        >>> func(1, *(5, 6))"
   ]
  },
  {
   "cell_type": "code",
   "execution_count": 74,
   "id": "8758ddf6",
   "metadata": {},
   "outputs": [
    {
     "name": "stdout",
     "output_type": "stream",
     "text": [
      "1 5 6 5\n"
     ]
    }
   ],
   "source": [
    "def func(a, b, c=8, d=5): \n",
    "    print(a, b, c, d)\n",
    "func(1, *(5, 6))\n",
    "\n",
    "'''\n",
    "'*' is the unpacking operator and are operators that unpack the values from iterable objects in Python. The single \n",
    "asterisk operator * can be used on any iterable that Python provides, while the double asterisk operator ** can only \n",
    "be used on dictionaries. In the example the value *(5,6) will be unpacked and will be assigned to b and c and passed \n",
    "as arguments, d =5 will taken by defaults are keyword arguments.\n",
    "\n",
    "Solution 1,5,6,5\n",
    "'''"
   ]
  },
  {
   "cell_type": "markdown",
   "id": "e5f7050c",
   "metadata": {},
   "source": [
    "****"
   ]
  },
  {
   "cell_type": "markdown",
   "id": "4d97ee2c",
   "metadata": {},
   "source": [
    "    Q. what is the result of this, and explain?\n",
    "        >>> def func(a, b, c): a = 2; b[0] = 'x'; c['a'] = 'y'\n",
    "        >>> l=1; m=[1]; n={'a':0}\n",
    "        >>> func(l, m, n)\n",
    "        >>> l, m, n"
   ]
  },
  {
   "cell_type": "code",
   "execution_count": 77,
   "id": "834f03ed",
   "metadata": {},
   "outputs": [
    {
     "data": {
      "text/plain": [
       "(1, ['x'], {'a': 'y'})"
      ]
     },
     "execution_count": 77,
     "metadata": {},
     "output_type": "execute_result"
    }
   ],
   "source": [
    "def func(a, b, c): \n",
    "    a = 2\n",
    "    b[0] = 'x'\n",
    "    c['a'] = 'y'\n",
    "\n",
    "l=1; m=[1]; n={'a':0}\n",
    "func(l, m, n)\n",
    "l, m, n\n",
    "\n",
    "'''\n",
    "Ans. Here in the code, the list and dict are passed as argument, and those are mutable. Here the list l and parameter b point \n",
    "to the same list in the memory location where as dict n and c point to the same memory location. Any updates to this \n",
    "list will update in the memory location\n",
    "\n",
    "l = 1 , integer values, immutable, m is list, mutable, n is dict, mutable.\n",
    "output will be = 1,['x'],{'a':'y'}\n",
    "\n",
    "'''"
   ]
  }
 ],
 "metadata": {
  "kernelspec": {
   "display_name": "Python 3",
   "language": "python",
   "name": "python3"
  },
  "language_info": {
   "codemirror_mode": {
    "name": "ipython",
    "version": 3
   },
   "file_extension": ".py",
   "mimetype": "text/x-python",
   "name": "python",
   "nbconvert_exporter": "python",
   "pygments_lexer": "ipython3",
   "version": "3.8.8"
  }
 },
 "nbformat": 4,
 "nbformat_minor": 5
}
