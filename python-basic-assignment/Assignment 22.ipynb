{
 "cells": [
  {
   "cell_type": "markdown",
   "id": "fb240d9a",
   "metadata": {},
   "source": [
    "Solutions for Python Basic Assignment - 22\n",
    "******************************************"
   ]
  },
  {
   "cell_type": "markdown",
   "id": "2387ab11",
   "metadata": {},
   "source": [
    "    Q. What is the result of the code, and explain?\n",
    "        \n",
    "        >>> X = 'iNeuron'\n",
    "        >>> def func():\n",
    "        print(X)\n",
    "\n",
    "\n",
    "        >>> func()\n"
   ]
  },
  {
   "cell_type": "code",
   "execution_count": 45,
   "id": "0dada860",
   "metadata": {},
   "outputs": [
    {
     "name": "stdout",
     "output_type": "stream",
     "text": [
      "iNeuron\n"
     ]
    }
   ],
   "source": [
    "X = 'iNeuron'\n",
    "def func():\n",
    "    print(X)\n",
    "\n",
    "\n",
    "func()\n",
    "\n",
    "'''\n",
    "Ans. The global variables are accessible in side the functions in python. \n",
    "        But we can not access function variable out side function. \n",
    "        Since x is global variable we are able to print it in side the function solution : 'iNeuron'\n",
    "'''"
   ]
  },
  {
   "cell_type": "markdown",
   "id": "82cb47b9",
   "metadata": {},
   "source": [
    "****"
   ]
  },
  {
   "cell_type": "markdown",
   "id": "37f1b9c9",
   "metadata": {},
   "source": [
    "    Q. What is the result of the code, and explain?\n",
    "\n",
    "        >>> X = 'iNeuron'\n",
    "        >>> def func():\n",
    "        X = 'NI!'\n",
    "        \n",
    "        >>> func()\n",
    "        >>> print(X)"
   ]
  },
  {
   "cell_type": "code",
   "execution_count": 49,
   "id": "82fa9c66",
   "metadata": {},
   "outputs": [
    {
     "name": "stdout",
     "output_type": "stream",
     "text": [
      "iNeuron\n"
     ]
    }
   ],
   "source": [
    "X = 'iNeuron'\n",
    "def func():\n",
    "    X = 'NI!'\n",
    "\n",
    "func()\n",
    "print(X)\n",
    "\n",
    "'''\n",
    "Ans.The variables inside the function can only access in side the function in python,\n",
    "    to access variable of function outside of the function we should use OOPS concept.\n",
    "    Since x is golbal variable we are able to print it out side of the function solution = 'iNeuron'\n",
    "'''"
   ]
  },
  {
   "cell_type": "markdown",
   "id": "0dfaf6d6",
   "metadata": {},
   "source": [
    "****"
   ]
  },
  {
   "cell_type": "markdown",
   "id": "72be669e",
   "metadata": {},
   "source": [
    "    Q. What does this code print, and why?\n",
    "\n",
    "        >>> X = 'iNeuron'\n",
    "        >>> def func():\n",
    "        X = 'NI'\n",
    "        print(X)\n",
    "\n",
    "\n",
    "        >>> func()\n",
    "        >>> print(X)"
   ]
  },
  {
   "cell_type": "code",
   "execution_count": 50,
   "id": "dbb7aeb7",
   "metadata": {},
   "outputs": [
    {
     "name": "stdout",
     "output_type": "stream",
     "text": [
      "NI\n",
      "iNeuron\n"
     ]
    }
   ],
   "source": [
    "X = 'iNeuron'\n",
    "def func():\n",
    "    X = 'NI'\n",
    "    print(X)\n",
    "\n",
    "func()\n",
    "print(X)\n",
    "\n",
    "'''\n",
    "Even though variable names are same python consider global variables and local variables seperately that's why it prints both\n",
    "'''"
   ]
  },
  {
   "cell_type": "markdown",
   "id": "7fd09328",
   "metadata": {},
   "source": [
    "****"
   ]
  },
  {
   "cell_type": "markdown",
   "id": "99a536b8",
   "metadata": {},
   "source": [
    "    Q. What output does this code produce? Why?\n",
    "\n",
    "        >>> X = 'iNeuron'\n",
    "        >>> def func():\n",
    "        global X\n",
    "        X = 'NI'\n",
    "        \n",
    "        >>> func()\n",
    "        >>> print(X)"
   ]
  },
  {
   "cell_type": "code",
   "execution_count": 53,
   "id": "9538d4e5",
   "metadata": {},
   "outputs": [
    {
     "name": "stdout",
     "output_type": "stream",
     "text": [
      "NI\n"
     ]
    },
    {
     "data": {
      "text/plain": [
       "'\\n\\n'"
      ]
     },
     "execution_count": 53,
     "metadata": {},
     "output_type": "execute_result"
    }
   ],
   "source": [
    "X = 'iNeuron'\n",
    "def func():\n",
    "    global X\n",
    "    X = 'NI'\n",
    "\n",
    "func()\n",
    "print(X)\n",
    "\n",
    "'''\n",
    "Ans. since the X in side function is made Global, it will be accesible out side of the function too. \n",
    "        now X will have new value\n",
    "'''"
   ]
  },
  {
   "cell_type": "markdown",
   "id": "ecf05487",
   "metadata": {},
   "source": [
    "****"
   ]
  },
  {
   "cell_type": "markdown",
   "id": "b97579be",
   "metadata": {},
   "source": [
    "    Q. What about this code—what’s the output, and why?\n",
    "\n",
    "        >>> X = 'iNeuron\n",
    "        >>> def func():\n",
    "        X = 'NI'\n",
    "        def nested():\n",
    "        print(X)\n",
    "        nested()\n",
    "\n",
    "\n",
    "        >>> func()\n",
    "        >>> X"
   ]
  },
  {
   "cell_type": "code",
   "execution_count": 59,
   "id": "8758ddf6",
   "metadata": {},
   "outputs": [
    {
     "name": "stdout",
     "output_type": "stream",
     "text": [
      "NI\n"
     ]
    },
    {
     "data": {
      "text/plain": [
       "'iNeuron'"
      ]
     },
     "execution_count": 59,
     "metadata": {},
     "output_type": "execute_result"
    }
   ],
   "source": [
    "X = 'iNeuron'\n",
    "def func():\n",
    "    X = 'NI'\n",
    "    def nested():\n",
    "        print(X)\n",
    "    nested()\n",
    "\n",
    "func()\n",
    "X\n",
    "\n",
    "'''\n",
    "Ans. As I said a variable inside a function is always a local to that function and this also applicable for its nested functions too\n",
    "'''"
   ]
  },
  {
   "cell_type": "markdown",
   "id": "e5f7050c",
   "metadata": {},
   "source": [
    "****"
   ]
  },
  {
   "cell_type": "markdown",
   "id": "4d97ee2c",
   "metadata": {},
   "source": [
    "    Q. How about this code: what is its output in Python 3, and explain?\n",
    "\n",
    "        >>> def func():\n",
    "        X = 'NI'\n",
    "        def nested():\n",
    "        nonlocal X\n",
    "        X = 'Spam'\n",
    "        nested()\n",
    "        print(X)\n",
    "\n",
    "\n",
    "        >>> func()\n"
   ]
  },
  {
   "cell_type": "code",
   "execution_count": 62,
   "id": "834f03ed",
   "metadata": {},
   "outputs": [
    {
     "name": "stdout",
     "output_type": "stream",
     "text": [
      "Spam\n"
     ]
    }
   ],
   "source": [
    "def func():\n",
    "    X = 'NI'\n",
    "    def nested():\n",
    "        nonlocal X\n",
    "        X = 'Spam'\n",
    "    nested()\n",
    "    print(X)\n",
    "\n",
    "\n",
    "func()\n",
    "\n",
    "'''\n",
    "Nonlocal variables are used in nested functions whose local scope is not defined. \n",
    "This means that the variable can be neither in the local nor the global scope. it print the updated value from nested \n",
    "function\n",
    "\n",
    "Sol : 'spam'\n",
    "'''"
   ]
  }
 ],
 "metadata": {
  "kernelspec": {
   "display_name": "Python 3",
   "language": "python",
   "name": "python3"
  },
  "language_info": {
   "codemirror_mode": {
    "name": "ipython",
    "version": 3
   },
   "file_extension": ".py",
   "mimetype": "text/x-python",
   "name": "python",
   "nbconvert_exporter": "python",
   "pygments_lexer": "ipython3",
   "version": "3.8.8"
  }
 },
 "nbformat": 4,
 "nbformat_minor": 5
}
