{
 "cells": [
  {
   "cell_type": "markdown",
   "id": "95e43369",
   "metadata": {},
   "source": [
    "Solutions for Python Basic Assignment - 10\n",
    "*****************************************"
   ]
  },
  {
   "cell_type": "code",
   "execution_count": null,
   "id": "334836c8",
   "metadata": {},
   "outputs": [],
   "source": [
    "1. How do you distinguish between shutil.copy() and shutil.copytree()?\n",
    "\n",
    "Ans:\n",
    "    The shutil.copy() - This function will copy a single file,\n",
    "    shutil.copytree() - This will copy an entire folder along with all its contents."
   ]
  },
  {
   "cell_type": "code",
   "execution_count": null,
   "id": "ae00bafb",
   "metadata": {},
   "outputs": [],
   "source": [
    "2. What function is used to rename files?\n",
    "\n",
    "Ans:\n",
    "    The shutil.move() function is used for renaming files as well as moving them to other path."
   ]
  },
  {
   "cell_type": "code",
   "execution_count": null,
   "id": "e5d33a77",
   "metadata": {},
   "outputs": [],
   "source": [
    "3. What is the difference between the delete functions in the send2trash and shutil modules?\n",
    "\n",
    "Ans:\n",
    "    shutil module deletes the file/folder permanently while send2trash module with move the file/folder to trash(Recycle Bin)\n",
    "        it acts as a backup, files in recycle bin can be recovered if required."
   ]
  },
  {
   "cell_type": "code",
   "execution_count": null,
   "id": "ef5f4f1c",
   "metadata": {},
   "outputs": [],
   "source": [
    "4. ZipFile objects have a close() method just like File objects’ close() method. What ZipFile method is\n",
    "equivalent to File objects’ open() method?\n",
    "\n",
    "Ans:\n",
    "    zipfile.ZipFile() function is equivalent to the open() function;\n",
    "     the first argument is the filename, and the second argument is the mode to open the ZIP file in (read, write, or append)."
   ]
  },
  {
   "cell_type": "code",
   "execution_count": null,
   "id": "c0124351",
   "metadata": {},
   "outputs": [],
   "source": [
    "5. Create a programme that searches a folder tree for files with a certain file extension (such as .pdf\n",
    "or .jpg). Copy these files from whatever location they are in to a new folder.\n",
    "\n",
    "Ans:\n",
    "    from pathlib import Path\n",
    "    p = Path.home()\n",
    "    shutil.copytree(p / 'Test_folder/Folder_1', p / 'Test_folder/Folder_2') #This creates new folder called 'Folder_2' and copy\n",
    "                                                                            # the contents of 'Folder_1'\n",
    "    "
   ]
  }
 ],
 "metadata": {
  "kernelspec": {
   "display_name": "Python 3",
   "language": "python",
   "name": "python3"
  },
  "language_info": {
   "codemirror_mode": {
    "name": "ipython",
    "version": 3
   },
   "file_extension": ".py",
   "mimetype": "text/x-python",
   "name": "python",
   "nbconvert_exporter": "python",
   "pygments_lexer": "ipython3",
   "version": "3.8.8"
  }
 },
 "nbformat": 4,
 "nbformat_minor": 5
}
