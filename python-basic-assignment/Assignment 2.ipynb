{
 "cells": [
  {
   "cell_type": "markdown",
   "id": "947e9df1",
   "metadata": {},
   "source": [
    "Solutions for Python Basic Assignment - 2\n",
    "****************************************"
   ]
  },
  {
   "cell_type": "code",
   "execution_count": null,
   "id": "0cc191ca",
   "metadata": {},
   "outputs": [],
   "source": [
    "1 Ans:\n",
    "\tBoolean Data type - It is majorly used in decision making, it consists of 2 values\n",
    "                        i.e 0 and 1. The syntactical word for boolean data type is\n",
    "                        True and False first letter should always in capital."
   ]
  },
  {
   "cell_type": "code",
   "execution_count": null,
   "id": "356bd3fd",
   "metadata": {},
   "outputs": [],
   "source": [
    "2 Ans:\n",
    "\tand, or and not are the three different types of Boolean operators."
   ]
  },
  {
   "cell_type": "code",
   "execution_count": null,
   "id": "6cd15d42",
   "metadata": {},
   "outputs": [],
   "source": [
    "3 Ans: TRUTH TABLES\n",
    "\n",
    "\tAND ->\n",
    "            F F | F\n",
    "            F T | F\n",
    "            T F | F\n",
    "            T T | T\n",
    "\n",
    "\tOR ->\n",
    "            F F | F\n",
    "            F T | T\n",
    "            T F | T\n",
    "            T T | T\n",
    "\n",
    "\tNOT ->\n",
    "            T | F\n",
    "            F | T"
   ]
  },
  {
   "cell_type": "code",
   "execution_count": null,
   "id": "cdddcd71",
   "metadata": {},
   "outputs": [],
   "source": [
    "4 Ans:\n",
    "\t(5 > 4) and (3 == 5) -> False\n",
    "\tnot(5 > 4) -> False\n",
    "\t(5 > 4) or (3 == 5) -> True\n",
    "\tnot((5 > 4) or (3 == 5)) -> False\n",
    "\t(True and True) and (True == False) -> False\n",
    "\t(not False) or (not True) -> True"
   ]
  },
  {
   "cell_type": "code",
   "execution_count": null,
   "id": "121f22ef",
   "metadata": {},
   "outputs": [],
   "source": [
    "5 Ans:\n",
    "\tComparision operators are \n",
    "\t\t( == , != , > , >= , < , <= )"
   ]
  },
  {
   "cell_type": "code",
   "execution_count": null,
   "id": "466e95d6",
   "metadata": {},
   "outputs": [],
   "source": [
    "6 Ans: \n",
    "\t-> equal-to is used to check the condition between two operands, \n",
    "\t   equal-to is represented with ( == ) double equal-to.\n",
    "\t\t\t\n",
    "\t\t\t\tcondition: a = 10\n",
    "\t\t\t\t\t   b = 20\n",
    " \n",
    "\t-> Assignment operator is used to assign the value to a variable\n",
    "\t   which is represented as (=) single equal-to.\n",
    "\n",
    "\t\t\t\tcondition: a == b"
   ]
  },
  {
   "cell_type": "code",
   "execution_count": null,
   "id": "55348661",
   "metadata": {},
   "outputs": [],
   "source": [
    "7 Ans: Identifying the three blocks in this code:\n",
    "\n",
    "\t      |\tspam = 0\n",
    "\tblock |\tif spam == 10:\n",
    "\t      |\t  print('eggs')\n",
    "\n",
    "\tblock |\tif spam > 5:\n",
    "\t      |\t  print('bacon')\n",
    "\n",
    "\tblock |\telse:\n",
    "\t      |\t  print('ham')\n",
    "\t      |\t  print('spam')\n",
    "\t      |\t  print('spam')"
   ]
  },
  {
   "cell_type": "code",
   "execution_count": null,
   "id": "b98f195c",
   "metadata": {},
   "outputs": [],
   "source": [
    "8 Ans: Write code that prints Hello if 1 is stored in spam, prints Howdy if 2 is stored in spam, and prints\n",
    "\tGreetings! if anything else is stored in spam.\n",
    "\t\n",
    "\tspam = int(input())\n",
    "\tif spam == 1:\n",
    "\t   print(1)\n",
    "\telif spam == 2:\n",
    "\t   print(2)\n",
    "\telse\n",
    "\t   print('Greetings!')"
   ]
  },
  {
   "cell_type": "code",
   "execution_count": null,
   "id": "8742ff43",
   "metadata": {},
   "outputs": [],
   "source": [
    "9 Ans:\n",
    "\tTo interrupt kernel (Esc+ii) if your programme is stuck in an endless loop."
   ]
  },
  {
   "cell_type": "code",
   "execution_count": null,
   "id": "8e904476",
   "metadata": {},
   "outputs": [],
   "source": [
    "10 Ans:\n",
    "\tTo break the loop we use 'break' keyword\n",
    "\tTo skip the next instructions of current iteration in the loop we use 'continue' keyword\n",
    "\t\t'continue' will not terminate the loop."
   ]
  },
  {
   "cell_type": "code",
   "execution_count": null,
   "id": "98988bd6",
   "metadata": {},
   "outputs": [],
   "source": [
    "11 Ans:\n",
    "\tIn a for loop:\n",
    "\t\trange(10) means iterate from 0 to 10.\n",
    "\t\t\n",
    "\t\trange(0,10) means iterate from 0 to 10. \n",
    "\t\t\tHere the index is specified from where the sequence should start\n",
    "\t\t\n",
    "\t\trange(0,10,1) means iterate form 0 to 10.\n",
    "\t\t\tHere in which direction the sequence should start is specified\n",
    "\t\t\t\t1 - is for forward direction\n",
    "\t\t\t\t-1 - is for backward direction\n",
    "\t\t\t\t2 - for skipping alternate element(index)"
   ]
  },
  {
   "cell_type": "code",
   "execution_count": null,
   "id": "7365368e",
   "metadata": {},
   "outputs": [],
   "source": [
    "12 Ans:\n",
    "\t-> for i in range(1,11):\n",
    "\t\tprint(i)\n",
    "\n",
    "\t-> i=1\n",
    "\t   while(i<=10):\n",
    "\t\tprint(i)\n",
    "\t\ti+=1"
   ]
  },
  {
   "cell_type": "code",
   "execution_count": null,
   "id": "bb9bd7e7",
   "metadata": {},
   "outputs": [],
   "source": [
    "13 Ans:\n",
    "\tspam.bacon()"
   ]
  }
 ],
 "metadata": {
  "kernelspec": {
   "display_name": "Python 3",
   "language": "python",
   "name": "python3"
  },
  "language_info": {
   "codemirror_mode": {
    "name": "ipython",
    "version": 3
   },
   "file_extension": ".py",
   "mimetype": "text/x-python",
   "name": "python",
   "nbconvert_exporter": "python",
   "pygments_lexer": "ipython3",
   "version": "3.8.8"
  }
 },
 "nbformat": 4,
 "nbformat_minor": 5
}
