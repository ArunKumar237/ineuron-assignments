{
 "cells": [
  {
   "cell_type": "markdown",
   "id": "1b1865bf",
   "metadata": {},
   "source": [
    "Solutions for Python Basic Assignment - 5\n",
    "****************************************"
   ]
  },
  {
   "cell_type": "code",
   "execution_count": null,
   "id": "6166a82f",
   "metadata": {},
   "outputs": [],
   "source": [
    "1. dictionary = {}"
   ]
  },
  {
   "cell_type": "code",
   "execution_count": null,
   "id": "e2b66e39",
   "metadata": {},
   "outputs": [],
   "source": [
    "2. {'foo':42}"
   ]
  },
  {
   "cell_type": "code",
   "execution_count": null,
   "id": "ee0ab5c5",
   "metadata": {},
   "outputs": [],
   "source": [
    "3. key and pair"
   ]
  },
  {
   "cell_type": "code",
   "execution_count": null,
   "id": "a752b514",
   "metadata": {},
   "outputs": [],
   "source": [
    "4. key error"
   ]
  },
  {
   "cell_type": "code",
   "execution_count": null,
   "id": "752da1c7",
   "metadata": {},
   "outputs": [],
   "source": [
    "5. both are same. the dictionary(spam) checks for the key i.e 'cat' whether is it available or not\n",
    "    if available it returns key with value."
   ]
  },
  {
   "cell_type": "code",
   "execution_count": null,
   "id": "8227abf2",
   "metadata": {},
   "outputs": [],
   "source": [
    "6. the dictionary(spam) checks for the key i.e 'cat' whether is it available or not.\n",
    "    spam.values() checks for the availability of value 'cat' for every keys present in the spam dictionary"
   ]
  },
  {
   "cell_type": "code",
   "execution_count": null,
   "id": "1d82f008",
   "metadata": {},
   "outputs": [],
   "source": [
    "7. spam.setdefault('color','black')"
   ]
  },
  {
   "cell_type": "code",
   "execution_count": null,
   "id": "1442c1aa",
   "metadata": {},
   "outputs": [],
   "source": [
    "9. pprint.pprint()"
   ]
  }
 ],
 "metadata": {
  "kernelspec": {
   "display_name": "Python 3",
   "language": "python",
   "name": "python3"
  },
  "language_info": {
   "codemirror_mode": {
    "name": "ipython",
    "version": 3
   },
   "file_extension": ".py",
   "mimetype": "text/x-python",
   "name": "python",
   "nbconvert_exporter": "python",
   "pygments_lexer": "ipython3",
   "version": "3.8.8"
  }
 },
 "nbformat": 4,
 "nbformat_minor": 5
}
