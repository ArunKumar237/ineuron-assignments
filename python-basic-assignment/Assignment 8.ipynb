{
 "cells": [
  {
   "cell_type": "markdown",
   "id": "95e43369",
   "metadata": {},
   "source": [
    "Solutions for Python Basic Assignment - 8\n",
    "*****************************************"
   ]
  },
  {
   "cell_type": "code",
   "execution_count": null,
   "id": "334836c8",
   "metadata": {},
   "outputs": [],
   "source": [
    "1. Is the Python Standard Library included with PyInputPlus?\n",
    "\n",
    "Ans: No"
   ]
  },
  {
   "cell_type": "code",
   "execution_count": null,
   "id": "ae00bafb",
   "metadata": {},
   "outputs": [],
   "source": [
    "2. Why is PyInputPlus commonly imported with import pyinputplus as pypi?\n",
    "\n",
    "Ans: It is alias for PyInputPlus to reduce the lengthy typing that's why it is commonly imported with import pyinputplus as pypi."
   ]
  },
  {
   "cell_type": "code",
   "execution_count": null,
   "id": "e5d33a77",
   "metadata": {},
   "outputs": [],
   "source": [
    "3. How do you distinguish between inputInt() and inputFloat()?\n",
    "\n",
    "Ans: inputInt() - accepts integers\n",
    "     inputFloat() - accepts float"
   ]
  },
  {
   "cell_type": "code",
   "execution_count": null,
   "id": "ef5f4f1c",
   "metadata": {},
   "outputs": [],
   "source": [
    "4. Using PyInputPlus, how do you ensure that the user enters a whole number between 0 and 99?\n",
    "\n",
    "Ans: import pyinputplus as pyip\n",
    "     response = pyip.inputNum(greaterThan=-1,lessThan=100)"
   ]
  },
  {
   "cell_type": "code",
   "execution_count": null,
   "id": "c0124351",
   "metadata": {},
   "outputs": [],
   "source": [
    "5. What is transferred to the keyword arguments allowRegexes and blockRegexes?\n",
    "\n",
    "Ans: They accepts regular expression strings to determine what pyinputplus to accept or reject from the inputs."
   ]
  },
  {
   "cell_type": "code",
   "execution_count": null,
   "id": "b892fd2a",
   "metadata": {},
   "outputs": [],
   "source": [
    "6. If a blank input is entered three times, what does inputStr(limit=3) do?\n",
    "\n",
    "Ans: Shows an exception called \"pyinputplus.RetryLimitException\""
   ]
  },
  {
   "cell_type": "code",
   "execution_count": null,
   "id": "09151412",
   "metadata": {},
   "outputs": [],
   "source": [
    "7. If blank input is entered three times, what does inputStr(limit=3, default='hello') do?\n",
    "\n",
    "Ans: Shows an error called \"Blank values are not allowed.\""
   ]
  }
 ],
 "metadata": {
  "kernelspec": {
   "display_name": "Python 3",
   "language": "python",
   "name": "python3"
  },
  "language_info": {
   "codemirror_mode": {
    "name": "ipython",
    "version": 3
   },
   "file_extension": ".py",
   "mimetype": "text/x-python",
   "name": "python",
   "nbconvert_exporter": "python",
   "pygments_lexer": "ipython3",
   "version": "3.8.8"
  }
 },
 "nbformat": 4,
 "nbformat_minor": 5
}
